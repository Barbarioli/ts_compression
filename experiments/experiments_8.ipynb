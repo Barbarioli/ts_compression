{
  "nbformat": 4,
  "nbformat_minor": 0,
  "metadata": {
    "colab": {
      "name": "Experiments_8.ipynb",
      "provenance": [],
      "collapsed_sections": []
    },
    "kernelspec": {
      "name": "python3",
      "display_name": "Python 3"
    },
    "language_info": {
      "name": "python"
    },
    "accelerator": "GPU"
  },
  "cells": [
    {
      "cell_type": "markdown",
      "metadata": {
        "id": "ARN9E_wOZcHg"
      },
      "source": [
        "#Compression algorithm using VQ-VAE"
      ]
    },
    {
      "cell_type": "code",
      "metadata": {
        "colab": {
          "base_uri": "https://localhost:8080/"
        },
        "id": "L1VgUGHJoP8n",
        "outputId": "e96d5c94-2913-4db5-f732-2704019ed2fc"
      },
      "source": [
        "pip install iteration_utilities"
      ],
      "execution_count": null,
      "outputs": [
        {
          "output_type": "stream",
          "text": [
            "Collecting iteration_utilities\n",
            "\u001b[?25l  Downloading https://files.pythonhosted.org/packages/e7/ec/fd0a264895b7bc0613959189688747ae241e29ab1f694508e9e5073c6144/iteration_utilities-0.11.0-cp37-cp37m-manylinux2014_x86_64.whl (283kB)\n",
            "\r\u001b[K     |█▏                              | 10kB 20.1MB/s eta 0:00:01\r\u001b[K     |██▎                             | 20kB 26.0MB/s eta 0:00:01\r\u001b[K     |███▌                            | 30kB 24.4MB/s eta 0:00:01\r\u001b[K     |████▋                           | 40kB 17.9MB/s eta 0:00:01\r\u001b[K     |█████▊                          | 51kB 8.7MB/s eta 0:00:01\r\u001b[K     |███████                         | 61kB 7.9MB/s eta 0:00:01\r\u001b[K     |████████                        | 71kB 9.0MB/s eta 0:00:01\r\u001b[K     |█████████▎                      | 81kB 9.9MB/s eta 0:00:01\r\u001b[K     |██████████▍                     | 92kB 10.3MB/s eta 0:00:01\r\u001b[K     |███████████▌                    | 102kB 8.2MB/s eta 0:00:01\r\u001b[K     |████████████▊                   | 112kB 8.2MB/s eta 0:00:01\r\u001b[K     |█████████████▉                  | 122kB 8.2MB/s eta 0:00:01\r\u001b[K     |███████████████                 | 133kB 8.2MB/s eta 0:00:01\r\u001b[K     |████████████████▏               | 143kB 8.2MB/s eta 0:00:01\r\u001b[K     |█████████████████▎              | 153kB 8.2MB/s eta 0:00:01\r\u001b[K     |██████████████████▌             | 163kB 8.2MB/s eta 0:00:01\r\u001b[K     |███████████████████▋            | 174kB 8.2MB/s eta 0:00:01\r\u001b[K     |████████████████████▉           | 184kB 8.2MB/s eta 0:00:01\r\u001b[K     |██████████████████████          | 194kB 8.2MB/s eta 0:00:01\r\u001b[K     |███████████████████████         | 204kB 8.2MB/s eta 0:00:01\r\u001b[K     |████████████████████████▎       | 215kB 8.2MB/s eta 0:00:01\r\u001b[K     |█████████████████████████▍      | 225kB 8.2MB/s eta 0:00:01\r\u001b[K     |██████████████████████████▋     | 235kB 8.2MB/s eta 0:00:01\r\u001b[K     |███████████████████████████▊    | 245kB 8.2MB/s eta 0:00:01\r\u001b[K     |████████████████████████████▉   | 256kB 8.2MB/s eta 0:00:01\r\u001b[K     |██████████████████████████████  | 266kB 8.2MB/s eta 0:00:01\r\u001b[K     |███████████████████████████████▏| 276kB 8.2MB/s eta 0:00:01\r\u001b[K     |████████████████████████████████| 286kB 8.2MB/s \n",
            "\u001b[?25hInstalling collected packages: iteration-utilities\n",
            "Successfully installed iteration-utilities-0.11.0\n"
          ],
          "name": "stdout"
        }
      ]
    },
    {
      "cell_type": "code",
      "metadata": {
        "id": "NKu_tGj3ZK_H"
      },
      "source": [
        "# Imports.\n",
        "import numpy as np\n",
        "from matplotlib import pyplot as plt\n",
        "import sys\n",
        "import pandas as pd\n",
        "%tensorflow_version 1.x\n",
        "import tensorflow as tf\n",
        "from tensorflow import keras\n",
        "from sklearn.decomposition import PCA\n",
        "\n",
        "from tensorflow.keras.models import Model\n",
        "from tensorflow.keras.layers import *\n",
        "from tensorflow.keras import losses\n",
        "from tensorflow.keras import backend as K\n",
        "from tensorflow.keras.utils import to_categorical\n",
        "from tensorflow.keras.datasets import mnist, fashion_mnist"
      ],
      "execution_count": null,
      "outputs": []
    },
    {
      "cell_type": "code",
      "metadata": {
        "id": "voZJqvk8aO8h"
      },
      "source": [
        "from iteration_utilities import deepflatten"
      ],
      "execution_count": null,
      "outputs": []
    },
    {
      "cell_type": "markdown",
      "metadata": {
        "id": "iV0j6ntuaSUO"
      },
      "source": [
        "##Multivariate"
      ]
    },
    {
      "cell_type": "code",
      "metadata": {
        "id": "o2faF0_-aUPW"
      },
      "source": [
        "data_path = 'Metro_Interstate_Traffic_Volume.csv'\n",
        "traffic = pd.read_csv(data_path)"
      ],
      "execution_count": null,
      "outputs": []
    },
    {
      "cell_type": "code",
      "metadata": {
        "id": "dxJhLLHaafOW",
        "colab": {
          "base_uri": "https://localhost:8080/",
          "height": 423
        },
        "outputId": "64871295-914b-47b8-e041-dda01bb10895"
      },
      "source": [
        "traffic = traffic.rename(columns={'date_time': 'ds', 'traffic_volume': 'y'})\n",
        "y = traffic['y']\n",
        "ds = traffic['ds']\n",
        "X = traffic.drop(['holiday','ds', 'weather_main','snow_1h', 'weather_description'], axis = 1)\n",
        "X"
      ],
      "execution_count": null,
      "outputs": [
        {
          "output_type": "execute_result",
          "data": {
            "text/html": [
              "<div>\n",
              "<style scoped>\n",
              "    .dataframe tbody tr th:only-of-type {\n",
              "        vertical-align: middle;\n",
              "    }\n",
              "\n",
              "    .dataframe tbody tr th {\n",
              "        vertical-align: top;\n",
              "    }\n",
              "\n",
              "    .dataframe thead th {\n",
              "        text-align: right;\n",
              "    }\n",
              "</style>\n",
              "<table border=\"1\" class=\"dataframe\">\n",
              "  <thead>\n",
              "    <tr style=\"text-align: right;\">\n",
              "      <th></th>\n",
              "      <th>temp</th>\n",
              "      <th>rain_1h</th>\n",
              "      <th>clouds_all</th>\n",
              "      <th>y</th>\n",
              "    </tr>\n",
              "  </thead>\n",
              "  <tbody>\n",
              "    <tr>\n",
              "      <th>0</th>\n",
              "      <td>288.28</td>\n",
              "      <td>0.0</td>\n",
              "      <td>40</td>\n",
              "      <td>5545</td>\n",
              "    </tr>\n",
              "    <tr>\n",
              "      <th>1</th>\n",
              "      <td>289.36</td>\n",
              "      <td>0.0</td>\n",
              "      <td>75</td>\n",
              "      <td>4516</td>\n",
              "    </tr>\n",
              "    <tr>\n",
              "      <th>2</th>\n",
              "      <td>289.58</td>\n",
              "      <td>0.0</td>\n",
              "      <td>90</td>\n",
              "      <td>4767</td>\n",
              "    </tr>\n",
              "    <tr>\n",
              "      <th>3</th>\n",
              "      <td>290.13</td>\n",
              "      <td>0.0</td>\n",
              "      <td>90</td>\n",
              "      <td>5026</td>\n",
              "    </tr>\n",
              "    <tr>\n",
              "      <th>4</th>\n",
              "      <td>291.14</td>\n",
              "      <td>0.0</td>\n",
              "      <td>75</td>\n",
              "      <td>4918</td>\n",
              "    </tr>\n",
              "    <tr>\n",
              "      <th>...</th>\n",
              "      <td>...</td>\n",
              "      <td>...</td>\n",
              "      <td>...</td>\n",
              "      <td>...</td>\n",
              "    </tr>\n",
              "    <tr>\n",
              "      <th>48199</th>\n",
              "      <td>283.45</td>\n",
              "      <td>0.0</td>\n",
              "      <td>75</td>\n",
              "      <td>3543</td>\n",
              "    </tr>\n",
              "    <tr>\n",
              "      <th>48200</th>\n",
              "      <td>282.76</td>\n",
              "      <td>0.0</td>\n",
              "      <td>90</td>\n",
              "      <td>2781</td>\n",
              "    </tr>\n",
              "    <tr>\n",
              "      <th>48201</th>\n",
              "      <td>282.73</td>\n",
              "      <td>0.0</td>\n",
              "      <td>90</td>\n",
              "      <td>2159</td>\n",
              "    </tr>\n",
              "    <tr>\n",
              "      <th>48202</th>\n",
              "      <td>282.09</td>\n",
              "      <td>0.0</td>\n",
              "      <td>90</td>\n",
              "      <td>1450</td>\n",
              "    </tr>\n",
              "    <tr>\n",
              "      <th>48203</th>\n",
              "      <td>282.12</td>\n",
              "      <td>0.0</td>\n",
              "      <td>90</td>\n",
              "      <td>954</td>\n",
              "    </tr>\n",
              "  </tbody>\n",
              "</table>\n",
              "<p>48204 rows × 4 columns</p>\n",
              "</div>"
            ],
            "text/plain": [
              "         temp  rain_1h  clouds_all     y\n",
              "0      288.28      0.0          40  5545\n",
              "1      289.36      0.0          75  4516\n",
              "2      289.58      0.0          90  4767\n",
              "3      290.13      0.0          90  5026\n",
              "4      291.14      0.0          75  4918\n",
              "...       ...      ...         ...   ...\n",
              "48199  283.45      0.0          75  3543\n",
              "48200  282.76      0.0          90  2781\n",
              "48201  282.73      0.0          90  2159\n",
              "48202  282.09      0.0          90  1450\n",
              "48203  282.12      0.0          90   954\n",
              "\n",
              "[48204 rows x 4 columns]"
            ]
          },
          "metadata": {
            "tags": []
          },
          "execution_count": 8
        }
      ]
    },
    {
      "cell_type": "code",
      "metadata": {
        "id": "qk2jwGsiafYK"
      },
      "source": [
        "X['rain_1h'] = X['rain_1h'].replace(9831.30,55.63)"
      ],
      "execution_count": null,
      "outputs": []
    },
    {
      "cell_type": "code",
      "metadata": {
        "id": "he6aiEtNakLU",
        "colab": {
          "base_uri": "https://localhost:8080/"
        },
        "outputId": "6a6e4317-3e0c-42a4-d6c0-f2253c4a797b"
      },
      "source": [
        "TIME_STEPS = 256\n",
        "\n",
        "# Generated training sequences for use in the model.\n",
        "def create_sequences(values, time_steps=TIME_STEPS):\n",
        "    output = []\n",
        "    for i in range(len(values) - time_steps):\n",
        "        output.append(values.iloc[i : (i + time_steps),:])\n",
        "    \n",
        "    return np.stack(output)\n",
        "\n",
        "train_dataset_m = create_sequences(X)\n",
        "print(\"Training input shape: \", train_dataset_m.shape)\n",
        "x_train_m = train_dataset_m"
      ],
      "execution_count": null,
      "outputs": [
        {
          "output_type": "stream",
          "text": [
            "Training input shape:  (47948, 256, 4)\n"
          ],
          "name": "stdout"
        }
      ]
    },
    {
      "cell_type": "code",
      "metadata": {
        "id": "tDWAfF1JavUq"
      },
      "source": [
        "# Calculate vq-vae loss.\n",
        "def vq_vae_loss_wrapper(data_variance, commitment_cost, quantized, x_inputs):\n",
        "    def vq_vae_loss(x, x_hat):\n",
        "        recon_loss = losses.mse(x, x_hat) / data_variance\n",
        "\n",
        "        e_latent_loss = K.mean((K.stop_gradient(quantized) - x_inputs) ** 2)\n",
        "        q_latent_loss = K.mean((quantized - K.stop_gradient(x_inputs)) ** 2)\n",
        "        loss = q_latent_loss + commitment_cost * e_latent_loss\n",
        "\n",
        "        return recon_loss + loss #* beta\n",
        "    return vq_vae_loss"
      ],
      "execution_count": null,
      "outputs": []
    },
    {
      "cell_type": "code",
      "metadata": {
        "id": "r5uQkDLvaxvK"
      },
      "source": [
        "# Hyper Parameters.\n",
        "epochs = 150 # MAX\n",
        "batch_size = 64\n",
        "validation_split = 0.1\n",
        "\n",
        "# VQ-VAE Hyper Parameters.\n",
        "embedding_dim = 16 # Length of embedding vectors.\n",
        "num_embeddings = 128 # Number of embedding vectors (high value = high bottleneck capacity).\n",
        "commitment_cost = 0.25 # Controls the weighting of the loss terms.\n",
        "\n",
        "# EarlyStoppingCallback.\n",
        "esc = keras.callbacks.EarlyStopping(monitor='val_loss', min_delta=1e-4,\n",
        "                                    patience=5, verbose=0, mode='auto',\n",
        "                                    baseline=None, restore_best_weights=True)"
      ],
      "execution_count": null,
      "outputs": []
    },
    {
      "cell_type": "code",
      "metadata": {
        "id": "YeH1mmc8oU1v"
      },
      "source": [
        "# VQ layer.\n",
        "class VQVAELayer(Layer):\n",
        "    def __init__(self, embedding_dim, num_embeddings, commitment_cost,\n",
        "                 initializer='uniform', epsilon=1e-10, **kwargs):\n",
        "        self.embedding_dim = embedding_dim\n",
        "        self.num_embeddings = num_embeddings\n",
        "        self.commitment_cost = commitment_cost\n",
        "        self.initializer = initializer\n",
        "        super(VQVAELayer, self).__init__(**kwargs)\n",
        "\n",
        "    def build(self, input_shape):\n",
        "        # Add embedding weights.\n",
        "        self.w = self.add_weight(name='embedding',\n",
        "                                  shape=(self.embedding_dim, self.num_embeddings),\n",
        "                                  initializer=self.initializer,\n",
        "                                  trainable=True)\n",
        "\n",
        "        # Finalize building.\n",
        "        super(VQVAELayer, self).build(input_shape)\n",
        "\n",
        "    def call(self, x):\n",
        "        # Flatten input except for last dimension.\n",
        "        flat_inputs = K.reshape(x, (-1, self.embedding_dim))\n",
        "\n",
        "        # Calculate distances of input to embedding vectors.\n",
        "        distances = (K.sum(flat_inputs**2, axis=1, keepdims=True)\n",
        "                     - 2 * K.dot(flat_inputs, self.w)\n",
        "                     + K.sum(self.w ** 2, axis=0, keepdims=True))\n",
        "\n",
        "        # Retrieve encoding indices.\n",
        "        encoding_indices = K.argmax(-distances, axis=1)\n",
        "        encodings = K.one_hot(encoding_indices, self.num_embeddings)\n",
        "        encoding_indices = K.reshape(encoding_indices, K.shape(x)[:-1])\n",
        "        quantized = self.quantize(encoding_indices)\n",
        "\n",
        "        # Metrics.\n",
        "        #avg_probs = K.mean(encodings, axis=0)\n",
        "        #perplexity = K.exp(- K.sum(avg_probs * K.log(avg_probs + epsilon)))\n",
        "\n",
        "        return quantized\n",
        "\n",
        "    @property\n",
        "    def embeddings(self):\n",
        "        return self.w\n",
        "\n",
        "    def quantize(self, encoding_indices):\n",
        "        w = K.transpose(self.embeddings.read_value())\n",
        "        return tf.nn.embedding_lookup(params=w, ids=encoding_indices)"
      ],
      "execution_count": null,
      "outputs": []
    },
    {
      "cell_type": "code",
      "metadata": {
        "id": "T4qutOX81xwu"
      },
      "source": [
        "def dictionary_encoding(intermediate_output):\n",
        "\n",
        "  global i\n",
        "  global j\n",
        "  i = -1\n",
        "  j = -1\n",
        "\n",
        "  encoded_vectors = {}\n",
        "  for emb_1 in intermediate_output:\n",
        "    i +=1\n",
        "    j = -1\n",
        "    for emb_2 in emb_1:\n",
        "      j +=1\n",
        "      emb_2 = tuple(emb_2)\n",
        "      #print(emb_2)\n",
        "      if emb_2 in encoded_vectors:\n",
        "\n",
        "        previous = encoded_vectors[emb_2]\n",
        "        previous.append((i,j))\n",
        "        encoded_vectors[emb_2] = previous\n",
        "      else:\n",
        "        encoded_vectors[emb_2] = [(i,j)]\n",
        "  return encoded_vectors"
      ],
      "execution_count": null,
      "outputs": []
    },
    {
      "cell_type": "code",
      "metadata": {
        "colab": {
          "base_uri": "https://localhost:8080/"
        },
        "id": "rtUPhVVJy6lC",
        "outputId": "2421e6a0-7cfe-491d-b843-3c182f4eaf18"
      },
      "source": [
        "# Encoder\n",
        "input = Input(shape=(x_train_m.shape[1], x_train_m.shape[2]))\n",
        "x = Conv1D(filters=256, kernel_size=7,  strides=2,padding=\"same\", activation=\"relu\")(input)\n",
        "x = Dropout(rate=0.2)(x)\n",
        "x = Conv1D(filters=128, kernel_size=7,  strides=2,padding=\"same\", activation=\"relu\")(x)\n",
        "x = Dropout(rate=0.2)(x)\n",
        "x = Conv1D(filters=64, kernel_size=7,  strides=2,padding=\"same\", activation=\"relu\")(x)\n",
        "x = Dropout(rate=0.2)(x)\n",
        "x = Conv1D(filters=32, kernel_size=7,  strides=2,padding=\"same\", activation=\"relu\")(x)\n",
        "x = Dropout(rate=0.2)(x)\n",
        "encoder_output = Conv1D(filters=16, kernel_size=7, padding=\"same\", strides=2, activation=\"relu\")(x)\n",
        "\n",
        "# VQVAELayer.\n",
        "enc = Conv1D(embedding_dim, kernel_size=1, strides=1, name=\"pre_vqvae\")(x)\n",
        "enc_inputs = enc\n",
        "enc = VQVAELayer(embedding_dim, num_embeddings, commitment_cost, name=\"vqvae\")(enc)\n",
        "x = Lambda(lambda enc: enc_inputs + K.stop_gradient(enc - enc_inputs), name=\"encoded\")(enc)\n",
        "data_variance = np.var(x_train_m)\n",
        "loss = vq_vae_loss_wrapper(data_variance, commitment_cost, enc, enc_inputs)\n",
        "\n",
        "# Decoder.\n",
        "x = Conv1D(filters=16, kernel_size=7, strides=2, padding = 'same')(x)\n",
        "x = UpSampling1D(size = 2)(x)\n",
        "x = Dropout(rate=0.2)(x)\n",
        "x = Conv1D(filters=32, kernel_size=7,  strides=2, padding = 'same')(x)\n",
        "x = UpSampling1D(size = 2)(x)\n",
        "x = Conv1D(filters=64, kernel_size=7,  strides=1, padding = 'same')(x)\n",
        "x = UpSampling1D(size = 2)(x)\n",
        "x = Conv1D(filters=128, kernel_size=7,  strides=1, padding = 'same')(x)\n",
        "x = UpSampling1D(size = 2)(x)\n",
        "x = Conv1D(filters=256, kernel_size=7,  strides=1, padding = 'same')(x)\n",
        "x = UpSampling1D(size = 2)(x)\n",
        "x = Conv1D(filters=4, kernel_size=7, padding = 'same')(x)\n",
        "x = UpSampling1D(size = 2)(x)\n",
        "\n",
        "# Autoencoder.\n",
        "vqvae = Model(input, x)\n",
        "vqvae.compile(loss=loss, optimizer='adam')\n",
        "vqvae.summary()"
      ],
      "execution_count": null,
      "outputs": [
        {
          "output_type": "stream",
          "text": [
            "WARNING:tensorflow:Entity <bound method VQVAELayer.call of <__main__.VQVAELayer object at 0x7fc27eff0dd0>> could not be transformed and will be executed as-is. Please report this to the AutoGraph team. When filing the bug, set the verbosity to 10 (on Linux, `export AUTOGRAPH_VERBOSITY=10`) and attach the full output. Cause: module 'gast' has no attribute 'Index'\n",
            "WARNING: Entity <bound method VQVAELayer.call of <__main__.VQVAELayer object at 0x7fc27eff0dd0>> could not be transformed and will be executed as-is. Please report this to the AutoGraph team. When filing the bug, set the verbosity to 10 (on Linux, `export AUTOGRAPH_VERBOSITY=10`) and attach the full output. Cause: module 'gast' has no attribute 'Index'\n",
            "Model: \"model_2\"\n",
            "_________________________________________________________________\n",
            "Layer (type)                 Output Shape              Param #   \n",
            "=================================================================\n",
            "input_2 (InputLayer)         [(None, 256, 4)]          0         \n",
            "_________________________________________________________________\n",
            "conv1d_11 (Conv1D)           (None, 128, 256)          7424      \n",
            "_________________________________________________________________\n",
            "dropout_5 (Dropout)          (None, 128, 256)          0         \n",
            "_________________________________________________________________\n",
            "conv1d_12 (Conv1D)           (None, 64, 128)           229504    \n",
            "_________________________________________________________________\n",
            "dropout_6 (Dropout)          (None, 64, 128)           0         \n",
            "_________________________________________________________________\n",
            "conv1d_13 (Conv1D)           (None, 32, 64)            57408     \n",
            "_________________________________________________________________\n",
            "dropout_7 (Dropout)          (None, 32, 64)            0         \n",
            "_________________________________________________________________\n",
            "conv1d_14 (Conv1D)           (None, 16, 32)            14368     \n",
            "_________________________________________________________________\n",
            "dropout_8 (Dropout)          (None, 16, 32)            0         \n",
            "_________________________________________________________________\n",
            "pre_vqvae (Conv1D)           (None, 16, 16)            528       \n",
            "_________________________________________________________________\n",
            "vqvae (VQVAELayer)           (None, 16, 16)            2048      \n",
            "_________________________________________________________________\n",
            "encoded (Lambda)             (None, 16, 16)            0         \n",
            "_________________________________________________________________\n",
            "conv1d_16 (Conv1D)           (None, 8, 16)             1808      \n",
            "_________________________________________________________________\n",
            "up_sampling1d_6 (UpSampling1 (None, 16, 16)            0         \n",
            "_________________________________________________________________\n",
            "dropout_9 (Dropout)          (None, 16, 16)            0         \n",
            "_________________________________________________________________\n",
            "conv1d_17 (Conv1D)           (None, 8, 32)             3616      \n",
            "_________________________________________________________________\n",
            "up_sampling1d_7 (UpSampling1 (None, 16, 32)            0         \n",
            "_________________________________________________________________\n",
            "conv1d_18 (Conv1D)           (None, 16, 64)            14400     \n",
            "_________________________________________________________________\n",
            "up_sampling1d_8 (UpSampling1 (None, 32, 64)            0         \n",
            "_________________________________________________________________\n",
            "conv1d_19 (Conv1D)           (None, 32, 128)           57472     \n",
            "_________________________________________________________________\n",
            "up_sampling1d_9 (UpSampling1 (None, 64, 128)           0         \n",
            "_________________________________________________________________\n",
            "conv1d_20 (Conv1D)           (None, 64, 256)           229632    \n",
            "_________________________________________________________________\n",
            "up_sampling1d_10 (UpSampling (None, 128, 256)          0         \n",
            "_________________________________________________________________\n",
            "conv1d_21 (Conv1D)           (None, 128, 4)            7172      \n",
            "_________________________________________________________________\n",
            "up_sampling1d_11 (UpSampling (None, 256, 4)            0         \n",
            "=================================================================\n",
            "Total params: 625,380\n",
            "Trainable params: 625,380\n",
            "Non-trainable params: 0\n",
            "_________________________________________________________________\n"
          ],
          "name": "stdout"
        }
      ]
    },
    {
      "cell_type": "code",
      "metadata": {
        "colab": {
          "base_uri": "https://localhost:8080/"
        },
        "id": "eCeYDHeJzMJQ",
        "outputId": "2a3862c5-1620-47eb-dc29-ec03c48c0b07"
      },
      "source": [
        "history = vqvae.fit(x_train_m, x_train_m,\n",
        "                    batch_size=batch_size, epochs=epochs,\n",
        "                    validation_split=validation_split,\n",
        "                    callbacks=[esc])"
      ],
      "execution_count": null,
      "outputs": [
        {
          "output_type": "stream",
          "text": [
            "Train on 41942 samples, validate on 4661 samples\n",
            "Epoch 1/150\n",
            "41942/41942 [==============================] - 21s 505us/sample - loss: 83.4123 - val_loss: 0.3584\n",
            "Epoch 2/150\n",
            "41942/41942 [==============================] - 20s 471us/sample - loss: 0.3766 - val_loss: 0.3495\n",
            "Epoch 3/150\n",
            "41942/41942 [==============================] - 20s 473us/sample - loss: 0.3565 - val_loss: 0.3491\n",
            "Epoch 4/150\n",
            "41942/41942 [==============================] - 20s 471us/sample - loss: 0.3660 - val_loss: 0.3496\n",
            "Epoch 5/150\n",
            "41942/41942 [==============================] - 20s 473us/sample - loss: 0.3482 - val_loss: 0.3493\n",
            "Epoch 6/150\n",
            "41942/41942 [==============================] - 20s 473us/sample - loss: 0.3501 - val_loss: 0.3493\n",
            "Epoch 7/150\n",
            "41942/41942 [==============================] - 20s 474us/sample - loss: 0.3473 - val_loss: 0.3492\n",
            "Epoch 8/150\n",
            "41942/41942 [==============================] - 20s 481us/sample - loss: 0.3676 - val_loss: 0.3497\n"
          ],
          "name": "stdout"
        }
      ]
    },
    {
      "cell_type": "code",
      "metadata": {
        "id": "Z9TykSD9zN31"
      },
      "source": [
        "#4min17s"
      ],
      "execution_count": null,
      "outputs": []
    },
    {
      "cell_type": "code",
      "metadata": {
        "colab": {
          "base_uri": "https://localhost:8080/"
        },
        "id": "5SgyGspDzOD7",
        "outputId": "649681f0-13a9-4a1c-bd1b-0fd555ab9797"
      },
      "source": [
        "# Get train MAE loss.\n",
        "x_train_pred_m = vqvae.predict(x_train_m)\n",
        "x_train_pred_m.shape"
      ],
      "execution_count": null,
      "outputs": [
        {
          "output_type": "execute_result",
          "data": {
            "text/plain": [
              "(46603, 256, 4)"
            ]
          },
          "metadata": {
            "tags": []
          },
          "execution_count": 20
        }
      ]
    },
    {
      "cell_type": "code",
      "metadata": {
        "id": "lwIEYPBDzOP6"
      },
      "source": [
        "#4s"
      ],
      "execution_count": null,
      "outputs": []
    },
    {
      "cell_type": "code",
      "metadata": {
        "id": "s0EF7MmdzRaC"
      },
      "source": [
        "# Get train MAE loss.\n",
        "x_train_pred_m = vqvae.predict(x_train_m)\n",
        "original = []\n",
        "for item in x_train_m:\n",
        "  #print(item[0])\n",
        "  original.append(item[0])\n",
        "predicted = []\n",
        "for item in x_train_pred_m:\n",
        "  #print(item[0])\n",
        "  predicted.append(item[0])"
      ],
      "execution_count": null,
      "outputs": []
    },
    {
      "cell_type": "code",
      "metadata": {
        "id": "gGd8RO4XzUnu"
      },
      "source": [
        "df_original = pd.DataFrame(original)\n",
        "df_pred = pd.DataFrame(predicted)\n",
        "original_mean = df_original.mean(axis = 0)\n",
        "difference = df_original - df_pred\n",
        "difference_mean = np.abs(difference.mean(axis = 0))"
      ],
      "execution_count": null,
      "outputs": []
    },
    {
      "cell_type": "code",
      "metadata": {
        "colab": {
          "base_uri": "https://localhost:8080/"
        },
        "id": "kmHYRROozUxE",
        "outputId": "25d3f7c5-0340-4f82-8b69-eeaea9206ad9"
      },
      "source": [
        "difference_mean/original_mean"
      ],
      "execution_count": null,
      "outputs": [
        {
          "output_type": "execute_result",
          "data": {
            "text/plain": [
              "0    0.044728\n",
              "1    5.974361\n",
              "2    0.074865\n",
              "3    0.023794\n",
              "dtype: float64"
            ]
          },
          "metadata": {
            "tags": []
          },
          "execution_count": 37
        }
      ]
    },
    {
      "cell_type": "code",
      "metadata": {
        "id": "ilUdO98B15nO"
      },
      "source": [
        "intermediate_layer_model = Model(inputs=vqvae.input,\n",
        "                                 outputs=vqvae.get_layer(\"vqvae\").output)\n",
        "intermediate_output = intermediate_layer_model.predict(x_train_m)"
      ],
      "execution_count": null,
      "outputs": []
    },
    {
      "cell_type": "code",
      "metadata": {
        "colab": {
          "base_uri": "https://localhost:8080/"
        },
        "id": "fBlLF6rbMs2H",
        "outputId": "99e17e7b-72ca-4acf-9638-0e1e48b67704"
      },
      "source": [
        "intermediate_output[:5]"
      ],
      "execution_count": null,
      "outputs": [
        {
          "output_type": "execute_result",
          "data": {
            "text/plain": [
              "array([[[0.00126925, 0.00427177, 0.00453922, ..., 0.00109743,\n",
              "         0.00379641, 0.00174586],\n",
              "        [0.00126925, 0.00427177, 0.00453922, ..., 0.00109743,\n",
              "         0.00379641, 0.00174586],\n",
              "        [0.00126925, 0.00427177, 0.00453922, ..., 0.00109743,\n",
              "         0.00379641, 0.00174586],\n",
              "        ...,\n",
              "        [0.00126925, 0.00427177, 0.00453922, ..., 0.00109743,\n",
              "         0.00379641, 0.00174586],\n",
              "        [0.00126925, 0.00427177, 0.00453922, ..., 0.00109743,\n",
              "         0.00379641, 0.00174586],\n",
              "        [0.00126925, 0.00427177, 0.00453922, ..., 0.00109743,\n",
              "         0.00379641, 0.00174586]],\n",
              "\n",
              "       [[0.00126925, 0.00427177, 0.00453922, ..., 0.00109743,\n",
              "         0.00379641, 0.00174586],\n",
              "        [0.00126925, 0.00427177, 0.00453922, ..., 0.00109743,\n",
              "         0.00379641, 0.00174586],\n",
              "        [0.00126925, 0.00427177, 0.00453922, ..., 0.00109743,\n",
              "         0.00379641, 0.00174586],\n",
              "        ...,\n",
              "        [0.00126925, 0.00427177, 0.00453922, ..., 0.00109743,\n",
              "         0.00379641, 0.00174586],\n",
              "        [0.00126925, 0.00427177, 0.00453922, ..., 0.00109743,\n",
              "         0.00379641, 0.00174586],\n",
              "        [0.00126925, 0.00427177, 0.00453922, ..., 0.00109743,\n",
              "         0.00379641, 0.00174586]],\n",
              "\n",
              "       [[0.00126925, 0.00427177, 0.00453922, ..., 0.00109743,\n",
              "         0.00379641, 0.00174586],\n",
              "        [0.00126925, 0.00427177, 0.00453922, ..., 0.00109743,\n",
              "         0.00379641, 0.00174586],\n",
              "        [0.00126925, 0.00427177, 0.00453922, ..., 0.00109743,\n",
              "         0.00379641, 0.00174586],\n",
              "        ...,\n",
              "        [0.00126925, 0.00427177, 0.00453922, ..., 0.00109743,\n",
              "         0.00379641, 0.00174586],\n",
              "        [0.00126925, 0.00427177, 0.00453922, ..., 0.00109743,\n",
              "         0.00379641, 0.00174586],\n",
              "        [0.00126925, 0.00427177, 0.00453922, ..., 0.00109743,\n",
              "         0.00379641, 0.00174586]],\n",
              "\n",
              "       [[0.00126925, 0.00427177, 0.00453922, ..., 0.00109743,\n",
              "         0.00379641, 0.00174586],\n",
              "        [0.00126925, 0.00427177, 0.00453922, ..., 0.00109743,\n",
              "         0.00379641, 0.00174586],\n",
              "        [0.00126925, 0.00427177, 0.00453922, ..., 0.00109743,\n",
              "         0.00379641, 0.00174586],\n",
              "        ...,\n",
              "        [0.00126925, 0.00427177, 0.00453922, ..., 0.00109743,\n",
              "         0.00379641, 0.00174586],\n",
              "        [0.00126925, 0.00427177, 0.00453922, ..., 0.00109743,\n",
              "         0.00379641, 0.00174586],\n",
              "        [0.00126925, 0.00427177, 0.00453922, ..., 0.00109743,\n",
              "         0.00379641, 0.00174586]],\n",
              "\n",
              "       [[0.00126925, 0.00427177, 0.00453922, ..., 0.00109743,\n",
              "         0.00379641, 0.00174586],\n",
              "        [0.00126925, 0.00427177, 0.00453922, ..., 0.00109743,\n",
              "         0.00379641, 0.00174586],\n",
              "        [0.00126925, 0.00427177, 0.00453922, ..., 0.00109743,\n",
              "         0.00379641, 0.00174586],\n",
              "        ...,\n",
              "        [0.00126925, 0.00427177, 0.00453922, ..., 0.00109743,\n",
              "         0.00379641, 0.00174586],\n",
              "        [0.00126925, 0.00427177, 0.00453922, ..., 0.00109743,\n",
              "         0.00379641, 0.00174586],\n",
              "        [0.00126925, 0.00427177, 0.00453922, ..., 0.00109743,\n",
              "         0.00379641, 0.00174586]]], dtype=float32)"
            ]
          },
          "metadata": {
            "tags": []
          },
          "execution_count": 39
        }
      ]
    },
    {
      "cell_type": "code",
      "metadata": {
        "id": "J6TKs-Q02C_V"
      },
      "source": [
        "#7s"
      ],
      "execution_count": null,
      "outputs": []
    },
    {
      "cell_type": "code",
      "metadata": {
        "colab": {
          "base_uri": "https://localhost:8080/"
        },
        "id": "GWNKlqgM2BKH",
        "outputId": "67a520af-937b-4049-819a-386620e9f25d"
      },
      "source": [
        "encoded_vectors = dictionary_encoding(intermediate_output)\n",
        "embedded_size = sys.getsizeof(encoded_vectors)\n",
        "original_size = sys.getsizeof(X)\n",
        "print(\"Compression: \", embedded_size/original_size)"
      ],
      "execution_count": null,
      "outputs": [
        {
          "output_type": "stream",
          "text": [
            "Compression:  0.0001653721406623421\n"
          ],
          "name": "stdout"
        }
      ]
    },
    {
      "cell_type": "code",
      "metadata": {
        "id": "AphDLHzEMoeN",
        "colab": {
          "base_uri": "https://localhost:8080/"
        },
        "outputId": "1754519f-841f-4de0-c8ec-233ddc94d920"
      },
      "source": [
        "len(encoded_vectors)"
      ],
      "execution_count": null,
      "outputs": [
        {
          "output_type": "execute_result",
          "data": {
            "text/plain": [
              "1"
            ]
          },
          "metadata": {
            "tags": []
          },
          "execution_count": 41
        }
      ]
    },
    {
      "cell_type": "code",
      "metadata": {
        "colab": {
          "base_uri": "https://localhost:8080/"
        },
        "id": "wFfn4hbQoask",
        "outputId": "16e7b9b0-fca1-4aaa-8bd8-e858c0b16059"
      },
      "source": [
        "# Encoder\n",
        "input = Input(shape=(x_train_m.shape[1], x_train_m.shape[2]))\n",
        "x = Conv1D(filters=128, kernel_size=7,  strides=2,padding=\"same\", activation=\"relu\")(input)\n",
        "x = Dropout(rate=0.2)(x)\n",
        "x = Conv1D(filters=64, kernel_size=7,  strides=2,padding=\"same\", activation=\"relu\")(x)\n",
        "x = Dropout(rate=0.2)(x)\n",
        "x = Conv1D(filters=32, kernel_size=7,  strides=2,padding=\"same\", activation=\"relu\")(x)\n",
        "x = Dropout(rate=0.2)(x)\n",
        "encoder_output = Conv1D(filters=16, kernel_size=7, padding=\"same\", strides=2, activation=\"relu\")(x)\n",
        "\n",
        "# VQVAELayer.\n",
        "enc = Conv1D(embedding_dim, kernel_size=1, strides=1, name=\"pre_vqvae\")(x)\n",
        "enc_inputs = enc\n",
        "enc = VQVAELayer(embedding_dim, num_embeddings, commitment_cost, name=\"vqvae\")(enc)\n",
        "x = Lambda(lambda enc: enc_inputs + K.stop_gradient(enc - enc_inputs), name=\"encoded\")(enc)\n",
        "data_variance = np.var(x_train_m)\n",
        "loss = vq_vae_loss_wrapper(data_variance, commitment_cost, enc, enc_inputs)\n",
        "\n",
        "# Decoder.\n",
        "x = Conv1D(filters=16, kernel_size=7, strides=2, padding = 'same')(x)\n",
        "x = UpSampling1D(size = 2)(x)\n",
        "x = Dropout(rate=0.2)(x)\n",
        "x = Conv1D(filters=32, kernel_size=7,  strides=2, padding = 'same')(x)\n",
        "x = UpSampling1D(size = 2)(x)\n",
        "x = Conv1D(filters=64, kernel_size=7,  strides=1, padding = 'same')(x)\n",
        "x = UpSampling1D(size = 2)(x)\n",
        "x = Conv1D(filters=128, kernel_size=7,  strides=1, padding = 'same')(x)\n",
        "x = UpSampling1D(size = 2)(x)\n",
        "x = Conv1D(filters=4, kernel_size=7, padding = 'same')(x)\n",
        "x = UpSampling1D(size = 2)(x)\n",
        "\n",
        "# Autoencoder.\n",
        "vqvae = Model(input, x)\n",
        "vqvae.compile(loss=loss, optimizer='adam')\n",
        "vqvae.summary()"
      ],
      "execution_count": null,
      "outputs": [
        {
          "output_type": "stream",
          "text": [
            "WARNING:tensorflow:Entity <bound method VQVAELayer.call of <__main__.VQVAELayer object at 0x7fed7b57ed10>> could not be transformed and will be executed as-is. Please report this to the AutoGraph team. When filing the bug, set the verbosity to 10 (on Linux, `export AUTOGRAPH_VERBOSITY=10`) and attach the full output. Cause: module 'gast' has no attribute 'Index'\n",
            "WARNING: Entity <bound method VQVAELayer.call of <__main__.VQVAELayer object at 0x7fed7b57ed10>> could not be transformed and will be executed as-is. Please report this to the AutoGraph team. When filing the bug, set the verbosity to 10 (on Linux, `export AUTOGRAPH_VERBOSITY=10`) and attach the full output. Cause: module 'gast' has no attribute 'Index'\n",
            "Model: \"model_4\"\n",
            "_________________________________________________________________\n",
            "Layer (type)                 Output Shape              Param #   \n",
            "=================================================================\n",
            "input_4 (InputLayer)         [(None, 256, 4)]          0         \n",
            "_________________________________________________________________\n",
            "conv1d_33 (Conv1D)           (None, 128, 128)          3712      \n",
            "_________________________________________________________________\n",
            "dropout_15 (Dropout)         (None, 128, 128)          0         \n",
            "_________________________________________________________________\n",
            "conv1d_34 (Conv1D)           (None, 64, 64)            57408     \n",
            "_________________________________________________________________\n",
            "dropout_16 (Dropout)         (None, 64, 64)            0         \n",
            "_________________________________________________________________\n",
            "conv1d_35 (Conv1D)           (None, 32, 32)            14368     \n",
            "_________________________________________________________________\n",
            "dropout_17 (Dropout)         (None, 32, 32)            0         \n",
            "_________________________________________________________________\n",
            "pre_vqvae (Conv1D)           (None, 32, 32)            1056      \n",
            "_________________________________________________________________\n",
            "vqvae (VQVAELayer)           (None, 32, 32)            1024      \n",
            "_________________________________________________________________\n",
            "encoded (Lambda)             (None, 32, 32)            0         \n",
            "_________________________________________________________________\n",
            "conv1d_37 (Conv1D)           (None, 16, 16)            3600      \n",
            "_________________________________________________________________\n",
            "up_sampling1d_18 (UpSampling (None, 32, 16)            0         \n",
            "_________________________________________________________________\n",
            "dropout_18 (Dropout)         (None, 32, 16)            0         \n",
            "_________________________________________________________________\n",
            "conv1d_38 (Conv1D)           (None, 16, 32)            3616      \n",
            "_________________________________________________________________\n",
            "up_sampling1d_19 (UpSampling (None, 32, 32)            0         \n",
            "_________________________________________________________________\n",
            "conv1d_39 (Conv1D)           (None, 32, 64)            14400     \n",
            "_________________________________________________________________\n",
            "up_sampling1d_20 (UpSampling (None, 64, 64)            0         \n",
            "_________________________________________________________________\n",
            "conv1d_40 (Conv1D)           (None, 64, 128)           57472     \n",
            "_________________________________________________________________\n",
            "up_sampling1d_21 (UpSampling (None, 128, 128)          0         \n",
            "_________________________________________________________________\n",
            "conv1d_41 (Conv1D)           (None, 128, 4)            3588      \n",
            "_________________________________________________________________\n",
            "up_sampling1d_22 (UpSampling (None, 256, 4)            0         \n",
            "=================================================================\n",
            "Total params: 160,244\n",
            "Trainable params: 160,244\n",
            "Non-trainable params: 0\n",
            "_________________________________________________________________\n"
          ],
          "name": "stdout"
        }
      ]
    },
    {
      "cell_type": "code",
      "metadata": {
        "colab": {
          "base_uri": "https://localhost:8080/"
        },
        "id": "YKZuFcMnoddN",
        "outputId": "23a9a011-0376-4b66-bd6e-00db3b968233"
      },
      "source": [
        "history = vqvae.fit(x_train_m, x_train_m,\n",
        "                    batch_size=batch_size, epochs=epochs,\n",
        "                    validation_split=validation_split,\n",
        "                    callbacks=[esc])"
      ],
      "execution_count": null,
      "outputs": [
        {
          "output_type": "stream",
          "text": [
            "Train on 43153 samples, validate on 4795 samples\n",
            "Epoch 1/150\n",
            "43153/43153 [==============================] - 10s 220us/sample - loss: 307.1835 - val_loss: 0.3543\n",
            "Epoch 2/150\n",
            "43153/43153 [==============================] - 7s 161us/sample - loss: 0.3705 - val_loss: 0.3471\n",
            "Epoch 3/150\n",
            "43153/43153 [==============================] - 7s 159us/sample - loss: 0.3640 - val_loss: 0.3439\n",
            "Epoch 4/150\n",
            "43153/43153 [==============================] - 7s 159us/sample - loss: 0.3535 - val_loss: 0.3454\n",
            "Epoch 5/150\n",
            "43153/43153 [==============================] - 7s 162us/sample - loss: 0.3470 - val_loss: 0.3436\n",
            "Epoch 6/150\n",
            "43153/43153 [==============================] - 7s 159us/sample - loss: 0.3485 - val_loss: 0.3445\n",
            "Epoch 7/150\n",
            "43153/43153 [==============================] - 7s 157us/sample - loss: 0.3483 - val_loss: 0.3442\n",
            "Epoch 8/150\n",
            "43153/43153 [==============================] - 7s 160us/sample - loss: 0.3462 - val_loss: 0.3451\n",
            "Epoch 9/150\n",
            "43153/43153 [==============================] - 7s 160us/sample - loss: 0.3475 - val_loss: 0.3448\n",
            "Epoch 10/150\n",
            "43153/43153 [==============================] - 7s 164us/sample - loss: 0.3527 - val_loss: 0.3440\n"
          ],
          "name": "stdout"
        }
      ]
    },
    {
      "cell_type": "code",
      "metadata": {
        "id": "oWdX-Vc3poUp"
      },
      "source": [
        "#4min33s"
      ],
      "execution_count": null,
      "outputs": []
    },
    {
      "cell_type": "code",
      "metadata": {
        "colab": {
          "base_uri": "https://localhost:8080/"
        },
        "id": "IsJ1UvpRseEG",
        "outputId": "a6306b4b-bd2d-427a-baac-3b3f0311e395"
      },
      "source": [
        "# Get train MAE loss.\n",
        "x_train_pred_m = vqvae.predict(x_train_m)\n",
        "x_train_pred_m.shape"
      ],
      "execution_count": null,
      "outputs": [
        {
          "output_type": "execute_result",
          "data": {
            "text/plain": [
              "(47948, 256, 4)"
            ]
          },
          "metadata": {
            "tags": []
          },
          "execution_count": 59
        }
      ]
    },
    {
      "cell_type": "code",
      "metadata": {
        "id": "pZg75EB8si7l"
      },
      "source": [
        "#7s"
      ],
      "execution_count": null,
      "outputs": []
    },
    {
      "cell_type": "code",
      "metadata": {
        "id": "SdMtzSfzsf2T"
      },
      "source": [
        "# Get train MAE loss.\n",
        "x_train_pred_m = vqvae.predict(x_train_m)\n",
        "original = []\n",
        "for item in x_train_m:\n",
        "  #print(item[0])\n",
        "  original.append(item[0])\n",
        "predicted = []\n",
        "for item in x_train_pred_m:\n",
        "  #print(item[0])\n",
        "  predicted.append(item[0])"
      ],
      "execution_count": null,
      "outputs": []
    },
    {
      "cell_type": "code",
      "metadata": {
        "id": "S0EBnaljslP8"
      },
      "source": [
        "df_original = pd.DataFrame(original)\n",
        "df_pred = pd.DataFrame(predicted)\n",
        "original_mean = df_original.mean(axis = 0)\n",
        "difference = df_original - df_pred\n",
        "difference_mean = np.abs(difference.mean(axis = 0))"
      ],
      "execution_count": null,
      "outputs": []
    },
    {
      "cell_type": "code",
      "metadata": {
        "colab": {
          "base_uri": "https://localhost:8080/"
        },
        "id": "R4BbhA6rsn7t",
        "outputId": "2daab095-3048-430d-d70f-6809adc49a62"
      },
      "source": [
        "difference_mean/original_mean"
      ],
      "execution_count": null,
      "outputs": [
        {
          "output_type": "execute_result",
          "data": {
            "text/plain": [
              "0    0.005740\n",
              "1    0.912299\n",
              "2    0.003395\n",
              "3    0.009149\n",
              "dtype: float64"
            ]
          },
          "metadata": {
            "tags": []
          },
          "execution_count": 63
        }
      ]
    },
    {
      "cell_type": "code",
      "metadata": {
        "id": "mgVfBd7d3CIK"
      },
      "source": [
        "intermediate_layer_model = Model(inputs=vqvae.input,\n",
        "                                 outputs=vqvae.get_layer(\"vqvae\").output)\n",
        "intermediate_output = intermediate_layer_model.predict(x_train_m)"
      ],
      "execution_count": null,
      "outputs": []
    },
    {
      "cell_type": "code",
      "metadata": {
        "id": "LhwEzTAY3al2"
      },
      "source": [
        "#5s"
      ],
      "execution_count": null,
      "outputs": []
    },
    {
      "cell_type": "code",
      "metadata": {
        "colab": {
          "base_uri": "https://localhost:8080/"
        },
        "id": "uskYrXro3GiR",
        "outputId": "ddc153b8-9447-45a3-c219-81a8ae2c6395"
      },
      "source": [
        "encoded_vectors = dictionary_encoding(intermediate_output)\n",
        "embedded_size = sys.getsizeof(encoded_vectors)\n",
        "original_size = sys.getsizeof(X)\n",
        "print(\"Compression: \", embedded_size/original_size)"
      ],
      "execution_count": null,
      "outputs": [
        {
          "output_type": "stream",
          "text": [
            "Compression:  0.000160758364620714\n"
          ],
          "name": "stdout"
        }
      ]
    },
    {
      "cell_type": "code",
      "metadata": {
        "colab": {
          "base_uri": "https://localhost:8080/"
        },
        "id": "akGcpM1rsqfK",
        "outputId": "6804a23b-1465-4e50-85c8-2f504c4a976e"
      },
      "source": [
        "# Encoder\n",
        "input = Input(shape=(x_train_m.shape[1], x_train_m.shape[2]))\n",
        "x = Conv1D(filters=64, kernel_size=7,  strides=2,padding=\"same\", activation=\"relu\")(input)\n",
        "x = Dropout(rate=0.2)(x)\n",
        "x = Conv1D(filters=32, kernel_size=7,  strides=2,padding=\"same\", activation=\"relu\")(x)\n",
        "x = Dropout(rate=0.2)(x)\n",
        "encoder_output = Conv1D(filters=16, kernel_size=7, padding=\"same\", strides=2, activation=\"relu\")(x)\n",
        "\n",
        "# VQVAELayer.\n",
        "enc = Conv1D(embedding_dim, kernel_size=1, strides=1, name=\"pre_vqvae\")(x)\n",
        "enc_inputs = enc\n",
        "enc = VQVAELayer(embedding_dim, num_embeddings, commitment_cost, name=\"vqvae\")(enc)\n",
        "x = Lambda(lambda enc: enc_inputs + K.stop_gradient(enc - enc_inputs), name=\"encoded\")(enc)\n",
        "data_variance = np.var(x_train_m)\n",
        "loss = vq_vae_loss_wrapper(data_variance, commitment_cost, enc, enc_inputs)\n",
        "\n",
        "# Decoder.\n",
        "x = Conv1D(filters=16, kernel_size=7, strides=2, padding = 'same')(x)\n",
        "x = UpSampling1D(size = 2)(x)\n",
        "x = Dropout(rate=0.2)(x)\n",
        "x = Conv1D(filters=32, kernel_size=7,  strides=2, padding = 'same')(x)\n",
        "x = UpSampling1D(size = 2)(x)\n",
        "x = Conv1D(filters=64, kernel_size=7,  strides=1, padding = 'same')(x)\n",
        "x = UpSampling1D(size = 2)(x)\n",
        "x = Conv1D(filters=4, kernel_size=7, padding = 'same')(x)\n",
        "x = UpSampling1D(size = 2)(x)\n",
        "\n",
        "# Autoencoder.\n",
        "vqvae = Model(input, x)\n",
        "vqvae.compile(loss=loss, optimizer='adam')\n",
        "vqvae.summary()"
      ],
      "execution_count": null,
      "outputs": [
        {
          "output_type": "stream",
          "text": [
            "WARNING:tensorflow:Entity <bound method VQVAELayer.call of <__main__.VQVAELayer object at 0x7f4606dfd2d0>> could not be transformed and will be executed as-is. Please report this to the AutoGraph team. When filing the bug, set the verbosity to 10 (on Linux, `export AUTOGRAPH_VERBOSITY=10`) and attach the full output. Cause: Bad argument number for Name: 3, expecting 4\n",
            "WARNING: Entity <bound method VQVAELayer.call of <__main__.VQVAELayer object at 0x7f4606dfd2d0>> could not be transformed and will be executed as-is. Please report this to the AutoGraph team. When filing the bug, set the verbosity to 10 (on Linux, `export AUTOGRAPH_VERBOSITY=10`) and attach the full output. Cause: Bad argument number for Name: 3, expecting 4\n",
            "Model: \"model_6\"\n",
            "_________________________________________________________________\n",
            "Layer (type)                 Output Shape              Param #   \n",
            "=================================================================\n",
            "input_7 (InputLayer)         [(None, 256, 4)]          0         \n",
            "_________________________________________________________________\n",
            "conv1d_52 (Conv1D)           (None, 128, 64)           1856      \n",
            "_________________________________________________________________\n",
            "dropout_23 (Dropout)         (None, 128, 64)           0         \n",
            "_________________________________________________________________\n",
            "conv1d_53 (Conv1D)           (None, 64, 32)            14368     \n",
            "_________________________________________________________________\n",
            "dropout_24 (Dropout)         (None, 64, 32)            0         \n",
            "_________________________________________________________________\n",
            "pre_vqvae (Conv1D)           (None, 64, 32)            1056      \n",
            "_________________________________________________________________\n",
            "vqvae (VQVAELayer)           (None, 64, 32)            1024      \n",
            "_________________________________________________________________\n",
            "encoded (Lambda)             (None, 64, 32)            0         \n",
            "_________________________________________________________________\n",
            "conv1d_55 (Conv1D)           (None, 32, 16)            3600      \n",
            "_________________________________________________________________\n",
            "up_sampling1d_26 (UpSampling (None, 64, 16)            0         \n",
            "_________________________________________________________________\n",
            "dropout_25 (Dropout)         (None, 64, 16)            0         \n",
            "_________________________________________________________________\n",
            "conv1d_56 (Conv1D)           (None, 32, 32)            3616      \n",
            "_________________________________________________________________\n",
            "up_sampling1d_27 (UpSampling (None, 64, 32)            0         \n",
            "_________________________________________________________________\n",
            "conv1d_57 (Conv1D)           (None, 64, 64)            14400     \n",
            "_________________________________________________________________\n",
            "up_sampling1d_28 (UpSampling (None, 128, 64)           0         \n",
            "_________________________________________________________________\n",
            "conv1d_58 (Conv1D)           (None, 128, 4)            1796      \n",
            "_________________________________________________________________\n",
            "up_sampling1d_29 (UpSampling (None, 256, 4)            0         \n",
            "=================================================================\n",
            "Total params: 41,716\n",
            "Trainable params: 41,716\n",
            "Non-trainable params: 0\n",
            "_________________________________________________________________\n"
          ],
          "name": "stdout"
        }
      ]
    },
    {
      "cell_type": "code",
      "metadata": {
        "colab": {
          "base_uri": "https://localhost:8080/"
        },
        "id": "jBx3l3OcuL9_",
        "outputId": "25dabbbc-9265-42dc-8158-f6454caff58c"
      },
      "source": [
        "history = vqvae.fit(x_train_m, x_train_m,\n",
        "                    batch_size=batch_size, epochs=epochs,\n",
        "                    validation_split=validation_split,\n",
        "                    callbacks=[esc])"
      ],
      "execution_count": null,
      "outputs": [
        {
          "output_type": "stream",
          "text": [
            "Train on 43153 samples, validate on 4795 samples\n",
            "Epoch 1/150\n",
            "43153/43153 [==============================] - 12s 277us/sample - loss: 1930.6388 - val_loss: 0.3637\n",
            "Epoch 2/150\n",
            "43153/43153 [==============================] - 9s 208us/sample - loss: 0.3703 - val_loss: 0.3526\n",
            "Epoch 3/150\n",
            "43153/43153 [==============================] - 9s 209us/sample - loss: 0.3571 - val_loss: 0.3475\n",
            "Epoch 4/150\n",
            "43153/43153 [==============================] - 9s 209us/sample - loss: 0.3669 - val_loss: 0.3469\n",
            "Epoch 5/150\n",
            "43153/43153 [==============================] - 9s 207us/sample - loss: 0.3537 - val_loss: 0.3468\n",
            "Epoch 6/150\n",
            "43153/43153 [==============================] - 9s 216us/sample - loss: 0.3511 - val_loss: 0.3450\n",
            "Epoch 7/150\n",
            "43153/43153 [==============================] - 9s 219us/sample - loss: 0.3527 - val_loss: 0.3457\n",
            "Epoch 8/150\n",
            "43153/43153 [==============================] - 9s 219us/sample - loss: 0.3495 - val_loss: 0.3454\n",
            "Epoch 9/150\n",
            "43153/43153 [==============================] - 9s 220us/sample - loss: 0.3535 - val_loss: 0.3440\n",
            "Epoch 10/150\n",
            "43153/43153 [==============================] - 9s 220us/sample - loss: 0.3546 - val_loss: 0.3705\n",
            "Epoch 11/150\n",
            "43153/43153 [==============================] - 9s 219us/sample - loss: 0.3671 - val_loss: 0.3445\n",
            "Epoch 12/150\n",
            "43153/43153 [==============================] - 9s 218us/sample - loss: 0.3483 - val_loss: 0.3444\n",
            "Epoch 13/150\n",
            "43153/43153 [==============================] - 9s 220us/sample - loss: 0.3473 - val_loss: 0.3439\n",
            "Epoch 14/150\n",
            "43153/43153 [==============================] - 10s 228us/sample - loss: 0.3558 - val_loss: 0.3530\n"
          ],
          "name": "stdout"
        }
      ]
    },
    {
      "cell_type": "code",
      "metadata": {
        "id": "zuolKJaNuStL"
      },
      "source": [
        "#2min14s"
      ],
      "execution_count": null,
      "outputs": []
    },
    {
      "cell_type": "code",
      "metadata": {
        "colab": {
          "base_uri": "https://localhost:8080/"
        },
        "id": "sa8LH2IAvAuZ",
        "outputId": "3fb26c8b-5f74-4abf-8bf1-c92a05b5048f"
      },
      "source": [
        "# Get train MAE loss.\n",
        "x_train_pred_m = vqvae.predict(x_train_m)\n",
        "x_train_pred_m.shape"
      ],
      "execution_count": null,
      "outputs": [
        {
          "output_type": "execute_result",
          "data": {
            "text/plain": [
              "(47948, 256, 4)"
            ]
          },
          "metadata": {
            "tags": []
          },
          "execution_count": 52
        }
      ]
    },
    {
      "cell_type": "code",
      "metadata": {
        "id": "3U4GD-CfvEPw"
      },
      "source": [
        "#5s"
      ],
      "execution_count": null,
      "outputs": []
    },
    {
      "cell_type": "code",
      "metadata": {
        "id": "NGSoQds9vkFQ"
      },
      "source": [
        "# Get train MAE loss.\n",
        "x_train_pred_m = vqvae.predict(x_train_m)\n",
        "original = []\n",
        "for item in x_train_m:\n",
        "  #print(item[0])\n",
        "  original.append(item[0])\n",
        "predicted = []\n",
        "for item in x_train_pred_m:\n",
        "  #print(item[0])\n",
        "  predicted.append(item[0])"
      ],
      "execution_count": null,
      "outputs": []
    },
    {
      "cell_type": "code",
      "metadata": {
        "id": "R5WuKulYvISU"
      },
      "source": [
        "df_original = pd.DataFrame(original)\n",
        "df_pred = pd.DataFrame(predicted)\n",
        "original_mean = df_original.mean(axis = 0)\n",
        "difference = df_original - df_pred\n",
        "difference_mean = np.abs(difference.mean(axis = 0))"
      ],
      "execution_count": null,
      "outputs": []
    },
    {
      "cell_type": "code",
      "metadata": {
        "colab": {
          "base_uri": "https://localhost:8080/"
        },
        "id": "_tQgiBa0vLOb",
        "outputId": "55b33768-5cbc-45af-e91a-cb9b12ad67b7"
      },
      "source": [
        "difference_mean/original_mean"
      ],
      "execution_count": null,
      "outputs": [
        {
          "output_type": "execute_result",
          "data": {
            "text/plain": [
              "0    0.010747\n",
              "1    4.071810\n",
              "2    0.082473\n",
              "3    0.114070\n",
              "dtype: float64"
            ]
          },
          "metadata": {
            "tags": []
          },
          "execution_count": 55
        }
      ]
    },
    {
      "cell_type": "code",
      "metadata": {
        "id": "VCTlIZDr1uaY"
      },
      "source": [
        ""
      ],
      "execution_count": null,
      "outputs": []
    },
    {
      "cell_type": "code",
      "metadata": {
        "colab": {
          "base_uri": "https://localhost:8080/"
        },
        "id": "kiOZ13rcvOSC",
        "outputId": "e751b19e-cca4-4a2c-a6e0-eafc5af83203"
      },
      "source": [
        "# Encoder\n",
        "input = Input(shape=(x_train_m.shape[1], x_train_m.shape[2]))\n",
        "x = Conv1D(filters=32, kernel_size=7,  strides=2,padding=\"same\", activation=\"relu\")(input)\n",
        "x = Dropout(rate=0.2)(x)\n",
        "encoder_output = Conv1D(filters=16, kernel_size=7, padding=\"same\", strides=2, activation=\"relu\")(x)\n",
        "\n",
        "# VQVAELayer.\n",
        "enc = Conv1D(embedding_dim, kernel_size=1, strides=1, name=\"pre_vqvae\")(x)\n",
        "enc_inputs = enc\n",
        "enc = VQVAELayer(embedding_dim, num_embeddings, commitment_cost, name=\"vqvae\")(enc)\n",
        "x = Lambda(lambda enc: enc_inputs + K.stop_gradient(enc - enc_inputs), name=\"encoded\")(enc)\n",
        "data_variance = np.var(x_train_m)\n",
        "loss = vq_vae_loss_wrapper(data_variance, commitment_cost, enc, enc_inputs)\n",
        "\n",
        "# Decoder.\n",
        "x = Conv1D(filters=16, kernel_size=7, strides=2, padding = 'same')(x)\n",
        "x = UpSampling1D(size = 2)(x)\n",
        "x = Dropout(rate=0.2)(x)\n",
        "x = Conv1D(filters=32, kernel_size=7,  strides=1, padding = 'same')(x)\n",
        "x = UpSampling1D(size = 2)(x)\n",
        "x = Conv1D(filters=4, kernel_size=7, padding = 'same')(x)\n",
        "\n",
        "# Autoencoder.\n",
        "vqvae = Model(input, x)\n",
        "vqvae.compile(loss=loss, optimizer='adam')\n",
        "vqvae.summary()"
      ],
      "execution_count": null,
      "outputs": [
        {
          "output_type": "stream",
          "text": [
            "WARNING:tensorflow:Entity <bound method VQVAELayer.call of <__main__.VQVAELayer object at 0x7f460323dd50>> could not be transformed and will be executed as-is. Please report this to the AutoGraph team. When filing the bug, set the verbosity to 10 (on Linux, `export AUTOGRAPH_VERBOSITY=10`) and attach the full output. Cause: Bad argument number for Name: 3, expecting 4\n",
            "WARNING: Entity <bound method VQVAELayer.call of <__main__.VQVAELayer object at 0x7f460323dd50>> could not be transformed and will be executed as-is. Please report this to the AutoGraph team. When filing the bug, set the verbosity to 10 (on Linux, `export AUTOGRAPH_VERBOSITY=10`) and attach the full output. Cause: Bad argument number for Name: 3, expecting 4\n",
            "Model: \"model_11\"\n",
            "_________________________________________________________________\n",
            "Layer (type)                 Output Shape              Param #   \n",
            "=================================================================\n",
            "input_13 (InputLayer)        [(None, 256, 4)]          0         \n",
            "_________________________________________________________________\n",
            "conv1d_86 (Conv1D)           (None, 128, 32)           928       \n",
            "_________________________________________________________________\n",
            "dropout_37 (Dropout)         (None, 128, 32)           0         \n",
            "_________________________________________________________________\n",
            "pre_vqvae (Conv1D)           (None, 128, 32)           1056      \n",
            "_________________________________________________________________\n",
            "vqvae (VQVAELayer)           (None, 128, 32)           1024      \n",
            "_________________________________________________________________\n",
            "encoded (Lambda)             (None, 128, 32)           0         \n",
            "_________________________________________________________________\n",
            "conv1d_88 (Conv1D)           (None, 64, 16)            3600      \n",
            "_________________________________________________________________\n",
            "up_sampling1d_43 (UpSampling (None, 128, 16)           0         \n",
            "_________________________________________________________________\n",
            "dropout_38 (Dropout)         (None, 128, 16)           0         \n",
            "_________________________________________________________________\n",
            "conv1d_89 (Conv1D)           (None, 128, 32)           3616      \n",
            "_________________________________________________________________\n",
            "up_sampling1d_44 (UpSampling (None, 256, 32)           0         \n",
            "_________________________________________________________________\n",
            "conv1d_90 (Conv1D)           (None, 256, 4)            900       \n",
            "=================================================================\n",
            "Total params: 11,124\n",
            "Trainable params: 11,124\n",
            "Non-trainable params: 0\n",
            "_________________________________________________________________\n"
          ],
          "name": "stdout"
        }
      ]
    },
    {
      "cell_type": "code",
      "metadata": {
        "colab": {
          "base_uri": "https://localhost:8080/"
        },
        "id": "adWrLql-xj-W",
        "outputId": "af6a8176-5f62-4883-aee7-e6633502888b"
      },
      "source": [
        "history = vqvae.fit(x_train_m, x_train_m,\n",
        "                    batch_size=batch_size, epochs=epochs,\n",
        "                    validation_split=validation_split,\n",
        "                    callbacks=[esc])"
      ],
      "execution_count": null,
      "outputs": [
        {
          "output_type": "stream",
          "text": [
            "Train on 43153 samples, validate on 4795 samples\n",
            "Epoch 1/150\n",
            "43153/43153 [==============================] - 11s 250us/sample - loss: 16049.5022 - val_loss: 44.0800\n",
            "Epoch 2/150\n",
            "43153/43153 [==============================] - 8s 178us/sample - loss: 72.0506 - val_loss: 8.4347\n",
            "Epoch 3/150\n",
            "43153/43153 [==============================] - 8s 178us/sample - loss: 24.4005 - val_loss: 3.6295\n",
            "Epoch 4/150\n",
            "43153/43153 [==============================] - 8s 179us/sample - loss: 12.1929 - val_loss: 2.3440\n",
            "Epoch 5/150\n",
            "43153/43153 [==============================] - 8s 177us/sample - loss: 7.0999 - val_loss: 1.4406\n",
            "Epoch 6/150\n",
            "43153/43153 [==============================] - 8s 177us/sample - loss: 4.5384 - val_loss: 0.9107\n",
            "Epoch 7/150\n",
            "43153/43153 [==============================] - 8s 182us/sample - loss: 2.8922 - val_loss: 0.5837\n",
            "Epoch 8/150\n",
            "43153/43153 [==============================] - 8s 183us/sample - loss: 1.8583 - val_loss: 0.3450\n",
            "Epoch 9/150\n",
            "43153/43153 [==============================] - 8s 183us/sample - loss: 1.2283 - val_loss: 0.1907\n",
            "Epoch 10/150\n",
            "43153/43153 [==============================] - 8s 185us/sample - loss: 1.2415 - val_loss: 0.4171\n",
            "Epoch 11/150\n",
            "43153/43153 [==============================] - 8s 186us/sample - loss: 0.7904 - val_loss: 0.3796\n",
            "Epoch 12/150\n",
            "43153/43153 [==============================] - 8s 187us/sample - loss: 1.0067 - val_loss: 0.3657\n",
            "Epoch 13/150\n",
            "43153/43153 [==============================] - 8s 187us/sample - loss: 0.5346 - val_loss: 0.3657\n",
            "Epoch 14/150\n",
            "43153/43153 [==============================] - 9s 197us/sample - loss: 0.4704 - val_loss: 0.3536\n"
          ],
          "name": "stdout"
        }
      ]
    },
    {
      "cell_type": "code",
      "metadata": {
        "id": "PqP8m3BSx7z2"
      },
      "source": [
        "#1m54s"
      ],
      "execution_count": null,
      "outputs": []
    },
    {
      "cell_type": "code",
      "metadata": {
        "colab": {
          "base_uri": "https://localhost:8080/"
        },
        "id": "W7kfrbn0ydCG",
        "outputId": "fe6d72cd-1421-488c-a537-c17b74513958"
      },
      "source": [
        "# Get train MAE loss.\n",
        "x_train_pred_m = vqvae.predict(x_train_m)\n",
        "x_train_pred_m.shape"
      ],
      "execution_count": null,
      "outputs": [
        {
          "output_type": "execute_result",
          "data": {
            "text/plain": [
              "(47948, 256, 4)"
            ]
          },
          "metadata": {
            "tags": []
          },
          "execution_count": 71
        }
      ]
    },
    {
      "cell_type": "code",
      "metadata": {
        "id": "kn3--eV9ymKw"
      },
      "source": [
        "#5s"
      ],
      "execution_count": null,
      "outputs": []
    },
    {
      "cell_type": "code",
      "metadata": {
        "id": "TCztKOE3yf4r"
      },
      "source": [
        "# Get train MAE loss.\n",
        "x_train_pred_m = vqvae.predict(x_train_m)\n",
        "original = []\n",
        "for item in x_train_m:\n",
        "  #print(item[0])\n",
        "  original.append(item[0])\n",
        "predicted = []\n",
        "for item in x_train_pred_m:\n",
        "  #print(item[0])\n",
        "  predicted.append(item[0])"
      ],
      "execution_count": null,
      "outputs": []
    },
    {
      "cell_type": "code",
      "metadata": {
        "id": "eXV_PLzFyoP-"
      },
      "source": [
        "df_original = pd.DataFrame(original)\n",
        "df_pred = pd.DataFrame(predicted)\n",
        "original_mean = df_original.mean(axis = 0)\n",
        "difference = df_original - df_pred\n",
        "difference_mean = np.abs(difference.mean(axis = 0))"
      ],
      "execution_count": null,
      "outputs": []
    },
    {
      "cell_type": "code",
      "metadata": {
        "colab": {
          "base_uri": "https://localhost:8080/"
        },
        "id": "6Z4kJVe5ysKo",
        "outputId": "150396ad-e136-4515-f708-c019a33989a7"
      },
      "source": [
        "difference_mean/original_mean"
      ],
      "execution_count": null,
      "outputs": [
        {
          "output_type": "execute_result",
          "data": {
            "text/plain": [
              "0     0.466827\n",
              "1    11.120696\n",
              "2     0.441062\n",
              "3     0.368381\n",
              "dtype: float64"
            ]
          },
          "metadata": {
            "tags": []
          },
          "execution_count": 75
        }
      ]
    },
    {
      "cell_type": "code",
      "metadata": {
        "colab": {
          "base_uri": "https://localhost:8080/",
          "height": 282
        },
        "id": "S5OdgBvCyvGO",
        "outputId": "a3ed0ae3-be8a-4a58-db17-3930c922366e"
      },
      "source": [
        "# dimension of embeddings =  32\n",
        "# number of embeddings = 32\n",
        "l_256 = [0.036477, 0.813709, 0.125471, 0.013706]\n",
        "l_128 = [0.005740, 0.912299, 0.003395, 0.009149]\n",
        "l_64 = [0.010747, 4.071810, 0.082473, 0.114070]\n",
        "l_32 = [0.466827, 11.120696, 0.441062, 0.368381]\n",
        "\n",
        "ts = ['temp',\t'rain_1h',\t'clouds_all',\t'y']\n",
        "plt.plot( ts,l_256, label = 'reconstruction filter_256')\n",
        "plt.plot(ts,l_128, label = 'reconstruction filter_128')\n",
        "plt.plot(ts,l_64, label = 'reconstruction filter_64')\n",
        "plt.plot(ts,l_32, label = 'reconstruction filter_32')\n",
        "plt.title('Reconstruction error for different number of layers')\n",
        "plt.ylabel('Reconstruction error')\n",
        "plt.legend()\n",
        "plt.show()"
      ],
      "execution_count": null,
      "outputs": [
        {
          "output_type": "display_data",
          "data": {
            "image/png": "[encoded data removed]",
            "text/plain": [
              "<Figure size 432x288 with 1 Axes>"
            ]
          },
          "metadata": {
            "tags": [],
            "needs_background": "light"
          }
        }
      ]
    },
    {
      "cell_type": "code",
      "metadata": {
        "colab": {
          "base_uri": "https://localhost:8080/",
          "height": 317
        },
        "id": "JogeNyt26Ykx",
        "outputId": "1a4cba48-80cd-480f-a392-fad7254ad8bd"
      },
      "source": [
        "# dimension of embeddings =  32\n",
        "# number of embeddings = 32\n",
        "\n",
        "time = [7, 7, 5, 5]\n",
        "layers = ['256 filter','128 filter' , '64 filter', '32 filter']\n",
        "df_error = pd.DataFrame(time, index = layers)\n",
        "df_error.plot(kind = 'bar', legend = False)\n",
        "plt.title('Inference time for different number of layers')\n",
        "plt.ylabel('Inference time (s)')\n",
        "#plt.legend()\n",
        "plt.show()"
      ],
      "execution_count": null,
      "outputs": [
        {
          "output_type": "display_data",
          "data": {
            "image/png": "[encoded data removed]",
            "text/plain": [
              "<Figure size 432x288 with 1 Axes>"
            ]
          },
          "metadata": {
            "tags": [],
            "needs_background": "light"
          }
        }
      ]
    },
    {
      "cell_type": "code",
      "metadata": {
        "colab": {
          "base_uri": "https://localhost:8080/"
        },
        "id": "DBlbFJd77w3-",
        "outputId": "025db849-50a8-4aac-d4ac-f8fcf9ce5d2a"
      },
      "source": [
        "# Encoder\n",
        "input = Input(shape=(x_train_m.shape[1], x_train_m.shape[2]))\n",
        "x = Conv1D(filters=128, kernel_size=7,  strides=2,padding=\"same\", activation=\"relu\")(input)\n",
        "x = Dropout(rate=0.2)(x)\n",
        "x = Conv1D(filters=64, kernel_size=7,  strides=2,padding=\"same\", activation=\"relu\")(x)\n",
        "x = Dropout(rate=0.2)(x)\n",
        "x = Conv1D(filters=32, kernel_size=7,  strides=2,padding=\"same\", activation=\"relu\")(x)\n",
        "x = Dropout(rate=0.2)(x)\n",
        "encoder_output = Conv1D(filters=16, kernel_size=7, padding=\"same\", strides=2, activation=\"relu\")(x)\n",
        "\n",
        "# VQVAELayer.\n",
        "enc = Conv1D(embedding_dim, kernel_size=1, strides=1, name=\"pre_vqvae\")(x)\n",
        "enc_inputs = enc\n",
        "enc = VQVAELayer(embedding_dim, num_embeddings, commitment_cost, name=\"vqvae\")(enc)\n",
        "x = Lambda(lambda enc: enc_inputs + K.stop_gradient(enc - enc_inputs), name=\"encoded\")(enc)\n",
        "data_variance = np.var(x_train_m)\n",
        "loss = vq_vae_loss_wrapper(data_variance, commitment_cost, enc, enc_inputs)\n",
        "\n",
        "# Decoder.\n",
        "x = Conv1D(filters=16, kernel_size=7, strides=2, padding = 'same')(x)\n",
        "x = UpSampling1D(size = 2)(x)\n",
        "x = Dropout(rate=0.2)(x)\n",
        "x = Conv1D(filters=32, kernel_size=7,  strides=2, padding = 'same')(x)\n",
        "x = UpSampling1D(size = 2)(x)\n",
        "x = Conv1D(filters=64, kernel_size=7,  strides=1, padding = 'same')(x)\n",
        "x = UpSampling1D(size = 2)(x)\n",
        "x = Conv1D(filters=128, kernel_size=7,  strides=1, padding = 'same')(x)\n",
        "x = UpSampling1D(size = 2)(x)\n",
        "x = Conv1D(filters=4, kernel_size=7, padding = 'same')(x)\n",
        "x = UpSampling1D(size = 2)(x)\n",
        "\n",
        "# Autoencoder.\n",
        "vqvae = Model(input, x)\n",
        "vqvae.compile(loss=loss, optimizer='adam')\n",
        "vqvae.summary()"
      ],
      "execution_count": null,
      "outputs": [
        {
          "output_type": "stream",
          "text": [
            "WARNING:tensorflow:Entity <bound method VQVAELayer.call of <__main__.VQVAELayer object at 0x7f45a45784d0>> could not be transformed and will be executed as-is. Please report this to the AutoGraph team. When filing the bug, set the verbosity to 10 (on Linux, `export AUTOGRAPH_VERBOSITY=10`) and attach the full output. Cause: Bad argument number for Name: 3, expecting 4\n",
            "WARNING: Entity <bound method VQVAELayer.call of <__main__.VQVAELayer object at 0x7f45a45784d0>> could not be transformed and will be executed as-is. Please report this to the AutoGraph team. When filing the bug, set the verbosity to 10 (on Linux, `export AUTOGRAPH_VERBOSITY=10`) and attach the full output. Cause: Bad argument number for Name: 3, expecting 4\n",
            "Model: \"model_18\"\n",
            "_________________________________________________________________\n",
            "Layer (type)                 Output Shape              Param #   \n",
            "=================================================================\n",
            "input_17 (InputLayer)        [(None, 256, 4)]          0         \n",
            "_________________________________________________________________\n",
            "conv1d_122 (Conv1D)          (None, 128, 128)          3712      \n",
            "_________________________________________________________________\n",
            "dropout_53 (Dropout)         (None, 128, 128)          0         \n",
            "_________________________________________________________________\n",
            "conv1d_123 (Conv1D)          (None, 64, 64)            57408     \n",
            "_________________________________________________________________\n",
            "dropout_54 (Dropout)         (None, 64, 64)            0         \n",
            "_________________________________________________________________\n",
            "conv1d_124 (Conv1D)          (None, 32, 32)            14368     \n",
            "_________________________________________________________________\n",
            "dropout_55 (Dropout)         (None, 32, 32)            0         \n",
            "_________________________________________________________________\n",
            "pre_vqvae (Conv1D)           (None, 32, 32)            1056      \n",
            "_________________________________________________________________\n",
            "vqvae (VQVAELayer)           (None, 32, 32)            1024      \n",
            "_________________________________________________________________\n",
            "encoded (Lambda)             (None, 32, 32)            0         \n",
            "_________________________________________________________________\n",
            "conv1d_126 (Conv1D)          (None, 16, 16)            3600      \n",
            "_________________________________________________________________\n",
            "up_sampling1d_62 (UpSampling (None, 32, 16)            0         \n",
            "_________________________________________________________________\n",
            "dropout_56 (Dropout)         (None, 32, 16)            0         \n",
            "_________________________________________________________________\n",
            "conv1d_127 (Conv1D)          (None, 16, 32)            3616      \n",
            "_________________________________________________________________\n",
            "up_sampling1d_63 (UpSampling (None, 32, 32)            0         \n",
            "_________________________________________________________________\n",
            "conv1d_128 (Conv1D)          (None, 32, 64)            14400     \n",
            "_________________________________________________________________\n",
            "up_sampling1d_64 (UpSampling (None, 64, 64)            0         \n",
            "_________________________________________________________________\n",
            "conv1d_129 (Conv1D)          (None, 64, 128)           57472     \n",
            "_________________________________________________________________\n",
            "up_sampling1d_65 (UpSampling (None, 128, 128)          0         \n",
            "_________________________________________________________________\n",
            "conv1d_130 (Conv1D)          (None, 128, 4)            3588      \n",
            "_________________________________________________________________\n",
            "up_sampling1d_66 (UpSampling (None, 256, 4)            0         \n",
            "=================================================================\n",
            "Total params: 160,244\n",
            "Trainable params: 160,244\n",
            "Non-trainable params: 0\n",
            "_________________________________________________________________\n"
          ],
          "name": "stdout"
        }
      ]
    },
    {
      "cell_type": "code",
      "metadata": {
        "id": "B5Cn_C9p9EDF"
      },
      "source": [
        "# Hyper Parameters.\n",
        "epochs = 150 # MAX\n",
        "batch_size = 64\n",
        "validation_split = 0.1\n",
        "\n",
        "# VQ-VAE Hyper Parameters.\n",
        "embedding_dim = 16 # Length of embedding vectors.\n",
        "num_embeddings = 16 # Number of embedding vectors (high value = high bottleneck capacity).\n",
        "commitment_cost = 0.25 # Controls the weighting of the loss terms.\n",
        "\n",
        "# EarlyStoppingCallback.\n",
        "esc = keras.callbacks.EarlyStopping(monitor='val_loss', min_delta=1e-4,\n",
        "                                    patience=5, verbose=0, mode='auto',\n",
        "                                    baseline=None, restore_best_weights=True)"
      ],
      "execution_count": null,
      "outputs": []
    },
    {
      "cell_type": "code",
      "metadata": {
        "colab": {
          "base_uri": "https://localhost:8080/"
        },
        "id": "N5BRY3m69JT-",
        "outputId": "20c7ac34-b9d9-4815-efb1-97be14e0d0bc"
      },
      "source": [
        "history = vqvae.fit(x_train_m, x_train_m,\n",
        "                    batch_size=batch_size, epochs=epochs,\n",
        "                    validation_split=validation_split,\n",
        "                    callbacks=[esc])"
      ],
      "execution_count": null,
      "outputs": [
        {
          "output_type": "stream",
          "text": [
            "Train on 43153 samples, validate on 4795 samples\n",
            "Epoch 1/150\n",
            "43153/43153 [==============================] - 18s 424us/sample - loss: 275.4907 - val_loss: 0.3919\n",
            "Epoch 2/150\n",
            "43153/43153 [==============================] - 14s 334us/sample - loss: 0.3879 - val_loss: 0.3611\n",
            "Epoch 3/150\n",
            "43153/43153 [==============================] - 14s 332us/sample - loss: 0.3649 - val_loss: 0.3513\n",
            "Epoch 4/150\n",
            "43153/43153 [==============================] - 14s 326us/sample - loss: 0.3546 - val_loss: 0.3512\n",
            "Epoch 5/150\n",
            "43153/43153 [==============================] - 14s 327us/sample - loss: 0.3550 - val_loss: 0.3474\n",
            "Epoch 6/150\n",
            "43153/43153 [==============================] - 14s 324us/sample - loss: 0.3550 - val_loss: 0.3450\n",
            "Epoch 7/150\n",
            "43153/43153 [==============================] - 14s 323us/sample - loss: 0.3535 - val_loss: 0.4382\n",
            "Epoch 8/150\n",
            "43153/43153 [==============================] - 14s 322us/sample - loss: 0.3735 - val_loss: 0.3579\n",
            "Epoch 9/150\n",
            "43153/43153 [==============================] - 14s 323us/sample - loss: 0.3504 - val_loss: 0.3465\n",
            "Epoch 10/150\n",
            "43153/43153 [==============================] - 14s 323us/sample - loss: 0.3491 - val_loss: 0.3477\n",
            "Epoch 11/150\n",
            "43153/43153 [==============================] - 15s 342us/sample - loss: 0.3490 - val_loss: 0.3528\n"
          ],
          "name": "stdout"
        }
      ]
    },
    {
      "cell_type": "code",
      "metadata": {
        "id": "r73GFNIh9OhC"
      },
      "source": [
        "# Get train MAE loss.\n",
        "x_train_pred_m = vqvae.predict(x_train_m)\n",
        "original = []\n",
        "for item in x_train_m:\n",
        "  #print(item[0])\n",
        "  original.append(item[0])\n",
        "predicted = []\n",
        "for item in x_train_pred_m:\n",
        "  #print(item[0])\n",
        "  predicted.append(item[0])"
      ],
      "execution_count": null,
      "outputs": []
    },
    {
      "cell_type": "code",
      "metadata": {
        "id": "5bDH06Qo965f"
      },
      "source": [
        "df_original = pd.DataFrame(original)\n",
        "df_pred = pd.DataFrame(predicted)\n",
        "original_mean = df_original.mean(axis = 0)\n",
        "difference = df_original - df_pred\n",
        "difference_mean = np.abs(difference.mean(axis = 0))"
      ],
      "execution_count": null,
      "outputs": []
    },
    {
      "cell_type": "code",
      "metadata": {
        "colab": {
          "base_uri": "https://localhost:8080/"
        },
        "id": "e5bI4IU2-TVD",
        "outputId": "78a00f1b-ff03-4f1c-fc84-a8790a8caa1e"
      },
      "source": [
        "difference_mean/original_mean"
      ],
      "execution_count": null,
      "outputs": [
        {
          "output_type": "execute_result",
          "data": {
            "text/plain": [
              "0    0.089364\n",
              "1    2.772716\n",
              "2    0.105009\n",
              "3    0.204751\n",
              "dtype: float64"
            ]
          },
          "metadata": {
            "tags": []
          },
          "execution_count": 104
        }
      ]
    },
    {
      "cell_type": "code",
      "metadata": {
        "id": "YdwrvQXK-W59"
      },
      "source": [
        "intermediate_layer_model = Model(inputs=vqvae.input,\n",
        "                                 outputs=vqvae.get_layer(\"vqvae\").output)\n",
        "intermediate_output = intermediate_layer_model.predict(x_train_m)"
      ],
      "execution_count": null,
      "outputs": []
    },
    {
      "cell_type": "code",
      "metadata": {
        "colab": {
          "base_uri": "https://localhost:8080/"
        },
        "id": "aa5SnDxm-jsY",
        "outputId": "a5cbdc7a-6b17-435c-a843-d2dbbfbb86c7"
      },
      "source": [
        "encoded_vectors = dictionary_encoding(intermediate_output)\n",
        "embedded_size = sys.getsizeof(encoded_vectors)\n",
        "original_size = sys.getsizeof(X)\n",
        "print(\"Compression: \", embedded_size/original_size)"
      ],
      "execution_count": null,
      "outputs": [
        {
          "output_type": "stream",
          "text": [
            "Compression:  0.000160758364620714\n"
          ],
          "name": "stdout"
        }
      ]
    },
    {
      "cell_type": "code",
      "metadata": {
        "id": "xy1wqPPY-4MR"
      },
      "source": [
        "# Hyper Parameters.\n",
        "epochs = 150 # MAX\n",
        "batch_size = 64\n",
        "validation_split = 0.1\n",
        "\n",
        "# VQ-VAE Hyper Parameters.\n",
        "embedding_dim = 8 # Length of embedding vectors.\n",
        "num_embeddings = 64 # Number of embedding vectors (high value = high bottleneck capacity).\n",
        "commitment_cost = 0.25 # Controls the weighting of the loss terms.\n",
        "\n",
        "# EarlyStoppingCallback.\n",
        "esc = keras.callbacks.EarlyStopping(monitor='val_loss', min_delta=1e-4,\n",
        "                                    patience=5, verbose=0, mode='auto',\n",
        "                                    baseline=None, restore_best_weights=True)"
      ],
      "execution_count": null,
      "outputs": []
    },
    {
      "cell_type": "code",
      "metadata": {
        "colab": {
          "base_uri": "https://localhost:8080/"
        },
        "id": "7cbYVuNI_Ou_",
        "outputId": "65b6c703-9772-47e8-c1d2-13cdf71532fb"
      },
      "source": [
        "# Encoder\n",
        "input = Input(shape=(x_train_m.shape[1], x_train_m.shape[2]))\n",
        "x = Conv1D(filters=128, kernel_size=7,  strides=2,padding=\"same\", activation=\"relu\")(input)\n",
        "x = Dropout(rate=0.2)(x)\n",
        "x = Conv1D(filters=64, kernel_size=7,  strides=2,padding=\"same\", activation=\"relu\")(x)\n",
        "x = Dropout(rate=0.2)(x)\n",
        "\n",
        "# VQVAELayer.\n",
        "enc = Conv1D(embedding_dim, kernel_size=1, strides=1, name=\"pre_vqvae\")(x)\n",
        "enc_inputs = enc\n",
        "enc = VQVAELayer(embedding_dim, num_embeddings, commitment_cost, name=\"vqvae\")(enc)\n",
        "x = Lambda(lambda enc: enc_inputs + K.stop_gradient(enc - enc_inputs), name=\"encoded\")(enc)\n",
        "data_variance = np.var(x_train_m)\n",
        "loss = vq_vae_loss_wrapper(data_variance, commitment_cost, enc, enc_inputs)\n",
        "\n",
        "# Decoder.\n",
        "x = Conv1D(filters=64, kernel_size=7,  strides=1, padding = 'same')(x)\n",
        "x = UpSampling1D(size = 2)(x)\n",
        "x = Conv1D(filters=128, kernel_size=7,  strides=1, padding = 'same')(x)\n",
        "x = UpSampling1D(size = 2)(x)\n",
        "x = Conv1D(filters=4, kernel_size=7, padding = 'same')(x)\n",
        "\n",
        "# Autoencoder.\n",
        "vqvae = Model(input, x)\n",
        "vqvae.compile(loss=loss, optimizer='adam')\n",
        "vqvae.summary()"
      ],
      "execution_count": null,
      "outputs": [
        {
          "output_type": "stream",
          "text": [
            "WARNING:tensorflow:Entity <bound method VQVAELayer.call of <__main__.VQVAELayer object at 0x7fc2dd4204d0>> could not be transformed and will be executed as-is. Please report this to the AutoGraph team. When filing the bug, set the verbosity to 10 (on Linux, `export AUTOGRAPH_VERBOSITY=10`) and attach the full output. Cause: module 'gast' has no attribute 'Index'\n",
            "WARNING: Entity <bound method VQVAELayer.call of <__main__.VQVAELayer object at 0x7fc2dd4204d0>> could not be transformed and will be executed as-is. Please report this to the AutoGraph team. When filing the bug, set the verbosity to 10 (on Linux, `export AUTOGRAPH_VERBOSITY=10`) and attach the full output. Cause: module 'gast' has no attribute 'Index'\n",
            "Model: \"model_4\"\n",
            "_________________________________________________________________\n",
            "Layer (type)                 Output Shape              Param #   \n",
            "=================================================================\n",
            "input_3 (InputLayer)         [(None, 256, 4)]          0         \n",
            "_________________________________________________________________\n",
            "conv1d_22 (Conv1D)           (None, 128, 128)          3712      \n",
            "_________________________________________________________________\n",
            "dropout_10 (Dropout)         (None, 128, 128)          0         \n",
            "_________________________________________________________________\n",
            "conv1d_23 (Conv1D)           (None, 64, 64)            57408     \n",
            "_________________________________________________________________\n",
            "dropout_11 (Dropout)         (None, 64, 64)            0         \n",
            "_________________________________________________________________\n",
            "pre_vqvae (Conv1D)           (None, 64, 8)             520       \n",
            "_________________________________________________________________\n",
            "vqvae (VQVAELayer)           (None, 64, 8)             512       \n",
            "_________________________________________________________________\n",
            "encoded (Lambda)             (None, 64, 8)             0         \n",
            "_________________________________________________________________\n",
            "conv1d_24 (Conv1D)           (None, 64, 64)            3648      \n",
            "_________________________________________________________________\n",
            "up_sampling1d_12 (UpSampling (None, 128, 64)           0         \n",
            "_________________________________________________________________\n",
            "conv1d_25 (Conv1D)           (None, 128, 128)          57472     \n",
            "_________________________________________________________________\n",
            "up_sampling1d_13 (UpSampling (None, 256, 128)          0         \n",
            "_________________________________________________________________\n",
            "conv1d_26 (Conv1D)           (None, 256, 4)            3588      \n",
            "=================================================================\n",
            "Total params: 126,860\n",
            "Trainable params: 126,860\n",
            "Non-trainable params: 0\n",
            "_________________________________________________________________\n"
          ],
          "name": "stdout"
        }
      ]
    },
    {
      "cell_type": "code",
      "metadata": {
        "colab": {
          "base_uri": "https://localhost:8080/"
        },
        "id": "dxncpzxo_YHp",
        "outputId": "7c51a757-2b01-4ff2-986c-d42238ba6228"
      },
      "source": [
        "history = vqvae.fit(x_train_m, x_train_m,\n",
        "                    batch_size=batch_size, epochs=epochs,\n",
        "                    validation_split=validation_split,\n",
        "                    callbacks=[esc])"
      ],
      "execution_count": null,
      "outputs": [
        {
          "output_type": "stream",
          "text": [
            "Train on 41942 samples, validate on 4661 samples\n",
            "Epoch 1/150\n",
            "41942/41942 [==============================] - 13s 314us/sample - loss: 740.4720 - val_loss: 0.3567\n",
            "Epoch 2/150\n",
            "41942/41942 [==============================] - 12s 280us/sample - loss: 0.8521 - val_loss: 0.5929\n",
            "Epoch 3/150\n",
            "41942/41942 [==============================] - 12s 280us/sample - loss: 0.5438 - val_loss: 0.3514\n",
            "Epoch 4/150\n",
            "41942/41942 [==============================] - 12s 278us/sample - loss: 0.3638 - val_loss: 0.3550\n",
            "Epoch 5/150\n",
            "41942/41942 [==============================] - 12s 279us/sample - loss: 0.3616 - val_loss: 0.3543\n",
            "Epoch 6/150\n",
            "41942/41942 [==============================] - 12s 278us/sample - loss: 0.3530 - val_loss: 0.3522\n",
            "Epoch 7/150\n",
            "41942/41942 [==============================] - 12s 279us/sample - loss: 0.3543 - val_loss: 0.3532\n",
            "Epoch 8/150\n",
            "41942/41942 [==============================] - 12s 285us/sample - loss: 0.3628 - val_loss: 0.3528\n"
          ],
          "name": "stdout"
        }
      ]
    },
    {
      "cell_type": "code",
      "metadata": {
        "id": "sxkxh9lF_diF"
      },
      "source": [
        "# Get train MAE loss.\n",
        "x_train_pred_m = vqvae.predict(x_train_m)\n",
        "original = []\n",
        "for item in x_train_m:\n",
        "  #print(item[0])\n",
        "  original.append(item[0])\n",
        "predicted = []\n",
        "for item in x_train_pred_m:\n",
        "  #print(item[0])\n",
        "  predicted.append(item[0])"
      ],
      "execution_count": null,
      "outputs": []
    },
    {
      "cell_type": "code",
      "metadata": {
        "id": "oQ_poZ0h_-B6"
      },
      "source": [
        "df_original = pd.DataFrame(original)\n",
        "df_pred = pd.DataFrame(predicted)\n",
        "original_mean = df_original.mean(axis = 0)\n",
        "difference = df_original - df_pred\n",
        "difference_mean = np.abs(difference.mean(axis = 0))"
      ],
      "execution_count": null,
      "outputs": []
    },
    {
      "cell_type": "code",
      "metadata": {
        "colab": {
          "base_uri": "https://localhost:8080/"
        },
        "id": "UtF7qNLvACg0",
        "outputId": "9dd6cd5e-1778-4b82-eab0-f4b5b784af86"
      },
      "source": [
        "difference_mean/original_mean"
      ],
      "execution_count": null,
      "outputs": [
        {
          "output_type": "execute_result",
          "data": {
            "text/plain": [
              "0    0.542463\n",
              "1    0.938420\n",
              "2    0.392212\n",
              "3    0.586181\n",
              "dtype: float64"
            ]
          },
          "metadata": {
            "tags": []
          },
          "execution_count": 47
        }
      ]
    },
    {
      "cell_type": "code",
      "metadata": {
        "id": "Txmk9Nn5AF8n"
      },
      "source": [
        "intermediate_layer_model = Model(inputs=vqvae.input,\n",
        "                                 outputs=vqvae.get_layer(\"vqvae\").output)\n",
        "intermediate_output = intermediate_layer_model.predict(x_train_m)"
      ],
      "execution_count": null,
      "outputs": []
    },
    {
      "cell_type": "code",
      "metadata": {
        "colab": {
          "base_uri": "https://localhost:8080/"
        },
        "id": "UsEpIL0mDayv",
        "outputId": "79a0019d-77ec-46e6-ab9f-685a44143f6b"
      },
      "source": [
        "len(intermediate_output)"
      ],
      "execution_count": null,
      "outputs": [
        {
          "output_type": "execute_result",
          "data": {
            "text/plain": [
              "46603"
            ]
          },
          "metadata": {
            "tags": []
          },
          "execution_count": 49
        }
      ]
    },
    {
      "cell_type": "code",
      "metadata": {
        "colab": {
          "base_uri": "https://localhost:8080/"
        },
        "id": "NqFTRi63AQo9",
        "outputId": "f9c56ffa-a469-4f91-a6d2-dd46f4d5db70"
      },
      "source": [
        "encoded_vectors = dictionary_encoding(intermediate_output)\n",
        "embedded_size = sys.getsizeof(encoded_vectors)\n",
        "original_size = sys.getsizeof(X)\n",
        "print(\"Compression: \", embedded_size/original_size)"
      ],
      "execution_count": null,
      "outputs": [
        {
          "output_type": "stream",
          "text": [
            "Compression:  0.00025072550358484124\n"
          ],
          "name": "stdout"
        }
      ]
    },
    {
      "cell_type": "code",
      "metadata": {
        "id": "tPIuOj3fAVe1"
      },
      "source": [
        "#algorithm\n",
        "def VAE_compression(reconstruction_error):\n",
        "  # number of layers - determined by filters (embedding size<=f<=batchsize)( where f = 2^x)\n",
        "  # embedding size (8<=e_s<=batch_size/4)(where e_s = 2^y) \n",
        "  # number of embeddings (8<=n_e<=batch_size)(where n_s = 2^z)"
      ],
      "execution_count": null,
      "outputs": []
    },
    {
      "cell_type": "markdown",
      "metadata": {
        "id": "SoalR-BPaFw2"
      },
      "source": [
        "## Compression vs Reconstruction error"
      ]
    },
    {
      "cell_type": "code",
      "metadata": {
        "id": "LKhs08bxcYa8"
      },
      "source": [
        "# Hyper Parameters.\n",
        "epochs = 150 # MAX\n",
        "batch_size = 64\n",
        "validation_split = 0.1\n",
        "\n",
        "# VQ-VAE Hyper Parameters.\n",
        "embedding_dim = 8 # Length of embedding vectors.\n",
        "num_embeddings = 128 # Number of embedding vectors (high value = high bottleneck capacity).\n",
        "commitment_cost = 0.25 # Controls the weighting of the loss terms.\n",
        "\n",
        "# EarlyStoppingCallback.\n",
        "esc = keras.callbacks.EarlyStopping(monitor='val_loss', min_delta=1e-4,\n",
        "                                    patience=5, verbose=0, mode='auto',\n",
        "                                    baseline=None, restore_best_weights=True)"
      ],
      "execution_count": null,
      "outputs": []
    },
    {
      "cell_type": "code",
      "metadata": {
        "colab": {
          "base_uri": "https://localhost:8080/"
        },
        "id": "ue37pcnXaJuT",
        "outputId": "b17aa7b6-1a76-4df9-f6f6-2565df596f74"
      },
      "source": [
        "# Encoder\n",
        "input = Input(shape=(x_train_m.shape[1], x_train_m.shape[2]))\n",
        "x = Conv1D(filters=256, kernel_size=7,  strides=2,padding=\"same\", activation=\"relu\")(input)\n",
        "x = Dropout(rate=0.2)(x)\n",
        "x = Conv1D(filters=128, kernel_size=7,  strides=2,padding=\"same\", activation=\"relu\")(x)\n",
        "x = Dropout(rate=0.2)(x)\n",
        "x = Conv1D(filters=64, kernel_size=7,  strides=2,padding=\"same\", activation=\"relu\")(x)\n",
        "x = Dropout(rate=0.2)(x)\n",
        "x = Conv1D(filters=32, kernel_size=7,  strides=2,padding=\"same\", activation=\"relu\")(x)\n",
        "x = Dropout(rate=0.2)(x)\n",
        "encoder_output = Conv1D(filters=16, kernel_size=7, padding=\"same\", strides=2, activation=\"relu\")(x)\n",
        "\n",
        "# VQVAELayer.\n",
        "enc = Conv1D(embedding_dim, kernel_size=1, strides=1, name=\"pre_vqvae\")(x)\n",
        "enc_inputs = enc\n",
        "enc = VQVAELayer(embedding_dim, num_embeddings, commitment_cost, name=\"vqvae\")(enc)\n",
        "x = Lambda(lambda enc: enc_inputs + K.stop_gradient(enc - enc_inputs), name=\"encoded\")(enc)\n",
        "data_variance = np.var(x_train_m)\n",
        "loss = vq_vae_loss_wrapper(data_variance, commitment_cost, enc, enc_inputs)\n",
        "\n",
        "# Decoder.\n",
        "x = Conv1D(filters=16, kernel_size=7, strides=2, padding = 'same')(x)\n",
        "x = UpSampling1D(size = 2)(x)\n",
        "x = Dropout(rate=0.2)(x)\n",
        "x = Conv1D(filters=32, kernel_size=7,  strides=2, padding = 'same')(x)\n",
        "x = UpSampling1D(size = 2)(x)\n",
        "x = Conv1D(filters=64, kernel_size=7,  strides=1, padding = 'same')(x)\n",
        "x = UpSampling1D(size = 2)(x)\n",
        "x = Conv1D(filters=128, kernel_size=7,  strides=1, padding = 'same')(x)\n",
        "x = UpSampling1D(size = 2)(x)\n",
        "x = Conv1D(filters=256, kernel_size=7,  strides=1, padding = 'same')(x)\n",
        "x = UpSampling1D(size = 2)(x)\n",
        "x = Conv1D(filters=4, kernel_size=7, padding = 'same')(x)\n",
        "x = UpSampling1D(size = 2)(x)\n",
        "\n",
        "# Autoencoder.\n",
        "vqvae = Model(input, x)\n",
        "vqvae.compile(loss=loss, optimizer='adam')\n",
        "vqvae.summary()"
      ],
      "execution_count": null,
      "outputs": [
        {
          "output_type": "stream",
          "text": [
            "WARNING:tensorflow:Entity <bound method VQVAELayer.call of <__main__.VQVAELayer object at 0x7fc27deea290>> could not be transformed and will be executed as-is. Please report this to the AutoGraph team. When filing the bug, set the verbosity to 10 (on Linux, `export AUTOGRAPH_VERBOSITY=10`) and attach the full output. Cause: module 'gast' has no attribute 'Index'\n",
            "WARNING: Entity <bound method VQVAELayer.call of <__main__.VQVAELayer object at 0x7fc27deea290>> could not be transformed and will be executed as-is. Please report this to the AutoGraph team. When filing the bug, set the verbosity to 10 (on Linux, `export AUTOGRAPH_VERBOSITY=10`) and attach the full output. Cause: module 'gast' has no attribute 'Index'\n",
            "Model: \"model_6\"\n",
            "_________________________________________________________________\n",
            "Layer (type)                 Output Shape              Param #   \n",
            "=================================================================\n",
            "input_4 (InputLayer)         [(None, 256, 4)]          0         \n",
            "_________________________________________________________________\n",
            "conv1d_27 (Conv1D)           (None, 128, 256)          7424      \n",
            "_________________________________________________________________\n",
            "dropout_12 (Dropout)         (None, 128, 256)          0         \n",
            "_________________________________________________________________\n",
            "conv1d_28 (Conv1D)           (None, 64, 128)           229504    \n",
            "_________________________________________________________________\n",
            "dropout_13 (Dropout)         (None, 64, 128)           0         \n",
            "_________________________________________________________________\n",
            "conv1d_29 (Conv1D)           (None, 32, 64)            57408     \n",
            "_________________________________________________________________\n",
            "dropout_14 (Dropout)         (None, 32, 64)            0         \n",
            "_________________________________________________________________\n",
            "conv1d_30 (Conv1D)           (None, 16, 32)            14368     \n",
            "_________________________________________________________________\n",
            "dropout_15 (Dropout)         (None, 16, 32)            0         \n",
            "_________________________________________________________________\n",
            "pre_vqvae (Conv1D)           (None, 16, 8)             264       \n",
            "_________________________________________________________________\n",
            "vqvae (VQVAELayer)           (None, 16, 8)             1024      \n",
            "_________________________________________________________________\n",
            "encoded (Lambda)             (None, 16, 8)             0         \n",
            "_________________________________________________________________\n",
            "conv1d_32 (Conv1D)           (None, 8, 16)             912       \n",
            "_________________________________________________________________\n",
            "up_sampling1d_14 (UpSampling (None, 16, 16)            0         \n",
            "_________________________________________________________________\n",
            "dropout_16 (Dropout)         (None, 16, 16)            0         \n",
            "_________________________________________________________________\n",
            "conv1d_33 (Conv1D)           (None, 8, 32)             3616      \n",
            "_________________________________________________________________\n",
            "up_sampling1d_15 (UpSampling (None, 16, 32)            0         \n",
            "_________________________________________________________________\n",
            "conv1d_34 (Conv1D)           (None, 16, 64)            14400     \n",
            "_________________________________________________________________\n",
            "up_sampling1d_16 (UpSampling (None, 32, 64)            0         \n",
            "_________________________________________________________________\n",
            "conv1d_35 (Conv1D)           (None, 32, 128)           57472     \n",
            "_________________________________________________________________\n",
            "up_sampling1d_17 (UpSampling (None, 64, 128)           0         \n",
            "_________________________________________________________________\n",
            "conv1d_36 (Conv1D)           (None, 64, 256)           229632    \n",
            "_________________________________________________________________\n",
            "up_sampling1d_18 (UpSampling (None, 128, 256)          0         \n",
            "_________________________________________________________________\n",
            "conv1d_37 (Conv1D)           (None, 128, 4)            7172      \n",
            "_________________________________________________________________\n",
            "up_sampling1d_19 (UpSampling (None, 256, 4)            0         \n",
            "=================================================================\n",
            "Total params: 623,196\n",
            "Trainable params: 623,196\n",
            "Non-trainable params: 0\n",
            "_________________________________________________________________\n"
          ],
          "name": "stdout"
        }
      ]
    },
    {
      "cell_type": "code",
      "metadata": {
        "colab": {
          "base_uri": "https://localhost:8080/"
        },
        "id": "PnMyMecvdHhw",
        "outputId": "0dfe092b-82d4-43de-bfa0-ba7cc1a54c38"
      },
      "source": [
        "history = vqvae.fit(x_train_m, x_train_m,\n",
        "                    batch_size=batch_size, epochs=epochs,\n",
        "                    validation_split=validation_split,\n",
        "                    callbacks=[esc])"
      ],
      "execution_count": null,
      "outputs": [
        {
          "output_type": "stream",
          "text": [
            "Train on 41942 samples, validate on 4661 samples\n",
            "Epoch 1/150\n",
            "41942/41942 [==============================] - 22s 529us/sample - loss: 96.2156 - val_loss: 0.3574\n",
            "Epoch 2/150\n",
            "41942/41942 [==============================] - 20s 482us/sample - loss: 0.3510 - val_loss: 0.3493\n",
            "Epoch 3/150\n",
            "41942/41942 [==============================] - 20s 483us/sample - loss: 0.3480 - val_loss: 0.3498\n",
            "Epoch 4/150\n",
            "41942/41942 [==============================] - 20s 485us/sample - loss: 0.3464 - val_loss: 0.3510\n",
            "Epoch 5/150\n",
            "41942/41942 [==============================] - 20s 481us/sample - loss: 0.3466 - val_loss: 0.3491\n",
            "Epoch 6/150\n",
            "41942/41942 [==============================] - 20s 482us/sample - loss: 0.3462 - val_loss: 0.3491\n",
            "Epoch 7/150\n",
            "41942/41942 [==============================] - 20s 482us/sample - loss: 0.3462 - val_loss: 0.3512\n",
            "Epoch 8/150\n",
            "41942/41942 [==============================] - 20s 487us/sample - loss: 0.3463 - val_loss: 0.3499\n",
            "Epoch 9/150\n",
            "41942/41942 [==============================] - 20s 482us/sample - loss: 0.3464 - val_loss: 0.3493\n",
            "Epoch 10/150\n",
            "41942/41942 [==============================] - 21s 491us/sample - loss: 0.3463 - val_loss: 0.3511\n"
          ],
          "name": "stdout"
        }
      ]
    },
    {
      "cell_type": "code",
      "metadata": {
        "id": "gkxIMoppdHhx"
      },
      "source": [
        "# Get train MAE loss.\n",
        "x_train_pred_m = vqvae.predict(x_train_m)\n",
        "original = []\n",
        "for item in x_train_m:\n",
        "  #print(item[0])\n",
        "  original.append(item[0])\n",
        "predicted = []\n",
        "for item in x_train_pred_m:\n",
        "  #print(item[0])\n",
        "  predicted.append(item[0])"
      ],
      "execution_count": null,
      "outputs": []
    },
    {
      "cell_type": "code",
      "metadata": {
        "id": "I0x6JrzFdHhx"
      },
      "source": [
        "df_original = pd.DataFrame(original)\n",
        "df_pred = pd.DataFrame(predicted)\n",
        "original_mean = df_original.mean(axis = 0)\n",
        "difference = df_original - df_pred\n",
        "difference_mean = np.abs(difference.mean(axis = 0))"
      ],
      "execution_count": null,
      "outputs": []
    },
    {
      "cell_type": "code",
      "metadata": {
        "colab": {
          "base_uri": "https://localhost:8080/"
        },
        "id": "Tc5XqjS7dHhy",
        "outputId": "40825b3b-bfb5-4fc5-8153-ed31567295a1"
      },
      "source": [
        "difference_mean/original_mean"
      ],
      "execution_count": null,
      "outputs": [
        {
          "output_type": "execute_result",
          "data": {
            "text/plain": [
              "0     0.032258\n",
              "1    13.136164\n",
              "2     0.023639\n",
              "3     0.001509\n",
              "dtype: float64"
            ]
          },
          "metadata": {
            "tags": []
          },
          "execution_count": 59
        }
      ]
    },
    {
      "cell_type": "code",
      "metadata": {
        "id": "WRnUi_ESdHhy"
      },
      "source": [
        "intermediate_layer_model = Model(inputs=vqvae.input,\n",
        "                                 outputs=vqvae.get_layer(\"vqvae\").output)\n",
        "intermediate_output = intermediate_layer_model.predict(x_train_m)"
      ],
      "execution_count": null,
      "outputs": []
    },
    {
      "cell_type": "code",
      "metadata": {
        "colab": {
          "base_uri": "https://localhost:8080/"
        },
        "id": "eiWjWEmvdHhy",
        "outputId": "0a316dd7-a928-4fd2-8326-d42a209a5c0b"
      },
      "source": [
        "len(intermediate_output)"
      ],
      "execution_count": null,
      "outputs": [
        {
          "output_type": "execute_result",
          "data": {
            "text/plain": [
              "46603"
            ]
          },
          "metadata": {
            "tags": []
          },
          "execution_count": 61
        }
      ]
    },
    {
      "cell_type": "code",
      "metadata": {
        "colab": {
          "base_uri": "https://localhost:8080/"
        },
        "id": "IU4lJWjcdHhy",
        "outputId": "d554bd61-3e7a-4c09-a731-2bda5934bf63"
      },
      "source": [
        "encoded_vectors = dictionary_encoding(intermediate_output)\n",
        "embedded_size = sys.getsizeof(encoded_vectors)\n",
        "original_size = sys.getsizeof(X)\n",
        "print(\"Compression: \", embedded_size/original_size)"
      ],
      "execution_count": null,
      "outputs": [
        {
          "output_type": "stream",
          "text": [
            "Compression:  0.0001653721406623421\n"
          ],
          "name": "stdout"
        }
      ]
    },
    {
      "cell_type": "code",
      "metadata": {
        "id": "CHCDVl9nee_h"
      },
      "source": [
        "# Hyper Parameters.\n",
        "epochs = 150 # MAX\n",
        "batch_size = 64\n",
        "validation_split = 0.1\n",
        "\n",
        "# VQ-VAE Hyper Parameters.\n",
        "embedding_dim = 8 # Length of embedding vectors.\n",
        "num_embeddings = 64 # Number of embedding vectors (high value = high bottleneck capacity).\n",
        "commitment_cost = 0.25 # Controls the weighting of the loss terms.\n",
        "\n",
        "# EarlyStoppingCallback.\n",
        "esc = keras.callbacks.EarlyStopping(monitor='val_loss', min_delta=1e-4,\n",
        "                                    patience=5, verbose=0, mode='auto',\n",
        "                                    baseline=None, restore_best_weights=True)"
      ],
      "execution_count": null,
      "outputs": []
    },
    {
      "cell_type": "code",
      "metadata": {
        "colab": {
          "base_uri": "https://localhost:8080/"
        },
        "id": "850DmDcSee_i",
        "outputId": "8963a2d3-0ec3-4f3f-cd84-0f99dcaf5634"
      },
      "source": [
        "# Encoder\n",
        "input = Input(shape=(x_train_m.shape[1], x_train_m.shape[2]))\n",
        "x = Conv1D(filters=256, kernel_size=7,  strides=2,padding=\"same\", activation=\"relu\")(input)\n",
        "x = Dropout(rate=0.2)(x)\n",
        "x = Conv1D(filters=128, kernel_size=7,  strides=2,padding=\"same\", activation=\"relu\")(x)\n",
        "x = Dropout(rate=0.2)(x)\n",
        "x = Conv1D(filters=64, kernel_size=7,  strides=2,padding=\"same\", activation=\"relu\")(x)\n",
        "x = Dropout(rate=0.2)(x)\n",
        "x = Conv1D(filters=32, kernel_size=7,  strides=2,padding=\"same\", activation=\"relu\")(x)\n",
        "x = Dropout(rate=0.2)(x)\n",
        "encoder_output = Conv1D(filters=16, kernel_size=7, padding=\"same\", strides=2, activation=\"relu\")(x)\n",
        "\n",
        "# VQVAELayer.\n",
        "enc = Conv1D(embedding_dim, kernel_size=1, strides=1, name=\"pre_vqvae\")(x)\n",
        "enc_inputs = enc\n",
        "enc = VQVAELayer(embedding_dim, num_embeddings, commitment_cost, name=\"vqvae\")(enc)\n",
        "x = Lambda(lambda enc: enc_inputs + K.stop_gradient(enc - enc_inputs), name=\"encoded\")(enc)\n",
        "data_variance = np.var(x_train_m)\n",
        "loss = vq_vae_loss_wrapper(data_variance, commitment_cost, enc, enc_inputs)\n",
        "\n",
        "# Decoder.\n",
        "x = Conv1D(filters=16, kernel_size=7, strides=2, padding = 'same')(x)\n",
        "x = UpSampling1D(size = 2)(x)\n",
        "x = Dropout(rate=0.2)(x)\n",
        "x = Conv1D(filters=32, kernel_size=7,  strides=2, padding = 'same')(x)\n",
        "x = UpSampling1D(size = 2)(x)\n",
        "x = Conv1D(filters=64, kernel_size=7,  strides=1, padding = 'same')(x)\n",
        "x = UpSampling1D(size = 2)(x)\n",
        "x = Conv1D(filters=128, kernel_size=7,  strides=1, padding = 'same')(x)\n",
        "x = UpSampling1D(size = 2)(x)\n",
        "x = Conv1D(filters=256, kernel_size=7,  strides=1, padding = 'same')(x)\n",
        "x = UpSampling1D(size = 2)(x)\n",
        "x = Conv1D(filters=4, kernel_size=7, padding = 'same')(x)\n",
        "x = UpSampling1D(size = 2)(x)\n",
        "\n",
        "# Autoencoder.\n",
        "vqvae = Model(input, x)\n",
        "vqvae.compile(loss=loss, optimizer='adam')\n",
        "vqvae.summary()"
      ],
      "execution_count": null,
      "outputs": [
        {
          "output_type": "stream",
          "text": [
            "WARNING:tensorflow:Entity <bound method VQVAELayer.call of <__main__.VQVAELayer object at 0x7fc26b63fad0>> could not be transformed and will be executed as-is. Please report this to the AutoGraph team. When filing the bug, set the verbosity to 10 (on Linux, `export AUTOGRAPH_VERBOSITY=10`) and attach the full output. Cause: module 'gast' has no attribute 'Index'\n",
            "WARNING: Entity <bound method VQVAELayer.call of <__main__.VQVAELayer object at 0x7fc26b63fad0>> could not be transformed and will be executed as-is. Please report this to the AutoGraph team. When filing the bug, set the verbosity to 10 (on Linux, `export AUTOGRAPH_VERBOSITY=10`) and attach the full output. Cause: module 'gast' has no attribute 'Index'\n",
            "Model: \"model_8\"\n",
            "_________________________________________________________________\n",
            "Layer (type)                 Output Shape              Param #   \n",
            "=================================================================\n",
            "input_5 (InputLayer)         [(None, 256, 4)]          0         \n",
            "_________________________________________________________________\n",
            "conv1d_38 (Conv1D)           (None, 128, 256)          7424      \n",
            "_________________________________________________________________\n",
            "dropout_17 (Dropout)         (None, 128, 256)          0         \n",
            "_________________________________________________________________\n",
            "conv1d_39 (Conv1D)           (None, 64, 128)           229504    \n",
            "_________________________________________________________________\n",
            "dropout_18 (Dropout)         (None, 64, 128)           0         \n",
            "_________________________________________________________________\n",
            "conv1d_40 (Conv1D)           (None, 32, 64)            57408     \n",
            "_________________________________________________________________\n",
            "dropout_19 (Dropout)         (None, 32, 64)            0         \n",
            "_________________________________________________________________\n",
            "conv1d_41 (Conv1D)           (None, 16, 32)            14368     \n",
            "_________________________________________________________________\n",
            "dropout_20 (Dropout)         (None, 16, 32)            0         \n",
            "_________________________________________________________________\n",
            "pre_vqvae (Conv1D)           (None, 16, 8)             264       \n",
            "_________________________________________________________________\n",
            "vqvae (VQVAELayer)           (None, 16, 8)             512       \n",
            "_________________________________________________________________\n",
            "encoded (Lambda)             (None, 16, 8)             0         \n",
            "_________________________________________________________________\n",
            "conv1d_43 (Conv1D)           (None, 8, 16)             912       \n",
            "_________________________________________________________________\n",
            "up_sampling1d_20 (UpSampling (None, 16, 16)            0         \n",
            "_________________________________________________________________\n",
            "dropout_21 (Dropout)         (None, 16, 16)            0         \n",
            "_________________________________________________________________\n",
            "conv1d_44 (Conv1D)           (None, 8, 32)             3616      \n",
            "_________________________________________________________________\n",
            "up_sampling1d_21 (UpSampling (None, 16, 32)            0         \n",
            "_________________________________________________________________\n",
            "conv1d_45 (Conv1D)           (None, 16, 64)            14400     \n",
            "_________________________________________________________________\n",
            "up_sampling1d_22 (UpSampling (None, 32, 64)            0         \n",
            "_________________________________________________________________\n",
            "conv1d_46 (Conv1D)           (None, 32, 128)           57472     \n",
            "_________________________________________________________________\n",
            "up_sampling1d_23 (UpSampling (None, 64, 128)           0         \n",
            "_________________________________________________________________\n",
            "conv1d_47 (Conv1D)           (None, 64, 256)           229632    \n",
            "_________________________________________________________________\n",
            "up_sampling1d_24 (UpSampling (None, 128, 256)          0         \n",
            "_________________________________________________________________\n",
            "conv1d_48 (Conv1D)           (None, 128, 4)            7172      \n",
            "_________________________________________________________________\n",
            "up_sampling1d_25 (UpSampling (None, 256, 4)            0         \n",
            "=================================================================\n",
            "Total params: 622,684\n",
            "Trainable params: 622,684\n",
            "Non-trainable params: 0\n",
            "_________________________________________________________________\n"
          ],
          "name": "stdout"
        }
      ]
    },
    {
      "cell_type": "code",
      "metadata": {
        "colab": {
          "base_uri": "https://localhost:8080/"
        },
        "id": "uZsafOIGee_j",
        "outputId": "0980b754-4e2f-4b73-958b-46eba53d12cd"
      },
      "source": [
        "history = vqvae.fit(x_train_m, x_train_m,\n",
        "                    batch_size=batch_size, epochs=epochs,\n",
        "                    validation_split=validation_split,\n",
        "                    callbacks=[esc])"
      ],
      "execution_count": null,
      "outputs": [
        {
          "output_type": "stream",
          "text": [
            "Train on 41942 samples, validate on 4661 samples\n",
            "Epoch 1/150\n",
            "41942/41942 [==============================] - 22s 535us/sample - loss: 135.1052 - val_loss: 0.3567\n",
            "Epoch 2/150\n",
            "41942/41942 [==============================] - 20s 481us/sample - loss: 0.3564 - val_loss: 0.3494\n",
            "Epoch 3/150\n",
            "41942/41942 [==============================] - 20s 487us/sample - loss: 0.3494 - val_loss: 0.3491\n",
            "Epoch 4/150\n",
            "41942/41942 [==============================] - 20s 483us/sample - loss: 0.3540 - val_loss: 0.3501\n",
            "Epoch 5/150\n",
            "41942/41942 [==============================] - 20s 480us/sample - loss: 0.3491 - val_loss: 0.3503\n",
            "Epoch 6/150\n",
            "41942/41942 [==============================] - 20s 488us/sample - loss: 0.3475 - val_loss: 0.3494\n",
            "Epoch 7/150\n",
            "41942/41942 [==============================] - 20s 485us/sample - loss: 0.3483 - val_loss: 0.3493\n",
            "Epoch 8/150\n",
            "41942/41942 [==============================] - 21s 492us/sample - loss: 0.3465 - val_loss: 0.3510\n"
          ],
          "name": "stdout"
        }
      ]
    },
    {
      "cell_type": "code",
      "metadata": {
        "id": "rs_wmk0Fee_j"
      },
      "source": [
        "# Get train MAE loss.\n",
        "x_train_pred_m = vqvae.predict(x_train_m)\n",
        "original = []\n",
        "for item in x_train_m:\n",
        "  #print(item[0])\n",
        "  original.append(item[0])\n",
        "predicted = []\n",
        "for item in x_train_pred_m:\n",
        "  #print(item[0])\n",
        "  predicted.append(item[0])"
      ],
      "execution_count": null,
      "outputs": []
    },
    {
      "cell_type": "code",
      "metadata": {
        "id": "wvOdW1E8ee_j"
      },
      "source": [
        "df_original = pd.DataFrame(original)\n",
        "df_pred = pd.DataFrame(predicted)\n",
        "original_mean = df_original.mean(axis = 0)\n",
        "difference = df_original - df_pred\n",
        "difference_mean = np.abs(difference.mean(axis = 0))"
      ],
      "execution_count": null,
      "outputs": []
    },
    {
      "cell_type": "code",
      "metadata": {
        "colab": {
          "base_uri": "https://localhost:8080/"
        },
        "id": "IrtxvZXWee_j",
        "outputId": "80aa453a-6a46-45e9-d9c4-0e439f02923e"
      },
      "source": [
        "difference_mean/original_mean"
      ],
      "execution_count": null,
      "outputs": [
        {
          "output_type": "execute_result",
          "data": {
            "text/plain": [
              "0    0.026194\n",
              "1    0.708032\n",
              "2    0.048497\n",
              "3    0.026201\n",
              "dtype: float64"
            ]
          },
          "metadata": {
            "tags": []
          },
          "execution_count": 68
        }
      ]
    },
    {
      "cell_type": "code",
      "metadata": {
        "id": "MP6a592xee_k"
      },
      "source": [
        "intermediate_layer_model = Model(inputs=vqvae.input,\n",
        "                                 outputs=vqvae.get_layer(\"vqvae\").output)\n",
        "intermediate_output = intermediate_layer_model.predict(x_train_m)"
      ],
      "execution_count": null,
      "outputs": []
    },
    {
      "cell_type": "code",
      "metadata": {
        "colab": {
          "base_uri": "https://localhost:8080/"
        },
        "id": "OB5nno34ee_k",
        "outputId": "7e91ec11-eb7c-446b-e062-7720a763d4f8"
      },
      "source": [
        "len(intermediate_output)"
      ],
      "execution_count": null,
      "outputs": [
        {
          "output_type": "execute_result",
          "data": {
            "text/plain": [
              "46603"
            ]
          },
          "metadata": {
            "tags": []
          },
          "execution_count": 70
        }
      ]
    },
    {
      "cell_type": "code",
      "metadata": {
        "colab": {
          "base_uri": "https://localhost:8080/"
        },
        "id": "5BlOCgdbee_k",
        "outputId": "dd62463d-3ff1-49bb-ce23-5decf2a9249a"
      },
      "source": [
        "encoded_vectors = dictionary_encoding(intermediate_output)\n",
        "embedded_size = sys.getsizeof(encoded_vectors)\n",
        "original_size = sys.getsizeof(X)\n",
        "print(\"Compression: \", embedded_size/original_size)"
      ],
      "execution_count": null,
      "outputs": [
        {
          "output_type": "stream",
          "text": [
            "Compression:  0.0001653721406623421\n"
          ],
          "name": "stdout"
        }
      ]
    },
    {
      "cell_type": "code",
      "metadata": {
        "id": "n1rVJaJ6fqmj"
      },
      "source": [
        ""
      ],
      "execution_count": null,
      "outputs": []
    },
    {
      "cell_type": "code",
      "metadata": {
        "id": "ZmzZHev8f5P6"
      },
      "source": [
        "# Hyper Parameters.\n",
        "epochs = 150 # MAX\n",
        "batch_size = 64\n",
        "validation_split = 0.1\n",
        "\n",
        "# VQ-VAE Hyper Parameters.\n",
        "embedding_dim = 8 # Length of embedding vectors.\n",
        "num_embeddings = 32 # Number of embedding vectors (high value = high bottleneck capacity).\n",
        "commitment_cost = 0.25 # Controls the weighting of the loss terms.\n",
        "\n",
        "# EarlyStoppingCallback.\n",
        "esc = keras.callbacks.EarlyStopping(monitor='val_loss', min_delta=1e-4,\n",
        "                                    patience=5, verbose=0, mode='auto',\n",
        "                                    baseline=None, restore_best_weights=True)"
      ],
      "execution_count": null,
      "outputs": []
    },
    {
      "cell_type": "code",
      "metadata": {
        "colab": {
          "base_uri": "https://localhost:8080/"
        },
        "id": "_PVlUsjCf5P8",
        "outputId": "8cbfdb20-7f84-4063-f5ad-7f3a09fbe03d"
      },
      "source": [
        "# Encoder\n",
        "input = Input(shape=(x_train_m.shape[1], x_train_m.shape[2]))\n",
        "x = Conv1D(filters=256, kernel_size=7,  strides=2,padding=\"same\", activation=\"relu\")(input)\n",
        "x = Dropout(rate=0.2)(x)\n",
        "x = Conv1D(filters=128, kernel_size=7,  strides=2,padding=\"same\", activation=\"relu\")(x)\n",
        "x = Dropout(rate=0.2)(x)\n",
        "x = Conv1D(filters=64, kernel_size=7,  strides=2,padding=\"same\", activation=\"relu\")(x)\n",
        "x = Dropout(rate=0.2)(x)\n",
        "x = Conv1D(filters=32, kernel_size=7,  strides=2,padding=\"same\", activation=\"relu\")(x)\n",
        "x = Dropout(rate=0.2)(x)\n",
        "encoder_output = Conv1D(filters=16, kernel_size=7, padding=\"same\", strides=2, activation=\"relu\")(x)\n",
        "\n",
        "# VQVAELayer.\n",
        "enc = Conv1D(embedding_dim, kernel_size=1, strides=1, name=\"pre_vqvae\")(x)\n",
        "enc_inputs = enc\n",
        "enc = VQVAELayer(embedding_dim, num_embeddings, commitment_cost, name=\"vqvae\")(enc)\n",
        "x = Lambda(lambda enc: enc_inputs + K.stop_gradient(enc - enc_inputs), name=\"encoded\")(enc)\n",
        "data_variance = np.var(x_train_m)\n",
        "loss = vq_vae_loss_wrapper(data_variance, commitment_cost, enc, enc_inputs)\n",
        "\n",
        "# Decoder.\n",
        "x = Conv1D(filters=16, kernel_size=7, strides=2, padding = 'same')(x)\n",
        "x = UpSampling1D(size = 2)(x)\n",
        "x = Dropout(rate=0.2)(x)\n",
        "x = Conv1D(filters=32, kernel_size=7,  strides=2, padding = 'same')(x)\n",
        "x = UpSampling1D(size = 2)(x)\n",
        "x = Conv1D(filters=64, kernel_size=7,  strides=1, padding = 'same')(x)\n",
        "x = UpSampling1D(size = 2)(x)\n",
        "x = Conv1D(filters=128, kernel_size=7,  strides=1, padding = 'same')(x)\n",
        "x = UpSampling1D(size = 2)(x)\n",
        "x = Conv1D(filters=256, kernel_size=7,  strides=1, padding = 'same')(x)\n",
        "x = UpSampling1D(size = 2)(x)\n",
        "x = Conv1D(filters=4, kernel_size=7, padding = 'same')(x)\n",
        "x = UpSampling1D(size = 2)(x)\n",
        "\n",
        "# Autoencoder.\n",
        "vqvae = Model(input, x)\n",
        "vqvae.compile(loss=loss, optimizer='adam')\n",
        "vqvae.summary()"
      ],
      "execution_count": null,
      "outputs": [
        {
          "output_type": "stream",
          "text": [
            "WARNING:tensorflow:Entity <bound method VQVAELayer.call of <__main__.VQVAELayer object at 0x7fc27bf45c90>> could not be transformed and will be executed as-is. Please report this to the AutoGraph team. When filing the bug, set the verbosity to 10 (on Linux, `export AUTOGRAPH_VERBOSITY=10`) and attach the full output. Cause: module 'gast' has no attribute 'Index'\n",
            "WARNING: Entity <bound method VQVAELayer.call of <__main__.VQVAELayer object at 0x7fc27bf45c90>> could not be transformed and will be executed as-is. Please report this to the AutoGraph team. When filing the bug, set the verbosity to 10 (on Linux, `export AUTOGRAPH_VERBOSITY=10`) and attach the full output. Cause: module 'gast' has no attribute 'Index'\n",
            "Model: \"model_10\"\n",
            "_________________________________________________________________\n",
            "Layer (type)                 Output Shape              Param #   \n",
            "=================================================================\n",
            "input_6 (InputLayer)         [(None, 256, 4)]          0         \n",
            "_________________________________________________________________\n",
            "conv1d_49 (Conv1D)           (None, 128, 256)          7424      \n",
            "_________________________________________________________________\n",
            "dropout_22 (Dropout)         (None, 128, 256)          0         \n",
            "_________________________________________________________________\n",
            "conv1d_50 (Conv1D)           (None, 64, 128)           229504    \n",
            "_________________________________________________________________\n",
            "dropout_23 (Dropout)         (None, 64, 128)           0         \n",
            "_________________________________________________________________\n",
            "conv1d_51 (Conv1D)           (None, 32, 64)            57408     \n",
            "_________________________________________________________________\n",
            "dropout_24 (Dropout)         (None, 32, 64)            0         \n",
            "_________________________________________________________________\n",
            "conv1d_52 (Conv1D)           (None, 16, 32)            14368     \n",
            "_________________________________________________________________\n",
            "dropout_25 (Dropout)         (None, 16, 32)            0         \n",
            "_________________________________________________________________\n",
            "pre_vqvae (Conv1D)           (None, 16, 8)             264       \n",
            "_________________________________________________________________\n",
            "vqvae (VQVAELayer)           (None, 16, 8)             256       \n",
            "_________________________________________________________________\n",
            "encoded (Lambda)             (None, 16, 8)             0         \n",
            "_________________________________________________________________\n",
            "conv1d_54 (Conv1D)           (None, 8, 16)             912       \n",
            "_________________________________________________________________\n",
            "up_sampling1d_26 (UpSampling (None, 16, 16)            0         \n",
            "_________________________________________________________________\n",
            "dropout_26 (Dropout)         (None, 16, 16)            0         \n",
            "_________________________________________________________________\n",
            "conv1d_55 (Conv1D)           (None, 8, 32)             3616      \n",
            "_________________________________________________________________\n",
            "up_sampling1d_27 (UpSampling (None, 16, 32)            0         \n",
            "_________________________________________________________________\n",
            "conv1d_56 (Conv1D)           (None, 16, 64)            14400     \n",
            "_________________________________________________________________\n",
            "up_sampling1d_28 (UpSampling (None, 32, 64)            0         \n",
            "_________________________________________________________________\n",
            "conv1d_57 (Conv1D)           (None, 32, 128)           57472     \n",
            "_________________________________________________________________\n",
            "up_sampling1d_29 (UpSampling (None, 64, 128)           0         \n",
            "_________________________________________________________________\n",
            "conv1d_58 (Conv1D)           (None, 64, 256)           229632    \n",
            "_________________________________________________________________\n",
            "up_sampling1d_30 (UpSampling (None, 128, 256)          0         \n",
            "_________________________________________________________________\n",
            "conv1d_59 (Conv1D)           (None, 128, 4)            7172      \n",
            "_________________________________________________________________\n",
            "up_sampling1d_31 (UpSampling (None, 256, 4)            0         \n",
            "=================================================================\n",
            "Total params: 622,428\n",
            "Trainable params: 622,428\n",
            "Non-trainable params: 0\n",
            "_________________________________________________________________\n"
          ],
          "name": "stdout"
        }
      ]
    },
    {
      "cell_type": "code",
      "metadata": {
        "colab": {
          "base_uri": "https://localhost:8080/"
        },
        "id": "3N71dq12f5P9",
        "outputId": "063f750c-87e6-43a7-9790-26f01f362187"
      },
      "source": [
        "history = vqvae.fit(x_train_m, x_train_m,\n",
        "                    batch_size=batch_size, epochs=epochs,\n",
        "                    validation_split=validation_split,\n",
        "                    callbacks=[esc])"
      ],
      "execution_count": null,
      "outputs": [
        {
          "output_type": "stream",
          "text": [
            "Train on 41942 samples, validate on 4661 samples\n",
            "Epoch 1/150\n",
            "41942/41942 [==============================] - 23s 543us/sample - loss: 122.5042 - val_loss: 0.3592\n",
            "Epoch 2/150\n",
            "41942/41942 [==============================] - 20s 487us/sample - loss: 0.3635 - val_loss: 0.3511\n",
            "Epoch 3/150\n",
            "41942/41942 [==============================] - 20s 482us/sample - loss: 0.3511 - val_loss: 0.3495\n",
            "Epoch 4/150\n",
            "41942/41942 [==============================] - 20s 482us/sample - loss: 0.3490 - val_loss: 0.3491\n",
            "Epoch 5/150\n",
            "41942/41942 [==============================] - 20s 489us/sample - loss: 0.3481 - val_loss: 0.3496\n",
            "Epoch 6/150\n",
            "41942/41942 [==============================] - 20s 483us/sample - loss: 1083.0620 - val_loss: 0.4271\n",
            "Epoch 7/150\n",
            "41942/41942 [==============================] - 20s 481us/sample - loss: 0.3766 - val_loss: 0.3498\n",
            "Epoch 8/150\n",
            "41942/41942 [==============================] - 20s 484us/sample - loss: 0.3508 - val_loss: 0.3496\n",
            "Epoch 9/150\n",
            "41942/41942 [==============================] - 21s 498us/sample - loss: 0.3508 - val_loss: 0.3495\n"
          ],
          "name": "stdout"
        }
      ]
    },
    {
      "cell_type": "code",
      "metadata": {
        "id": "10yJKvaSf5P9"
      },
      "source": [
        "# Get train MAE loss.\n",
        "x_train_pred_m = vqvae.predict(x_train_m)\n",
        "original = []\n",
        "for item in x_train_m:\n",
        "  #print(item[0])\n",
        "  original.append(item[0])\n",
        "predicted = []\n",
        "for item in x_train_pred_m:\n",
        "  #print(item[0])\n",
        "  predicted.append(item[0])"
      ],
      "execution_count": null,
      "outputs": []
    },
    {
      "cell_type": "code",
      "metadata": {
        "id": "JWbW-5jhf5P9"
      },
      "source": [
        "df_original = pd.DataFrame(original)\n",
        "df_pred = pd.DataFrame(predicted)\n",
        "original_mean = df_original.mean(axis = 0)\n",
        "difference = df_original - df_pred\n",
        "difference_mean = np.abs(difference.mean(axis = 0))"
      ],
      "execution_count": null,
      "outputs": []
    },
    {
      "cell_type": "code",
      "metadata": {
        "colab": {
          "base_uri": "https://localhost:8080/"
        },
        "id": "IMH-4evOf5P-",
        "outputId": "88045c10-e72c-47b3-9e8b-7d52cb719d47"
      },
      "source": [
        "difference_mean/original_mean"
      ],
      "execution_count": null,
      "outputs": [
        {
          "output_type": "execute_result",
          "data": {
            "text/plain": [
              "0    0.002896\n",
              "1    1.241386\n",
              "2    0.106890\n",
              "3    0.012251\n",
              "dtype: float64"
            ]
          },
          "metadata": {
            "tags": []
          },
          "execution_count": 77
        }
      ]
    },
    {
      "cell_type": "code",
      "metadata": {
        "id": "b4dyZC0if5P-"
      },
      "source": [
        "intermediate_layer_model = Model(inputs=vqvae.input,\n",
        "                                 outputs=vqvae.get_layer(\"vqvae\").output)\n",
        "intermediate_output = intermediate_layer_model.predict(x_train_m)"
      ],
      "execution_count": null,
      "outputs": []
    },
    {
      "cell_type": "code",
      "metadata": {
        "colab": {
          "base_uri": "https://localhost:8080/"
        },
        "id": "GnI_6iCdf5P-",
        "outputId": "33de2f9d-bfb8-4519-dfe7-772725cde0b0"
      },
      "source": [
        "len(intermediate_output)"
      ],
      "execution_count": null,
      "outputs": [
        {
          "output_type": "execute_result",
          "data": {
            "text/plain": [
              "46603"
            ]
          },
          "metadata": {
            "tags": []
          },
          "execution_count": 79
        }
      ]
    },
    {
      "cell_type": "code",
      "metadata": {
        "colab": {
          "base_uri": "https://localhost:8080/"
        },
        "id": "qc9JW0p-f5P-",
        "outputId": "49b3cfaa-e3ad-4f57-8a7d-7a58b2142ba8"
      },
      "source": [
        "encoded_vectors = dictionary_encoding(intermediate_output)\n",
        "embedded_size = sys.getsizeof(encoded_vectors)\n",
        "original_size = sys.getsizeof(X)\n",
        "print(\"Compression: \", embedded_size/original_size)"
      ],
      "execution_count": null,
      "outputs": [
        {
          "output_type": "stream",
          "text": [
            "Compression:  0.0001653721406623421\n"
          ],
          "name": "stdout"
        }
      ]
    },
    {
      "cell_type": "code",
      "metadata": {
        "id": "tQLzSsi5g5n0"
      },
      "source": [
        ""
      ],
      "execution_count": null,
      "outputs": []
    },
    {
      "cell_type": "code",
      "metadata": {
        "id": "Ra3St68Eg-ZB"
      },
      "source": [
        "# Hyper Parameters.\n",
        "epochs = 150 # MAX\n",
        "batch_size = 64\n",
        "validation_split = 0.1\n",
        "\n",
        "# VQ-VAE Hyper Parameters.\n",
        "embedding_dim = 8 # Length of embedding vectors.\n",
        "num_embeddings = 16 # Number of embedding vectors (high value = high bottleneck capacity).\n",
        "commitment_cost = 0.25 # Controls the weighting of the loss terms.\n",
        "\n",
        "# EarlyStoppingCallback.\n",
        "esc = keras.callbacks.EarlyStopping(monitor='val_loss', min_delta=1e-4,\n",
        "                                    patience=5, verbose=0, mode='auto',\n",
        "                                    baseline=None, restore_best_weights=True)"
      ],
      "execution_count": null,
      "outputs": []
    },
    {
      "cell_type": "code",
      "metadata": {
        "colab": {
          "base_uri": "https://localhost:8080/"
        },
        "id": "Skb7kxrZg-ZB",
        "outputId": "6bcff5e9-23ad-453e-c639-7f7615bebdfc"
      },
      "source": [
        "# Encoder\n",
        "input = Input(shape=(x_train_m.shape[1], x_train_m.shape[2]))\n",
        "x = Conv1D(filters=256, kernel_size=7,  strides=2,padding=\"same\", activation=\"relu\")(input)\n",
        "x = Dropout(rate=0.2)(x)\n",
        "x = Conv1D(filters=128, kernel_size=7,  strides=2,padding=\"same\", activation=\"relu\")(x)\n",
        "x = Dropout(rate=0.2)(x)\n",
        "x = Conv1D(filters=64, kernel_size=7,  strides=2,padding=\"same\", activation=\"relu\")(x)\n",
        "x = Dropout(rate=0.2)(x)\n",
        "x = Conv1D(filters=32, kernel_size=7,  strides=2,padding=\"same\", activation=\"relu\")(x)\n",
        "x = Dropout(rate=0.2)(x)\n",
        "encoder_output = Conv1D(filters=16, kernel_size=7, padding=\"same\", strides=2, activation=\"relu\")(x)\n",
        "\n",
        "# VQVAELayer.\n",
        "enc = Conv1D(embedding_dim, kernel_size=1, strides=1, name=\"pre_vqvae\")(x)\n",
        "enc_inputs = enc\n",
        "enc = VQVAELayer(embedding_dim, num_embeddings, commitment_cost, name=\"vqvae\")(enc)\n",
        "x = Lambda(lambda enc: enc_inputs + K.stop_gradient(enc - enc_inputs), name=\"encoded\")(enc)\n",
        "data_variance = np.var(x_train_m)\n",
        "loss = vq_vae_loss_wrapper(data_variance, commitment_cost, enc, enc_inputs)\n",
        "\n",
        "# Decoder.\n",
        "x = Conv1D(filters=16, kernel_size=7, strides=2, padding = 'same')(x)\n",
        "x = UpSampling1D(size = 2)(x)\n",
        "x = Dropout(rate=0.2)(x)\n",
        "x = Conv1D(filters=32, kernel_size=7,  strides=2, padding = 'same')(x)\n",
        "x = UpSampling1D(size = 2)(x)\n",
        "x = Conv1D(filters=64, kernel_size=7,  strides=1, padding = 'same')(x)\n",
        "x = UpSampling1D(size = 2)(x)\n",
        "x = Conv1D(filters=128, kernel_size=7,  strides=1, padding = 'same')(x)\n",
        "x = UpSampling1D(size = 2)(x)\n",
        "x = Conv1D(filters=256, kernel_size=7,  strides=1, padding = 'same')(x)\n",
        "x = UpSampling1D(size = 2)(x)\n",
        "x = Conv1D(filters=4, kernel_size=7, padding = 'same')(x)\n",
        "x = UpSampling1D(size = 2)(x)\n",
        "\n",
        "# Autoencoder.\n",
        "vqvae = Model(input, x)\n",
        "vqvae.compile(loss=loss, optimizer='adam')\n",
        "vqvae.summary()"
      ],
      "execution_count": null,
      "outputs": [
        {
          "output_type": "stream",
          "text": [
            "WARNING:tensorflow:Entity <bound method VQVAELayer.call of <__main__.VQVAELayer object at 0x7fc27bf845d0>> could not be transformed and will be executed as-is. Please report this to the AutoGraph team. When filing the bug, set the verbosity to 10 (on Linux, `export AUTOGRAPH_VERBOSITY=10`) and attach the full output. Cause: module 'gast' has no attribute 'Index'\n",
            "WARNING: Entity <bound method VQVAELayer.call of <__main__.VQVAELayer object at 0x7fc27bf845d0>> could not be transformed and will be executed as-is. Please report this to the AutoGraph team. When filing the bug, set the verbosity to 10 (on Linux, `export AUTOGRAPH_VERBOSITY=10`) and attach the full output. Cause: module 'gast' has no attribute 'Index'\n",
            "Model: \"model_12\"\n",
            "_________________________________________________________________\n",
            "Layer (type)                 Output Shape              Param #   \n",
            "=================================================================\n",
            "input_7 (InputLayer)         [(None, 256, 4)]          0         \n",
            "_________________________________________________________________\n",
            "conv1d_60 (Conv1D)           (None, 128, 256)          7424      \n",
            "_________________________________________________________________\n",
            "dropout_27 (Dropout)         (None, 128, 256)          0         \n",
            "_________________________________________________________________\n",
            "conv1d_61 (Conv1D)           (None, 64, 128)           229504    \n",
            "_________________________________________________________________\n",
            "dropout_28 (Dropout)         (None, 64, 128)           0         \n",
            "_________________________________________________________________\n",
            "conv1d_62 (Conv1D)           (None, 32, 64)            57408     \n",
            "_________________________________________________________________\n",
            "dropout_29 (Dropout)         (None, 32, 64)            0         \n",
            "_________________________________________________________________\n",
            "conv1d_63 (Conv1D)           (None, 16, 32)            14368     \n",
            "_________________________________________________________________\n",
            "dropout_30 (Dropout)         (None, 16, 32)            0         \n",
            "_________________________________________________________________\n",
            "pre_vqvae (Conv1D)           (None, 16, 8)             264       \n",
            "_________________________________________________________________\n",
            "vqvae (VQVAELayer)           (None, 16, 8)             128       \n",
            "_________________________________________________________________\n",
            "encoded (Lambda)             (None, 16, 8)             0         \n",
            "_________________________________________________________________\n",
            "conv1d_65 (Conv1D)           (None, 8, 16)             912       \n",
            "_________________________________________________________________\n",
            "up_sampling1d_32 (UpSampling (None, 16, 16)            0         \n",
            "_________________________________________________________________\n",
            "dropout_31 (Dropout)         (None, 16, 16)            0         \n",
            "_________________________________________________________________\n",
            "conv1d_66 (Conv1D)           (None, 8, 32)             3616      \n",
            "_________________________________________________________________\n",
            "up_sampling1d_33 (UpSampling (None, 16, 32)            0         \n",
            "_________________________________________________________________\n",
            "conv1d_67 (Conv1D)           (None, 16, 64)            14400     \n",
            "_________________________________________________________________\n",
            "up_sampling1d_34 (UpSampling (None, 32, 64)            0         \n",
            "_________________________________________________________________\n",
            "conv1d_68 (Conv1D)           (None, 32, 128)           57472     \n",
            "_________________________________________________________________\n",
            "up_sampling1d_35 (UpSampling (None, 64, 128)           0         \n",
            "_________________________________________________________________\n",
            "conv1d_69 (Conv1D)           (None, 64, 256)           229632    \n",
            "_________________________________________________________________\n",
            "up_sampling1d_36 (UpSampling (None, 128, 256)          0         \n",
            "_________________________________________________________________\n",
            "conv1d_70 (Conv1D)           (None, 128, 4)            7172      \n",
            "_________________________________________________________________\n",
            "up_sampling1d_37 (UpSampling (None, 256, 4)            0         \n",
            "=================================================================\n",
            "Total params: 622,300\n",
            "Trainable params: 622,300\n",
            "Non-trainable params: 0\n",
            "_________________________________________________________________\n"
          ],
          "name": "stdout"
        }
      ]
    },
    {
      "cell_type": "code",
      "metadata": {
        "colab": {
          "base_uri": "https://localhost:8080/"
        },
        "id": "n6JMwjBtg-ZC",
        "outputId": "e4615b83-b667-47e4-c403-e805e6fd118c"
      },
      "source": [
        "history = vqvae.fit(x_train_m, x_train_m,\n",
        "                    batch_size=batch_size, epochs=epochs,\n",
        "                    validation_split=validation_split,\n",
        "                    callbacks=[esc])"
      ],
      "execution_count": null,
      "outputs": [
        {
          "output_type": "stream",
          "text": [
            "Train on 41942 samples, validate on 4661 samples\n",
            "Epoch 1/150\n",
            "41942/41942 [==============================] - 24s 569us/sample - loss: 243.6231 - val_loss: 0.3587\n",
            "Epoch 2/150\n",
            "41942/41942 [==============================] - 21s 490us/sample - loss: 0.3551 - val_loss: 0.3506\n",
            "Epoch 3/150\n",
            "41942/41942 [==============================] - 20s 485us/sample - loss: 0.3499 - val_loss: 0.3492\n",
            "Epoch 4/150\n",
            "41942/41942 [==============================] - 21s 492us/sample - loss: 0.3483 - val_loss: 0.3504\n",
            "Epoch 5/150\n",
            "41942/41942 [==============================] - 21s 492us/sample - loss: 0.3469 - val_loss: 0.3491\n",
            "Epoch 6/150\n",
            "41942/41942 [==============================] - 21s 489us/sample - loss: 0.3465 - val_loss: 0.3493\n",
            "Epoch 7/150\n",
            "41942/41942 [==============================] - 21s 493us/sample - loss: 0.3483 - val_loss: 0.3498\n",
            "Epoch 8/150\n",
            "41942/41942 [==============================] - 21s 497us/sample - loss: 0.3469 - val_loss: 0.3491\n",
            "Epoch 9/150\n",
            "41942/41942 [==============================] - 20s 489us/sample - loss: 0.3463 - val_loss: 0.3497\n",
            "Epoch 10/150\n",
            "41942/41942 [==============================] - 20s 487us/sample - loss: 0.3463 - val_loss: 0.3492\n",
            "Epoch 11/150\n",
            "41942/41942 [==============================] - 21s 493us/sample - loss: 0.3461 - val_loss: 0.3491\n",
            "Epoch 12/150\n",
            "41942/41942 [==============================] - 21s 489us/sample - loss: 0.3460 - val_loss: 0.3491\n",
            "Epoch 13/150\n",
            "41942/41942 [==============================] - 21s 504us/sample - loss: 0.3464 - val_loss: 0.3499\n"
          ],
          "name": "stdout"
        }
      ]
    },
    {
      "cell_type": "code",
      "metadata": {
        "id": "YErcwgO9g-ZC"
      },
      "source": [
        "# Get train MAE loss.\n",
        "x_train_pred_m = vqvae.predict(x_train_m)\n",
        "original = []\n",
        "for item in x_train_m:\n",
        "  #print(item[0])\n",
        "  original.append(item[0])\n",
        "predicted = []\n",
        "for item in x_train_pred_m:\n",
        "  #print(item[0])\n",
        "  predicted.append(item[0])"
      ],
      "execution_count": null,
      "outputs": []
    },
    {
      "cell_type": "code",
      "metadata": {
        "id": "dbKV8sqmg-ZD"
      },
      "source": [
        "df_original = pd.DataFrame(original)\n",
        "df_pred = pd.DataFrame(predicted)\n",
        "original_mean = df_original.mean(axis = 0)\n",
        "difference = df_original - df_pred\n",
        "difference_mean = np.abs(difference.mean(axis = 0))"
      ],
      "execution_count": null,
      "outputs": []
    },
    {
      "cell_type": "code",
      "metadata": {
        "colab": {
          "base_uri": "https://localhost:8080/"
        },
        "id": "LKj46yRdg-ZD",
        "outputId": "ff7dc25a-0461-4ecc-b60c-4543478bf24e"
      },
      "source": [
        "difference_mean/original_mean"
      ],
      "execution_count": null,
      "outputs": [
        {
          "output_type": "execute_result",
          "data": {
            "text/plain": [
              "0    0.026444\n",
              "1    4.130036\n",
              "2    0.021825\n",
              "3    0.001149\n",
              "dtype: float64"
            ]
          },
          "metadata": {
            "tags": []
          },
          "execution_count": 86
        }
      ]
    },
    {
      "cell_type": "code",
      "metadata": {
        "id": "AHE1cLFjg-ZD"
      },
      "source": [
        "intermediate_layer_model = Model(inputs=vqvae.input,\n",
        "                                 outputs=vqvae.get_layer(\"vqvae\").output)\n",
        "intermediate_output = intermediate_layer_model.predict(x_train_m)"
      ],
      "execution_count": null,
      "outputs": []
    },
    {
      "cell_type": "code",
      "metadata": {
        "colab": {
          "base_uri": "https://localhost:8080/"
        },
        "id": "FJyPvTCPg-ZD",
        "outputId": "d4c2aac7-f3fd-4b7c-e71a-41736b05e3de"
      },
      "source": [
        "len(intermediate_output)"
      ],
      "execution_count": null,
      "outputs": [
        {
          "output_type": "execute_result",
          "data": {
            "text/plain": [
              "46603"
            ]
          },
          "metadata": {
            "tags": []
          },
          "execution_count": 88
        }
      ]
    },
    {
      "cell_type": "code",
      "metadata": {
        "colab": {
          "base_uri": "https://localhost:8080/"
        },
        "id": "6YhJ7SPmg-ZD",
        "outputId": "9d671a26-e214-4aea-b28a-19d341c64a53"
      },
      "source": [
        "encoded_vectors = dictionary_encoding(intermediate_output)\n",
        "embedded_size = sys.getsizeof(encoded_vectors)\n",
        "original_size = sys.getsizeof(X)\n",
        "print(\"Compression: \", embedded_size/original_size)"
      ],
      "execution_count": null,
      "outputs": [
        {
          "output_type": "stream",
          "text": [
            "Compression:  0.0001653721406623421\n"
          ],
          "name": "stdout"
        }
      ]
    },
    {
      "cell_type": "code",
      "metadata": {
        "id": "QcFC0dp8hEDZ"
      },
      "source": [
        ""
      ],
      "execution_count": null,
      "outputs": []
    },
    {
      "cell_type": "code",
      "metadata": {
        "id": "RZZJj16DiQqa"
      },
      "source": [
        "# Hyper Parameters.\n",
        "epochs = 150 # MAX\n",
        "batch_size = 256\n",
        "validation_split = 0.1\n",
        "\n",
        "# VQ-VAE Hyper Parameters.\n",
        "embedding_dim = 8 # Length of embedding vectors.\n",
        "num_embeddings = 8 # Number of embedding vectors (high value = high bottleneck capacity).\n",
        "commitment_cost = 0.25 # Controls the weighting of the loss terms.\n",
        "\n",
        "# EarlyStoppingCallback.\n",
        "esc = keras.callbacks.EarlyStopping(monitor='val_loss', min_delta=1e-4,\n",
        "                                    patience=5, verbose=0, mode='auto',\n",
        "                                    baseline=None, restore_best_weights=True)"
      ],
      "execution_count": null,
      "outputs": []
    },
    {
      "cell_type": "code",
      "metadata": {
        "colab": {
          "base_uri": "https://localhost:8080/"
        },
        "id": "XZ0SYEsDiQqb",
        "outputId": "c49ed330-a1db-4ac9-96cc-fc612976388a"
      },
      "source": [
        "# Encoder\n",
        "input = Input(shape=(x_train_m.shape[1], x_train_m.shape[2]))\n",
        "x = Conv1D(filters=256, kernel_size=7,  strides=2,padding=\"same\", activation=\"relu\")(input)\n",
        "x = Dropout(rate=0.2)(x)\n",
        "x = Conv1D(filters=128, kernel_size=7,  strides=2,padding=\"same\", activation=\"relu\")(x)\n",
        "x = Dropout(rate=0.2)(x)\n",
        "x = Conv1D(filters=64, kernel_size=7,  strides=2,padding=\"same\", activation=\"relu\")(x)\n",
        "x = Dropout(rate=0.2)(x)\n",
        "x = Conv1D(filters=32, kernel_size=7,  strides=2,padding=\"same\", activation=\"relu\")(x)\n",
        "x = Dropout(rate=0.2)(x)\n",
        "encoder_output = Conv1D(filters=16, kernel_size=7, padding=\"same\", strides=2, activation=\"relu\")(x)\n",
        "\n",
        "# VQVAELayer.\n",
        "enc = Conv1D(embedding_dim, kernel_size=1, strides=1, name=\"pre_vqvae\")(x)\n",
        "enc_inputs = enc\n",
        "enc = VQVAELayer(embedding_dim, num_embeddings, commitment_cost, name=\"vqvae\")(enc)\n",
        "x = Lambda(lambda enc: enc_inputs + K.stop_gradient(enc - enc_inputs), name=\"encoded\")(enc)\n",
        "data_variance = np.var(x_train_m)\n",
        "loss = vq_vae_loss_wrapper(data_variance, commitment_cost, enc, enc_inputs)\n",
        "\n",
        "# Decoder.\n",
        "x = Conv1D(filters=16, kernel_size=7, strides=2, padding = 'same')(x)\n",
        "x = UpSampling1D(size = 2)(x)\n",
        "x = Dropout(rate=0.2)(x)\n",
        "x = Conv1D(filters=32, kernel_size=7,  strides=2, padding = 'same')(x)\n",
        "x = UpSampling1D(size = 2)(x)\n",
        "x = Conv1D(filters=64, kernel_size=7,  strides=1, padding = 'same')(x)\n",
        "x = UpSampling1D(size = 2)(x)\n",
        "x = Conv1D(filters=128, kernel_size=7,  strides=1, padding = 'same')(x)\n",
        "x = UpSampling1D(size = 2)(x)\n",
        "x = Conv1D(filters=256, kernel_size=7,  strides=1, padding = 'same')(x)\n",
        "x = UpSampling1D(size = 2)(x)\n",
        "x = Conv1D(filters=4, kernel_size=7, padding = 'same')(x)\n",
        "x = UpSampling1D(size = 2)(x)\n",
        "\n",
        "# Autoencoder.\n",
        "vqvae = Model(input, x)\n",
        "vqvae.compile(loss=loss, optimizer='adam')\n",
        "vqvae.summary()"
      ],
      "execution_count": null,
      "outputs": [
        {
          "output_type": "stream",
          "text": [
            "WARNING:tensorflow:From /tensorflow-1.15.2/python3.7/tensorflow_core/python/keras/initializers.py:119: calling RandomUniform.__init__ (from tensorflow.python.ops.init_ops) with dtype is deprecated and will be removed in a future version.\n",
            "Instructions for updating:\n",
            "Call initializer instance with the dtype argument instead of passing it to the constructor\n",
            "WARNING:tensorflow:Entity <bound method VQVAELayer.call of <__main__.VQVAELayer object at 0x7fc8341bff10>> could not be transformed and will be executed as-is. Please report this to the AutoGraph team. When filing the bug, set the verbosity to 10 (on Linux, `export AUTOGRAPH_VERBOSITY=10`) and attach the full output. Cause: module 'gast' has no attribute 'Index'\n",
            "WARNING: Entity <bound method VQVAELayer.call of <__main__.VQVAELayer object at 0x7fc8341bff10>> could not be transformed and will be executed as-is. Please report this to the AutoGraph team. When filing the bug, set the verbosity to 10 (on Linux, `export AUTOGRAPH_VERBOSITY=10`) and attach the full output. Cause: module 'gast' has no attribute 'Index'\n",
            "Model: \"model\"\n",
            "_________________________________________________________________\n",
            "Layer (type)                 Output Shape              Param #   \n",
            "=================================================================\n",
            "input_2 (InputLayer)         [(None, 256, 4)]          0         \n",
            "_________________________________________________________________\n",
            "conv1d_5 (Conv1D)            (None, 128, 256)          7424      \n",
            "_________________________________________________________________\n",
            "dropout_4 (Dropout)          (None, 128, 256)          0         \n",
            "_________________________________________________________________\n",
            "conv1d_6 (Conv1D)            (None, 64, 128)           229504    \n",
            "_________________________________________________________________\n",
            "dropout_5 (Dropout)          (None, 64, 128)           0         \n",
            "_________________________________________________________________\n",
            "conv1d_7 (Conv1D)            (None, 32, 64)            57408     \n",
            "_________________________________________________________________\n",
            "dropout_6 (Dropout)          (None, 32, 64)            0         \n",
            "_________________________________________________________________\n",
            "conv1d_8 (Conv1D)            (None, 16, 32)            14368     \n",
            "_________________________________________________________________\n",
            "dropout_7 (Dropout)          (None, 16, 32)            0         \n",
            "_________________________________________________________________\n",
            "pre_vqvae (Conv1D)           (None, 16, 8)             264       \n",
            "_________________________________________________________________\n",
            "vqvae (VQVAELayer)           (None, 16, 8)             64        \n",
            "_________________________________________________________________\n",
            "encoded (Lambda)             (None, 16, 8)             0         \n",
            "_________________________________________________________________\n",
            "conv1d_10 (Conv1D)           (None, 8, 16)             912       \n",
            "_________________________________________________________________\n",
            "up_sampling1d (UpSampling1D) (None, 16, 16)            0         \n",
            "_________________________________________________________________\n",
            "dropout_8 (Dropout)          (None, 16, 16)            0         \n",
            "_________________________________________________________________\n",
            "conv1d_11 (Conv1D)           (None, 8, 32)             3616      \n",
            "_________________________________________________________________\n",
            "up_sampling1d_1 (UpSampling1 (None, 16, 32)            0         \n",
            "_________________________________________________________________\n",
            "conv1d_12 (Conv1D)           (None, 16, 64)            14400     \n",
            "_________________________________________________________________\n",
            "up_sampling1d_2 (UpSampling1 (None, 32, 64)            0         \n",
            "_________________________________________________________________\n",
            "conv1d_13 (Conv1D)           (None, 32, 128)           57472     \n",
            "_________________________________________________________________\n",
            "up_sampling1d_3 (UpSampling1 (None, 64, 128)           0         \n",
            "_________________________________________________________________\n",
            "conv1d_14 (Conv1D)           (None, 64, 256)           229632    \n",
            "_________________________________________________________________\n",
            "up_sampling1d_4 (UpSampling1 (None, 128, 256)          0         \n",
            "_________________________________________________________________\n",
            "conv1d_15 (Conv1D)           (None, 128, 4)            7172      \n",
            "_________________________________________________________________\n",
            "up_sampling1d_5 (UpSampling1 (None, 256, 4)            0         \n",
            "=================================================================\n",
            "Total params: 622,236\n",
            "Trainable params: 622,236\n",
            "Non-trainable params: 0\n",
            "_________________________________________________________________\n"
          ],
          "name": "stdout"
        }
      ]
    },
    {
      "cell_type": "code",
      "metadata": {
        "colab": {
          "base_uri": "https://localhost:8080/"
        },
        "id": "wTHqvO9uiQqc",
        "outputId": "5f0d4d21-99d1-49d2-c48c-d49cdaa4d2aa"
      },
      "source": [
        "history = vqvae.fit(x_train_m, x_train_m,\n",
        "                    batch_size=batch_size, epochs=epochs,\n",
        "                    validation_split=validation_split,\n",
        "                    callbacks=[esc])"
      ],
      "execution_count": null,
      "outputs": [
        {
          "output_type": "stream",
          "text": [
            "WARNING:tensorflow:From /tensorflow-1.15.2/python3.7/tensorflow_core/python/ops/math_grad.py:1375: where (from tensorflow.python.ops.array_ops) is deprecated and will be removed in a future version.\n",
            "Instructions for updating:\n",
            "Use tf.where in 2.0, which has the same broadcast rule as np.where\n",
            "Train on 43153 samples, validate on 4795 samples\n",
            "Epoch 1/150\n",
            "43153/43153 [==============================] - 24s 554us/sample - loss: 504.5848 - val_loss: 0.3835\n",
            "Epoch 2/150\n",
            "43153/43153 [==============================] - 7s 151us/sample - loss: 0.5581 - val_loss: 0.3619\n",
            "Epoch 3/150\n",
            "43153/43153 [==============================] - 7s 151us/sample - loss: 0.4303 - val_loss: 0.3558\n",
            "Epoch 4/150\n",
            "43153/43153 [==============================] - 7s 152us/sample - loss: 0.3972 - val_loss: 0.3520\n",
            "Epoch 5/150\n",
            "43153/43153 [==============================] - 6s 149us/sample - loss: 0.3781 - val_loss: 0.3485\n",
            "Epoch 6/150\n",
            "43153/43153 [==============================] - 6s 148us/sample - loss: 0.3711 - val_loss: 0.3445\n",
            "Epoch 7/150\n",
            "43153/43153 [==============================] - 6s 146us/sample - loss: 0.3608 - val_loss: 0.3440\n",
            "Epoch 8/150\n",
            "43153/43153 [==============================] - 6s 147us/sample - loss: 0.3584 - val_loss: 0.3446\n",
            "Epoch 9/150\n",
            "43153/43153 [==============================] - 6s 147us/sample - loss: 0.3552 - val_loss: 0.3434\n",
            "Epoch 10/150\n",
            "43153/43153 [==============================] - 6s 148us/sample - loss: 0.3501 - val_loss: 0.3443\n",
            "Epoch 11/150\n",
            "43153/43153 [==============================] - 6s 147us/sample - loss: 0.3503 - val_loss: 0.3442\n",
            "Epoch 12/150\n",
            "43153/43153 [==============================] - 6s 148us/sample - loss: 0.3480 - val_loss: 0.3435\n",
            "Epoch 13/150\n",
            "43153/43153 [==============================] - 6s 148us/sample - loss: 0.3496 - val_loss: 0.3441\n",
            "Epoch 14/150\n",
            "43153/43153 [==============================] - 7s 151us/sample - loss: 0.3484 - val_loss: 0.3436\n"
          ],
          "name": "stdout"
        }
      ]
    },
    {
      "cell_type": "code",
      "metadata": {
        "id": "tWEM95e8iQqd"
      },
      "source": [
        "# Get train MAE loss.\n",
        "x_train_pred_m = vqvae.predict(x_train_m)\n",
        "original = []\n",
        "for item in x_train_m:\n",
        "  #print(item[0])\n",
        "  original.append(item[0])\n",
        "predicted = []\n",
        "for item in x_train_pred_m:\n",
        "  #print(item[0])\n",
        "  predicted.append(item[0])"
      ],
      "execution_count": null,
      "outputs": []
    },
    {
      "cell_type": "code",
      "metadata": {
        "id": "egAJe4jAiQqd"
      },
      "source": [
        "df_original = pd.DataFrame(original)\n",
        "df_pred = pd.DataFrame(predicted)\n",
        "original_mean = df_original.mean(axis = 0)\n",
        "difference = df_original - df_pred\n",
        "difference_mean = np.abs(difference.mean(axis = 0))"
      ],
      "execution_count": null,
      "outputs": []
    },
    {
      "cell_type": "code",
      "metadata": {
        "colab": {
          "base_uri": "https://localhost:8080/"
        },
        "id": "Vfx1-7uxiQqd",
        "outputId": "67f3e5cd-1812-4d5d-ce62-89c1f04caa02"
      },
      "source": [
        "difference_mean/original_mean"
      ],
      "execution_count": null,
      "outputs": [
        {
          "output_type": "execute_result",
          "data": {
            "text/plain": [
              "0    0.038827\n",
              "1    2.147787\n",
              "2    0.002935\n",
              "3    0.028358\n",
              "dtype: float64"
            ]
          },
          "metadata": {
            "tags": []
          },
          "execution_count": 21
        }
      ]
    },
    {
      "cell_type": "code",
      "metadata": {
        "id": "Ln7GR18riQqd"
      },
      "source": [
        "intermediate_layer_model = Model(inputs=vqvae.input,\n",
        "                                 outputs=vqvae.get_layer(\"vqvae\").output)\n",
        "intermediate_output = intermediate_layer_model.predict(x_train_m)"
      ],
      "execution_count": null,
      "outputs": []
    },
    {
      "cell_type": "code",
      "metadata": {
        "colab": {
          "base_uri": "https://localhost:8080/"
        },
        "id": "3bd8fUqdiQqe",
        "outputId": "288d0754-867a-464d-a6ed-e57a594c1a8f"
      },
      "source": [
        "intermediate_output[:5]"
      ],
      "execution_count": null,
      "outputs": [
        {
          "output_type": "execute_result",
          "data": {
            "text/plain": [
              "array([[[ 0.02089264, -0.01841591, -0.01517165,  0.00266449,\n",
              "         -0.00227766, -0.00397374, -0.0054285 , -0.02177853],\n",
              "        [ 0.02089264, -0.01841591, -0.01517165,  0.00266449,\n",
              "         -0.00227766, -0.00397374, -0.0054285 , -0.02177853],\n",
              "        [ 0.02089264, -0.01841591, -0.01517165,  0.00266449,\n",
              "         -0.00227766, -0.00397374, -0.0054285 , -0.02177853],\n",
              "        [ 0.02089264, -0.01841591, -0.01517165,  0.00266449,\n",
              "         -0.00227766, -0.00397374, -0.0054285 , -0.02177853],\n",
              "        [ 0.02089264, -0.01841591, -0.01517165,  0.00266449,\n",
              "         -0.00227766, -0.00397374, -0.0054285 , -0.02177853],\n",
              "        [ 0.02089264, -0.01841591, -0.01517165,  0.00266449,\n",
              "         -0.00227766, -0.00397374, -0.0054285 , -0.02177853],\n",
              "        [ 0.02089264, -0.01841591, -0.01517165,  0.00266449,\n",
              "         -0.00227766, -0.00397374, -0.0054285 , -0.02177853],\n",
              "        [ 0.02089264, -0.01841591, -0.01517165,  0.00266449,\n",
              "         -0.00227766, -0.00397374, -0.0054285 , -0.02177853],\n",
              "        [ 0.02089264, -0.01841591, -0.01517165,  0.00266449,\n",
              "         -0.00227766, -0.00397374, -0.0054285 , -0.02177853],\n",
              "        [ 0.02089264, -0.01841591, -0.01517165,  0.00266449,\n",
              "         -0.00227766, -0.00397374, -0.0054285 , -0.02177853],\n",
              "        [ 0.02089264, -0.01841591, -0.01517165,  0.00266449,\n",
              "         -0.00227766, -0.00397374, -0.0054285 , -0.02177853],\n",
              "        [ 0.02089264, -0.01841591, -0.01517165,  0.00266449,\n",
              "         -0.00227766, -0.00397374, -0.0054285 , -0.02177853],\n",
              "        [ 0.02089264, -0.01841591, -0.01517165,  0.00266449,\n",
              "         -0.00227766, -0.00397374, -0.0054285 , -0.02177853],\n",
              "        [ 0.02089264, -0.01841591, -0.01517165,  0.00266449,\n",
              "         -0.00227766, -0.00397374, -0.0054285 , -0.02177853],\n",
              "        [ 0.02089264, -0.01841591, -0.01517165,  0.00266449,\n",
              "         -0.00227766, -0.00397374, -0.0054285 , -0.02177853],\n",
              "        [ 0.02089264, -0.01841591, -0.01517165,  0.00266449,\n",
              "         -0.00227766, -0.00397374, -0.0054285 , -0.02177853]],\n",
              "\n",
              "       [[ 0.02089264, -0.01841591, -0.01517165,  0.00266449,\n",
              "         -0.00227766, -0.00397374, -0.0054285 , -0.02177853],\n",
              "        [ 0.02089264, -0.01841591, -0.01517165,  0.00266449,\n",
              "         -0.00227766, -0.00397374, -0.0054285 , -0.02177853],\n",
              "        [ 0.02089264, -0.01841591, -0.01517165,  0.00266449,\n",
              "         -0.00227766, -0.00397374, -0.0054285 , -0.02177853],\n",
              "        [ 0.02089264, -0.01841591, -0.01517165,  0.00266449,\n",
              "         -0.00227766, -0.00397374, -0.0054285 , -0.02177853],\n",
              "        [ 0.02089264, -0.01841591, -0.01517165,  0.00266449,\n",
              "         -0.00227766, -0.00397374, -0.0054285 , -0.02177853],\n",
              "        [ 0.02089264, -0.01841591, -0.01517165,  0.00266449,\n",
              "         -0.00227766, -0.00397374, -0.0054285 , -0.02177853],\n",
              "        [ 0.02089264, -0.01841591, -0.01517165,  0.00266449,\n",
              "         -0.00227766, -0.00397374, -0.0054285 , -0.02177853],\n",
              "        [ 0.02089264, -0.01841591, -0.01517165,  0.00266449,\n",
              "         -0.00227766, -0.00397374, -0.0054285 , -0.02177853],\n",
              "        [ 0.02089264, -0.01841591, -0.01517165,  0.00266449,\n",
              "         -0.00227766, -0.00397374, -0.0054285 , -0.02177853],\n",
              "        [ 0.02089264, -0.01841591, -0.01517165,  0.00266449,\n",
              "         -0.00227766, -0.00397374, -0.0054285 , -0.02177853],\n",
              "        [ 0.02089264, -0.01841591, -0.01517165,  0.00266449,\n",
              "         -0.00227766, -0.00397374, -0.0054285 , -0.02177853],\n",
              "        [ 0.02089264, -0.01841591, -0.01517165,  0.00266449,\n",
              "         -0.00227766, -0.00397374, -0.0054285 , -0.02177853],\n",
              "        [ 0.02089264, -0.01841591, -0.01517165,  0.00266449,\n",
              "         -0.00227766, -0.00397374, -0.0054285 , -0.02177853],\n",
              "        [ 0.02089264, -0.01841591, -0.01517165,  0.00266449,\n",
              "         -0.00227766, -0.00397374, -0.0054285 , -0.02177853],\n",
              "        [ 0.02089264, -0.01841591, -0.01517165,  0.00266449,\n",
              "         -0.00227766, -0.00397374, -0.0054285 , -0.02177853],\n",
              "        [ 0.02089264, -0.01841591, -0.01517165,  0.00266449,\n",
              "         -0.00227766, -0.00397374, -0.0054285 , -0.02177853]],\n",
              "\n",
              "       [[ 0.02089264, -0.01841591, -0.01517165,  0.00266449,\n",
              "         -0.00227766, -0.00397374, -0.0054285 , -0.02177853],\n",
              "        [ 0.02089264, -0.01841591, -0.01517165,  0.00266449,\n",
              "         -0.00227766, -0.00397374, -0.0054285 , -0.02177853],\n",
              "        [ 0.02089264, -0.01841591, -0.01517165,  0.00266449,\n",
              "         -0.00227766, -0.00397374, -0.0054285 , -0.02177853],\n",
              "        [ 0.02089264, -0.01841591, -0.01517165,  0.00266449,\n",
              "         -0.00227766, -0.00397374, -0.0054285 , -0.02177853],\n",
              "        [ 0.02089264, -0.01841591, -0.01517165,  0.00266449,\n",
              "         -0.00227766, -0.00397374, -0.0054285 , -0.02177853],\n",
              "        [ 0.02089264, -0.01841591, -0.01517165,  0.00266449,\n",
              "         -0.00227766, -0.00397374, -0.0054285 , -0.02177853],\n",
              "        [ 0.02089264, -0.01841591, -0.01517165,  0.00266449,\n",
              "         -0.00227766, -0.00397374, -0.0054285 , -0.02177853],\n",
              "        [ 0.02089264, -0.01841591, -0.01517165,  0.00266449,\n",
              "         -0.00227766, -0.00397374, -0.0054285 , -0.02177853],\n",
              "        [ 0.02089264, -0.01841591, -0.01517165,  0.00266449,\n",
              "         -0.00227766, -0.00397374, -0.0054285 , -0.02177853],\n",
              "        [ 0.02089264, -0.01841591, -0.01517165,  0.00266449,\n",
              "         -0.00227766, -0.00397374, -0.0054285 , -0.02177853],\n",
              "        [ 0.02089264, -0.01841591, -0.01517165,  0.00266449,\n",
              "         -0.00227766, -0.00397374, -0.0054285 , -0.02177853],\n",
              "        [ 0.02089264, -0.01841591, -0.01517165,  0.00266449,\n",
              "         -0.00227766, -0.00397374, -0.0054285 , -0.02177853],\n",
              "        [ 0.02089264, -0.01841591, -0.01517165,  0.00266449,\n",
              "         -0.00227766, -0.00397374, -0.0054285 , -0.02177853],\n",
              "        [ 0.02089264, -0.01841591, -0.01517165,  0.00266449,\n",
              "         -0.00227766, -0.00397374, -0.0054285 , -0.02177853],\n",
              "        [ 0.02089264, -0.01841591, -0.01517165,  0.00266449,\n",
              "         -0.00227766, -0.00397374, -0.0054285 , -0.02177853],\n",
              "        [ 0.02089264, -0.01841591, -0.01517165,  0.00266449,\n",
              "         -0.00227766, -0.00397374, -0.0054285 , -0.02177853]],\n",
              "\n",
              "       [[ 0.02089264, -0.01841591, -0.01517165,  0.00266449,\n",
              "         -0.00227766, -0.00397374, -0.0054285 , -0.02177853],\n",
              "        [ 0.02089264, -0.01841591, -0.01517165,  0.00266449,\n",
              "         -0.00227766, -0.00397374, -0.0054285 , -0.02177853],\n",
              "        [ 0.02089264, -0.01841591, -0.01517165,  0.00266449,\n",
              "         -0.00227766, -0.00397374, -0.0054285 , -0.02177853],\n",
              "        [ 0.02089264, -0.01841591, -0.01517165,  0.00266449,\n",
              "         -0.00227766, -0.00397374, -0.0054285 , -0.02177853],\n",
              "        [ 0.02089264, -0.01841591, -0.01517165,  0.00266449,\n",
              "         -0.00227766, -0.00397374, -0.0054285 , -0.02177853],\n",
              "        [ 0.02089264, -0.01841591, -0.01517165,  0.00266449,\n",
              "         -0.00227766, -0.00397374, -0.0054285 , -0.02177853],\n",
              "        [ 0.02089264, -0.01841591, -0.01517165,  0.00266449,\n",
              "         -0.00227766, -0.00397374, -0.0054285 , -0.02177853],\n",
              "        [ 0.02089264, -0.01841591, -0.01517165,  0.00266449,\n",
              "         -0.00227766, -0.00397374, -0.0054285 , -0.02177853],\n",
              "        [ 0.02089264, -0.01841591, -0.01517165,  0.00266449,\n",
              "         -0.00227766, -0.00397374, -0.0054285 , -0.02177853],\n",
              "        [ 0.02089264, -0.01841591, -0.01517165,  0.00266449,\n",
              "         -0.00227766, -0.00397374, -0.0054285 , -0.02177853],\n",
              "        [ 0.02089264, -0.01841591, -0.01517165,  0.00266449,\n",
              "         -0.00227766, -0.00397374, -0.0054285 , -0.02177853],\n",
              "        [ 0.02089264, -0.01841591, -0.01517165,  0.00266449,\n",
              "         -0.00227766, -0.00397374, -0.0054285 , -0.02177853],\n",
              "        [ 0.02089264, -0.01841591, -0.01517165,  0.00266449,\n",
              "         -0.00227766, -0.00397374, -0.0054285 , -0.02177853],\n",
              "        [ 0.02089264, -0.01841591, -0.01517165,  0.00266449,\n",
              "         -0.00227766, -0.00397374, -0.0054285 , -0.02177853],\n",
              "        [ 0.02089264, -0.01841591, -0.01517165,  0.00266449,\n",
              "         -0.00227766, -0.00397374, -0.0054285 , -0.02177853],\n",
              "        [ 0.02089264, -0.01841591, -0.01517165,  0.00266449,\n",
              "         -0.00227766, -0.00397374, -0.0054285 , -0.02177853]],\n",
              "\n",
              "       [[ 0.02089264, -0.01841591, -0.01517165,  0.00266449,\n",
              "         -0.00227766, -0.00397374, -0.0054285 , -0.02177853],\n",
              "        [ 0.02089264, -0.01841591, -0.01517165,  0.00266449,\n",
              "         -0.00227766, -0.00397374, -0.0054285 , -0.02177853],\n",
              "        [ 0.02089264, -0.01841591, -0.01517165,  0.00266449,\n",
              "         -0.00227766, -0.00397374, -0.0054285 , -0.02177853],\n",
              "        [ 0.02089264, -0.01841591, -0.01517165,  0.00266449,\n",
              "         -0.00227766, -0.00397374, -0.0054285 , -0.02177853],\n",
              "        [ 0.02089264, -0.01841591, -0.01517165,  0.00266449,\n",
              "         -0.00227766, -0.00397374, -0.0054285 , -0.02177853],\n",
              "        [ 0.02089264, -0.01841591, -0.01517165,  0.00266449,\n",
              "         -0.00227766, -0.00397374, -0.0054285 , -0.02177853],\n",
              "        [ 0.02089264, -0.01841591, -0.01517165,  0.00266449,\n",
              "         -0.00227766, -0.00397374, -0.0054285 , -0.02177853],\n",
              "        [ 0.02089264, -0.01841591, -0.01517165,  0.00266449,\n",
              "         -0.00227766, -0.00397374, -0.0054285 , -0.02177853],\n",
              "        [ 0.02089264, -0.01841591, -0.01517165,  0.00266449,\n",
              "         -0.00227766, -0.00397374, -0.0054285 , -0.02177853],\n",
              "        [ 0.02089264, -0.01841591, -0.01517165,  0.00266449,\n",
              "         -0.00227766, -0.00397374, -0.0054285 , -0.02177853],\n",
              "        [ 0.02089264, -0.01841591, -0.01517165,  0.00266449,\n",
              "         -0.00227766, -0.00397374, -0.0054285 , -0.02177853],\n",
              "        [ 0.02089264, -0.01841591, -0.01517165,  0.00266449,\n",
              "         -0.00227766, -0.00397374, -0.0054285 , -0.02177853],\n",
              "        [ 0.02089264, -0.01841591, -0.01517165,  0.00266449,\n",
              "         -0.00227766, -0.00397374, -0.0054285 , -0.02177853],\n",
              "        [ 0.02089264, -0.01841591, -0.01517165,  0.00266449,\n",
              "         -0.00227766, -0.00397374, -0.0054285 , -0.02177853],\n",
              "        [ 0.02089264, -0.01841591, -0.01517165,  0.00266449,\n",
              "         -0.00227766, -0.00397374, -0.0054285 , -0.02177853],\n",
              "        [ 0.02089264, -0.01841591, -0.01517165,  0.00266449,\n",
              "         -0.00227766, -0.00397374, -0.0054285 , -0.02177853]]],\n",
              "      dtype=float32)"
            ]
          },
          "metadata": {
            "tags": []
          },
          "execution_count": 29
        }
      ]
    },
    {
      "cell_type": "code",
      "metadata": {
        "colab": {
          "base_uri": "https://localhost:8080/"
        },
        "id": "zEbu-g9NiQqe",
        "outputId": "f093fb26-0d25-4f39-9793-20a273fd8b8c"
      },
      "source": [
        "encoded_vectors = dictionary_encoding(intermediate_output)\n",
        "embedded_size = sys.getsizeof(encoded_vectors)\n",
        "original_size = sys.getsizeof(X)\n",
        "print(\"Compression: \", embedded_size/original_size)"
      ],
      "execution_count": null,
      "outputs": [
        {
          "output_type": "stream",
          "text": [
            "Compression:  0.000160758364620714\n"
          ],
          "name": "stdout"
        }
      ]
    },
    {
      "cell_type": "code",
      "metadata": {
        "id": "M9CMUK9_iXs4",
        "colab": {
          "base_uri": "https://localhost:8080/"
        },
        "outputId": "73611772-e2b2-4ffb-cd33-963ad76deea5"
      },
      "source": [
        "len(encoded_vectors)"
      ],
      "execution_count": null,
      "outputs": [
        {
          "output_type": "execute_result",
          "data": {
            "text/plain": [
              "1"
            ]
          },
          "metadata": {
            "tags": []
          },
          "execution_count": 25
        }
      ]
    },
    {
      "cell_type": "code",
      "metadata": {
        "id": "epNPZhutlHeH"
      },
      "source": [
        ""
      ],
      "execution_count": null,
      "outputs": []
    },
    {
      "cell_type": "code",
      "metadata": {
        "id": "wiKBMv4zBWo9"
      },
      "source": [
        "# Hyper Parameters.\n",
        "epochs = 150 # MAX\n",
        "batch_size = 256\n",
        "validation_split = 0.1\n",
        "\n",
        "# VQ-VAE Hyper Parameters.\n",
        "embedding_dim = 16 # Length of embedding vectors.\n",
        "num_embeddings = 16 # Number of embedding vectors (high value = high bottleneck capacity).\n",
        "commitment_cost = 0.25 # Controls the weighting of the loss terms.\n",
        "\n",
        "# EarlyStoppingCallback.\n",
        "esc = keras.callbacks.EarlyStopping(monitor='val_loss', min_delta=1e-4,\n",
        "                                    patience=5, verbose=0, mode='auto',\n",
        "                                    baseline=None, restore_best_weights=True)"
      ],
      "execution_count": null,
      "outputs": []
    },
    {
      "cell_type": "code",
      "metadata": {
        "colab": {
          "base_uri": "https://localhost:8080/"
        },
        "id": "zT8_IQvXBWo-",
        "outputId": "581f02f1-9303-49d2-ad1b-a853d251a9c5"
      },
      "source": [
        "# Encoder\n",
        "input = Input(shape=(x_train_m.shape[1], x_train_m.shape[2]))\n",
        "x = Conv1D(filters=256, kernel_size=7,  strides=2,padding=\"same\", activation=\"relu\")(input)\n",
        "x = Dropout(rate=0.2)(x)\n",
        "x = Conv1D(filters=128, kernel_size=7,  strides=2,padding=\"same\", activation=\"relu\")(x)\n",
        "x = Dropout(rate=0.2)(x)\n",
        "x = Conv1D(filters=64, kernel_size=7,  strides=2,padding=\"same\", activation=\"relu\")(x)\n",
        "x = Dropout(rate=0.2)(x)\n",
        "x = Conv1D(filters=32, kernel_size=7,  strides=2,padding=\"same\", activation=\"relu\")(x)\n",
        "x = Dropout(rate=0.2)(x)\n",
        "encoder_output = Conv1D(filters=16, kernel_size=7, padding=\"same\", strides=2, activation=\"relu\")(x)\n",
        "\n",
        "# VQVAELayer.\n",
        "enc = Conv1D(embedding_dim, kernel_size=1, strides=1, name=\"pre_vqvae\")(x)\n",
        "enc_inputs = enc\n",
        "enc = VQVAELayer(embedding_dim, num_embeddings, commitment_cost, name=\"vqvae\")(enc)\n",
        "x = Lambda(lambda enc: enc_inputs + K.stop_gradient(enc - enc_inputs), name=\"encoded\")(enc)\n",
        "data_variance = np.var(x_train_m)\n",
        "loss = vq_vae_loss_wrapper(data_variance, commitment_cost, enc, enc_inputs)\n",
        "\n",
        "# Decoder.\n",
        "x = Conv1D(filters=16, kernel_size=7, strides=2, padding = 'same')(x)\n",
        "x = UpSampling1D(size = 2)(x)\n",
        "x = Dropout(rate=0.2)(x)\n",
        "x = Conv1D(filters=32, kernel_size=7,  strides=2, padding = 'same')(x)\n",
        "x = UpSampling1D(size = 2)(x)\n",
        "x = Conv1D(filters=64, kernel_size=7,  strides=1, padding = 'same')(x)\n",
        "x = UpSampling1D(size = 2)(x)\n",
        "x = Conv1D(filters=128, kernel_size=7,  strides=1, padding = 'same')(x)\n",
        "x = UpSampling1D(size = 2)(x)\n",
        "x = Conv1D(filters=256, kernel_size=7,  strides=1, padding = 'same')(x)\n",
        "x = UpSampling1D(size = 2)(x)\n",
        "x = Conv1D(filters=4, kernel_size=7, padding = 'same')(x)\n",
        "x = UpSampling1D(size = 2)(x)\n",
        "\n",
        "# Autoencoder.\n",
        "vqvae = Model(input, x)\n",
        "vqvae.compile(loss=loss, optimizer='adam')\n",
        "vqvae.summary()"
      ],
      "execution_count": null,
      "outputs": [
        {
          "output_type": "stream",
          "text": [
            "WARNING:tensorflow:From /tensorflow-1.15.2/python3.7/tensorflow_core/python/ops/resource_variable_ops.py:1630: calling BaseResourceVariable.__init__ (from tensorflow.python.ops.resource_variable_ops) with constraint is deprecated and will be removed in a future version.\n",
            "Instructions for updating:\n",
            "If using Keras pass *_constraint arguments to layers.\n",
            "WARNING:tensorflow:From /tensorflow-1.15.2/python3.7/tensorflow_core/python/keras/initializers.py:119: calling RandomUniform.__init__ (from tensorflow.python.ops.init_ops) with dtype is deprecated and will be removed in a future version.\n",
            "Instructions for updating:\n",
            "Call initializer instance with the dtype argument instead of passing it to the constructor\n",
            "WARNING:tensorflow:Entity <bound method VQVAELayer.call of <__main__.VQVAELayer object at 0x7f4e6f37d510>> could not be transformed and will be executed as-is. Please report this to the AutoGraph team. When filing the bug, set the verbosity to 10 (on Linux, `export AUTOGRAPH_VERBOSITY=10`) and attach the full output. Cause: module 'gast' has no attribute 'Index'\n",
            "WARNING: Entity <bound method VQVAELayer.call of <__main__.VQVAELayer object at 0x7f4e6f37d510>> could not be transformed and will be executed as-is. Please report this to the AutoGraph team. When filing the bug, set the verbosity to 10 (on Linux, `export AUTOGRAPH_VERBOSITY=10`) and attach the full output. Cause: module 'gast' has no attribute 'Index'\n",
            "Model: \"model\"\n",
            "_________________________________________________________________\n",
            "Layer (type)                 Output Shape              Param #   \n",
            "=================================================================\n",
            "input_1 (InputLayer)         [(None, 256, 4)]          0         \n",
            "_________________________________________________________________\n",
            "conv1d (Conv1D)              (None, 128, 256)          7424      \n",
            "_________________________________________________________________\n",
            "dropout (Dropout)            (None, 128, 256)          0         \n",
            "_________________________________________________________________\n",
            "conv1d_1 (Conv1D)            (None, 64, 128)           229504    \n",
            "_________________________________________________________________\n",
            "dropout_1 (Dropout)          (None, 64, 128)           0         \n",
            "_________________________________________________________________\n",
            "conv1d_2 (Conv1D)            (None, 32, 64)            57408     \n",
            "_________________________________________________________________\n",
            "dropout_2 (Dropout)          (None, 32, 64)            0         \n",
            "_________________________________________________________________\n",
            "conv1d_3 (Conv1D)            (None, 16, 32)            14368     \n",
            "_________________________________________________________________\n",
            "dropout_3 (Dropout)          (None, 16, 32)            0         \n",
            "_________________________________________________________________\n",
            "pre_vqvae (Conv1D)           (None, 16, 16)            528       \n",
            "_________________________________________________________________\n",
            "vqvae (VQVAELayer)           (None, 16, 16)            256       \n",
            "_________________________________________________________________\n",
            "encoded (Lambda)             (None, 16, 16)            0         \n",
            "_________________________________________________________________\n",
            "conv1d_5 (Conv1D)            (None, 8, 16)             1808      \n",
            "_________________________________________________________________\n",
            "up_sampling1d (UpSampling1D) (None, 16, 16)            0         \n",
            "_________________________________________________________________\n",
            "dropout_4 (Dropout)          (None, 16, 16)            0         \n",
            "_________________________________________________________________\n",
            "conv1d_6 (Conv1D)            (None, 8, 32)             3616      \n",
            "_________________________________________________________________\n",
            "up_sampling1d_1 (UpSampling1 (None, 16, 32)            0         \n",
            "_________________________________________________________________\n",
            "conv1d_7 (Conv1D)            (None, 16, 64)            14400     \n",
            "_________________________________________________________________\n",
            "up_sampling1d_2 (UpSampling1 (None, 32, 64)            0         \n",
            "_________________________________________________________________\n",
            "conv1d_8 (Conv1D)            (None, 32, 128)           57472     \n",
            "_________________________________________________________________\n",
            "up_sampling1d_3 (UpSampling1 (None, 64, 128)           0         \n",
            "_________________________________________________________________\n",
            "conv1d_9 (Conv1D)            (None, 64, 256)           229632    \n",
            "_________________________________________________________________\n",
            "up_sampling1d_4 (UpSampling1 (None, 128, 256)          0         \n",
            "_________________________________________________________________\n",
            "conv1d_10 (Conv1D)           (None, 128, 4)            7172      \n",
            "_________________________________________________________________\n",
            "up_sampling1d_5 (UpSampling1 (None, 256, 4)            0         \n",
            "=================================================================\n",
            "Total params: 623,588\n",
            "Trainable params: 623,588\n",
            "Non-trainable params: 0\n",
            "_________________________________________________________________\n"
          ],
          "name": "stdout"
        }
      ]
    },
    {
      "cell_type": "code",
      "metadata": {
        "colab": {
          "base_uri": "https://localhost:8080/"
        },
        "id": "Y_Lhey3hBWo_",
        "outputId": "70a52c56-00fb-4cdd-811d-a5b26720dc56"
      },
      "source": [
        "history = vqvae.fit(x_train_m, x_train_m,\n",
        "                    batch_size=batch_size, epochs=epochs,\n",
        "                    validation_split=validation_split,\n",
        "                    callbacks=[esc])"
      ],
      "execution_count": null,
      "outputs": [
        {
          "output_type": "stream",
          "text": [
            "WARNING:tensorflow:From /tensorflow-1.15.2/python3.7/tensorflow_core/python/ops/math_grad.py:1375: where (from tensorflow.python.ops.array_ops) is deprecated and will be removed in a future version.\n",
            "Instructions for updating:\n",
            "Use tf.where in 2.0, which has the same broadcast rule as np.where\n",
            "Train on 43153 samples, validate on 4795 samples\n",
            "Epoch 1/150\n",
            "43153/43153 [==============================] - 26s 608us/sample - loss: 136.6061 - val_loss: 0.3507\n",
            "Epoch 2/150\n",
            "43153/43153 [==============================] - 9s 215us/sample - loss: 0.3891 - val_loss: 0.3435\n",
            "Epoch 3/150\n",
            "43153/43153 [==============================] - 9s 213us/sample - loss: 0.3737 - val_loss: 0.3440\n",
            "Epoch 4/150\n",
            "43153/43153 [==============================] - 9s 214us/sample - loss: 0.3541 - val_loss: 0.3434\n",
            "Epoch 5/150\n",
            "43153/43153 [==============================] - 9s 215us/sample - loss: 0.3597 - val_loss: 0.3451\n",
            "Epoch 6/150\n",
            "43153/43153 [==============================] - 9s 216us/sample - loss: 0.3507 - val_loss: 0.3474\n",
            "Epoch 7/150\n",
            "43153/43153 [==============================] - 9s 214us/sample - loss: 0.3489 - val_loss: 0.3441\n",
            "Epoch 8/150\n",
            "43153/43153 [==============================] - 9s 217us/sample - loss: 0.3474 - val_loss: 0.3444\n",
            "Epoch 9/150\n",
            "43153/43153 [==============================] - 10s 222us/sample - loss: 0.3488 - val_loss: 0.3443\n"
          ],
          "name": "stdout"
        }
      ]
    },
    {
      "cell_type": "code",
      "metadata": {
        "id": "-HfCz95NBWo_"
      },
      "source": [
        "# Get train MAE loss.\n",
        "x_train_pred_m = vqvae.predict(x_train_m)\n",
        "original = []\n",
        "for item in x_train_m:\n",
        "  #print(item[0])\n",
        "  original.append(item[0])\n",
        "predicted = []\n",
        "for item in x_train_pred_m:\n",
        "  #print(item[0])\n",
        "  predicted.append(item[0])"
      ],
      "execution_count": null,
      "outputs": []
    },
    {
      "cell_type": "code",
      "metadata": {
        "id": "f31uhJWoBWpA"
      },
      "source": [
        "df_original = pd.DataFrame(original)\n",
        "df_pred = pd.DataFrame(predicted)\n",
        "original_mean = df_original.mean(axis = 0)\n",
        "difference = df_original - df_pred\n",
        "difference_mean = np.abs(difference.mean(axis = 0))"
      ],
      "execution_count": null,
      "outputs": []
    },
    {
      "cell_type": "code",
      "metadata": {
        "colab": {
          "base_uri": "https://localhost:8080/"
        },
        "id": "jCPklrz_BWpA",
        "outputId": "907fa43a-f75e-4fde-a42f-92478634ad48"
      },
      "source": [
        "difference_mean/original_mean"
      ],
      "execution_count": null,
      "outputs": [
        {
          "output_type": "execute_result",
          "data": {
            "text/plain": [
              "0     0.015445\n",
              "1    26.481282\n",
              "2     0.001917\n",
              "3     0.007632\n",
              "dtype: float64"
            ]
          },
          "metadata": {
            "tags": []
          },
          "execution_count": 24
        }
      ]
    },
    {
      "cell_type": "code",
      "metadata": {
        "id": "NEF0iahwBWpA"
      },
      "source": [
        "intermediate_layer_model = Model(inputs=vqvae.input,\n",
        "                                 outputs=vqvae.get_layer(\"vqvae\").output)\n",
        "intermediate_output = intermediate_layer_model.predict(x_train_m)"
      ],
      "execution_count": null,
      "outputs": []
    },
    {
      "cell_type": "code",
      "metadata": {
        "colab": {
          "base_uri": "https://localhost:8080/"
        },
        "id": "ZUFHS5j4BWpA",
        "outputId": "aa235689-12c0-472d-e709-4246961c12e0"
      },
      "source": [
        "len(intermediate_output)"
      ],
      "execution_count": null,
      "outputs": [
        {
          "output_type": "execute_result",
          "data": {
            "text/plain": [
              "47948"
            ]
          },
          "metadata": {
            "tags": []
          },
          "execution_count": 26
        }
      ]
    },
    {
      "cell_type": "code",
      "metadata": {
        "colab": {
          "base_uri": "https://localhost:8080/"
        },
        "id": "mp7rpHmOBWpB",
        "outputId": "fda1bd48-c3e9-4b2d-e526-b4979681a6ef"
      },
      "source": [
        "encoded_vectors = dictionary_encoding(intermediate_output)\n",
        "embedded_size = sys.getsizeof(encoded_vectors)\n",
        "original_size = sys.getsizeof(X)\n",
        "print(\"Compression: \", embedded_size/original_size)"
      ],
      "execution_count": null,
      "outputs": [
        {
          "output_type": "stream",
          "text": [
            "Compression:  0.000160758364620714\n"
          ],
          "name": "stdout"
        }
      ]
    },
    {
      "cell_type": "code",
      "metadata": {
        "id": "CsEZkUM5BxjF"
      },
      "source": [
        ""
      ],
      "execution_count": null,
      "outputs": []
    },
    {
      "cell_type": "code",
      "metadata": {
        "id": "afgwd34TCaxg"
      },
      "source": [
        "# Hyper Parameters.\n",
        "epochs = 150 # MAX\n",
        "batch_size = 64\n",
        "validation_split = 0.1\n",
        "\n",
        "# VQ-VAE Hyper Parameters.\n",
        "embedding_dim = 32 # Length of embedding vectors.\n",
        "num_embeddings = 16 # Number of embedding vectors (high value = high bottleneck capacity).\n",
        "commitment_cost = 0.25 # Controls the weighting of the loss terms.\n",
        "\n",
        "# EarlyStoppingCallback.\n",
        "esc = keras.callbacks.EarlyStopping(monitor='val_loss', min_delta=1e-4,\n",
        "                                    patience=5, verbose=0, mode='auto',\n",
        "                                    baseline=None, restore_best_weights=True)"
      ],
      "execution_count": null,
      "outputs": []
    },
    {
      "cell_type": "code",
      "metadata": {
        "colab": {
          "base_uri": "https://localhost:8080/"
        },
        "id": "_ANoUb9XCaxh",
        "outputId": "7d83c262-0745-4903-f11e-020e08a11c52"
      },
      "source": [
        "# Encoder\n",
        "input = Input(shape=(x_train_m.shape[1], x_train_m.shape[2]))\n",
        "x = Conv1D(filters=256, kernel_size=7,  strides=2,padding=\"same\", activation=\"relu\")(input)\n",
        "x = Dropout(rate=0.2)(x)\n",
        "x = Conv1D(filters=128, kernel_size=7,  strides=2,padding=\"same\", activation=\"relu\")(x)\n",
        "x = Dropout(rate=0.2)(x)\n",
        "x = Conv1D(filters=64, kernel_size=7,  strides=2,padding=\"same\", activation=\"relu\")(x)\n",
        "x = Dropout(rate=0.2)(x)\n",
        "x = Conv1D(filters=32, kernel_size=7,  strides=2,padding=\"same\", activation=\"relu\")(x)\n",
        "x = Dropout(rate=0.2)(x)\n",
        "encoder_output = Conv1D(filters=16, kernel_size=7, padding=\"same\", strides=2, activation=\"relu\")(x)\n",
        "\n",
        "# VQVAELayer.\n",
        "enc = Conv1D(embedding_dim, kernel_size=1, strides=1, name=\"pre_vqvae\")(x)\n",
        "enc_inputs = enc\n",
        "enc = VQVAELayer(embedding_dim, num_embeddings, commitment_cost, name=\"vqvae\")(enc)\n",
        "x = Lambda(lambda enc: enc_inputs + K.stop_gradient(enc - enc_inputs), name=\"encoded\")(enc)\n",
        "data_variance = np.var(x_train_m)\n",
        "loss = vq_vae_loss_wrapper(data_variance, commitment_cost, enc, enc_inputs)\n",
        "\n",
        "# Decoder.\n",
        "x = Conv1D(filters=16, kernel_size=7, strides=2, padding = 'same')(x)\n",
        "x = UpSampling1D(size = 2)(x)\n",
        "x = Dropout(rate=0.2)(x)\n",
        "x = Conv1D(filters=32, kernel_size=7,  strides=2, padding = 'same')(x)\n",
        "x = UpSampling1D(size = 2)(x)\n",
        "x = Conv1D(filters=64, kernel_size=7,  strides=1, padding = 'same')(x)\n",
        "x = UpSampling1D(size = 2)(x)\n",
        "x = Conv1D(filters=128, kernel_size=7,  strides=1, padding = 'same')(x)\n",
        "x = UpSampling1D(size = 2)(x)\n",
        "x = Conv1D(filters=256, kernel_size=7,  strides=1, padding = 'same')(x)\n",
        "x = UpSampling1D(size = 2)(x)\n",
        "x = Conv1D(filters=4, kernel_size=7, padding = 'same')(x)\n",
        "x = UpSampling1D(size = 2)(x)\n",
        "\n",
        "# Autoencoder.\n",
        "vqvae = Model(input, x)\n",
        "vqvae.compile(loss=loss, optimizer='adam')\n",
        "vqvae.summary()"
      ],
      "execution_count": null,
      "outputs": [
        {
          "output_type": "stream",
          "text": [
            "WARNING:tensorflow:Entity <bound method VQVAELayer.call of <__main__.VQVAELayer object at 0x7f4e0c4b6610>> could not be transformed and will be executed as-is. Please report this to the AutoGraph team. When filing the bug, set the verbosity to 10 (on Linux, `export AUTOGRAPH_VERBOSITY=10`) and attach the full output. Cause: module 'gast' has no attribute 'Index'\n",
            "WARNING: Entity <bound method VQVAELayer.call of <__main__.VQVAELayer object at 0x7f4e0c4b6610>> could not be transformed and will be executed as-is. Please report this to the AutoGraph team. When filing the bug, set the verbosity to 10 (on Linux, `export AUTOGRAPH_VERBOSITY=10`) and attach the full output. Cause: module 'gast' has no attribute 'Index'\n",
            "Model: \"model_3\"\n",
            "_________________________________________________________________\n",
            "Layer (type)                 Output Shape              Param #   \n",
            "=================================================================\n",
            "input_2 (InputLayer)         [(None, 256, 4)]          0         \n",
            "_________________________________________________________________\n",
            "conv1d_11 (Conv1D)           (None, 128, 256)          7424      \n",
            "_________________________________________________________________\n",
            "dropout_5 (Dropout)          (None, 128, 256)          0         \n",
            "_________________________________________________________________\n",
            "conv1d_12 (Conv1D)           (None, 64, 128)           229504    \n",
            "_________________________________________________________________\n",
            "dropout_6 (Dropout)          (None, 64, 128)           0         \n",
            "_________________________________________________________________\n",
            "conv1d_13 (Conv1D)           (None, 32, 64)            57408     \n",
            "_________________________________________________________________\n",
            "dropout_7 (Dropout)          (None, 32, 64)            0         \n",
            "_________________________________________________________________\n",
            "conv1d_14 (Conv1D)           (None, 16, 32)            14368     \n",
            "_________________________________________________________________\n",
            "dropout_8 (Dropout)          (None, 16, 32)            0         \n",
            "_________________________________________________________________\n",
            "pre_vqvae (Conv1D)           (None, 16, 32)            1056      \n",
            "_________________________________________________________________\n",
            "vqvae (VQVAELayer)           (None, 16, 32)            512       \n",
            "_________________________________________________________________\n",
            "encoded (Lambda)             (None, 16, 32)            0         \n",
            "_________________________________________________________________\n",
            "conv1d_16 (Conv1D)           (None, 8, 16)             3600      \n",
            "_________________________________________________________________\n",
            "up_sampling1d_6 (UpSampling1 (None, 16, 16)            0         \n",
            "_________________________________________________________________\n",
            "dropout_9 (Dropout)          (None, 16, 16)            0         \n",
            "_________________________________________________________________\n",
            "conv1d_17 (Conv1D)           (None, 8, 32)             3616      \n",
            "_________________________________________________________________\n",
            "up_sampling1d_7 (UpSampling1 (None, 16, 32)            0         \n",
            "_________________________________________________________________\n",
            "conv1d_18 (Conv1D)           (None, 16, 64)            14400     \n",
            "_________________________________________________________________\n",
            "up_sampling1d_8 (UpSampling1 (None, 32, 64)            0         \n",
            "_________________________________________________________________\n",
            "conv1d_19 (Conv1D)           (None, 32, 128)           57472     \n",
            "_________________________________________________________________\n",
            "up_sampling1d_9 (UpSampling1 (None, 64, 128)           0         \n",
            "_________________________________________________________________\n",
            "conv1d_20 (Conv1D)           (None, 64, 256)           229632    \n",
            "_________________________________________________________________\n",
            "up_sampling1d_10 (UpSampling (None, 128, 256)          0         \n",
            "_________________________________________________________________\n",
            "conv1d_21 (Conv1D)           (None, 128, 4)            7172      \n",
            "_________________________________________________________________\n",
            "up_sampling1d_11 (UpSampling (None, 256, 4)            0         \n",
            "=================================================================\n",
            "Total params: 626,164\n",
            "Trainable params: 626,164\n",
            "Non-trainable params: 0\n",
            "_________________________________________________________________\n"
          ],
          "name": "stdout"
        }
      ]
    },
    {
      "cell_type": "code",
      "metadata": {
        "colab": {
          "base_uri": "https://localhost:8080/"
        },
        "id": "Ppje215rCaxi",
        "outputId": "6608b86a-dd71-4212-f306-46ea0c6bf3e6"
      },
      "source": [
        "history = vqvae.fit(x_train_m, x_train_m,\n",
        "                    batch_size=batch_size, epochs=epochs,\n",
        "                    validation_split=validation_split,\n",
        "                    callbacks=[esc])"
      ],
      "execution_count": null,
      "outputs": [
        {
          "output_type": "stream",
          "text": [
            "Train on 43153 samples, validate on 4795 samples\n",
            "Epoch 1/150\n",
            "43153/43153 [==============================] - 10s 241us/sample - loss: 62.8569 - val_loss: 0.3491\n",
            "Epoch 2/150\n",
            "43153/43153 [==============================] - 9s 217us/sample - loss: 0.3698 - val_loss: 0.3448\n",
            "Epoch 3/150\n",
            "43153/43153 [==============================] - 9s 216us/sample - loss: 0.3577 - val_loss: 0.3439\n",
            "Epoch 4/150\n",
            "43153/43153 [==============================] - 9s 216us/sample - loss: 0.3530 - val_loss: 0.3434\n",
            "Epoch 5/150\n",
            "43153/43153 [==============================] - 9s 217us/sample - loss: 0.3516 - val_loss: 0.3434\n",
            "Epoch 6/150\n",
            "43153/43153 [==============================] - 10s 220us/sample - loss: 0.3503 - val_loss: 0.3442\n",
            "Epoch 7/150\n",
            "43153/43153 [==============================] - 10s 222us/sample - loss: 0.3474 - val_loss: 0.3448\n",
            "Epoch 8/150\n",
            "43153/43153 [==============================] - 10s 221us/sample - loss: 0.3477 - val_loss: 0.3441\n",
            "Epoch 9/150\n",
            "43153/43153 [==============================] - 10s 226us/sample - loss: 0.3475 - val_loss: 0.3436\n"
          ],
          "name": "stdout"
        }
      ]
    },
    {
      "cell_type": "code",
      "metadata": {
        "id": "txDnC8FeCaxi"
      },
      "source": [
        "# Get train MAE loss.\n",
        "x_train_pred_m = vqvae.predict(x_train_m)\n",
        "original = []\n",
        "for item in x_train_m:\n",
        "  #print(item[0])\n",
        "  original.append(item[0])\n",
        "predicted = []\n",
        "for item in x_train_pred_m:\n",
        "  #print(item[0])\n",
        "  predicted.append(item[0])"
      ],
      "execution_count": null,
      "outputs": []
    },
    {
      "cell_type": "code",
      "metadata": {
        "id": "ovXo5-Y9Caxj"
      },
      "source": [
        "df_original = pd.DataFrame(original)\n",
        "df_pred = pd.DataFrame(predicted)\n",
        "original_mean = df_original.mean(axis = 0)\n",
        "difference = df_original - df_pred\n",
        "difference_mean = np.abs(difference.mean(axis = 0))"
      ],
      "execution_count": null,
      "outputs": []
    },
    {
      "cell_type": "code",
      "metadata": {
        "colab": {
          "base_uri": "https://localhost:8080/"
        },
        "id": "0hEtaLPUCaxj",
        "outputId": "c4114ea4-b5d3-4e37-96f1-e24a7a15683d"
      },
      "source": [
        "difference_mean/original_mean"
      ],
      "execution_count": null,
      "outputs": [
        {
          "output_type": "execute_result",
          "data": {
            "text/plain": [
              "0    0.036093\n",
              "1    0.752132\n",
              "2    0.126199\n",
              "3    0.014620\n",
              "dtype: float64"
            ]
          },
          "metadata": {
            "tags": []
          },
          "execution_count": 35
        }
      ]
    },
    {
      "cell_type": "code",
      "metadata": {
        "id": "La7-z4iWCaxj"
      },
      "source": [
        "intermediate_layer_model = Model(inputs=vqvae.input,\n",
        "                                 outputs=vqvae.get_layer(\"vqvae\").output)\n",
        "intermediate_output = intermediate_layer_model.predict(x_train_m)"
      ],
      "execution_count": null,
      "outputs": []
    },
    {
      "cell_type": "code",
      "metadata": {
        "colab": {
          "base_uri": "https://localhost:8080/"
        },
        "id": "ahANCa8rCaxj",
        "outputId": "2172f498-91db-42a0-b725-36a1a726f847"
      },
      "source": [
        "len(intermediate_output)"
      ],
      "execution_count": null,
      "outputs": [
        {
          "output_type": "execute_result",
          "data": {
            "text/plain": [
              "47948"
            ]
          },
          "metadata": {
            "tags": []
          },
          "execution_count": 37
        }
      ]
    },
    {
      "cell_type": "code",
      "metadata": {
        "colab": {
          "base_uri": "https://localhost:8080/"
        },
        "id": "QYOVfT1nCaxj",
        "outputId": "72a17467-6171-4c13-990f-79df0e2be118"
      },
      "source": [
        "encoded_vectors = dictionary_encoding(intermediate_output)\n",
        "embedded_size = sys.getsizeof(encoded_vectors)\n",
        "original_size = sys.getsizeof(X)\n",
        "print(\"Compression: \", embedded_size/original_size)"
      ],
      "execution_count": null,
      "outputs": [
        {
          "output_type": "stream",
          "text": [
            "Compression:  0.000160758364620714\n"
          ],
          "name": "stdout"
        }
      ]
    },
    {
      "cell_type": "code",
      "metadata": {
        "id": "SnQWjqeoCgwF"
      },
      "source": [
        ""
      ],
      "execution_count": null,
      "outputs": []
    },
    {
      "cell_type": "code",
      "metadata": {
        "id": "U_E_-jT4DNVq"
      },
      "source": [
        "# Hyper Parameters.\n",
        "epochs = 150 # MAX\n",
        "batch_size = 64\n",
        "validation_split = 0.1\n",
        "\n",
        "# VQ-VAE Hyper Parameters.\n",
        "embedding_dim = 64 # Length of embedding vectors.\n",
        "num_embeddings = 16 # Number of embedding vectors (high value = high bottleneck capacity).\n",
        "commitment_cost = 0.25 # Controls the weighting of the loss terms.\n",
        "\n",
        "# EarlyStoppingCallback.\n",
        "esc = keras.callbacks.EarlyStopping(monitor='val_loss', min_delta=1e-4,\n",
        "                                    patience=5, verbose=0, mode='auto',\n",
        "                                    baseline=None, restore_best_weights=True)"
      ],
      "execution_count": null,
      "outputs": []
    },
    {
      "cell_type": "code",
      "metadata": {
        "colab": {
          "base_uri": "https://localhost:8080/"
        },
        "id": "AcZb8cOPDNVr",
        "outputId": "db953cce-a129-4a5a-8c10-cc23f253e2e5"
      },
      "source": [
        "# Encoder\n",
        "input = Input(shape=(x_train_m.shape[1], x_train_m.shape[2]))\n",
        "x = Conv1D(filters=256, kernel_size=7,  strides=2,padding=\"same\", activation=\"relu\")(input)\n",
        "x = Dropout(rate=0.2)(x)\n",
        "x = Conv1D(filters=128, kernel_size=7,  strides=2,padding=\"same\", activation=\"relu\")(x)\n",
        "x = Dropout(rate=0.2)(x)\n",
        "x = Conv1D(filters=64, kernel_size=7,  strides=2,padding=\"same\", activation=\"relu\")(x)\n",
        "x = Dropout(rate=0.2)(x)\n",
        "x = Conv1D(filters=32, kernel_size=7,  strides=2,padding=\"same\", activation=\"relu\")(x)\n",
        "x = Dropout(rate=0.2)(x)\n",
        "encoder_output = Conv1D(filters=16, kernel_size=7, padding=\"same\", strides=2, activation=\"relu\")(x)\n",
        "\n",
        "# VQVAELayer.\n",
        "enc = Conv1D(embedding_dim, kernel_size=1, strides=1, name=\"pre_vqvae\")(x)\n",
        "enc_inputs = enc\n",
        "enc = VQVAELayer(embedding_dim, num_embeddings, commitment_cost, name=\"vqvae\")(enc)\n",
        "x = Lambda(lambda enc: enc_inputs + K.stop_gradient(enc - enc_inputs), name=\"encoded\")(enc)\n",
        "data_variance = np.var(x_train_m)\n",
        "loss = vq_vae_loss_wrapper(data_variance, commitment_cost, enc, enc_inputs)\n",
        "\n",
        "# Decoder.\n",
        "x = Conv1D(filters=16, kernel_size=7, strides=2, padding = 'same')(x)\n",
        "x = UpSampling1D(size = 2)(x)\n",
        "x = Dropout(rate=0.2)(x)\n",
        "x = Conv1D(filters=32, kernel_size=7,  strides=2, padding = 'same')(x)\n",
        "x = UpSampling1D(size = 2)(x)\n",
        "x = Conv1D(filters=64, kernel_size=7,  strides=1, padding = 'same')(x)\n",
        "x = UpSampling1D(size = 2)(x)\n",
        "x = Conv1D(filters=128, kernel_size=7,  strides=1, padding = 'same')(x)\n",
        "x = UpSampling1D(size = 2)(x)\n",
        "x = Conv1D(filters=256, kernel_size=7,  strides=1, padding = 'same')(x)\n",
        "x = UpSampling1D(size = 2)(x)\n",
        "x = Conv1D(filters=4, kernel_size=7, padding = 'same')(x)\n",
        "x = UpSampling1D(size = 2)(x)\n",
        "\n",
        "# Autoencoder.\n",
        "vqvae = Model(input, x)\n",
        "vqvae.compile(loss=loss, optimizer='adam')\n",
        "vqvae.summary()"
      ],
      "execution_count": null,
      "outputs": [
        {
          "output_type": "stream",
          "text": [
            "WARNING:tensorflow:Entity <bound method VQVAELayer.call of <__main__.VQVAELayer object at 0x7f4e73997d10>> could not be transformed and will be executed as-is. Please report this to the AutoGraph team. When filing the bug, set the verbosity to 10 (on Linux, `export AUTOGRAPH_VERBOSITY=10`) and attach the full output. Cause: module 'gast' has no attribute 'Index'\n",
            "WARNING: Entity <bound method VQVAELayer.call of <__main__.VQVAELayer object at 0x7f4e73997d10>> could not be transformed and will be executed as-is. Please report this to the AutoGraph team. When filing the bug, set the verbosity to 10 (on Linux, `export AUTOGRAPH_VERBOSITY=10`) and attach the full output. Cause: module 'gast' has no attribute 'Index'\n",
            "Model: \"model_5\"\n",
            "_________________________________________________________________\n",
            "Layer (type)                 Output Shape              Param #   \n",
            "=================================================================\n",
            "input_3 (InputLayer)         [(None, 256, 4)]          0         \n",
            "_________________________________________________________________\n",
            "conv1d_22 (Conv1D)           (None, 128, 256)          7424      \n",
            "_________________________________________________________________\n",
            "dropout_10 (Dropout)         (None, 128, 256)          0         \n",
            "_________________________________________________________________\n",
            "conv1d_23 (Conv1D)           (None, 64, 128)           229504    \n",
            "_________________________________________________________________\n",
            "dropout_11 (Dropout)         (None, 64, 128)           0         \n",
            "_________________________________________________________________\n",
            "conv1d_24 (Conv1D)           (None, 32, 64)            57408     \n",
            "_________________________________________________________________\n",
            "dropout_12 (Dropout)         (None, 32, 64)            0         \n",
            "_________________________________________________________________\n",
            "conv1d_25 (Conv1D)           (None, 16, 32)            14368     \n",
            "_________________________________________________________________\n",
            "dropout_13 (Dropout)         (None, 16, 32)            0         \n",
            "_________________________________________________________________\n",
            "pre_vqvae (Conv1D)           (None, 16, 64)            2112      \n",
            "_________________________________________________________________\n",
            "vqvae (VQVAELayer)           (None, 16, 64)            1024      \n",
            "_________________________________________________________________\n",
            "encoded (Lambda)             (None, 16, 64)            0         \n",
            "_________________________________________________________________\n",
            "conv1d_27 (Conv1D)           (None, 8, 16)             7184      \n",
            "_________________________________________________________________\n",
            "up_sampling1d_12 (UpSampling (None, 16, 16)            0         \n",
            "_________________________________________________________________\n",
            "dropout_14 (Dropout)         (None, 16, 16)            0         \n",
            "_________________________________________________________________\n",
            "conv1d_28 (Conv1D)           (None, 8, 32)             3616      \n",
            "_________________________________________________________________\n",
            "up_sampling1d_13 (UpSampling (None, 16, 32)            0         \n",
            "_________________________________________________________________\n",
            "conv1d_29 (Conv1D)           (None, 16, 64)            14400     \n",
            "_________________________________________________________________\n",
            "up_sampling1d_14 (UpSampling (None, 32, 64)            0         \n",
            "_________________________________________________________________\n",
            "conv1d_30 (Conv1D)           (None, 32, 128)           57472     \n",
            "_________________________________________________________________\n",
            "up_sampling1d_15 (UpSampling (None, 64, 128)           0         \n",
            "_________________________________________________________________\n",
            "conv1d_31 (Conv1D)           (None, 64, 256)           229632    \n",
            "_________________________________________________________________\n",
            "up_sampling1d_16 (UpSampling (None, 128, 256)          0         \n",
            "_________________________________________________________________\n",
            "conv1d_32 (Conv1D)           (None, 128, 4)            7172      \n",
            "_________________________________________________________________\n",
            "up_sampling1d_17 (UpSampling (None, 256, 4)            0         \n",
            "=================================================================\n",
            "Total params: 631,316\n",
            "Trainable params: 631,316\n",
            "Non-trainable params: 0\n",
            "_________________________________________________________________\n"
          ],
          "name": "stdout"
        }
      ]
    },
    {
      "cell_type": "code",
      "metadata": {
        "colab": {
          "base_uri": "https://localhost:8080/"
        },
        "id": "RSwDNsz0DNVr",
        "outputId": "7cdc598b-d11f-49bd-c7a5-f41ca0846a65"
      },
      "source": [
        "history = vqvae.fit(x_train_m, x_train_m,\n",
        "                    batch_size=batch_size, epochs=epochs,\n",
        "                    validation_split=validation_split,\n",
        "                    callbacks=[esc])"
      ],
      "execution_count": null,
      "outputs": [
        {
          "output_type": "stream",
          "text": [
            "Train on 43153 samples, validate on 4795 samples\n",
            "Epoch 1/150\n",
            "43153/43153 [==============================] - 11s 251us/sample - loss: 84.0264 - val_loss: 0.3507\n",
            "Epoch 2/150\n",
            "43153/43153 [==============================] - 9s 217us/sample - loss: 0.3592 - val_loss: 0.3442\n",
            "Epoch 3/150\n",
            "43153/43153 [==============================] - 9s 216us/sample - loss: 0.3514 - val_loss: 0.3445\n",
            "Epoch 4/150\n",
            "43153/43153 [==============================] - 9s 217us/sample - loss: 0.3476 - val_loss: 0.3447\n",
            "Epoch 5/150\n",
            "43153/43153 [==============================] - 9s 219us/sample - loss: 0.3472 - val_loss: 0.3437\n",
            "Epoch 6/150\n",
            "43153/43153 [==============================] - 9s 219us/sample - loss: 0.3477 - val_loss: 0.3435\n",
            "Epoch 7/150\n",
            "43153/43153 [==============================] - 9s 218us/sample - loss: 0.3469 - val_loss: 0.3453\n",
            "Epoch 8/150\n",
            "43153/43153 [==============================] - 9s 219us/sample - loss: 0.3480 - val_loss: 0.3457\n",
            "Epoch 9/150\n",
            "43153/43153 [==============================] - 9s 219us/sample - loss: 0.3463 - val_loss: 0.3437\n",
            "Epoch 10/150\n",
            "43153/43153 [==============================] - 10s 220us/sample - loss: 0.3463 - val_loss: 0.3436\n",
            "Epoch 11/150\n",
            "43153/43153 [==============================] - 10s 226us/sample - loss: 0.3461 - val_loss: 0.3447\n"
          ],
          "name": "stdout"
        }
      ]
    },
    {
      "cell_type": "code",
      "metadata": {
        "id": "f0eMSNg7DNVr"
      },
      "source": [
        "# Get train MAE loss.\n",
        "x_train_pred_m = vqvae.predict(x_train_m)\n",
        "original = []\n",
        "for item in x_train_m:\n",
        "  #print(item[0])\n",
        "  original.append(item[0])\n",
        "predicted = []\n",
        "for item in x_train_pred_m:\n",
        "  #print(item[0])\n",
        "  predicted.append(item[0])"
      ],
      "execution_count": null,
      "outputs": []
    },
    {
      "cell_type": "code",
      "metadata": {
        "id": "F5-O7YIjDNVs"
      },
      "source": [
        "df_original = pd.DataFrame(original)\n",
        "df_pred = pd.DataFrame(predicted)\n",
        "original_mean = df_original.mean(axis = 0)\n",
        "difference = df_original - df_pred\n",
        "difference_mean = np.abs(difference.mean(axis = 0))"
      ],
      "execution_count": null,
      "outputs": []
    },
    {
      "cell_type": "code",
      "metadata": {
        "colab": {
          "base_uri": "https://localhost:8080/"
        },
        "id": "afikuAQODNVs",
        "outputId": "5cb12268-1aa9-4422-da05-a50068ba2c93"
      },
      "source": [
        "difference_mean/original_mean"
      ],
      "execution_count": null,
      "outputs": [
        {
          "output_type": "execute_result",
          "data": {
            "text/plain": [
              "0    0.031411\n",
              "1    0.075145\n",
              "2    0.009725\n",
              "3    0.021708\n",
              "dtype: float64"
            ]
          },
          "metadata": {
            "tags": []
          },
          "execution_count": 44
        }
      ]
    },
    {
      "cell_type": "code",
      "metadata": {
        "id": "QPiN8_WDDNVs"
      },
      "source": [
        "intermediate_layer_model = Model(inputs=vqvae.input,\n",
        "                                 outputs=vqvae.get_layer(\"vqvae\").output)\n",
        "intermediate_output = intermediate_layer_model.predict(x_train_m)"
      ],
      "execution_count": null,
      "outputs": []
    },
    {
      "cell_type": "code",
      "metadata": {
        "colab": {
          "base_uri": "https://localhost:8080/"
        },
        "id": "_h4nG94aDNVs",
        "outputId": "3275cbff-42c9-408b-ba5d-9c9c2a6d1310"
      },
      "source": [
        "len(intermediate_output)"
      ],
      "execution_count": null,
      "outputs": [
        {
          "output_type": "execute_result",
          "data": {
            "text/plain": [
              "47948"
            ]
          },
          "metadata": {
            "tags": []
          },
          "execution_count": 46
        }
      ]
    },
    {
      "cell_type": "code",
      "metadata": {
        "colab": {
          "base_uri": "https://localhost:8080/"
        },
        "id": "88jUPURaDNVt",
        "outputId": "dfd63121-dd59-450c-e389-602a18f76871"
      },
      "source": [
        "encoded_vectors = dictionary_encoding(intermediate_output)\n",
        "embedded_size = sys.getsizeof(encoded_vectors)\n",
        "original_size = sys.getsizeof(X)\n",
        "print(\"Compression: \", embedded_size/original_size)"
      ],
      "execution_count": null,
      "outputs": [
        {
          "output_type": "stream",
          "text": [
            "Compression:  0.000160758364620714\n"
          ],
          "name": "stdout"
        }
      ]
    },
    {
      "cell_type": "code",
      "metadata": {
        "id": "oziJQTUgDMX0"
      },
      "source": [
        ""
      ],
      "execution_count": null,
      "outputs": []
    },
    {
      "cell_type": "code",
      "metadata": {
        "id": "kH-p6KIgD0PS"
      },
      "source": [
        "# Hyper Parameters.\n",
        "epochs = 150 # MAX\n",
        "batch_size = 64\n",
        "validation_split = 0.1\n",
        "\n",
        "# VQ-VAE Hyper Parameters.\n",
        "embedding_dim = 128 # Length of embedding vectors.\n",
        "num_embeddings = 16 # Number of embedding vectors (high value = high bottleneck capacity).\n",
        "commitment_cost = 0.25 # Controls the weighting of the loss terms.\n",
        "\n",
        "# EarlyStoppingCallback.\n",
        "esc = keras.callbacks.EarlyStopping(monitor='val_loss', min_delta=1e-4,\n",
        "                                    patience=5, verbose=0, mode='auto',\n",
        "                                    baseline=None, restore_best_weights=True)"
      ],
      "execution_count": null,
      "outputs": []
    },
    {
      "cell_type": "code",
      "metadata": {
        "colab": {
          "base_uri": "https://localhost:8080/"
        },
        "id": "NMp-yRb_D0PT",
        "outputId": "4fdddabf-0704-4ce9-df38-0f0122eb594c"
      },
      "source": [
        "# Encoder\n",
        "input = Input(shape=(x_train_m.shape[1], x_train_m.shape[2]))\n",
        "x = Conv1D(filters=256, kernel_size=7,  strides=2,padding=\"same\", activation=\"relu\")(input)\n",
        "x = Dropout(rate=0.2)(x)\n",
        "x = Conv1D(filters=128, kernel_size=7,  strides=2,padding=\"same\", activation=\"relu\")(x)\n",
        "x = Dropout(rate=0.2)(x)\n",
        "x = Conv1D(filters=64, kernel_size=7,  strides=2,padding=\"same\", activation=\"relu\")(x)\n",
        "x = Dropout(rate=0.2)(x)\n",
        "x = Conv1D(filters=32, kernel_size=7,  strides=2,padding=\"same\", activation=\"relu\")(x)\n",
        "x = Dropout(rate=0.2)(x)\n",
        "encoder_output = Conv1D(filters=16, kernel_size=7, padding=\"same\", strides=2, activation=\"relu\")(x)\n",
        "\n",
        "# VQVAELayer.\n",
        "enc = Conv1D(embedding_dim, kernel_size=1, strides=1, name=\"pre_vqvae\")(x)\n",
        "enc_inputs = enc\n",
        "enc = VQVAELayer(embedding_dim, num_embeddings, commitment_cost, name=\"vqvae\")(enc)\n",
        "x = Lambda(lambda enc: enc_inputs + K.stop_gradient(enc - enc_inputs), name=\"encoded\")(enc)\n",
        "data_variance = np.var(x_train_m)\n",
        "loss = vq_vae_loss_wrapper(data_variance, commitment_cost, enc, enc_inputs)\n",
        "\n",
        "# Decoder.\n",
        "x = Conv1D(filters=16, kernel_size=7, strides=2, padding = 'same')(x)\n",
        "x = UpSampling1D(size = 2)(x)\n",
        "x = Dropout(rate=0.2)(x)\n",
        "x = Conv1D(filters=32, kernel_size=7,  strides=2, padding = 'same')(x)\n",
        "x = UpSampling1D(size = 2)(x)\n",
        "x = Conv1D(filters=64, kernel_size=7,  strides=1, padding = 'same')(x)\n",
        "x = UpSampling1D(size = 2)(x)\n",
        "x = Conv1D(filters=128, kernel_size=7,  strides=1, padding = 'same')(x)\n",
        "x = UpSampling1D(size = 2)(x)\n",
        "x = Conv1D(filters=256, kernel_size=7,  strides=1, padding = 'same')(x)\n",
        "x = UpSampling1D(size = 2)(x)\n",
        "x = Conv1D(filters=4, kernel_size=7, padding = 'same')(x)\n",
        "x = UpSampling1D(size = 2)(x)\n",
        "\n",
        "# Autoencoder.\n",
        "vqvae = Model(input, x)\n",
        "vqvae.compile(loss=loss, optimizer='adam')\n",
        "vqvae.summary()"
      ],
      "execution_count": null,
      "outputs": [
        {
          "output_type": "stream",
          "text": [
            "WARNING:tensorflow:Entity <bound method VQVAELayer.call of <__main__.VQVAELayer object at 0x7f4e084c7b50>> could not be transformed and will be executed as-is. Please report this to the AutoGraph team. When filing the bug, set the verbosity to 10 (on Linux, `export AUTOGRAPH_VERBOSITY=10`) and attach the full output. Cause: module 'gast' has no attribute 'Index'\n",
            "WARNING: Entity <bound method VQVAELayer.call of <__main__.VQVAELayer object at 0x7f4e084c7b50>> could not be transformed and will be executed as-is. Please report this to the AutoGraph team. When filing the bug, set the verbosity to 10 (on Linux, `export AUTOGRAPH_VERBOSITY=10`) and attach the full output. Cause: module 'gast' has no attribute 'Index'\n",
            "Model: \"model_7\"\n",
            "_________________________________________________________________\n",
            "Layer (type)                 Output Shape              Param #   \n",
            "=================================================================\n",
            "input_4 (InputLayer)         [(None, 256, 4)]          0         \n",
            "_________________________________________________________________\n",
            "conv1d_33 (Conv1D)           (None, 128, 256)          7424      \n",
            "_________________________________________________________________\n",
            "dropout_15 (Dropout)         (None, 128, 256)          0         \n",
            "_________________________________________________________________\n",
            "conv1d_34 (Conv1D)           (None, 64, 128)           229504    \n",
            "_________________________________________________________________\n",
            "dropout_16 (Dropout)         (None, 64, 128)           0         \n",
            "_________________________________________________________________\n",
            "conv1d_35 (Conv1D)           (None, 32, 64)            57408     \n",
            "_________________________________________________________________\n",
            "dropout_17 (Dropout)         (None, 32, 64)            0         \n",
            "_________________________________________________________________\n",
            "conv1d_36 (Conv1D)           (None, 16, 32)            14368     \n",
            "_________________________________________________________________\n",
            "dropout_18 (Dropout)         (None, 16, 32)            0         \n",
            "_________________________________________________________________\n",
            "pre_vqvae (Conv1D)           (None, 16, 128)           4224      \n",
            "_________________________________________________________________\n",
            "vqvae (VQVAELayer)           (None, 16, 128)           2048      \n",
            "_________________________________________________________________\n",
            "encoded (Lambda)             (None, 16, 128)           0         \n",
            "_________________________________________________________________\n",
            "conv1d_38 (Conv1D)           (None, 8, 16)             14352     \n",
            "_________________________________________________________________\n",
            "up_sampling1d_18 (UpSampling (None, 16, 16)            0         \n",
            "_________________________________________________________________\n",
            "dropout_19 (Dropout)         (None, 16, 16)            0         \n",
            "_________________________________________________________________\n",
            "conv1d_39 (Conv1D)           (None, 8, 32)             3616      \n",
            "_________________________________________________________________\n",
            "up_sampling1d_19 (UpSampling (None, 16, 32)            0         \n",
            "_________________________________________________________________\n",
            "conv1d_40 (Conv1D)           (None, 16, 64)            14400     \n",
            "_________________________________________________________________\n",
            "up_sampling1d_20 (UpSampling (None, 32, 64)            0         \n",
            "_________________________________________________________________\n",
            "conv1d_41 (Conv1D)           (None, 32, 128)           57472     \n",
            "_________________________________________________________________\n",
            "up_sampling1d_21 (UpSampling (None, 64, 128)           0         \n",
            "_________________________________________________________________\n",
            "conv1d_42 (Conv1D)           (None, 64, 256)           229632    \n",
            "_________________________________________________________________\n",
            "up_sampling1d_22 (UpSampling (None, 128, 256)          0         \n",
            "_________________________________________________________________\n",
            "conv1d_43 (Conv1D)           (None, 128, 4)            7172      \n",
            "_________________________________________________________________\n",
            "up_sampling1d_23 (UpSampling (None, 256, 4)            0         \n",
            "=================================================================\n",
            "Total params: 641,620\n",
            "Trainable params: 641,620\n",
            "Non-trainable params: 0\n",
            "_________________________________________________________________\n"
          ],
          "name": "stdout"
        }
      ]
    },
    {
      "cell_type": "code",
      "metadata": {
        "colab": {
          "base_uri": "https://localhost:8080/"
        },
        "id": "7Et1irTTD0PU",
        "outputId": "02d5c8f5-0efe-482e-bad1-dbac850f1aa3"
      },
      "source": [
        "history = vqvae.fit(x_train_m, x_train_m,\n",
        "                    batch_size=batch_size, epochs=epochs,\n",
        "                    validation_split=validation_split,\n",
        "                    callbacks=[esc])"
      ],
      "execution_count": null,
      "outputs": [
        {
          "output_type": "stream",
          "text": [
            "Train on 43153 samples, validate on 4795 samples\n",
            "Epoch 1/150\n",
            "43153/43153 [==============================] - 11s 260us/sample - loss: 39.6114 - val_loss: 0.3449\n",
            "Epoch 2/150\n",
            "43153/43153 [==============================] - 9s 220us/sample - loss: 0.3640 - val_loss: 0.3437\n",
            "Epoch 3/150\n",
            "43153/43153 [==============================] - 9s 218us/sample - loss: 0.3549 - val_loss: 0.3457\n",
            "Epoch 4/150\n",
            "43153/43153 [==============================] - 9s 219us/sample - loss: 0.3495 - val_loss: 0.3441\n",
            "Epoch 5/150\n",
            "43153/43153 [==============================] - 9s 220us/sample - loss: 0.3475 - val_loss: 0.3440\n",
            "Epoch 6/150\n",
            "43153/43153 [==============================] - 9s 219us/sample - loss: 0.3473 - val_loss: 0.3435\n",
            "Epoch 7/150\n",
            "43153/43153 [==============================] - 9s 219us/sample - loss: 0.3465 - val_loss: 0.3448\n",
            "Epoch 8/150\n",
            "43153/43153 [==============================] - 9s 219us/sample - loss: 0.3466 - val_loss: 0.3441\n",
            "Epoch 9/150\n",
            "43153/43153 [==============================] - 9s 219us/sample - loss: 0.3468 - val_loss: 0.3436\n",
            "Epoch 10/150\n",
            "43153/43153 [==============================] - 9s 220us/sample - loss: 0.3470 - val_loss: 0.3434\n",
            "Epoch 11/150\n",
            "43153/43153 [==============================] - 10s 226us/sample - loss: 0.3466 - val_loss: 0.3439\n"
          ],
          "name": "stdout"
        }
      ]
    },
    {
      "cell_type": "code",
      "metadata": {
        "id": "olh5unnLD0PU"
      },
      "source": [
        "# Get train MAE loss.\n",
        "x_train_pred_m = vqvae.predict(x_train_m)\n",
        "original = []\n",
        "for item in x_train_m:\n",
        "  #print(item[0])\n",
        "  original.append(item[0])\n",
        "predicted = []\n",
        "for item in x_train_pred_m:\n",
        "  #print(item[0])\n",
        "  predicted.append(item[0])"
      ],
      "execution_count": null,
      "outputs": []
    },
    {
      "cell_type": "code",
      "metadata": {
        "id": "uodQhIVXD0PU"
      },
      "source": [
        "df_original = pd.DataFrame(original)\n",
        "df_pred = pd.DataFrame(predicted)\n",
        "original_mean = df_original.mean(axis = 0)\n",
        "difference = df_original - df_pred\n",
        "difference_mean = np.abs(difference.mean(axis = 0))"
      ],
      "execution_count": null,
      "outputs": []
    },
    {
      "cell_type": "code",
      "metadata": {
        "colab": {
          "base_uri": "https://localhost:8080/"
        },
        "id": "jO7LuqsxD0PV",
        "outputId": "81ad2e32-ab8b-4689-9bca-d996f31d87be"
      },
      "source": [
        "difference_mean/original_mean"
      ],
      "execution_count": null,
      "outputs": [
        {
          "output_type": "execute_result",
          "data": {
            "text/plain": [
              "0    0.000467\n",
              "1    4.938910\n",
              "2    0.067710\n",
              "3    0.017356\n",
              "dtype: float64"
            ]
          },
          "metadata": {
            "tags": []
          },
          "execution_count": 53
        }
      ]
    },
    {
      "cell_type": "code",
      "metadata": {
        "id": "qy1QhVx8D0PV"
      },
      "source": [
        "intermediate_layer_model = Model(inputs=vqvae.input,\n",
        "                                 outputs=vqvae.get_layer(\"vqvae\").output)\n",
        "intermediate_output = intermediate_layer_model.predict(x_train_m)"
      ],
      "execution_count": null,
      "outputs": []
    },
    {
      "cell_type": "code",
      "metadata": {
        "colab": {
          "base_uri": "https://localhost:8080/"
        },
        "id": "DhEWxvIMD0PV",
        "outputId": "e0e751fd-0336-4d9f-9dfc-80ebc9a0ad29"
      },
      "source": [
        "len(intermediate_output)"
      ],
      "execution_count": null,
      "outputs": [
        {
          "output_type": "execute_result",
          "data": {
            "text/plain": [
              "47948"
            ]
          },
          "metadata": {
            "tags": []
          },
          "execution_count": 55
        }
      ]
    },
    {
      "cell_type": "code",
      "metadata": {
        "colab": {
          "base_uri": "https://localhost:8080/"
        },
        "id": "2i3MT5_8D0PV",
        "outputId": "179e5089-a791-4679-86e6-89a0c17f217c"
      },
      "source": [
        "\n",
        "encoded_vectors = dictionary_encoding(intermediate_output)\n",
        "embedded_size = sys.getsizeof(encoded_vectors)\n",
        "original_size = sys.getsizeof(X)\n",
        "print(\"Compression: \", embedded_size/original_size)"
      ],
      "execution_count": null,
      "outputs": [
        {
          "output_type": "stream",
          "text": [
            "Compression:  0.000160758364620714\n"
          ],
          "name": "stdout"
        }
      ]
    },
    {
      "cell_type": "code",
      "metadata": {
        "id": "xJLYyAWFD7FD"
      },
      "source": [
        ""
      ],
      "execution_count": null,
      "outputs": []
    },
    {
      "cell_type": "code",
      "metadata": {
        "id": "t1VPywFPEdDP"
      },
      "source": [
        "# Hyper Parameters.\n",
        "epochs = 150 # MAX\n",
        "batch_size = 64\n",
        "validation_split = 0.1\n",
        "\n",
        "# VQ-VAE Hyper Parameters.\n",
        "embedding_dim = 32 # Length of embedding vectors.\n",
        "num_embeddings = 32 # Number of embedding vectors (high value = high bottleneck capacity).\n",
        "commitment_cost = 0.25 # Controls the weighting of the loss terms.\n",
        "\n",
        "# EarlyStoppingCallback.\n",
        "esc = keras.callbacks.EarlyStopping(monitor='val_loss', min_delta=1e-4,\n",
        "                                    patience=5, verbose=0, mode='auto',\n",
        "                                    baseline=None, restore_best_weights=True)"
      ],
      "execution_count": null,
      "outputs": []
    },
    {
      "cell_type": "code",
      "metadata": {
        "colab": {
          "base_uri": "https://localhost:8080/"
        },
        "id": "U5AzplHJEdDQ",
        "outputId": "daf0ce68-7d0e-4aa4-e385-904e0a503101"
      },
      "source": [
        "# Encoder\n",
        "input = Input(shape=(x_train_m.shape[1], x_train_m.shape[2]))\n",
        "x = Conv1D(filters=256, kernel_size=7,  strides=2,padding=\"same\", activation=\"relu\")(input)\n",
        "x = Dropout(rate=0.2)(x)\n",
        "x = Conv1D(filters=128, kernel_size=7,  strides=2,padding=\"same\", activation=\"relu\")(x)\n",
        "x = Dropout(rate=0.2)(x)\n",
        "x = Conv1D(filters=64, kernel_size=7,  strides=2,padding=\"same\", activation=\"relu\")(x)\n",
        "x = Dropout(rate=0.2)(x)\n",
        "encoder_output = Conv1D(filters=32, kernel_size=7, padding=\"same\", strides=2, activation=\"relu\")(x)\n",
        "\n",
        "# VQVAELayer.\n",
        "enc = Conv1D(embedding_dim, kernel_size=1, strides=1, name=\"pre_vqvae\")(x)\n",
        "enc_inputs = enc\n",
        "enc = VQVAELayer(embedding_dim, num_embeddings, commitment_cost, name=\"vqvae\")(enc)\n",
        "x = Lambda(lambda enc: enc_inputs + K.stop_gradient(enc - enc_inputs), name=\"encoded\")(enc)\n",
        "data_variance = np.var(x_train_m)\n",
        "loss = vq_vae_loss_wrapper(data_variance, commitment_cost, enc, enc_inputs)\n",
        "\n",
        "# Decoder.\n",
        "x = Dropout(rate=0.2)(x)\n",
        "x = Conv1D(filters=32, kernel_size=7,  strides=2, padding = 'same')(x)\n",
        "x = UpSampling1D(size = 2)(x)\n",
        "x = Conv1D(filters=64, kernel_size=7,  strides=1, padding = 'same')(x)\n",
        "x = UpSampling1D(size = 2)(x)\n",
        "x = Conv1D(filters=128, kernel_size=7,  strides=1, padding = 'same')(x)\n",
        "x = UpSampling1D(size = 2)(x)\n",
        "x = Conv1D(filters=256, kernel_size=7,  strides=1, padding = 'same')(x)\n",
        "x = UpSampling1D(size = 2)(x)\n",
        "x = Conv1D(filters=4, kernel_size=7, padding = 'same')(x)\n",
        "\n",
        "# Autoencoder.\n",
        "vqvae = Model(input, x)\n",
        "vqvae.compile(loss=loss, optimizer='adam')\n",
        "vqvae.summary()"
      ],
      "execution_count": null,
      "outputs": [
        {
          "output_type": "stream",
          "text": [
            "WARNING:tensorflow:Entity <bound method VQVAELayer.call of <__main__.VQVAELayer object at 0x7f4e6d7a2950>> could not be transformed and will be executed as-is. Please report this to the AutoGraph team. When filing the bug, set the verbosity to 10 (on Linux, `export AUTOGRAPH_VERBOSITY=10`) and attach the full output. Cause: module 'gast' has no attribute 'Index'\n",
            "WARNING: Entity <bound method VQVAELayer.call of <__main__.VQVAELayer object at 0x7f4e6d7a2950>> could not be transformed and will be executed as-is. Please report this to the AutoGraph team. When filing the bug, set the verbosity to 10 (on Linux, `export AUTOGRAPH_VERBOSITY=10`) and attach the full output. Cause: module 'gast' has no attribute 'Index'\n",
            "Model: \"model_10\"\n",
            "_________________________________________________________________\n",
            "Layer (type)                 Output Shape              Param #   \n",
            "=================================================================\n",
            "input_6 (InputLayer)         [(None, 256, 4)]          0         \n",
            "_________________________________________________________________\n",
            "conv1d_53 (Conv1D)           (None, 128, 256)          7424      \n",
            "_________________________________________________________________\n",
            "dropout_24 (Dropout)         (None, 128, 256)          0         \n",
            "_________________________________________________________________\n",
            "conv1d_54 (Conv1D)           (None, 64, 128)           229504    \n",
            "_________________________________________________________________\n",
            "dropout_25 (Dropout)         (None, 64, 128)           0         \n",
            "_________________________________________________________________\n",
            "conv1d_55 (Conv1D)           (None, 32, 64)            57408     \n",
            "_________________________________________________________________\n",
            "dropout_26 (Dropout)         (None, 32, 64)            0         \n",
            "_________________________________________________________________\n",
            "pre_vqvae (Conv1D)           (None, 32, 32)            2080      \n",
            "_________________________________________________________________\n",
            "vqvae (VQVAELayer)           (None, 32, 32)            1024      \n",
            "_________________________________________________________________\n",
            "encoded (Lambda)             (None, 32, 32)            0         \n",
            "_________________________________________________________________\n",
            "dropout_27 (Dropout)         (None, 32, 32)            0         \n",
            "_________________________________________________________________\n",
            "conv1d_57 (Conv1D)           (None, 16, 32)            7200      \n",
            "_________________________________________________________________\n",
            "up_sampling1d_29 (UpSampling (None, 32, 32)            0         \n",
            "_________________________________________________________________\n",
            "conv1d_58 (Conv1D)           (None, 32, 64)            14400     \n",
            "_________________________________________________________________\n",
            "up_sampling1d_30 (UpSampling (None, 64, 64)            0         \n",
            "_________________________________________________________________\n",
            "conv1d_59 (Conv1D)           (None, 64, 128)           57472     \n",
            "_________________________________________________________________\n",
            "up_sampling1d_31 (UpSampling (None, 128, 128)          0         \n",
            "_________________________________________________________________\n",
            "conv1d_60 (Conv1D)           (None, 128, 256)          229632    \n",
            "_________________________________________________________________\n",
            "up_sampling1d_32 (UpSampling (None, 256, 256)          0         \n",
            "_________________________________________________________________\n",
            "conv1d_61 (Conv1D)           (None, 256, 4)            7172      \n",
            "=================================================================\n",
            "Total params: 613,316\n",
            "Trainable params: 613,316\n",
            "Non-trainable params: 0\n",
            "_________________________________________________________________\n"
          ],
          "name": "stdout"
        }
      ]
    },
    {
      "cell_type": "code",
      "metadata": {
        "colab": {
          "base_uri": "https://localhost:8080/"
        },
        "id": "y5PZZqyVEdDR",
        "outputId": "e7084938-15f2-4cd7-8b2b-771511fe57d0"
      },
      "source": [
        "history = vqvae.fit(x_train_m, x_train_m,\n",
        "                    batch_size=batch_size, epochs=epochs,\n",
        "                    validation_split=validation_split,\n",
        "                    callbacks=[esc])"
      ],
      "execution_count": null,
      "outputs": [
        {
          "output_type": "stream",
          "text": [
            "Train on 43153 samples, validate on 4795 samples\n",
            "Epoch 1/150\n",
            "43153/43153 [==============================] - 13s 305us/sample - loss: 146.3197 - val_loss: 0.3501\n",
            "Epoch 2/150\n",
            "43153/43153 [==============================] - 10s 237us/sample - loss: 0.4711 - val_loss: 0.3458\n",
            "Epoch 3/150\n",
            "43153/43153 [==============================] - 10s 240us/sample - loss: 0.4487 - val_loss: 0.3743\n",
            "Epoch 4/150\n",
            "43153/43153 [==============================] - 10s 241us/sample - loss: 0.6290 - val_loss: 0.3510\n",
            "Epoch 5/150\n",
            "43153/43153 [==============================] - 10s 241us/sample - loss: 0.4691 - val_loss: 0.3438\n",
            "Epoch 6/150\n",
            "43153/43153 [==============================] - 10s 242us/sample - loss: 0.5056 - val_loss: 0.3508\n",
            "Epoch 7/150\n",
            "43153/43153 [==============================] - 10s 242us/sample - loss: 0.3864 - val_loss: 0.3433\n",
            "Epoch 8/150\n",
            "43153/43153 [==============================] - 10s 241us/sample - loss: 0.4125 - val_loss: 0.3450\n",
            "Epoch 9/150\n",
            "43153/43153 [==============================] - 10s 242us/sample - loss: 0.3703 - val_loss: 0.3417\n",
            "Epoch 10/150\n",
            "43153/43153 [==============================] - 10s 243us/sample - loss: 0.3806 - val_loss: 0.1420\n",
            "Epoch 11/150\n",
            "43153/43153 [==============================] - 11s 244us/sample - loss: 0.1883 - val_loss: 0.0967\n",
            "Epoch 12/150\n",
            "43153/43153 [==============================] - 11s 245us/sample - loss: 0.1546 - val_loss: 0.0810\n",
            "Epoch 13/150\n",
            "43153/43153 [==============================] - 11s 244us/sample - loss: 0.1400 - val_loss: 0.0715\n",
            "Epoch 14/150\n",
            "43153/43153 [==============================] - 11s 245us/sample - loss: 0.1311 - val_loss: 0.0704\n",
            "Epoch 15/150\n",
            "43153/43153 [==============================] - 11s 244us/sample - loss: 0.1275 - val_loss: 0.0662\n",
            "Epoch 16/150\n",
            "43153/43153 [==============================] - 11s 244us/sample - loss: 0.1239 - val_loss: 0.0622\n",
            "Epoch 17/150\n",
            "43153/43153 [==============================] - 11s 247us/sample - loss: 0.1216 - val_loss: 0.0601\n",
            "Epoch 18/150\n",
            "43153/43153 [==============================] - 11s 245us/sample - loss: 0.1207 - val_loss: 0.0625\n",
            "Epoch 19/150\n",
            "43153/43153 [==============================] - 11s 245us/sample - loss: 0.1207 - val_loss: 0.0679\n",
            "Epoch 20/150\n",
            "43153/43153 [==============================] - 11s 246us/sample - loss: 0.1202 - val_loss: 0.0660\n",
            "Epoch 21/150\n",
            "43153/43153 [==============================] - 11s 245us/sample - loss: 0.1193 - val_loss: 0.0637\n",
            "Epoch 22/150\n",
            "43153/43153 [==============================] - 11s 256us/sample - loss: 0.1183 - val_loss: 0.0627\n"
          ],
          "name": "stdout"
        }
      ]
    },
    {
      "cell_type": "code",
      "metadata": {
        "id": "xPHJcKteEdDR"
      },
      "source": [
        "# Get train MAE loss.\n",
        "x_train_pred_m = vqvae.predict(x_train_m)\n",
        "original = []\n",
        "for item in x_train_m:\n",
        "  #print(item[0])\n",
        "  original.append(item[0])\n",
        "predicted = []\n",
        "for item in x_train_pred_m:\n",
        "  #print(item[0])\n",
        "  predicted.append(item[0])"
      ],
      "execution_count": null,
      "outputs": []
    },
    {
      "cell_type": "code",
      "metadata": {
        "id": "yGvr99V-EdDS"
      },
      "source": [
        "df_original = pd.DataFrame(original)\n",
        "df_pred = pd.DataFrame(predicted)\n",
        "original_mean = df_original.mean(axis = 0)\n",
        "difference = df_original - df_pred\n",
        "difference_mean = np.abs(difference.mean(axis = 0))"
      ],
      "execution_count": null,
      "outputs": []
    },
    {
      "cell_type": "code",
      "metadata": {
        "colab": {
          "base_uri": "https://localhost:8080/"
        },
        "id": "1LVefaqfEdDS",
        "outputId": "08b5b049-401c-4fab-d61c-ace2c5bcd7e6"
      },
      "source": [
        "difference_mean/original_mean"
      ],
      "execution_count": null,
      "outputs": [
        {
          "output_type": "execute_result",
          "data": {
            "text/plain": [
              "0     0.107112\n",
              "1    12.296206\n",
              "2     0.054014\n",
              "3     0.018228\n",
              "dtype: float64"
            ]
          },
          "metadata": {
            "tags": []
          },
          "execution_count": 64
        }
      ]
    },
    {
      "cell_type": "code",
      "metadata": {
        "id": "iOz2BSL-EdDS"
      },
      "source": [
        "intermediate_layer_model = Model(inputs=vqvae.input,\n",
        "                                 outputs=vqvae.get_layer(\"vqvae\").output)\n",
        "intermediate_output = intermediate_layer_model.predict(x_train_m)"
      ],
      "execution_count": null,
      "outputs": []
    },
    {
      "cell_type": "code",
      "metadata": {
        "colab": {
          "base_uri": "https://localhost:8080/"
        },
        "id": "wNZJuBA3EdDS",
        "outputId": "7ac50d29-e27e-40c7-be2f-00d851729579"
      },
      "source": [
        "len(intermediate_output)"
      ],
      "execution_count": null,
      "outputs": [
        {
          "output_type": "execute_result",
          "data": {
            "text/plain": [
              "47948"
            ]
          },
          "metadata": {
            "tags": []
          },
          "execution_count": 66
        }
      ]
    },
    {
      "cell_type": "code",
      "metadata": {
        "colab": {
          "base_uri": "https://localhost:8080/"
        },
        "id": "s6zzsrGpEdDT",
        "outputId": "d11464b5-2160-46eb-eb60-35b251be447b"
      },
      "source": [
        "encoded_vectors = dictionary_encoding(intermediate_output)\n",
        "embedded_size = sys.getsizeof(encoded_vectors)\n",
        "original_size = sys.getsizeof(X)\n",
        "print(\"Compression: \", embedded_size/original_size)"
      ],
      "execution_count": null,
      "outputs": [
        {
          "output_type": "stream",
          "text": [
            "Compression:  0.0007726773009189156\n"
          ],
          "name": "stdout"
        }
      ]
    },
    {
      "cell_type": "code",
      "metadata": {
        "id": "jfyehVs8F0WJ"
      },
      "source": [
        ""
      ],
      "execution_count": null,
      "outputs": []
    },
    {
      "cell_type": "code",
      "metadata": {
        "id": "MElX5xPxF832"
      },
      "source": [
        "# Hyper Parameters.\n",
        "epochs = 150 # MAX\n",
        "batch_size = 64\n",
        "validation_split = 0.1\n",
        "\n",
        "# VQ-VAE Hyper Parameters.\n",
        "embedding_dim = 16 # Length of embedding vectors.\n",
        "num_embeddings = 32 # Number of embedding vectors (high value = high bottleneck capacity).\n",
        "commitment_cost = 0.25 # Controls the weighting of the loss terms.\n",
        "\n",
        "# EarlyStoppingCallback.\n",
        "esc = keras.callbacks.EarlyStopping(monitor='val_loss', min_delta=1e-4,\n",
        "                                    patience=5, verbose=0, mode='auto',\n",
        "                                    baseline=None, restore_best_weights=True)"
      ],
      "execution_count": null,
      "outputs": []
    },
    {
      "cell_type": "code",
      "metadata": {
        "colab": {
          "base_uri": "https://localhost:8080/"
        },
        "id": "1RYHF9grF834",
        "outputId": "20c5aca5-ce99-4891-d1f7-23da3bbb52b0"
      },
      "source": [
        "# Encoder\n",
        "input = Input(shape=(x_train_m.shape[1], x_train_m.shape[2]))\n",
        "x = Conv1D(filters=256, kernel_size=7,  strides=2,padding=\"same\", activation=\"relu\")(input)\n",
        "x = Dropout(rate=0.2)(x)\n",
        "x = Conv1D(filters=128, kernel_size=7,  strides=2,padding=\"same\", activation=\"relu\")(x)\n",
        "x = Dropout(rate=0.2)(x)\n",
        "x = Conv1D(filters=64, kernel_size=7,  strides=2,padding=\"same\", activation=\"relu\")(x)\n",
        "x = Dropout(rate=0.2)(x)\n",
        "encoder_output = Conv1D(filters=32, kernel_size=7, padding=\"same\", strides=2, activation=\"relu\")(x)\n",
        "\n",
        "# VQVAELayer.\n",
        "enc = Conv1D(embedding_dim, kernel_size=1, strides=1, name=\"pre_vqvae\")(x)\n",
        "enc_inputs = enc\n",
        "enc = VQVAELayer(embedding_dim, num_embeddings, commitment_cost, name=\"vqvae\")(enc)\n",
        "x = Lambda(lambda enc: enc_inputs + K.stop_gradient(enc - enc_inputs), name=\"encoded\")(enc)\n",
        "data_variance = np.var(x_train_m)\n",
        "loss = vq_vae_loss_wrapper(data_variance, commitment_cost, enc, enc_inputs)\n",
        "\n",
        "# Decoder.\n",
        "\n",
        "x = Conv1D(filters=32, kernel_size=7,  strides=2, padding = 'same')(x)\n",
        "x = UpSampling1D(size = 2)(x)\n",
        "x = Conv1D(filters=64, kernel_size=7,  strides=1, padding = 'same')(x)\n",
        "x = UpSampling1D(size = 2)(x)\n",
        "x = Conv1D(filters=128, kernel_size=7,  strides=1, padding = 'same')(x)\n",
        "x = UpSampling1D(size = 2)(x)\n",
        "x = Conv1D(filters=256, kernel_size=7,  strides=1, padding = 'same')(x)\n",
        "x = UpSampling1D(size = 2)(x)\n",
        "x = Conv1D(filters=4, kernel_size=7, padding = 'same')(x)\n",
        "# Autoencoder.\n",
        "vqvae = Model(input, x)\n",
        "vqvae.compile(loss=loss, optimizer='adam')\n",
        "vqvae.summary()"
      ],
      "execution_count": null,
      "outputs": [
        {
          "output_type": "stream",
          "text": [
            "WARNING:tensorflow:Entity <bound method VQVAELayer.call of <__main__.VQVAELayer object at 0x7f4e082b2d90>> could not be transformed and will be executed as-is. Please report this to the AutoGraph team. When filing the bug, set the verbosity to 10 (on Linux, `export AUTOGRAPH_VERBOSITY=10`) and attach the full output. Cause: module 'gast' has no attribute 'Index'\n",
            "WARNING: Entity <bound method VQVAELayer.call of <__main__.VQVAELayer object at 0x7f4e082b2d90>> could not be transformed and will be executed as-is. Please report this to the AutoGraph team. When filing the bug, set the verbosity to 10 (on Linux, `export AUTOGRAPH_VERBOSITY=10`) and attach the full output. Cause: module 'gast' has no attribute 'Index'\n",
            "Model: \"model_13\"\n",
            "_________________________________________________________________\n",
            "Layer (type)                 Output Shape              Param #   \n",
            "=================================================================\n",
            "input_8 (InputLayer)         [(None, 256, 4)]          0         \n",
            "_________________________________________________________________\n",
            "conv1d_71 (Conv1D)           (None, 128, 256)          7424      \n",
            "_________________________________________________________________\n",
            "dropout_31 (Dropout)         (None, 128, 256)          0         \n",
            "_________________________________________________________________\n",
            "conv1d_72 (Conv1D)           (None, 64, 128)           229504    \n",
            "_________________________________________________________________\n",
            "dropout_32 (Dropout)         (None, 64, 128)           0         \n",
            "_________________________________________________________________\n",
            "conv1d_73 (Conv1D)           (None, 32, 64)            57408     \n",
            "_________________________________________________________________\n",
            "dropout_33 (Dropout)         (None, 32, 64)            0         \n",
            "_________________________________________________________________\n",
            "pre_vqvae (Conv1D)           (None, 32, 16)            1040      \n",
            "_________________________________________________________________\n",
            "vqvae (VQVAELayer)           (None, 32, 16)            512       \n",
            "_________________________________________________________________\n",
            "encoded (Lambda)             (None, 32, 16)            0         \n",
            "_________________________________________________________________\n",
            "conv1d_75 (Conv1D)           (None, 16, 32)            3616      \n",
            "_________________________________________________________________\n",
            "up_sampling1d_38 (UpSampling (None, 32, 32)            0         \n",
            "_________________________________________________________________\n",
            "conv1d_76 (Conv1D)           (None, 32, 64)            14400     \n",
            "_________________________________________________________________\n",
            "up_sampling1d_39 (UpSampling (None, 64, 64)            0         \n",
            "_________________________________________________________________\n",
            "conv1d_77 (Conv1D)           (None, 64, 128)           57472     \n",
            "_________________________________________________________________\n",
            "up_sampling1d_40 (UpSampling (None, 128, 128)          0         \n",
            "_________________________________________________________________\n",
            "conv1d_78 (Conv1D)           (None, 128, 256)          229632    \n",
            "_________________________________________________________________\n",
            "up_sampling1d_41 (UpSampling (None, 256, 256)          0         \n",
            "_________________________________________________________________\n",
            "conv1d_79 (Conv1D)           (None, 256, 4)            7172      \n",
            "=================================================================\n",
            "Total params: 608,180\n",
            "Trainable params: 608,180\n",
            "Non-trainable params: 0\n",
            "_________________________________________________________________\n"
          ],
          "name": "stdout"
        }
      ]
    },
    {
      "cell_type": "code",
      "metadata": {
        "colab": {
          "base_uri": "https://localhost:8080/"
        },
        "id": "djGfEurGF835",
        "outputId": "be87090c-9b2e-44b0-e788-38d1f969ebe9"
      },
      "source": [
        "history = vqvae.fit(x_train_m, x_train_m,\n",
        "                    batch_size=batch_size, epochs=epochs,\n",
        "                    validation_split=validation_split,\n",
        "                    callbacks=[esc])"
      ],
      "execution_count": null,
      "outputs": [
        {
          "output_type": "stream",
          "text": [
            "Train on 43153 samples, validate on 4795 samples\n",
            "Epoch 1/150\n",
            "43153/43153 [==============================] - 13s 298us/sample - loss: 194.8269 - val_loss: 0.3508\n",
            "Epoch 2/150\n",
            "43153/43153 [==============================] - 10s 238us/sample - loss: 0.7720 - val_loss: 0.3532\n",
            "Epoch 3/150\n",
            "43153/43153 [==============================] - 10s 238us/sample - loss: 0.6276 - val_loss: 0.3579\n",
            "Epoch 4/150\n",
            "43153/43153 [==============================] - 10s 239us/sample - loss: 0.4120 - val_loss: 0.3528\n",
            "Epoch 5/150\n",
            "43153/43153 [==============================] - 10s 239us/sample - loss: 0.3785 - val_loss: 0.3435\n",
            "Epoch 6/150\n",
            "43153/43153 [==============================] - 10s 239us/sample - loss: 0.3479 - val_loss: 0.3453\n",
            "Epoch 7/150\n",
            "43153/43153 [==============================] - 10s 240us/sample - loss: 0.3485 - val_loss: 0.3436\n",
            "Epoch 8/150\n",
            "43153/43153 [==============================] - 10s 240us/sample - loss: 0.3473 - val_loss: 0.3438\n",
            "Epoch 9/150\n",
            "43153/43153 [==============================] - 10s 241us/sample - loss: 0.3471 - val_loss: 0.3435\n",
            "Epoch 10/150\n",
            "43153/43153 [==============================] - 11s 255us/sample - loss: 0.3861 - val_loss: 0.3485\n"
          ],
          "name": "stdout"
        }
      ]
    },
    {
      "cell_type": "code",
      "metadata": {
        "id": "KG6WgFmeF835"
      },
      "source": [
        "# Get train MAE loss.\n",
        "x_train_pred_m = vqvae.predict(x_train_m)\n",
        "original = []\n",
        "for item in x_train_m:\n",
        "  #print(item[0])\n",
        "  original.append(item[0])\n",
        "predicted = []\n",
        "for item in x_train_pred_m:\n",
        "  #print(item[0])\n",
        "  predicted.append(item[0])"
      ],
      "execution_count": null,
      "outputs": []
    },
    {
      "cell_type": "code",
      "metadata": {
        "id": "gMaZVJrNF835"
      },
      "source": [
        "df_original = pd.DataFrame(original)\n",
        "df_pred = pd.DataFrame(predicted)\n",
        "original_mean = df_original.mean(axis = 0)\n",
        "difference = df_original - df_pred\n",
        "difference_mean = np.abs(difference.mean(axis = 0))"
      ],
      "execution_count": null,
      "outputs": []
    },
    {
      "cell_type": "code",
      "metadata": {
        "colab": {
          "base_uri": "https://localhost:8080/"
        },
        "id": "mmuLoW_CF836",
        "outputId": "2afe76bd-c3de-4003-80b1-cf00b7ca1bbf"
      },
      "source": [
        "difference_mean/original_mean"
      ],
      "execution_count": null,
      "outputs": [
        {
          "output_type": "execute_result",
          "data": {
            "text/plain": [
              "0    0.017211\n",
              "1    6.732256\n",
              "2    0.091908\n",
              "3    0.049622\n",
              "dtype: float64"
            ]
          },
          "metadata": {
            "tags": []
          },
          "execution_count": 75
        }
      ]
    },
    {
      "cell_type": "code",
      "metadata": {
        "id": "mn-V5C7UF836"
      },
      "source": [
        "intermediate_layer_model = Model(inputs=vqvae.input,\n",
        "                                 outputs=vqvae.get_layer(\"vqvae\").output)\n",
        "intermediate_output = intermediate_layer_model.predict(x_train_m)"
      ],
      "execution_count": null,
      "outputs": []
    },
    {
      "cell_type": "code",
      "metadata": {
        "colab": {
          "base_uri": "https://localhost:8080/"
        },
        "id": "1z6SbQPXF837",
        "outputId": "88fe654c-57fc-4800-b65e-55f0f488a079"
      },
      "source": [
        "len(intermediate_output)"
      ],
      "execution_count": null,
      "outputs": [
        {
          "output_type": "execute_result",
          "data": {
            "text/plain": [
              "47948"
            ]
          },
          "metadata": {
            "tags": []
          },
          "execution_count": 77
        }
      ]
    },
    {
      "cell_type": "code",
      "metadata": {
        "colab": {
          "base_uri": "https://localhost:8080/"
        },
        "id": "31hKuBlvF837",
        "outputId": "958a3d9f-5866-4185-d49e-923d185c9671"
      },
      "source": [
        "encoded_vectors = dictionary_encoding(intermediate_output)\n",
        "embedded_size = sys.getsizeof(encoded_vectors)\n",
        "original_size = sys.getsizeof(X)\n",
        "print(\"Compression: \", embedded_size/original_size)"
      ],
      "execution_count": null,
      "outputs": [
        {
          "output_type": "stream",
          "text": [
            "Compression:  0.000160758364620714\n"
          ],
          "name": "stdout"
        }
      ]
    },
    {
      "cell_type": "code",
      "metadata": {
        "id": "L_NnMD--G648"
      },
      "source": [
        ""
      ],
      "execution_count": null,
      "outputs": []
    },
    {
      "cell_type": "code",
      "metadata": {
        "id": "J02tSBNyHEGv"
      },
      "source": [
        "# Hyper Parameters.\n",
        "epochs = 150 # MAX\n",
        "batch_size = 64\n",
        "validation_split = 0.1\n",
        "\n",
        "# VQ-VAE Hyper Parameters.\n",
        "embedding_dim = 64 # Length of embedding vectors.\n",
        "num_embeddings = 64 # Number of embedding vectors (high value = high bottleneck capacity).\n",
        "commitment_cost = 0.25 # Controls the weighting of the loss terms.\n",
        "\n",
        "# EarlyStoppingCallback.\n",
        "esc = keras.callbacks.EarlyStopping(monitor='val_loss', min_delta=1e-4,\n",
        "                                    patience=5, verbose=0, mode='auto',\n",
        "                                    baseline=None, restore_best_weights=True)"
      ],
      "execution_count": null,
      "outputs": []
    },
    {
      "cell_type": "code",
      "metadata": {
        "colab": {
          "base_uri": "https://localhost:8080/"
        },
        "id": "8D1gpwGhHEGx",
        "outputId": "67777361-edc9-4e92-e38a-5c651d18bb4f"
      },
      "source": [
        "# Encoder\n",
        "input = Input(shape=(x_train_m.shape[1], x_train_m.shape[2]))\n",
        "x = Conv1D(filters=256, kernel_size=7,  strides=2,padding=\"same\", activation=\"relu\")(input)\n",
        "x = Dropout(rate=0.2)(x)\n",
        "x = Conv1D(filters=128, kernel_size=7,  strides=2,padding=\"same\", activation=\"relu\")(x)\n",
        "x = Dropout(rate=0.2)(x)\n",
        "encoder_output = Conv1D(filters=64, kernel_size=7, padding=\"same\", strides=2, activation=\"relu\")(x)\n",
        "\n",
        "# VQVAELayer.\n",
        "enc = Conv1D(embedding_dim, kernel_size=1, strides=1, name=\"pre_vqvae\")(x)\n",
        "enc_inputs = enc\n",
        "enc = VQVAELayer(embedding_dim, num_embeddings, commitment_cost, name=\"vqvae\")(enc)\n",
        "x = Lambda(lambda enc: enc_inputs + K.stop_gradient(enc - enc_inputs), name=\"encoded\")(enc)\n",
        "data_variance = np.var(x_train_m)\n",
        "loss = vq_vae_loss_wrapper(data_variance, commitment_cost, enc, enc_inputs)\n",
        "\n",
        "# Decoder.\n",
        "\n",
        "x = Conv1D(filters=64, kernel_size=7,  strides=1, padding = 'same')(x)\n",
        "x = UpSampling1D(size = 2)(x)\n",
        "x = Conv1D(filters=128, kernel_size=7,  strides=1, padding = 'same')(x)\n",
        "x = UpSampling1D(size = 2)(x)\n",
        "x = Conv1D(filters=256, kernel_size=7,  strides=1, padding = 'same')(x)\n",
        "x = Conv1D(filters=4, kernel_size=7, padding = 'same')(x)\n",
        "# Autoencoder.\n",
        "vqvae = Model(input, x)\n",
        "vqvae.compile(loss=loss, optimizer='adam')\n",
        "vqvae.summary()"
      ],
      "execution_count": null,
      "outputs": [
        {
          "output_type": "stream",
          "text": [
            "WARNING:tensorflow:Entity <bound method VQVAELayer.call of <__main__.VQVAELayer object at 0x7f4c75c47810>> could not be transformed and will be executed as-is. Please report this to the AutoGraph team. When filing the bug, set the verbosity to 10 (on Linux, `export AUTOGRAPH_VERBOSITY=10`) and attach the full output. Cause: module 'gast' has no attribute 'Index'\n",
            "WARNING: Entity <bound method VQVAELayer.call of <__main__.VQVAELayer object at 0x7f4c75c47810>> could not be transformed and will be executed as-is. Please report this to the AutoGraph team. When filing the bug, set the verbosity to 10 (on Linux, `export AUTOGRAPH_VERBOSITY=10`) and attach the full output. Cause: module 'gast' has no attribute 'Index'\n",
            "Model: \"model_16\"\n",
            "_________________________________________________________________\n",
            "Layer (type)                 Output Shape              Param #   \n",
            "=================================================================\n",
            "input_10 (InputLayer)        [(None, 256, 4)]          0         \n",
            "_________________________________________________________________\n",
            "conv1d_87 (Conv1D)           (None, 128, 256)          7424      \n",
            "_________________________________________________________________\n",
            "dropout_36 (Dropout)         (None, 128, 256)          0         \n",
            "_________________________________________________________________\n",
            "conv1d_88 (Conv1D)           (None, 64, 128)           229504    \n",
            "_________________________________________________________________\n",
            "dropout_37 (Dropout)         (None, 64, 128)           0         \n",
            "_________________________________________________________________\n",
            "pre_vqvae (Conv1D)           (None, 64, 16)            2064      \n",
            "_________________________________________________________________\n",
            "vqvae (VQVAELayer)           (None, 64, 16)            512       \n",
            "_________________________________________________________________\n",
            "encoded (Lambda)             (None, 64, 16)            0         \n",
            "_________________________________________________________________\n",
            "conv1d_90 (Conv1D)           (None, 64, 64)            7232      \n",
            "_________________________________________________________________\n",
            "up_sampling1d_45 (UpSampling (None, 128, 64)           0         \n",
            "_________________________________________________________________\n",
            "conv1d_91 (Conv1D)           (None, 128, 128)          57472     \n",
            "_________________________________________________________________\n",
            "up_sampling1d_46 (UpSampling (None, 256, 128)          0         \n",
            "_________________________________________________________________\n",
            "conv1d_92 (Conv1D)           (None, 256, 256)          229632    \n",
            "_________________________________________________________________\n",
            "conv1d_93 (Conv1D)           (None, 256, 4)            7172      \n",
            "=================================================================\n",
            "Total params: 541,012\n",
            "Trainable params: 541,012\n",
            "Non-trainable params: 0\n",
            "_________________________________________________________________\n"
          ],
          "name": "stdout"
        }
      ]
    },
    {
      "cell_type": "code",
      "metadata": {
        "colab": {
          "base_uri": "https://localhost:8080/"
        },
        "id": "MWuW4HpPHEGy",
        "outputId": "dbf9376a-7486-4306-e8a2-ac604ab72bda"
      },
      "source": [
        "history = vqvae.fit(x_train_m, x_train_m,\n",
        "                    batch_size=batch_size, epochs=epochs,\n",
        "                    validation_split=validation_split,\n",
        "                    callbacks=[esc])"
      ],
      "execution_count": null,
      "outputs": [
        {
          "output_type": "stream",
          "text": [
            "Train on 43153 samples, validate on 4795 samples\n",
            "Epoch 1/150\n",
            "43153/43153 [==============================] - 15s 340us/sample - loss: 430.6528 - val_loss: 293.3152\n",
            "Epoch 2/150\n",
            "43153/43153 [==============================] - 12s 267us/sample - loss: 3.0807 - val_loss: 0.3486\n",
            "Epoch 3/150\n",
            "43153/43153 [==============================] - 12s 268us/sample - loss: 12.9034 - val_loss: 0.3477\n",
            "Epoch 4/150\n",
            "43153/43153 [==============================] - 12s 272us/sample - loss: 17.1007 - val_loss: 0.5154\n",
            "Epoch 5/150\n",
            "43153/43153 [==============================] - 12s 275us/sample - loss: 0.9709 - val_loss: 0.3644\n",
            "Epoch 6/150\n",
            "43153/43153 [==============================] - 12s 273us/sample - loss: 0.6693 - val_loss: 0.7654\n",
            "Epoch 7/150\n",
            "43153/43153 [==============================] - 12s 276us/sample - loss: 2.5992 - val_loss: 0.3603\n",
            "Epoch 8/150\n",
            "43153/43153 [==============================] - 13s 290us/sample - loss: 0.5057 - val_loss: 0.3500\n"
          ],
          "name": "stdout"
        }
      ]
    },
    {
      "cell_type": "code",
      "metadata": {
        "id": "p53fM7qdHEGy"
      },
      "source": [
        "# Get train MAE loss.\n",
        "x_train_pred_m = vqvae.predict(x_train_m)\n",
        "original = []\n",
        "for item in x_train_m:\n",
        "  #print(item[0])\n",
        "  original.append(item[0])\n",
        "predicted = []\n",
        "for item in x_train_pred_m:\n",
        "  #print(item[0])\n",
        "  predicted.append(item[0])"
      ],
      "execution_count": null,
      "outputs": []
    },
    {
      "cell_type": "code",
      "metadata": {
        "id": "Xy7JPlRZHEGz"
      },
      "source": [
        "df_original = pd.DataFrame(original)\n",
        "df_pred = pd.DataFrame(predicted)\n",
        "original_mean = df_original.mean(axis = 0)\n",
        "difference = df_original - df_pred\n",
        "difference_mean = np.abs(difference.mean(axis = 0))"
      ],
      "execution_count": null,
      "outputs": []
    },
    {
      "cell_type": "code",
      "metadata": {
        "colab": {
          "base_uri": "https://localhost:8080/"
        },
        "id": "TTdhO33uHEGz",
        "outputId": "ee627bd6-300c-4a0a-88a9-5058c7bfefcf"
      },
      "source": [
        "difference_mean/original_mean"
      ],
      "execution_count": null,
      "outputs": [
        {
          "output_type": "execute_result",
          "data": {
            "text/plain": [
              "0    0.476668\n",
              "1    5.004364\n",
              "2    0.349688\n",
              "3    0.439706\n",
              "dtype: float64"
            ]
          },
          "metadata": {
            "tags": []
          },
          "execution_count": 84
        }
      ]
    },
    {
      "cell_type": "code",
      "metadata": {
        "id": "Rcl3TsIIHEG0"
      },
      "source": [
        "intermediate_layer_model = Model(inputs=vqvae.input,\n",
        "                                 outputs=vqvae.get_layer(\"vqvae\").output)\n",
        "intermediate_output = intermediate_layer_model.predict(x_train_m)"
      ],
      "execution_count": null,
      "outputs": []
    },
    {
      "cell_type": "code",
      "metadata": {
        "colab": {
          "base_uri": "https://localhost:8080/"
        },
        "id": "QIEqsRErHEG0",
        "outputId": "de31a321-2a94-4407-a92a-afeb41bde7e4"
      },
      "source": [
        "len(intermediate_output)"
      ],
      "execution_count": null,
      "outputs": [
        {
          "output_type": "execute_result",
          "data": {
            "text/plain": [
              "47948"
            ]
          },
          "metadata": {
            "tags": []
          },
          "execution_count": 86
        }
      ]
    },
    {
      "cell_type": "code",
      "metadata": {
        "colab": {
          "base_uri": "https://localhost:8080/"
        },
        "id": "sssyK8Z4HEG0",
        "outputId": "fe512b24-82c7-49aa-a24e-ebd1e937ec96"
      },
      "source": [
        "encoded_vectors = dictionary_encoding(intermediate_output)\n",
        "embedded_size = sys.getsizeof(encoded_vectors)\n",
        "original_size = sys.getsizeof(X)\n",
        "print(\"Compression: \", embedded_size/original_size)"
      ],
      "execution_count": null,
      "outputs": [
        {
          "output_type": "stream",
          "text": [
            "Compression:  0.00024373042377979215\n"
          ],
          "name": "stdout"
        }
      ]
    },
    {
      "cell_type": "code",
      "metadata": {
        "colab": {
          "base_uri": "https://localhost:8080/"
        },
        "id": "O7j2CyPXHEG0",
        "outputId": "cec63a06-ecb6-4726-b5dd-7eedb07cfc2c"
      },
      "source": [
        "len(encoded_vectors)"
      ],
      "execution_count": null,
      "outputs": [
        {
          "output_type": "execute_result",
          "data": {
            "text/plain": [
              "10"
            ]
          },
          "metadata": {
            "tags": []
          },
          "execution_count": 88
        }
      ]
    },
    {
      "cell_type": "markdown",
      "metadata": {
        "id": "es3dbKcNH9vV"
      },
      "source": [
        "## Univariate"
      ]
    },
    {
      "cell_type": "code",
      "metadata": {
        "id": "ya5TNLPUH_mo",
        "colab": {
          "base_uri": "https://localhost:8080/",
          "height": 423
        },
        "outputId": "5a9e3bf9-891c-4c3a-eda8-852f6b971475"
      },
      "source": [
        "traffic = traffic.rename(columns={'date_time': 'ds', 'traffic_volume': 'y'})\n",
        "y = traffic['y']\n",
        "ds = traffic['ds']\n",
        "X = traffic.drop(['holiday','ds', 'weather_main','snow_1h', 'weather_description'], axis = 1)\n",
        "X"
      ],
      "execution_count": null,
      "outputs": [
        {
          "output_type": "execute_result",
          "data": {
            "text/html": [
              "<div>\n",
              "<style scoped>\n",
              "    .dataframe tbody tr th:only-of-type {\n",
              "        vertical-align: middle;\n",
              "    }\n",
              "\n",
              "    .dataframe tbody tr th {\n",
              "        vertical-align: top;\n",
              "    }\n",
              "\n",
              "    .dataframe thead th {\n",
              "        text-align: right;\n",
              "    }\n",
              "</style>\n",
              "<table border=\"1\" class=\"dataframe\">\n",
              "  <thead>\n",
              "    <tr style=\"text-align: right;\">\n",
              "      <th></th>\n",
              "      <th>temp</th>\n",
              "      <th>rain_1h</th>\n",
              "      <th>clouds_all</th>\n",
              "      <th>y</th>\n",
              "    </tr>\n",
              "  </thead>\n",
              "  <tbody>\n",
              "    <tr>\n",
              "      <th>0</th>\n",
              "      <td>288.28</td>\n",
              "      <td>0.0</td>\n",
              "      <td>40</td>\n",
              "      <td>5545</td>\n",
              "    </tr>\n",
              "    <tr>\n",
              "      <th>1</th>\n",
              "      <td>289.36</td>\n",
              "      <td>0.0</td>\n",
              "      <td>75</td>\n",
              "      <td>4516</td>\n",
              "    </tr>\n",
              "    <tr>\n",
              "      <th>2</th>\n",
              "      <td>289.58</td>\n",
              "      <td>0.0</td>\n",
              "      <td>90</td>\n",
              "      <td>4767</td>\n",
              "    </tr>\n",
              "    <tr>\n",
              "      <th>3</th>\n",
              "      <td>290.13</td>\n",
              "      <td>0.0</td>\n",
              "      <td>90</td>\n",
              "      <td>5026</td>\n",
              "    </tr>\n",
              "    <tr>\n",
              "      <th>4</th>\n",
              "      <td>291.14</td>\n",
              "      <td>0.0</td>\n",
              "      <td>75</td>\n",
              "      <td>4918</td>\n",
              "    </tr>\n",
              "    <tr>\n",
              "      <th>...</th>\n",
              "      <td>...</td>\n",
              "      <td>...</td>\n",
              "      <td>...</td>\n",
              "      <td>...</td>\n",
              "    </tr>\n",
              "    <tr>\n",
              "      <th>48199</th>\n",
              "      <td>283.45</td>\n",
              "      <td>0.0</td>\n",
              "      <td>75</td>\n",
              "      <td>3543</td>\n",
              "    </tr>\n",
              "    <tr>\n",
              "      <th>48200</th>\n",
              "      <td>282.76</td>\n",
              "      <td>0.0</td>\n",
              "      <td>90</td>\n",
              "      <td>2781</td>\n",
              "    </tr>\n",
              "    <tr>\n",
              "      <th>48201</th>\n",
              "      <td>282.73</td>\n",
              "      <td>0.0</td>\n",
              "      <td>90</td>\n",
              "      <td>2159</td>\n",
              "    </tr>\n",
              "    <tr>\n",
              "      <th>48202</th>\n",
              "      <td>282.09</td>\n",
              "      <td>0.0</td>\n",
              "      <td>90</td>\n",
              "      <td>1450</td>\n",
              "    </tr>\n",
              "    <tr>\n",
              "      <th>48203</th>\n",
              "      <td>282.12</td>\n",
              "      <td>0.0</td>\n",
              "      <td>90</td>\n",
              "      <td>954</td>\n",
              "    </tr>\n",
              "  </tbody>\n",
              "</table>\n",
              "<p>48204 rows × 4 columns</p>\n",
              "</div>"
            ],
            "text/plain": [
              "         temp  rain_1h  clouds_all     y\n",
              "0      288.28      0.0          40  5545\n",
              "1      289.36      0.0          75  4516\n",
              "2      289.58      0.0          90  4767\n",
              "3      290.13      0.0          90  5026\n",
              "4      291.14      0.0          75  4918\n",
              "...       ...      ...         ...   ...\n",
              "48199  283.45      0.0          75  3543\n",
              "48200  282.76      0.0          90  2781\n",
              "48201  282.73      0.0          90  2159\n",
              "48202  282.09      0.0          90  1450\n",
              "48203  282.12      0.0          90   954\n",
              "\n",
              "[48204 rows x 4 columns]"
            ]
          },
          "metadata": {
            "tags": []
          },
          "execution_count": 15
        }
      ]
    },
    {
      "cell_type": "code",
      "metadata": {
        "colab": {
          "base_uri": "https://localhost:8080/",
          "height": 283
        },
        "id": "eXpxsK_tJZUA",
        "outputId": "e315afdc-b682-4e40-d799-f6fa9ed9037f"
      },
      "source": [
        "plt.plot(y)"
      ],
      "execution_count": null,
      "outputs": [
        {
          "output_type": "execute_result",
          "data": {
            "text/plain": [
              "[<matplotlib.lines.Line2D at 0x7f2d7999a710>]"
            ]
          },
          "metadata": {
            "tags": []
          },
          "execution_count": 16
        },
        {
          "output_type": "display_data",
          "data": {
            "image/png": "[encoded data removed]",
            "text/plain": [
              "<Figure size 432x288 with 1 Axes>"
            ]
          },
          "metadata": {
            "tags": [],
            "needs_background": "light"
          }
        }
      ]
    },
    {
      "cell_type": "code",
      "metadata": {
        "colab": {
          "base_uri": "https://localhost:8080/"
        },
        "id": "x3zgqWkjUl1r",
        "outputId": "dc65dbe6-13c8-44b3-fd76-296c79a9e1ca"
      },
      "source": [
        "TIME_STEPS = 256\n",
        "\n",
        "# Generated training sequences for use in the model.\n",
        "def create_sequences(values, time_steps=TIME_STEPS):\n",
        "    output = []\n",
        "    for i in range(len(values) - time_steps):\n",
        "        output.append(values[i : (i + time_steps)])\n",
        "\n",
        "    return np.stack(output)\n",
        "y = pd.DataFrame(y)\n",
        "train_dataset = create_sequences(y)\n",
        "print(\"Training input shape: \", train_dataset.shape)\n",
        "x_train = train_dataset"
      ],
      "execution_count": null,
      "outputs": [
        {
          "output_type": "stream",
          "text": [
            "Training input shape:  (47948, 256, 1)\n"
          ],
          "name": "stdout"
        }
      ]
    },
    {
      "cell_type": "code",
      "metadata": {
        "id": "L-1RPw7SUpuN"
      },
      "source": [
        "# VQ layer.\n",
        "class VQVAELayer(Layer):\n",
        "    def __init__(self, embedding_dim, num_embeddings, commitment_cost,\n",
        "                 initializer='uniform', epsilon=1e-10, **kwargs):\n",
        "        self.embedding_dim = embedding_dim\n",
        "        self.num_embeddings = num_embeddings\n",
        "        self.commitment_cost = commitment_cost\n",
        "        self.initializer = initializer\n",
        "        super(VQVAELayer, self).__init__(**kwargs)\n",
        "\n",
        "    def build(self, input_shape):\n",
        "        # Add embedding weights.\n",
        "        self.w = self.add_weight(name='embedding',\n",
        "                                  shape=(self.embedding_dim, self.num_embeddings),\n",
        "                                  initializer=self.initializer,\n",
        "                                  trainable=True)\n",
        "\n",
        "        # Finalize building.\n",
        "        super(VQVAELayer, self).build(input_shape)\n",
        "\n",
        "    def call(self, x):\n",
        "        # Flatten input except for last dimension.\n",
        "        flat_inputs = K.reshape(x, (-1, self.embedding_dim))\n",
        "\n",
        "        # Calculate distances of input to embedding vectors.\n",
        "        distances = (K.sum(flat_inputs**2, axis=1, keepdims=True)\n",
        "                     - 2 * K.dot(flat_inputs, self.w)\n",
        "                     + K.sum(self.w ** 2, axis=0, keepdims=True))\n",
        "\n",
        "        # Retrieve encoding indices.\n",
        "        encoding_indices = K.argmax(-distances, axis=1)\n",
        "        encodings = K.one_hot(encoding_indices, self.num_embeddings)\n",
        "        encoding_indices = K.reshape(encoding_indices, K.shape(x)[:-1])\n",
        "        quantized = self.quantize(encoding_indices)\n",
        "\n",
        "        # Metrics.\n",
        "        #avg_probs = K.mean(encodings, axis=0)\n",
        "        #perplexity = K.exp(- K.sum(avg_probs * K.log(avg_probs + epsilon)))\n",
        "\n",
        "        return quantized\n",
        "\n",
        "    @property\n",
        "    def embeddings(self):\n",
        "        return self.w\n",
        "\n",
        "    def quantize(self, encoding_indices):\n",
        "        w = K.transpose(self.embeddings.read_value())\n",
        "        return tf.nn.embedding_lookup(params=w, ids=encoding_indices)"
      ],
      "execution_count": null,
      "outputs": []
    },
    {
      "cell_type": "code",
      "metadata": {
        "id": "GY0eqR9lUvae"
      },
      "source": [
        "# Calculate vq-vae loss.\n",
        "def vq_vae_loss_wrapper(data_variance, commitment_cost, quantized, x_inputs):\n",
        "    def vq_vae_loss(x, x_hat):\n",
        "        recon_loss = losses.mse(x, x_hat) / data_variance\n",
        "\n",
        "        e_latent_loss = K.mean((K.stop_gradient(quantized) - x_inputs) ** 2)\n",
        "        q_latent_loss = K.mean((quantized - K.stop_gradient(x_inputs)) ** 2)\n",
        "        loss = q_latent_loss + commitment_cost * e_latent_loss\n",
        "\n",
        "        return recon_loss + loss #* beta\n",
        "    return vq_vae_loss"
      ],
      "execution_count": null,
      "outputs": []
    },
    {
      "cell_type": "code",
      "metadata": {
        "id": "JFlmtnOFUyeJ"
      },
      "source": [
        "# Hyper Parameters.\n",
        "epochs = 100 # MAX\n",
        "batch_size = 256\n",
        "validation_split = 0.1\n",
        "\n",
        "# VQ-VAE Hyper Parameters.\n",
        "embedding_dim = 16 # Length of embedding vectors.\n",
        "num_embeddings = 64 # Number of embedding vectors (high value = high bottleneck capacity).\n",
        "commitment_cost = 0.25 # Controls the weighting of the loss terms.\n",
        "\n",
        "# EarlyStoppingCallback.\n",
        "esc = keras.callbacks.EarlyStopping(monitor='val_loss', min_delta=1e-4,\n",
        "                                    patience=5, verbose=0, mode='auto',\n",
        "                                    baseline=None, restore_best_weights=True)"
      ],
      "execution_count": null,
      "outputs": []
    },
    {
      "cell_type": "code",
      "metadata": {
        "colab": {
          "base_uri": "https://localhost:8080/"
        },
        "id": "DPI5kxRoU1bG",
        "outputId": "638bd84d-729a-4e60-f1cc-4cef396d96d7"
      },
      "source": [
        "# Encoder\n",
        "input = Input(shape=(x_train.shape[1], x_train.shape[2]))\n",
        "x = Conv1D(filters=32, kernel_size=7,  strides=2,padding=\"same\", activation=\"relu\")(input)\n",
        "x = Dropout(rate=0.2)(x)\n",
        "encoder_output = Conv1D(filters=16, kernel_size=7, padding=\"same\", strides=2, activation=\"relu\")(x)\n",
        "\n",
        "# VQVAELayer.\n",
        "enc = Conv1D(embedding_dim, kernel_size=1, strides=1, name=\"pre_vqvae\")(x)\n",
        "enc_inputs = enc\n",
        "enc = VQVAELayer(embedding_dim, num_embeddings, commitment_cost, name=\"vqvae\")(enc)\n",
        "x = Lambda(lambda enc: enc_inputs + K.stop_gradient(enc - enc_inputs), name=\"encoded\")(enc)\n",
        "data_variance = np.var(x_train)\n",
        "loss = vq_vae_loss_wrapper(data_variance, commitment_cost, enc, enc_inputs)\n",
        "\n",
        "# Decoder.\n",
        "x = Conv1D(filters=16, kernel_size=7, strides=2, padding = 'same')(x)\n",
        "x = UpSampling1D(size = 2)(x)\n",
        "x = Dropout(rate=0.2)(x)\n",
        "x = Conv1D(filters=32, kernel_size=7,  strides=1, padding = 'same')(x)\n",
        "x = UpSampling1D(size = 2)(x)\n",
        "x = Conv1D(filters=1, kernel_size=7, padding = 'same')(x)\n",
        "\n",
        "# Autoencoder.\n",
        "vqvae = Model(input, x)\n",
        "vqvae.compile(loss=loss, optimizer='adam')\n",
        "vqvae.summary()"
      ],
      "execution_count": null,
      "outputs": [
        {
          "output_type": "stream",
          "text": [
            "WARNING:tensorflow:From /tensorflow-1.15.2/python3.7/tensorflow_core/python/ops/resource_variable_ops.py:1630: calling BaseResourceVariable.__init__ (from tensorflow.python.ops.resource_variable_ops) with constraint is deprecated and will be removed in a future version.\n",
            "Instructions for updating:\n",
            "If using Keras pass *_constraint arguments to layers.\n",
            "WARNING:tensorflow:From /tensorflow-1.15.2/python3.7/tensorflow_core/python/keras/initializers.py:119: calling RandomUniform.__init__ (from tensorflow.python.ops.init_ops) with dtype is deprecated and will be removed in a future version.\n",
            "Instructions for updating:\n",
            "Call initializer instance with the dtype argument instead of passing it to the constructor\n",
            "WARNING:tensorflow:Entity <bound method VQVAELayer.call of <__main__.VQVAELayer object at 0x7f2d7ae4a690>> could not be transformed and will be executed as-is. Please report this to the AutoGraph team. When filing the bug, set the verbosity to 10 (on Linux, `export AUTOGRAPH_VERBOSITY=10`) and attach the full output. Cause: module 'gast' has no attribute 'Index'\n",
            "WARNING: Entity <bound method VQVAELayer.call of <__main__.VQVAELayer object at 0x7f2d7ae4a690>> could not be transformed and will be executed as-is. Please report this to the AutoGraph team. When filing the bug, set the verbosity to 10 (on Linux, `export AUTOGRAPH_VERBOSITY=10`) and attach the full output. Cause: module 'gast' has no attribute 'Index'\n",
            "Model: \"model\"\n",
            "_________________________________________________________________\n",
            "Layer (type)                 Output Shape              Param #   \n",
            "=================================================================\n",
            "input_1 (InputLayer)         [(None, 256, 1)]          0         \n",
            "_________________________________________________________________\n",
            "conv1d (Conv1D)              (None, 128, 32)           256       \n",
            "_________________________________________________________________\n",
            "dropout (Dropout)            (None, 128, 32)           0         \n",
            "_________________________________________________________________\n",
            "pre_vqvae (Conv1D)           (None, 128, 16)           528       \n",
            "_________________________________________________________________\n",
            "vqvae (VQVAELayer)           (None, 128, 16)           1024      \n",
            "_________________________________________________________________\n",
            "encoded (Lambda)             (None, 128, 16)           0         \n",
            "_________________________________________________________________\n",
            "conv1d_2 (Conv1D)            (None, 64, 16)            1808      \n",
            "_________________________________________________________________\n",
            "up_sampling1d (UpSampling1D) (None, 128, 16)           0         \n",
            "_________________________________________________________________\n",
            "dropout_1 (Dropout)          (None, 128, 16)           0         \n",
            "_________________________________________________________________\n",
            "conv1d_3 (Conv1D)            (None, 128, 32)           3616      \n",
            "_________________________________________________________________\n",
            "up_sampling1d_1 (UpSampling1 (None, 256, 32)           0         \n",
            "_________________________________________________________________\n",
            "conv1d_4 (Conv1D)            (None, 256, 1)            225       \n",
            "=================================================================\n",
            "Total params: 7,457\n",
            "Trainable params: 7,457\n",
            "Non-trainable params: 0\n",
            "_________________________________________________________________\n"
          ],
          "name": "stdout"
        }
      ]
    },
    {
      "cell_type": "code",
      "metadata": {
        "colab": {
          "base_uri": "https://localhost:8080/"
        },
        "id": "IcS2vLhPU2r-",
        "outputId": "297b35da-2063-4780-ef94-6644e41f0ac4"
      },
      "source": [
        "history = vqvae.fit(x_train, x_train,\n",
        "                    batch_size=batch_size, epochs=epochs,\n",
        "                    validation_split=validation_split,\n",
        "                    callbacks=[esc])"
      ],
      "execution_count": null,
      "outputs": [
        {
          "output_type": "stream",
          "text": [
            "WARNING:tensorflow:From /tensorflow-1.15.2/python3.7/tensorflow_core/python/ops/math_grad.py:1375: where (from tensorflow.python.ops.array_ops) is deprecated and will be removed in a future version.\n",
            "Instructions for updating:\n",
            "Use tf.where in 2.0, which has the same broadcast rule as np.where\n",
            "Train on 43153 samples, validate on 4795 samples\n",
            "Epoch 1/100\n",
            "43153/43153 [==============================] - 19s 429us/sample - loss: 110857.5725 - val_loss: 4047.9062\n",
            "Epoch 2/100\n",
            "43153/43153 [==============================] - 1s 30us/sample - loss: 3699.2601 - val_loss: 617.8317\n",
            "Epoch 3/100\n",
            "43153/43153 [==============================] - 1s 30us/sample - loss: 1025.7635 - val_loss: 216.4591\n",
            "Epoch 4/100\n",
            "43153/43153 [==============================] - 1s 30us/sample - loss: 440.5863 - val_loss: 90.0407\n",
            "Epoch 5/100\n",
            "43153/43153 [==============================] - 1s 30us/sample - loss: 235.0276 - val_loss: 43.0506\n",
            "Epoch 6/100\n",
            "43153/43153 [==============================] - 1s 30us/sample - loss: 143.9327 - val_loss: 25.9962\n",
            "Epoch 7/100\n",
            "43153/43153 [==============================] - 1s 30us/sample - loss: 98.9887 - val_loss: 17.6211\n",
            "Epoch 8/100\n",
            "43153/43153 [==============================] - 1s 30us/sample - loss: 73.5213 - val_loss: 13.0282\n",
            "Epoch 9/100\n",
            "43153/43153 [==============================] - 1s 30us/sample - loss: 56.6218 - val_loss: 9.5343\n",
            "Epoch 10/100\n",
            "43153/43153 [==============================] - 1s 31us/sample - loss: 44.5121 - val_loss: 7.3166\n",
            "Epoch 11/100\n",
            "43153/43153 [==============================] - 1s 30us/sample - loss: 36.5403 - val_loss: 6.0362\n",
            "Epoch 12/100\n",
            "43153/43153 [==============================] - 1s 31us/sample - loss: 30.6535 - val_loss: 5.0620\n",
            "Epoch 13/100\n",
            "43153/43153 [==============================] - 1s 30us/sample - loss: 25.9857 - val_loss: 4.4483\n",
            "Epoch 14/100\n",
            "43153/43153 [==============================] - 1s 30us/sample - loss: 22.3396 - val_loss: 3.8155\n",
            "Epoch 15/100\n",
            "43153/43153 [==============================] - 1s 30us/sample - loss: 19.2838 - val_loss: 3.2492\n",
            "Epoch 16/100\n",
            "43153/43153 [==============================] - 1s 30us/sample - loss: 16.7751 - val_loss: 2.7919\n",
            "Epoch 17/100\n",
            "43153/43153 [==============================] - 1s 31us/sample - loss: 14.6915 - val_loss: 2.3832\n",
            "Epoch 18/100\n",
            "43153/43153 [==============================] - 1s 30us/sample - loss: 12.9163 - val_loss: 2.3053\n",
            "Epoch 19/100\n",
            "43153/43153 [==============================] - 1s 29us/sample - loss: 12.2829 - val_loss: 3.7535\n",
            "Epoch 20/100\n",
            "43153/43153 [==============================] - 1s 30us/sample - loss: 10.1970 - val_loss: 1.3569\n",
            "Epoch 21/100\n",
            "43153/43153 [==============================] - 1s 30us/sample - loss: 8.7086 - val_loss: 1.0657\n",
            "Epoch 22/100\n",
            "43153/43153 [==============================] - 1s 29us/sample - loss: 7.6091 - val_loss: 0.8877\n",
            "Epoch 23/100\n",
            "43153/43153 [==============================] - 1s 30us/sample - loss: 6.8548 - val_loss: 0.7631\n",
            "Epoch 24/100\n",
            "43153/43153 [==============================] - 1s 30us/sample - loss: 6.1999 - val_loss: 0.6597\n",
            "Epoch 25/100\n",
            "43153/43153 [==============================] - 1s 30us/sample - loss: 5.5347 - val_loss: 0.5732\n",
            "Epoch 26/100\n",
            "43153/43153 [==============================] - 1s 30us/sample - loss: 5.0457 - val_loss: 0.5069\n",
            "Epoch 27/100\n",
            "43153/43153 [==============================] - 1s 30us/sample - loss: 4.6539 - val_loss: 0.4497\n",
            "Epoch 28/100\n",
            "43153/43153 [==============================] - 1s 30us/sample - loss: 4.2264 - val_loss: 0.4128\n",
            "Epoch 29/100\n",
            "43153/43153 [==============================] - 1s 30us/sample - loss: 3.8200 - val_loss: 0.3699\n",
            "Epoch 30/100\n",
            "43153/43153 [==============================] - 1s 30us/sample - loss: 3.5135 - val_loss: 0.3358\n",
            "Epoch 31/100\n",
            "43153/43153 [==============================] - 1s 30us/sample - loss: 3.2286 - val_loss: 0.2978\n",
            "Epoch 32/100\n",
            "43153/43153 [==============================] - 1s 30us/sample - loss: 2.9140 - val_loss: 0.2791\n",
            "Epoch 33/100\n",
            "43153/43153 [==============================] - 1s 30us/sample - loss: 2.7146 - val_loss: 0.2589\n",
            "Epoch 34/100\n",
            "43153/43153 [==============================] - 1s 30us/sample - loss: 2.4721 - val_loss: 0.2332\n",
            "Epoch 35/100\n",
            "43153/43153 [==============================] - 1s 30us/sample - loss: 2.2547 - val_loss: 0.2131\n",
            "Epoch 36/100\n",
            "43153/43153 [==============================] - 1s 30us/sample - loss: 2.0016 - val_loss: 0.2154\n",
            "Epoch 37/100\n",
            "43153/43153 [==============================] - 1s 30us/sample - loss: 1.9031 - val_loss: 0.2004\n",
            "Epoch 38/100\n",
            "43153/43153 [==============================] - 1s 30us/sample - loss: 1.7509 - val_loss: 0.1894\n",
            "Epoch 39/100\n",
            "43153/43153 [==============================] - 1s 30us/sample - loss: 1.6280 - val_loss: 0.1839\n",
            "Epoch 40/100\n",
            "43153/43153 [==============================] - 1s 30us/sample - loss: 1.4807 - val_loss: 0.1707\n",
            "Epoch 41/100\n",
            "43153/43153 [==============================] - 1s 30us/sample - loss: 1.3521 - val_loss: 0.1782\n",
            "Epoch 42/100\n",
            "43153/43153 [==============================] - 1s 30us/sample - loss: 1.2560 - val_loss: 0.1534\n",
            "Epoch 43/100\n",
            "43153/43153 [==============================] - 1s 30us/sample - loss: 1.1318 - val_loss: 0.1501\n",
            "Epoch 44/100\n",
            "43153/43153 [==============================] - 1s 30us/sample - loss: 1.0507 - val_loss: 0.1345\n",
            "Epoch 45/100\n",
            "43153/43153 [==============================] - 1s 29us/sample - loss: 0.9539 - val_loss: 0.1412\n",
            "Epoch 46/100\n",
            "43153/43153 [==============================] - 1s 30us/sample - loss: 0.8912 - val_loss: 0.1296\n",
            "Epoch 47/100\n",
            "43153/43153 [==============================] - 1s 30us/sample - loss: 0.8263 - val_loss: 0.1497\n",
            "Epoch 48/100\n",
            "43153/43153 [==============================] - 1s 30us/sample - loss: 0.7858 - val_loss: 0.1274\n",
            "Epoch 49/100\n",
            "43153/43153 [==============================] - 1s 30us/sample - loss: 0.7209 - val_loss: 0.1392\n",
            "Epoch 50/100\n",
            "43153/43153 [==============================] - 1s 31us/sample - loss: 0.6772 - val_loss: 0.1193\n",
            "Epoch 51/100\n",
            "43153/43153 [==============================] - 1s 30us/sample - loss: 0.6435 - val_loss: 0.1335\n",
            "Epoch 52/100\n",
            "43153/43153 [==============================] - 1s 30us/sample - loss: 0.5940 - val_loss: 0.1258\n",
            "Epoch 53/100\n",
            "43153/43153 [==============================] - 1s 30us/sample - loss: 0.5560 - val_loss: 0.1253\n",
            "Epoch 54/100\n",
            "43153/43153 [==============================] - 1s 30us/sample - loss: 0.5278 - val_loss: 0.1756\n",
            "Epoch 55/100\n",
            "43153/43153 [==============================] - 1s 31us/sample - loss: 0.5117 - val_loss: 0.1347\n"
          ],
          "name": "stdout"
        }
      ]
    },
    {
      "cell_type": "code",
      "metadata": {
        "colab": {
          "base_uri": "https://localhost:8080/",
          "height": 297
        },
        "id": "MNU0g_tiU4tq",
        "outputId": "570fe339-b212-4f87-86e0-aea811ead06d"
      },
      "source": [
        "# Get train MAE loss.\n",
        "x_train_pred = vqvae.predict(x_train)\n",
        "train_mae_loss = np.mean(np.abs(x_train_pred - x_train), axis=1)\n",
        "\n",
        "plt.hist(train_mae_loss, bins=50)\n",
        "plt.xlabel(\"Train MAE loss\")\n",
        "plt.ylabel(\"No of samples\")\n",
        "plt.show()\n",
        "\n",
        "# Get reconstruction loss threshold.\n",
        "threshold = np.max(train_mae_loss)\n",
        "print(\"Reconstruction error threshold: \", threshold)"
      ],
      "execution_count": null,
      "outputs": [
        {
          "output_type": "display_data",
          "data": {
            "image/png": "[encoded data removed]",
            "text/plain": [
              "<Figure size 432x288 with 1 Axes>"
            ]
          },
          "metadata": {
            "tags": [],
            "needs_background": "light"
          }
        },
        {
          "output_type": "stream",
          "text": [
            "Reconstruction error threshold:  914.1453251261264\n"
          ],
          "name": "stdout"
        }
      ]
    },
    {
      "cell_type": "code",
      "metadata": {
        "id": "8yq49kt5Lrp6"
      },
      "source": [
        "# Get train MAE loss.\n",
        "x_train_pred_m = vqvae.predict(x_train)\n",
        "original = []\n",
        "for item in x_train:\n",
        "  #print(item[0])\n",
        "  original.append(item[0])\n",
        "predicted = []\n",
        "for item in x_train_pred_m:\n",
        "  #print(item[0])\n",
        "  predicted.append(item[0])"
      ],
      "execution_count": null,
      "outputs": []
    },
    {
      "cell_type": "code",
      "metadata": {
        "id": "vLeXnXAjO7vm"
      },
      "source": [
        "df_original = pd.DataFrame(original)\n",
        "df_pred = pd.DataFrame(predicted)\n",
        "original_mean = df_original.mean(axis = 0)\n",
        "difference = df_original - df_pred\n",
        "difference_mean = np.abs(difference.mean(axis = 0))"
      ],
      "execution_count": null,
      "outputs": []
    },
    {
      "cell_type": "code",
      "metadata": {
        "colab": {
          "base_uri": "https://localhost:8080/"
        },
        "id": "dmQr-6qPNETC",
        "outputId": "7ceea5a4-dc3c-4d72-b3d1-5f3603a90a60"
      },
      "source": [
        "difference_mean/original_mean"
      ],
      "execution_count": null,
      "outputs": [
        {
          "output_type": "execute_result",
          "data": {
            "text/plain": [
              "0    0.195844\n",
              "dtype: float64"
            ]
          },
          "metadata": {
            "tags": []
          },
          "execution_count": 27
        }
      ]
    },
    {
      "cell_type": "code",
      "metadata": {
        "colab": {
          "base_uri": "https://localhost:8080/",
          "height": 285
        },
        "id": "yatLtThJU9xJ",
        "outputId": "d47ff788-3f0d-4890-9c68-e50da912f203"
      },
      "source": [
        "# Checking how the first sequence is learnt\n",
        "plt.plot(x_train[0])\n",
        "plt.plot(x_train_pred[0])\n",
        "plt.show()"
      ],
      "execution_count": null,
      "outputs": [
        {
          "output_type": "display_data",
          "data": {
            "image/png": "[encoded data removed]",
            "text/plain": [
              "<Figure size 432x288 with 1 Axes>"
            ]
          },
          "metadata": {
            "tags": [],
            "needs_background": "light"
          }
        }
      ]
    },
    {
      "cell_type": "code",
      "metadata": {
        "id": "umt1mrUEU-U0"
      },
      "source": [
        "intermediate_layer_model = Model(inputs=vqvae.input,\n",
        "                                 outputs=vqvae.get_layer(\"vqvae\").output)\n",
        "intermediate_output = intermediate_layer_model.predict(x_train)"
      ],
      "execution_count": null,
      "outputs": []
    },
    {
      "cell_type": "code",
      "metadata": {
        "colab": {
          "base_uri": "https://localhost:8080/"
        },
        "id": "26Vp3w6rXSEW",
        "outputId": "c87b50de-6cc3-4fd4-f3a5-456a8c784922"
      },
      "source": [
        "intermediate_output[0][1:4]"
      ],
      "execution_count": null,
      "outputs": [
        {
          "output_type": "execute_result",
          "data": {
            "text/plain": [
              "array([[-0.63099134,  1.2197748 , -0.42585334, -1.2836142 ,  1.1345389 ,\n",
              "        -0.9176674 ,  0.13979787, -0.9803497 , -0.15109363,  1.6901853 ,\n",
              "         1.2598419 ,  1.0126879 ,  0.66867495,  0.99868965, -1.3129337 ,\n",
              "         0.4692576 ],\n",
              "       [-1.0993274 ,  1.9109478 , -0.7372137 , -2.0625443 ,  1.9948736 ,\n",
              "        -1.5674993 ,  0.15471539, -1.6609755 , -0.21739729,  2.8360386 ,\n",
              "         2.095867  ,  1.8751959 ,  1.2450051 ,  1.7674567 , -1.9092951 ,\n",
              "         0.85405606],\n",
              "       [-0.63099134,  1.2197748 , -0.42585334, -1.2836142 ,  1.1345389 ,\n",
              "        -0.9176674 ,  0.13979787, -0.9803497 , -0.15109363,  1.6901853 ,\n",
              "         1.2598419 ,  1.0126879 ,  0.66867495,  0.99868965, -1.3129337 ,\n",
              "         0.4692576 ]], dtype=float32)"
            ]
          },
          "metadata": {
            "tags": []
          },
          "execution_count": 39
        }
      ]
    },
    {
      "cell_type": "code",
      "metadata": {
        "colab": {
          "base_uri": "https://localhost:8080/"
        },
        "id": "jY0bl4R_Yk5p",
        "outputId": "c6652be2-3b75-4516-af87-f6f9c510c62c"
      },
      "source": [
        "encoded_vectors = dictionary_encoding(intermediate_output)\n",
        "embedded_size = sys.getsizeof(encoded_vectors)\n",
        "original_size = sys.getsizeof(y)\n",
        "print(\"Compression: \", embedded_size/original_size)"
      ],
      "execution_count": null,
      "outputs": [
        {
          "output_type": "stream",
          "text": [
            "Compression:  0.0030897478433974785\n"
          ],
          "name": "stdout"
        }
      ]
    },
    {
      "cell_type": "code",
      "metadata": {
        "colab": {
          "base_uri": "https://localhost:8080/"
        },
        "id": "FCmbOGf9Kmdj",
        "outputId": "0e95ba33-f80e-4a3c-f192-beb99399c38a"
      },
      "source": [
        "len(encoded_vectors)"
      ],
      "execution_count": null,
      "outputs": [
        {
          "output_type": "execute_result",
          "data": {
            "text/plain": [
              "38"
            ]
          },
          "metadata": {
            "tags": []
          },
          "execution_count": 47
        }
      ]
    },
    {
      "cell_type": "code",
      "metadata": {
        "id": "LTNY3-L6Ktr3"
      },
      "source": [
        ""
      ],
      "execution_count": null,
      "outputs": []
    },
    {
      "cell_type": "code",
      "metadata": {
        "id": "FSpokVeMEu7l"
      },
      "source": [
        "# Hyper Parameters.\n",
        "epochs = 100 # MAX\n",
        "batch_size = 256\n",
        "validation_split = 0.1\n",
        "\n",
        "# VQ-VAE Hyper Parameters.\n",
        "embedding_dim = 16 # Length of embedding vectors.\n",
        "num_embeddings = 32 # Number of embedding vectors (high value = high bottleneck capacity).\n",
        "commitment_cost = 0.25 # Controls the weighting of the loss terms.\n",
        "\n",
        "# EarlyStoppingCallback.\n",
        "esc = keras.callbacks.EarlyStopping(monitor='val_loss', min_delta=1e-4,\n",
        "                                    patience=5, verbose=0, mode='auto',\n",
        "                                    baseline=None, restore_best_weights=True)"
      ],
      "execution_count": null,
      "outputs": []
    },
    {
      "cell_type": "code",
      "metadata": {
        "colab": {
          "base_uri": "https://localhost:8080/"
        },
        "id": "Di4LWvcFEu7y",
        "outputId": "68d58054-664e-43a7-a480-a1c012538884"
      },
      "source": [
        "# Encoder\n",
        "input = Input(shape=(x_train.shape[1], x_train.shape[2]))\n",
        "x = Conv1D(filters=32, kernel_size=7,  strides=2,padding=\"same\", activation=\"relu\")(input)\n",
        "x = Dropout(rate=0.2)(x)\n",
        "encoder_output = Conv1D(filters=16, kernel_size=7, padding=\"same\", strides=2, activation=\"relu\")(x)\n",
        "\n",
        "# VQVAELayer.\n",
        "enc = Conv1D(embedding_dim, kernel_size=1, strides=1, name=\"pre_vqvae\")(x)\n",
        "enc_inputs = enc\n",
        "enc = VQVAELayer(embedding_dim, num_embeddings, commitment_cost, name=\"vqvae\")(enc)\n",
        "x = Lambda(lambda enc: enc_inputs + K.stop_gradient(enc - enc_inputs), name=\"encoded\")(enc)\n",
        "data_variance = np.var(x_train)\n",
        "loss = vq_vae_loss_wrapper(data_variance, commitment_cost, enc, enc_inputs)\n",
        "\n",
        "# Decoder.\n",
        "x = Conv1D(filters=16, kernel_size=7, strides=2, padding = 'same')(x)\n",
        "x = UpSampling1D(size = 2)(x)\n",
        "x = Dropout(rate=0.2)(x)\n",
        "x = Conv1D(filters=32, kernel_size=7,  strides=1, padding = 'same')(x)\n",
        "x = UpSampling1D(size = 2)(x)\n",
        "x = Conv1D(filters=1, kernel_size=7, padding = 'same')(x)\n",
        "\n",
        "# Autoencoder.\n",
        "vqvae = Model(input, x)\n",
        "vqvae.compile(loss=loss, optimizer='adam')\n",
        "vqvae.summary()"
      ],
      "execution_count": null,
      "outputs": [
        {
          "output_type": "stream",
          "text": [
            "WARNING:tensorflow:Entity <bound method VQVAELayer.call of <__main__.VQVAELayer object at 0x7f2d7ac3fc10>> could not be transformed and will be executed as-is. Please report this to the AutoGraph team. When filing the bug, set the verbosity to 10 (on Linux, `export AUTOGRAPH_VERBOSITY=10`) and attach the full output. Cause: module 'gast' has no attribute 'Index'\n",
            "WARNING: Entity <bound method VQVAELayer.call of <__main__.VQVAELayer object at 0x7f2d7ac3fc10>> could not be transformed and will be executed as-is. Please report this to the AutoGraph team. When filing the bug, set the verbosity to 10 (on Linux, `export AUTOGRAPH_VERBOSITY=10`) and attach the full output. Cause: module 'gast' has no attribute 'Index'\n",
            "Model: \"model_2\"\n",
            "_________________________________________________________________\n",
            "Layer (type)                 Output Shape              Param #   \n",
            "=================================================================\n",
            "input_2 (InputLayer)         [(None, 256, 1)]          0         \n",
            "_________________________________________________________________\n",
            "conv1d_5 (Conv1D)            (None, 128, 32)           256       \n",
            "_________________________________________________________________\n",
            "dropout_2 (Dropout)          (None, 128, 32)           0         \n",
            "_________________________________________________________________\n",
            "pre_vqvae (Conv1D)           (None, 128, 16)           528       \n",
            "_________________________________________________________________\n",
            "vqvae (VQVAELayer)           (None, 128, 16)           512       \n",
            "_________________________________________________________________\n",
            "encoded (Lambda)             (None, 128, 16)           0         \n",
            "_________________________________________________________________\n",
            "conv1d_7 (Conv1D)            (None, 64, 16)            1808      \n",
            "_________________________________________________________________\n",
            "up_sampling1d_2 (UpSampling1 (None, 128, 16)           0         \n",
            "_________________________________________________________________\n",
            "dropout_3 (Dropout)          (None, 128, 16)           0         \n",
            "_________________________________________________________________\n",
            "conv1d_8 (Conv1D)            (None, 128, 32)           3616      \n",
            "_________________________________________________________________\n",
            "up_sampling1d_3 (UpSampling1 (None, 256, 32)           0         \n",
            "_________________________________________________________________\n",
            "conv1d_9 (Conv1D)            (None, 256, 1)            225       \n",
            "=================================================================\n",
            "Total params: 6,945\n",
            "Trainable params: 6,945\n",
            "Non-trainable params: 0\n",
            "_________________________________________________________________\n"
          ],
          "name": "stdout"
        }
      ]
    },
    {
      "cell_type": "code",
      "metadata": {
        "colab": {
          "base_uri": "https://localhost:8080/"
        },
        "id": "zQteNp03Eu7y",
        "outputId": "6b43fd16-628d-4505-d2c7-47d5aa2cfc05"
      },
      "source": [
        "history = vqvae.fit(x_train, x_train,\n",
        "                    batch_size=batch_size, epochs=epochs,\n",
        "                    validation_split=validation_split,\n",
        "                    callbacks=[esc])"
      ],
      "execution_count": null,
      "outputs": [
        {
          "output_type": "stream",
          "text": [
            "Train on 43153 samples, validate on 4795 samples\n",
            "Epoch 1/100\n",
            "43153/43153 [==============================] - 2s 47us/sample - loss: 131734.4920 - val_loss: 4311.6428\n",
            "Epoch 2/100\n",
            "43153/43153 [==============================] - 1s 31us/sample - loss: 5436.3793 - val_loss: 563.1288\n",
            "Epoch 3/100\n",
            "43153/43153 [==============================] - 1s 33us/sample - loss: 811.5264 - val_loss: 140.6369\n",
            "Epoch 4/100\n",
            "43153/43153 [==============================] - 1s 33us/sample - loss: 345.0512 - val_loss: 76.7714\n",
            "Epoch 5/100\n",
            "43153/43153 [==============================] - 1s 32us/sample - loss: 199.9622 - val_loss: 43.1095\n",
            "Epoch 6/100\n",
            "43153/43153 [==============================] - 1s 30us/sample - loss: 123.9800 - val_loss: 24.7555\n",
            "Epoch 7/100\n",
            "43153/43153 [==============================] - 1s 32us/sample - loss: 84.2627 - val_loss: 16.7065\n",
            "Epoch 8/100\n",
            "43153/43153 [==============================] - 1s 31us/sample - loss: 60.1888 - val_loss: 10.6923\n",
            "Epoch 9/100\n",
            "43153/43153 [==============================] - 1s 31us/sample - loss: 45.3449 - val_loss: 8.4043\n",
            "Epoch 10/100\n",
            "43153/43153 [==============================] - 1s 32us/sample - loss: 41.5553 - val_loss: 7.7937\n",
            "Epoch 11/100\n",
            "43153/43153 [==============================] - 1s 31us/sample - loss: 31.7591 - val_loss: 6.7233\n",
            "Epoch 12/100\n",
            "43153/43153 [==============================] - 1s 33us/sample - loss: 26.0500 - val_loss: 4.3780\n",
            "Epoch 13/100\n",
            "43153/43153 [==============================] - 1s 30us/sample - loss: 20.6949 - val_loss: 3.4628\n",
            "Epoch 14/100\n",
            "43153/43153 [==============================] - 1s 32us/sample - loss: 17.7126 - val_loss: 2.9278\n",
            "Epoch 15/100\n",
            "43153/43153 [==============================] - 1s 33us/sample - loss: 15.3442 - val_loss: 2.5367\n",
            "Epoch 16/100\n",
            "43153/43153 [==============================] - 1s 31us/sample - loss: 13.5856 - val_loss: 2.3641\n",
            "Epoch 17/100\n",
            "43153/43153 [==============================] - 1s 31us/sample - loss: 12.2599 - val_loss: 2.0797\n",
            "Epoch 18/100\n",
            "43153/43153 [==============================] - 1s 31us/sample - loss: 10.9118 - val_loss: 1.8853\n",
            "Epoch 19/100\n",
            "43153/43153 [==============================] - 1s 31us/sample - loss: 10.3229 - val_loss: 2.1143\n",
            "Epoch 20/100\n",
            "43153/43153 [==============================] - 1s 31us/sample - loss: 9.8213 - val_loss: 2.0411\n",
            "Epoch 21/100\n",
            "43153/43153 [==============================] - 1s 31us/sample - loss: 8.4101 - val_loss: 1.6637\n",
            "Epoch 22/100\n",
            "43153/43153 [==============================] - 1s 31us/sample - loss: 7.4778 - val_loss: 1.4849\n",
            "Epoch 23/100\n",
            "43153/43153 [==============================] - 1s 30us/sample - loss: 6.7400 - val_loss: 1.3336\n",
            "Epoch 24/100\n",
            "43153/43153 [==============================] - 1s 31us/sample - loss: 5.9053 - val_loss: 0.9797\n",
            "Epoch 25/100\n",
            "43153/43153 [==============================] - 1s 30us/sample - loss: 4.9881 - val_loss: 0.8247\n",
            "Epoch 26/100\n",
            "43153/43153 [==============================] - 1s 30us/sample - loss: 4.5169 - val_loss: 0.7430\n",
            "Epoch 27/100\n",
            "43153/43153 [==============================] - 1s 31us/sample - loss: 4.0614 - val_loss: 0.6655\n",
            "Epoch 28/100\n",
            "43153/43153 [==============================] - 1s 31us/sample - loss: 3.6693 - val_loss: 0.6179\n",
            "Epoch 29/100\n",
            "43153/43153 [==============================] - 1s 31us/sample - loss: 3.4238 - val_loss: 0.5808\n",
            "Epoch 30/100\n",
            "43153/43153 [==============================] - 1s 30us/sample - loss: 3.0741 - val_loss: 0.5338\n",
            "Epoch 31/100\n",
            "43153/43153 [==============================] - 1s 31us/sample - loss: 2.8257 - val_loss: 0.5685\n",
            "Epoch 32/100\n",
            "43153/43153 [==============================] - 1s 31us/sample - loss: 2.6516 - val_loss: 0.5932\n",
            "Epoch 33/100\n",
            "43153/43153 [==============================] - 1s 30us/sample - loss: 2.5779 - val_loss: 0.4749\n",
            "Epoch 34/100\n",
            "43153/43153 [==============================] - 1s 31us/sample - loss: 2.2834 - val_loss: 0.6065\n",
            "Epoch 35/100\n",
            "43153/43153 [==============================] - 1s 31us/sample - loss: 2.1629 - val_loss: 0.5358\n",
            "Epoch 36/100\n",
            "43153/43153 [==============================] - 1s 30us/sample - loss: 1.9846 - val_loss: 0.6964\n",
            "Epoch 37/100\n",
            "43153/43153 [==============================] - 1s 30us/sample - loss: 1.8919 - val_loss: 0.4401\n",
            "Epoch 38/100\n",
            "43153/43153 [==============================] - 1s 31us/sample - loss: 1.7491 - val_loss: 0.7774\n",
            "Epoch 39/100\n",
            "43153/43153 [==============================] - 1s 31us/sample - loss: 1.7294 - val_loss: 0.6292\n",
            "Epoch 40/100\n",
            "43153/43153 [==============================] - 1s 30us/sample - loss: 1.4902 - val_loss: 0.4465\n",
            "Epoch 41/100\n",
            "43153/43153 [==============================] - 1s 31us/sample - loss: 1.5265 - val_loss: 0.4741\n",
            "Epoch 42/100\n",
            "43153/43153 [==============================] - 1s 30us/sample - loss: 1.3456 - val_loss: 0.4085\n",
            "Epoch 43/100\n",
            "43153/43153 [==============================] - 1s 31us/sample - loss: 1.2246 - val_loss: 0.3399\n",
            "Epoch 44/100\n",
            "43153/43153 [==============================] - 1s 31us/sample - loss: 1.0938 - val_loss: 0.2858\n",
            "Epoch 45/100\n",
            "43153/43153 [==============================] - 1s 31us/sample - loss: 1.0019 - val_loss: 0.2507\n",
            "Epoch 46/100\n",
            "43153/43153 [==============================] - 1s 31us/sample - loss: 0.9065 - val_loss: 0.2181\n",
            "Epoch 47/100\n",
            "43153/43153 [==============================] - 1s 30us/sample - loss: 0.9177 - val_loss: 0.4278\n",
            "Epoch 48/100\n",
            "43153/43153 [==============================] - 1s 32us/sample - loss: 0.7829 - val_loss: 0.1682\n",
            "Epoch 49/100\n",
            "43153/43153 [==============================] - 1s 31us/sample - loss: 0.6721 - val_loss: 0.1710\n",
            "Epoch 50/100\n",
            "43153/43153 [==============================] - 1s 31us/sample - loss: 0.6332 - val_loss: 0.1619\n",
            "Epoch 51/100\n",
            "43153/43153 [==============================] - 1s 31us/sample - loss: 0.5893 - val_loss: 0.1503\n",
            "Epoch 52/100\n",
            "43153/43153 [==============================] - 1s 31us/sample - loss: 0.5685 - val_loss: 0.1526\n",
            "Epoch 53/100\n",
            "43153/43153 [==============================] - 1s 30us/sample - loss: 0.5315 - val_loss: 0.1355\n",
            "Epoch 54/100\n",
            "43153/43153 [==============================] - 1s 30us/sample - loss: 0.5041 - val_loss: 0.1382\n",
            "Epoch 55/100\n",
            "43153/43153 [==============================] - 1s 31us/sample - loss: 0.4867 - val_loss: 0.1328\n",
            "Epoch 56/100\n",
            "43153/43153 [==============================] - 1s 31us/sample - loss: 0.4587 - val_loss: 0.1368\n",
            "Epoch 57/100\n",
            "43153/43153 [==============================] - 1s 31us/sample - loss: 0.4397 - val_loss: 0.1484\n",
            "Epoch 58/100\n",
            "43153/43153 [==============================] - 1s 31us/sample - loss: 0.4224 - val_loss: 0.1617\n",
            "Epoch 59/100\n",
            "43153/43153 [==============================] - 1s 32us/sample - loss: 0.4156 - val_loss: 0.1283\n",
            "Epoch 60/100\n",
            "43153/43153 [==============================] - 1s 30us/sample - loss: 0.4028 - val_loss: 0.1262\n",
            "Epoch 61/100\n",
            "43153/43153 [==============================] - 1s 31us/sample - loss: 0.3959 - val_loss: 0.1590\n",
            "Epoch 62/100\n",
            "43153/43153 [==============================] - 1s 31us/sample - loss: 0.3848 - val_loss: 0.1257\n",
            "Epoch 63/100\n",
            "43153/43153 [==============================] - 1s 30us/sample - loss: 0.3762 - val_loss: 0.1186\n",
            "Epoch 64/100\n",
            "43153/43153 [==============================] - 1s 31us/sample - loss: 0.3630 - val_loss: 0.1185\n",
            "Epoch 65/100\n",
            "43153/43153 [==============================] - 1s 31us/sample - loss: 0.3622 - val_loss: 0.1326\n",
            "Epoch 66/100\n",
            "43153/43153 [==============================] - 1s 31us/sample - loss: 0.3532 - val_loss: 0.1282\n",
            "Epoch 67/100\n",
            "43153/43153 [==============================] - 1s 31us/sample - loss: 0.3510 - val_loss: 0.1095\n",
            "Epoch 68/100\n",
            "43153/43153 [==============================] - 1s 31us/sample - loss: 0.3449 - val_loss: 0.1364\n",
            "Epoch 69/100\n",
            "43153/43153 [==============================] - 1s 31us/sample - loss: 0.3392 - val_loss: 0.1114\n",
            "Epoch 70/100\n",
            "43153/43153 [==============================] - 1s 31us/sample - loss: 0.3355 - val_loss: 0.1263\n",
            "Epoch 71/100\n",
            "43153/43153 [==============================] - 1s 32us/sample - loss: 0.3322 - val_loss: 0.1360\n",
            "Epoch 72/100\n",
            "43153/43153 [==============================] - 1s 33us/sample - loss: 0.3275 - val_loss: 0.1116\n"
          ],
          "name": "stdout"
        }
      ]
    },
    {
      "cell_type": "code",
      "metadata": {
        "colab": {
          "base_uri": "https://localhost:8080/",
          "height": 297
        },
        "id": "DWZB52yYEu7y",
        "outputId": "b22a61f8-405f-46b7-ceba-79f43e0a6804"
      },
      "source": [
        "# Get train MAE loss.\n",
        "x_train_pred = vqvae.predict(x_train)\n",
        "train_mae_loss = np.mean(np.abs(x_train_pred - x_train), axis=1)\n",
        "\n",
        "plt.hist(train_mae_loss, bins=50)\n",
        "plt.xlabel(\"Train MAE loss\")\n",
        "plt.ylabel(\"No of samples\")\n",
        "plt.show()\n",
        "\n",
        "# Get reconstruction loss threshold.\n",
        "threshold = np.max(train_mae_loss)\n",
        "print(\"Reconstruction error threshold: \", threshold)"
      ],
      "execution_count": null,
      "outputs": [
        {
          "output_type": "display_data",
          "data": {
            "image/png": "[encoded data removed]",
            "text/plain": [
              "<Figure size 432x288 with 1 Axes>"
            ]
          },
          "metadata": {
            "tags": [],
            "needs_background": "light"
          }
        },
        {
          "output_type": "stream",
          "text": [
            "Reconstruction error threshold:  927.1128766536713\n"
          ],
          "name": "stdout"
        }
      ]
    },
    {
      "cell_type": "code",
      "metadata": {
        "id": "1bRwj5E3Eu7z"
      },
      "source": [
        "# Get train MAE loss.\n",
        "x_train_pred_m = vqvae.predict(x_train)\n",
        "original = []\n",
        "for item in x_train:\n",
        "  #print(item[0])\n",
        "  original.append(item[0])\n",
        "predicted = []\n",
        "for item in x_train_pred_m:\n",
        "  #print(item[0])\n",
        "  predicted.append(item[0])"
      ],
      "execution_count": null,
      "outputs": []
    },
    {
      "cell_type": "code",
      "metadata": {
        "id": "i3wK6RpgEu7z"
      },
      "source": [
        "df_original = pd.DataFrame(original)\n",
        "df_pred = pd.DataFrame(predicted)\n",
        "original_mean = df_original.mean(axis = 0)\n",
        "difference = df_original - df_pred\n",
        "difference_mean = np.abs(difference.mean(axis = 0))"
      ],
      "execution_count": null,
      "outputs": []
    },
    {
      "cell_type": "code",
      "metadata": {
        "colab": {
          "base_uri": "https://localhost:8080/"
        },
        "id": "G2wTLDKOEu7z",
        "outputId": "25d8a8fa-70af-4d59-e1b1-122c558019e0"
      },
      "source": [
        "difference_mean/original_mean"
      ],
      "execution_count": null,
      "outputs": [
        {
          "output_type": "execute_result",
          "data": {
            "text/plain": [
              "0    0.19832\n",
              "dtype: float64"
            ]
          },
          "metadata": {
            "tags": []
          },
          "execution_count": 54
        }
      ]
    },
    {
      "cell_type": "code",
      "metadata": {
        "colab": {
          "base_uri": "https://localhost:8080/",
          "height": 285
        },
        "id": "JFgzzr8LEu7z",
        "outputId": "d47ff788-3f0d-4890-9c68-e50da912f203"
      },
      "source": [
        "# Checking how the first sequence is learnt\n",
        "plt.plot(x_train[0])\n",
        "plt.plot(x_train_pred[0])\n",
        "plt.show()"
      ],
      "execution_count": null,
      "outputs": [
        {
          "output_type": "display_data",
          "data": {
            "image/png": "[encoded data removed]",
            "text/plain": [
              "<Figure size 432x288 with 1 Axes>"
            ]
          },
          "metadata": {
            "tags": [],
            "needs_background": "light"
          }
        }
      ]
    },
    {
      "cell_type": "code",
      "metadata": {
        "id": "K6_GIDjnEu70"
      },
      "source": [
        "intermediate_layer_model = Model(inputs=vqvae.input,\n",
        "                                 outputs=vqvae.get_layer(\"vqvae\").output)\n",
        "intermediate_output = intermediate_layer_model.predict(x_train)"
      ],
      "execution_count": null,
      "outputs": []
    },
    {
      "cell_type": "code",
      "metadata": {
        "colab": {
          "base_uri": "https://localhost:8080/"
        },
        "id": "DQWOq7c2Eu70",
        "outputId": "c6de213d-7641-4bdd-c0ba-f56d46aabfd0"
      },
      "source": [
        "intermediate_output[0][1:4]"
      ],
      "execution_count": null,
      "outputs": [
        {
          "output_type": "execute_result",
          "data": {
            "text/plain": [
              "array([[-0.53497463,  2.0451403 ,  0.7298565 , -1.0212505 , -0.8029017 ,\n",
              "         0.5266003 , -0.47423413, -0.23506205, -0.27927014,  0.12029094,\n",
              "         0.09007355, -0.435787  ,  0.33729   ,  0.09170138, -1.3185564 ,\n",
              "        -1.8178179 ],\n",
              "       [-0.9429215 ,  2.9477444 ,  1.0080082 , -1.5876288 , -1.0847106 ,\n",
              "         0.72369295, -0.65318155, -0.37335315, -0.3588623 ,  0.10692618,\n",
              "         0.18461108, -0.6969665 ,  0.54143256,  0.15989427, -1.8953216 ,\n",
              "        -2.581297  ],\n",
              "       [-0.9429215 ,  2.9477444 ,  1.0080082 , -1.5876288 , -1.0847106 ,\n",
              "         0.72369295, -0.65318155, -0.37335315, -0.3588623 ,  0.10692618,\n",
              "         0.18461108, -0.6969665 ,  0.54143256,  0.15989427, -1.8953216 ,\n",
              "        -2.581297  ]], dtype=float32)"
            ]
          },
          "metadata": {
            "tags": []
          },
          "execution_count": 56
        }
      ]
    },
    {
      "cell_type": "code",
      "metadata": {
        "colab": {
          "base_uri": "https://localhost:8080/"
        },
        "id": "Fy6s2saTEu70",
        "outputId": "9416f4f2-3f3c-4722-ae00-df45565f5eb0"
      },
      "source": [
        "encoded_vectors = dictionary_encoding(intermediate_output)\n",
        "embedded_size = sys.getsizeof(encoded_vectors)\n",
        "original_size = sys.getsizeof(y)\n",
        "print(\"Compression: \", embedded_size/original_size)"
      ],
      "execution_count": null,
      "outputs": [
        {
          "output_type": "stream",
          "text": [
            "Compression:  0.0030897478433974785\n"
          ],
          "name": "stdout"
        }
      ]
    },
    {
      "cell_type": "code",
      "metadata": {
        "colab": {
          "base_uri": "https://localhost:8080/"
        },
        "id": "-Eit2QPXEu71",
        "outputId": "5de6d904-f5ed-40f0-a59d-f9e48edb898f"
      },
      "source": [
        "len(encoded_vectors)"
      ],
      "execution_count": null,
      "outputs": [
        {
          "output_type": "execute_result",
          "data": {
            "text/plain": [
              "26"
            ]
          },
          "metadata": {
            "tags": []
          },
          "execution_count": 60
        }
      ]
    },
    {
      "cell_type": "code",
      "metadata": {
        "id": "6b__DaWIEu71"
      },
      "source": [
        ""
      ],
      "execution_count": null,
      "outputs": []
    },
    {
      "cell_type": "code",
      "metadata": {
        "id": "C6HAn0rdF-wH"
      },
      "source": [
        "# Hyper Parameters.\n",
        "epochs = 100 # MAX\n",
        "batch_size = 256\n",
        "validation_split = 0.1\n",
        "\n",
        "# VQ-VAE Hyper Parameters.\n",
        "embedding_dim = 16 # Length of embedding vectors.\n",
        "num_embeddings = 16 # Number of embedding vectors (high value = high bottleneck capacity).\n",
        "commitment_cost = 0.25 # Controls the weighting of the loss terms.\n",
        "\n",
        "# EarlyStoppingCallback.\n",
        "esc = keras.callbacks.EarlyStopping(monitor='val_loss', min_delta=1e-4,\n",
        "                                    patience=5, verbose=0, mode='auto',\n",
        "                                    baseline=None, restore_best_weights=True)"
      ],
      "execution_count": null,
      "outputs": []
    },
    {
      "cell_type": "code",
      "metadata": {
        "colab": {
          "base_uri": "https://localhost:8080/"
        },
        "id": "l6328vY7F-wU",
        "outputId": "ba08a3c5-eb9c-464d-82b2-431f119800de"
      },
      "source": [
        "# Encoder\n",
        "input = Input(shape=(x_train.shape[1], x_train.shape[2]))\n",
        "x = Conv1D(filters=32, kernel_size=7,  strides=2,padding=\"same\", activation=\"relu\")(input)\n",
        "x = Dropout(rate=0.2)(x)\n",
        "encoder_output = Conv1D(filters=16, kernel_size=7, padding=\"same\", strides=2, activation=\"relu\")(x)\n",
        "\n",
        "# VQVAELayer.\n",
        "enc = Conv1D(embedding_dim, kernel_size=1, strides=1, name=\"pre_vqvae\")(x)\n",
        "enc_inputs = enc\n",
        "enc = VQVAELayer(embedding_dim, num_embeddings, commitment_cost, name=\"vqvae\")(enc)\n",
        "x = Lambda(lambda enc: enc_inputs + K.stop_gradient(enc - enc_inputs), name=\"encoded\")(enc)\n",
        "data_variance = np.var(x_train)\n",
        "loss = vq_vae_loss_wrapper(data_variance, commitment_cost, enc, enc_inputs)\n",
        "\n",
        "# Decoder.\n",
        "x = Conv1D(filters=16, kernel_size=7, strides=2, padding = 'same')(x)\n",
        "x = UpSampling1D(size = 2)(x)\n",
        "x = Dropout(rate=0.2)(x)\n",
        "x = Conv1D(filters=32, kernel_size=7,  strides=1, padding = 'same')(x)\n",
        "x = UpSampling1D(size = 2)(x)\n",
        "x = Conv1D(filters=1, kernel_size=7, padding = 'same')(x)\n",
        "\n",
        "# Autoencoder.\n",
        "vqvae = Model(input, x)\n",
        "vqvae.compile(loss=loss, optimizer='adam')\n",
        "vqvae.summary()"
      ],
      "execution_count": null,
      "outputs": [
        {
          "output_type": "stream",
          "text": [
            "WARNING:tensorflow:Entity <bound method VQVAELayer.call of <__main__.VQVAELayer object at 0x7f2d801aa750>> could not be transformed and will be executed as-is. Please report this to the AutoGraph team. When filing the bug, set the verbosity to 10 (on Linux, `export AUTOGRAPH_VERBOSITY=10`) and attach the full output. Cause: module 'gast' has no attribute 'Index'\n",
            "WARNING: Entity <bound method VQVAELayer.call of <__main__.VQVAELayer object at 0x7f2d801aa750>> could not be transformed and will be executed as-is. Please report this to the AutoGraph team. When filing the bug, set the verbosity to 10 (on Linux, `export AUTOGRAPH_VERBOSITY=10`) and attach the full output. Cause: module 'gast' has no attribute 'Index'\n",
            "Model: \"model_4\"\n",
            "_________________________________________________________________\n",
            "Layer (type)                 Output Shape              Param #   \n",
            "=================================================================\n",
            "input_3 (InputLayer)         [(None, 256, 1)]          0         \n",
            "_________________________________________________________________\n",
            "conv1d_10 (Conv1D)           (None, 128, 32)           256       \n",
            "_________________________________________________________________\n",
            "dropout_4 (Dropout)          (None, 128, 32)           0         \n",
            "_________________________________________________________________\n",
            "pre_vqvae (Conv1D)           (None, 128, 16)           528       \n",
            "_________________________________________________________________\n",
            "vqvae (VQVAELayer)           (None, 128, 16)           256       \n",
            "_________________________________________________________________\n",
            "encoded (Lambda)             (None, 128, 16)           0         \n",
            "_________________________________________________________________\n",
            "conv1d_12 (Conv1D)           (None, 64, 16)            1808      \n",
            "_________________________________________________________________\n",
            "up_sampling1d_4 (UpSampling1 (None, 128, 16)           0         \n",
            "_________________________________________________________________\n",
            "dropout_5 (Dropout)          (None, 128, 16)           0         \n",
            "_________________________________________________________________\n",
            "conv1d_13 (Conv1D)           (None, 128, 32)           3616      \n",
            "_________________________________________________________________\n",
            "up_sampling1d_5 (UpSampling1 (None, 256, 32)           0         \n",
            "_________________________________________________________________\n",
            "conv1d_14 (Conv1D)           (None, 256, 1)            225       \n",
            "=================================================================\n",
            "Total params: 6,689\n",
            "Trainable params: 6,689\n",
            "Non-trainable params: 0\n",
            "_________________________________________________________________\n"
          ],
          "name": "stdout"
        }
      ]
    },
    {
      "cell_type": "code",
      "metadata": {
        "colab": {
          "base_uri": "https://localhost:8080/"
        },
        "id": "jqLe3nc0F-wU",
        "outputId": "14c6211a-d9a2-4b40-9a4e-bd2f19ca6df9"
      },
      "source": [
        "history = vqvae.fit(x_train, x_train,\n",
        "                    batch_size=batch_size, epochs=epochs,\n",
        "                    validation_split=validation_split,\n",
        "                    callbacks=[esc])"
      ],
      "execution_count": null,
      "outputs": [
        {
          "output_type": "stream",
          "text": [
            "Train on 43153 samples, validate on 4795 samples\n",
            "Epoch 1/100\n",
            "43153/43153 [==============================] - 2s 50us/sample - loss: 90721.3109 - val_loss: 2091.2764\n",
            "Epoch 2/100\n",
            "43153/43153 [==============================] - 1s 29us/sample - loss: 4500.0682 - val_loss: 776.9623\n",
            "Epoch 3/100\n",
            "43153/43153 [==============================] - 1s 28us/sample - loss: 1868.9694 - val_loss: 369.0095\n",
            "Epoch 4/100\n",
            "43153/43153 [==============================] - 1s 29us/sample - loss: 888.1643 - val_loss: 193.5243\n",
            "Epoch 5/100\n",
            "43153/43153 [==============================] - 1s 29us/sample - loss: 485.3019 - val_loss: 114.4152\n",
            "Epoch 6/100\n",
            "43153/43153 [==============================] - 1s 29us/sample - loss: 289.9489 - val_loss: 69.1510\n",
            "Epoch 7/100\n",
            "43153/43153 [==============================] - 1s 29us/sample - loss: 190.5512 - val_loss: 50.1442\n",
            "Epoch 8/100\n",
            "43153/43153 [==============================] - 1s 29us/sample - loss: 140.8239 - val_loss: 37.7709\n",
            "Epoch 9/100\n",
            "43153/43153 [==============================] - 1s 30us/sample - loss: 125.2700 - val_loss: 35.2949\n",
            "Epoch 10/100\n",
            "43153/43153 [==============================] - 1s 29us/sample - loss: 89.2782 - val_loss: 21.4210\n",
            "Epoch 11/100\n",
            "43153/43153 [==============================] - 1s 29us/sample - loss: 67.3712 - val_loss: 16.3505\n",
            "Epoch 12/100\n",
            "43153/43153 [==============================] - 1s 30us/sample - loss: 89.6782 - val_loss: 15.8394\n",
            "Epoch 13/100\n",
            "43153/43153 [==============================] - 1s 30us/sample - loss: 47.3286 - val_loss: 11.3316\n",
            "Epoch 14/100\n",
            "43153/43153 [==============================] - 1s 29us/sample - loss: 37.4928 - val_loss: 8.5728\n",
            "Epoch 15/100\n",
            "43153/43153 [==============================] - 1s 29us/sample - loss: 31.2608 - val_loss: 6.5508\n",
            "Epoch 16/100\n",
            "43153/43153 [==============================] - 1s 30us/sample - loss: 26.8694 - val_loss: 5.9327\n",
            "Epoch 17/100\n",
            "43153/43153 [==============================] - 1s 30us/sample - loss: 23.7009 - val_loss: 5.5424\n",
            "Epoch 18/100\n",
            "43153/43153 [==============================] - 1s 30us/sample - loss: 22.0464 - val_loss: 5.9604\n",
            "Epoch 19/100\n",
            "43153/43153 [==============================] - 1s 30us/sample - loss: 21.1926 - val_loss: 5.8127\n",
            "Epoch 20/100\n",
            "43153/43153 [==============================] - 1s 29us/sample - loss: 19.6420 - val_loss: 5.5180\n",
            "Epoch 21/100\n",
            "43153/43153 [==============================] - 1s 30us/sample - loss: 16.8054 - val_loss: 2.7821\n",
            "Epoch 22/100\n",
            "43153/43153 [==============================] - 1s 30us/sample - loss: 12.6181 - val_loss: 14.0566\n",
            "Epoch 23/100\n",
            "43153/43153 [==============================] - 1s 29us/sample - loss: 13.2545 - val_loss: 2.6559\n",
            "Epoch 24/100\n",
            "43153/43153 [==============================] - 1s 30us/sample - loss: 10.5991 - val_loss: 2.7733\n",
            "Epoch 25/100\n",
            "43153/43153 [==============================] - 1s 30us/sample - loss: 9.4671 - val_loss: 2.2421\n",
            "Epoch 26/100\n",
            "43153/43153 [==============================] - 1s 31us/sample - loss: 8.1924 - val_loss: 1.9586\n",
            "Epoch 27/100\n",
            "43153/43153 [==============================] - 1s 30us/sample - loss: 7.3740 - val_loss: 1.9984\n",
            "Epoch 28/100\n",
            "43153/43153 [==============================] - 1s 30us/sample - loss: 6.9198 - val_loss: 1.9019\n",
            "Epoch 29/100\n",
            "43153/43153 [==============================] - 1s 30us/sample - loss: 6.1648 - val_loss: 1.5963\n",
            "Epoch 30/100\n",
            "43153/43153 [==============================] - 1s 29us/sample - loss: 5.4797 - val_loss: 1.4723\n",
            "Epoch 31/100\n",
            "43153/43153 [==============================] - 1s 29us/sample - loss: 4.8482 - val_loss: 1.2119\n",
            "Epoch 32/100\n",
            "43153/43153 [==============================] - 1s 30us/sample - loss: 4.3288 - val_loss: 1.1085\n",
            "Epoch 33/100\n",
            "43153/43153 [==============================] - 1s 30us/sample - loss: 3.8886 - val_loss: 0.9297\n",
            "Epoch 34/100\n",
            "43153/43153 [==============================] - 1s 30us/sample - loss: 3.5456 - val_loss: 0.8909\n",
            "Epoch 35/100\n",
            "43153/43153 [==============================] - 1s 29us/sample - loss: 3.2545 - val_loss: 0.8507\n",
            "Epoch 36/100\n",
            "43153/43153 [==============================] - 1s 30us/sample - loss: 2.9808 - val_loss: 0.8348\n",
            "Epoch 37/100\n",
            "43153/43153 [==============================] - 1s 30us/sample - loss: 2.7059 - val_loss: 0.6173\n",
            "Epoch 38/100\n",
            "43153/43153 [==============================] - 1s 29us/sample - loss: 2.4989 - val_loss: 0.6015\n",
            "Epoch 39/100\n",
            "43153/43153 [==============================] - 1s 29us/sample - loss: 26.2818 - val_loss: 21.3573\n",
            "Epoch 40/100\n",
            "43153/43153 [==============================] - 1s 29us/sample - loss: 7.5142 - val_loss: 1.0648\n",
            "Epoch 41/100\n",
            "43153/43153 [==============================] - 1s 30us/sample - loss: 2.5999 - val_loss: 1.0265\n",
            "Epoch 42/100\n",
            "43153/43153 [==============================] - 1s 29us/sample - loss: 2.5295 - val_loss: 1.0405\n",
            "Epoch 43/100\n",
            "43153/43153 [==============================] - 1s 32us/sample - loss: 2.4207 - val_loss: 1.0128\n"
          ],
          "name": "stdout"
        }
      ]
    },
    {
      "cell_type": "code",
      "metadata": {
        "colab": {
          "base_uri": "https://localhost:8080/",
          "height": 297
        },
        "id": "GQcgKVonF-wV",
        "outputId": "fa2b657a-241d-4630-91da-3af8ac2772fc"
      },
      "source": [
        "# Get train MAE loss.\n",
        "x_train_pred = vqvae.predict(x_train)\n",
        "train_mae_loss = np.mean(np.abs(x_train_pred - x_train), axis=1)\n",
        "\n",
        "plt.hist(train_mae_loss, bins=50)\n",
        "plt.xlabel(\"Train MAE loss\")\n",
        "plt.ylabel(\"No of samples\")\n",
        "plt.show()\n",
        "\n",
        "# Get reconstruction loss threshold.\n",
        "threshold = np.max(train_mae_loss)\n",
        "print(\"Reconstruction error threshold: \", threshold)"
      ],
      "execution_count": null,
      "outputs": [
        {
          "output_type": "display_data",
          "data": {
            "image/png": "[encoded data removed]",
            "text/plain": [
              "<Figure size 432x288 with 1 Axes>"
            ]
          },
          "metadata": {
            "tags": [],
            "needs_background": "light"
          }
        },
        {
          "output_type": "stream",
          "text": [
            "Reconstruction error threshold:  1624.08974789083\n"
          ],
          "name": "stdout"
        }
      ]
    },
    {
      "cell_type": "code",
      "metadata": {
        "id": "Dn0SxJyvF-wV"
      },
      "source": [
        "# Get train MAE loss.\n",
        "x_train_pred_m = vqvae.predict(x_train)\n",
        "original = []\n",
        "for item in x_train:\n",
        "  #print(item[0])\n",
        "  original.append(item[0])\n",
        "predicted = []\n",
        "for item in x_train_pred_m:\n",
        "  #print(item[0])\n",
        "  predicted.append(item[0])"
      ],
      "execution_count": null,
      "outputs": []
    },
    {
      "cell_type": "code",
      "metadata": {
        "id": "TwAX2xhbF-wW"
      },
      "source": [
        "df_original = pd.DataFrame(original)\n",
        "df_pred = pd.DataFrame(predicted)\n",
        "original_mean = df_original.mean(axis = 0)\n",
        "difference = df_original - df_pred\n",
        "difference_mean = np.abs(difference.mean(axis = 0))"
      ],
      "execution_count": null,
      "outputs": []
    },
    {
      "cell_type": "code",
      "metadata": {
        "colab": {
          "base_uri": "https://localhost:8080/"
        },
        "id": "qH2VqVYbF-wW",
        "outputId": "4a62bddc-8963-48ab-9a1e-f77b7be5a5f1"
      },
      "source": [
        "difference_mean/original_mean"
      ],
      "execution_count": null,
      "outputs": [
        {
          "output_type": "execute_result",
          "data": {
            "text/plain": [
              "0    0.381134\n",
              "dtype: float64"
            ]
          },
          "metadata": {
            "tags": []
          },
          "execution_count": 67
        }
      ]
    },
    {
      "cell_type": "code",
      "metadata": {
        "colab": {
          "base_uri": "https://localhost:8080/",
          "height": 285
        },
        "id": "Ds3pYXaYF-wW",
        "outputId": "d47ff788-3f0d-4890-9c68-e50da912f203"
      },
      "source": [
        "# Checking how the first sequence is learnt\n",
        "plt.plot(x_train[0])\n",
        "plt.plot(x_train_pred[0])\n",
        "plt.show()"
      ],
      "execution_count": null,
      "outputs": [
        {
          "output_type": "display_data",
          "data": {
            "image/png": "[encoded data removed]",
            "text/plain": [
              "<Figure size 432x288 with 1 Axes>"
            ]
          },
          "metadata": {
            "tags": [],
            "needs_background": "light"
          }
        }
      ]
    },
    {
      "cell_type": "code",
      "metadata": {
        "id": "KEPxs5tfF-wX"
      },
      "source": [
        "intermediate_layer_model = Model(inputs=vqvae.input,\n",
        "                                 outputs=vqvae.get_layer(\"vqvae\").output)\n",
        "intermediate_output = intermediate_layer_model.predict(x_train)"
      ],
      "execution_count": null,
      "outputs": []
    },
    {
      "cell_type": "code",
      "metadata": {
        "colab": {
          "base_uri": "https://localhost:8080/"
        },
        "id": "sXL7OpViF-wX",
        "outputId": "7dcf61f8-9e4f-4d1f-ef9f-9af57c8d2134"
      },
      "source": [
        "intermediate_output[0][1:4]"
      ],
      "execution_count": null,
      "outputs": [
        {
          "output_type": "execute_result",
          "data": {
            "text/plain": [
              "array([[-0.25285333, -0.05365805,  0.17607573, -0.099897  , -0.25180474,\n",
              "         0.08430558,  0.06882708, -0.34321642,  0.17759381, -0.17750667,\n",
              "         0.05795278,  0.07615969,  0.24794747,  0.13690682, -0.10088916,\n",
              "         0.00590668],\n",
              "       [-0.25285333, -0.05365805,  0.17607573, -0.099897  , -0.25180474,\n",
              "         0.08430558,  0.06882708, -0.34321642,  0.17759381, -0.17750667,\n",
              "         0.05795278,  0.07615969,  0.24794747,  0.13690682, -0.10088916,\n",
              "         0.00590668],\n",
              "       [-0.25285333, -0.05365805,  0.17607573, -0.099897  , -0.25180474,\n",
              "         0.08430558,  0.06882708, -0.34321642,  0.17759381, -0.17750667,\n",
              "         0.05795278,  0.07615969,  0.24794747,  0.13690682, -0.10088916,\n",
              "         0.00590668]], dtype=float32)"
            ]
          },
          "metadata": {
            "tags": []
          },
          "execution_count": 70
        }
      ]
    },
    {
      "cell_type": "code",
      "metadata": {
        "colab": {
          "base_uri": "https://localhost:8080/"
        },
        "id": "h3DnvvJVF-wX",
        "outputId": "e7e51303-fee7-43bd-cf9d-7cb2c5b730c4"
      },
      "source": [
        "encoded_vectors = dictionary_encoding(intermediate_output)\n",
        "embedded_size = sys.getsizeof(encoded_vectors)\n",
        "original_size = sys.getsizeof(y)\n",
        "print(\"Compression: \", embedded_size/original_size)"
      ],
      "execution_count": null,
      "outputs": [
        {
          "output_type": "stream",
          "text": [
            "Compression:  0.0017003981420039814\n"
          ],
          "name": "stdout"
        }
      ]
    },
    {
      "cell_type": "code",
      "metadata": {
        "colab": {
          "base_uri": "https://localhost:8080/"
        },
        "id": "MHnQdXxqF-wY",
        "outputId": "fc01f04f-f9d0-400c-b86c-ac19b21bd13e"
      },
      "source": [
        "list(encoded_vectors.keys())[1]"
      ],
      "execution_count": null,
      "outputs": [
        {
          "output_type": "execute_result",
          "data": {
            "text/plain": [
              "(1.4209285,\n",
              " -0.8281848,\n",
              " -2.209581,\n",
              " 0.42664766,\n",
              " 0.58371687,\n",
              " 1.2053066,\n",
              " -0.057914417,\n",
              " 3.25972,\n",
              " -0.18539065,\n",
              " 1.4851952,\n",
              " -0.60223424,\n",
              " -3.1354027,\n",
              " -0.89241415,\n",
              " 0.16491379,\n",
              " 0.83616513,\n",
              " 0.0142040495)"
            ]
          },
          "metadata": {
            "tags": []
          },
          "execution_count": 72
        }
      ]
    },
    {
      "cell_type": "code",
      "metadata": {
        "colab": {
          "base_uri": "https://localhost:8080/"
        },
        "id": "z2_JR8XVF-wY",
        "outputId": "0682494c-4a89-477c-fd6a-c5e3e5c33649"
      },
      "source": [
        "len(encoded_vectors)"
      ],
      "execution_count": null,
      "outputs": [
        {
          "output_type": "execute_result",
          "data": {
            "text/plain": [
              "16"
            ]
          },
          "metadata": {
            "tags": []
          },
          "execution_count": 73
        }
      ]
    },
    {
      "cell_type": "code",
      "metadata": {
        "id": "99pbqzpEGh6v"
      },
      "source": [
        ""
      ],
      "execution_count": null,
      "outputs": []
    },
    {
      "cell_type": "code",
      "metadata": {
        "id": "SEqwu_EeGjoi"
      },
      "source": [
        "# Hyper Parameters.\n",
        "epochs = 100 # MAX\n",
        "batch_size = 256\n",
        "validation_split = 0.1\n",
        "\n",
        "# VQ-VAE Hyper Parameters.\n",
        "embedding_dim = 16 # Length of embedding vectors.\n",
        "num_embeddings = 8 # Number of embedding vectors (high value = high bottleneck capacity).\n",
        "commitment_cost = 0.25 # Controls the weighting of the loss terms.\n",
        "\n",
        "# EarlyStoppingCallback.\n",
        "esc = keras.callbacks.EarlyStopping(monitor='val_loss', min_delta=1e-4,\n",
        "                                    patience=5, verbose=0, mode='auto',\n",
        "                                    baseline=None, restore_best_weights=True)"
      ],
      "execution_count": null,
      "outputs": []
    },
    {
      "cell_type": "code",
      "metadata": {
        "colab": {
          "base_uri": "https://localhost:8080/"
        },
        "id": "9qFQpbUoGjoj",
        "outputId": "833ee933-8916-4d35-f2d1-1b5c6c89a541"
      },
      "source": [
        "# Encoder\n",
        "input = Input(shape=(x_train.shape[1], x_train.shape[2]))\n",
        "x = Conv1D(filters=32, kernel_size=7,  strides=2,padding=\"same\", activation=\"relu\")(input)\n",
        "x = Dropout(rate=0.2)(x)\n",
        "encoder_output = Conv1D(filters=16, kernel_size=7, padding=\"same\", strides=2, activation=\"relu\")(x)\n",
        "\n",
        "# VQVAELayer.\n",
        "enc = Conv1D(embedding_dim, kernel_size=1, strides=1, name=\"pre_vqvae\")(x)\n",
        "enc_inputs = enc\n",
        "enc = VQVAELayer(embedding_dim, num_embeddings, commitment_cost, name=\"vqvae\")(enc)\n",
        "x = Lambda(lambda enc: enc_inputs + K.stop_gradient(enc - enc_inputs), name=\"encoded\")(enc)\n",
        "data_variance = np.var(x_train)\n",
        "loss = vq_vae_loss_wrapper(data_variance, commitment_cost, enc, enc_inputs)\n",
        "\n",
        "# Decoder.\n",
        "x = Conv1D(filters=16, kernel_size=7, strides=2, padding = 'same')(x)\n",
        "x = UpSampling1D(size = 2)(x)\n",
        "x = Dropout(rate=0.2)(x)\n",
        "x = Conv1D(filters=32, kernel_size=7,  strides=1, padding = 'same')(x)\n",
        "x = UpSampling1D(size = 2)(x)\n",
        "x = Conv1D(filters=1, kernel_size=7, padding = 'same')(x)\n",
        "\n",
        "# Autoencoder.\n",
        "vqvae = Model(input, x)\n",
        "vqvae.compile(loss=loss, optimizer='adam')\n",
        "vqvae.summary()"
      ],
      "execution_count": null,
      "outputs": [
        {
          "output_type": "stream",
          "text": [
            "WARNING:tensorflow:Entity <bound method VQVAELayer.call of <__main__.VQVAELayer object at 0x7f2d7baf8950>> could not be transformed and will be executed as-is. Please report this to the AutoGraph team. When filing the bug, set the verbosity to 10 (on Linux, `export AUTOGRAPH_VERBOSITY=10`) and attach the full output. Cause: module 'gast' has no attribute 'Index'\n",
            "WARNING: Entity <bound method VQVAELayer.call of <__main__.VQVAELayer object at 0x7f2d7baf8950>> could not be transformed and will be executed as-is. Please report this to the AutoGraph team. When filing the bug, set the verbosity to 10 (on Linux, `export AUTOGRAPH_VERBOSITY=10`) and attach the full output. Cause: module 'gast' has no attribute 'Index'\n",
            "Model: \"model_7\"\n",
            "_________________________________________________________________\n",
            "Layer (type)                 Output Shape              Param #   \n",
            "=================================================================\n",
            "input_4 (InputLayer)         [(None, 256, 1)]          0         \n",
            "_________________________________________________________________\n",
            "conv1d_15 (Conv1D)           (None, 128, 32)           256       \n",
            "_________________________________________________________________\n",
            "dropout_6 (Dropout)          (None, 128, 32)           0         \n",
            "_________________________________________________________________\n",
            "pre_vqvae (Conv1D)           (None, 128, 16)           528       \n",
            "_________________________________________________________________\n",
            "vqvae (VQVAELayer)           (None, 128, 16)           128       \n",
            "_________________________________________________________________\n",
            "encoded (Lambda)             (None, 128, 16)           0         \n",
            "_________________________________________________________________\n",
            "conv1d_17 (Conv1D)           (None, 64, 16)            1808      \n",
            "_________________________________________________________________\n",
            "up_sampling1d_6 (UpSampling1 (None, 128, 16)           0         \n",
            "_________________________________________________________________\n",
            "dropout_7 (Dropout)          (None, 128, 16)           0         \n",
            "_________________________________________________________________\n",
            "conv1d_18 (Conv1D)           (None, 128, 32)           3616      \n",
            "_________________________________________________________________\n",
            "up_sampling1d_7 (UpSampling1 (None, 256, 32)           0         \n",
            "_________________________________________________________________\n",
            "conv1d_19 (Conv1D)           (None, 256, 1)            225       \n",
            "=================================================================\n",
            "Total params: 6,561\n",
            "Trainable params: 6,561\n",
            "Non-trainable params: 0\n",
            "_________________________________________________________________\n"
          ],
          "name": "stdout"
        }
      ]
    },
    {
      "cell_type": "code",
      "metadata": {
        "colab": {
          "base_uri": "https://localhost:8080/"
        },
        "id": "CG_J_50nGjok",
        "outputId": "f26c5a45-3d56-499f-f80b-9fd5555f0e14"
      },
      "source": [
        "history = vqvae.fit(x_train, x_train,\n",
        "                    batch_size=batch_size, epochs=epochs,\n",
        "                    validation_split=validation_split,\n",
        "                    callbacks=[esc])"
      ],
      "execution_count": null,
      "outputs": [
        {
          "output_type": "stream",
          "text": [
            "Train on 43153 samples, validate on 4795 samples\n",
            "Epoch 1/100\n",
            "43153/43153 [==============================] - 3s 60us/sample - loss: 123087.9157 - val_loss: 2915.0124\n",
            "Epoch 2/100\n",
            "43153/43153 [==============================] - 1s 29us/sample - loss: 3900.7183 - val_loss: 560.6513\n",
            "Epoch 3/100\n",
            "43153/43153 [==============================] - 1s 29us/sample - loss: 1169.3341 - val_loss: 240.1851\n",
            "Epoch 4/100\n",
            "43153/43153 [==============================] - 1s 29us/sample - loss: 525.7752 - val_loss: 122.0930\n",
            "Epoch 5/100\n",
            "43153/43153 [==============================] - 1s 30us/sample - loss: 288.6819 - val_loss: 75.3761\n",
            "Epoch 6/100\n",
            "43153/43153 [==============================] - 1s 31us/sample - loss: 185.9200 - val_loss: 48.8544\n",
            "Epoch 7/100\n",
            "43153/43153 [==============================] - 1s 29us/sample - loss: 130.7004 - val_loss: 33.3554\n",
            "Epoch 8/100\n",
            "43153/43153 [==============================] - 1s 29us/sample - loss: 97.3982 - val_loss: 24.8749\n",
            "Epoch 9/100\n",
            "43153/43153 [==============================] - 1s 29us/sample - loss: 77.9720 - val_loss: 20.8186\n",
            "Epoch 10/100\n",
            "43153/43153 [==============================] - 1s 29us/sample - loss: 66.0582 - val_loss: 18.5370\n",
            "Epoch 11/100\n",
            "43153/43153 [==============================] - 1s 29us/sample - loss: 59.7834 - val_loss: 18.4714\n",
            "Epoch 12/100\n",
            "43153/43153 [==============================] - 1s 29us/sample - loss: 53.5631 - val_loss: 17.5183\n",
            "Epoch 13/100\n",
            "43153/43153 [==============================] - 1s 30us/sample - loss: 46.7714 - val_loss: 15.0020\n",
            "Epoch 14/100\n",
            "43153/43153 [==============================] - 1s 29us/sample - loss: 40.5896 - val_loss: 12.5830\n",
            "Epoch 15/100\n",
            "43153/43153 [==============================] - 1s 30us/sample - loss: 35.1868 - val_loss: 10.9537\n",
            "Epoch 16/100\n",
            "43153/43153 [==============================] - 1s 29us/sample - loss: 30.4800 - val_loss: 9.5409\n",
            "Epoch 17/100\n",
            "43153/43153 [==============================] - 1s 29us/sample - loss: 26.8591 - val_loss: 7.9570\n",
            "Epoch 18/100\n",
            "43153/43153 [==============================] - 1s 29us/sample - loss: 23.3941 - val_loss: 6.9084\n",
            "Epoch 19/100\n",
            "43153/43153 [==============================] - 1s 29us/sample - loss: 37.1920 - val_loss: 5.6717\n",
            "Epoch 20/100\n",
            "43153/43153 [==============================] - 1s 30us/sample - loss: 17.8186 - val_loss: 4.9114\n",
            "Epoch 21/100\n",
            "43153/43153 [==============================] - 1s 30us/sample - loss: 16.0465 - val_loss: 4.1811\n",
            "Epoch 22/100\n",
            "43153/43153 [==============================] - 1s 29us/sample - loss: 14.8846 - val_loss: 4.5597\n",
            "Epoch 23/100\n",
            "43153/43153 [==============================] - 1s 30us/sample - loss: 14.9342 - val_loss: 4.7532\n",
            "Epoch 24/100\n",
            "43153/43153 [==============================] - 1s 30us/sample - loss: 14.8181 - val_loss: 48.5977\n",
            "Epoch 25/100\n",
            "43153/43153 [==============================] - 1s 30us/sample - loss: 16.8956 - val_loss: 3.1903\n",
            "Epoch 26/100\n",
            "43153/43153 [==============================] - 1s 29us/sample - loss: 10.3745 - val_loss: 3.1640\n",
            "Epoch 27/100\n",
            "43153/43153 [==============================] - 1s 29us/sample - loss: 10.8205 - val_loss: 3.9654\n",
            "Epoch 28/100\n",
            "43153/43153 [==============================] - 1s 29us/sample - loss: 11.0199 - val_loss: 4.0430\n",
            "Epoch 29/100\n",
            "43153/43153 [==============================] - 1s 30us/sample - loss: 11.1145 - val_loss: 4.1973\n",
            "Epoch 30/100\n",
            "43153/43153 [==============================] - 1s 30us/sample - loss: 12.0907 - val_loss: 5.6070\n",
            "Epoch 31/100\n",
            "43153/43153 [==============================] - 1s 30us/sample - loss: 10.9194 - val_loss: 2.4520\n",
            "Epoch 32/100\n",
            "43153/43153 [==============================] - 1s 30us/sample - loss: 9.1560 - val_loss: 4.5593\n",
            "Epoch 33/100\n",
            "43153/43153 [==============================] - 1s 30us/sample - loss: 8.0206 - val_loss: 1.9576\n",
            "Epoch 34/100\n",
            "43153/43153 [==============================] - 1s 29us/sample - loss: 6.0785 - val_loss: 1.6764\n",
            "Epoch 35/100\n",
            "43153/43153 [==============================] - 1s 30us/sample - loss: 7.0022 - val_loss: 3.1746\n",
            "Epoch 36/100\n",
            "43153/43153 [==============================] - 1s 30us/sample - loss: 4.9580 - val_loss: 1.0902\n",
            "Epoch 37/100\n",
            "43153/43153 [==============================] - 1s 29us/sample - loss: 3.6155 - val_loss: 0.8938\n",
            "Epoch 38/100\n",
            "43153/43153 [==============================] - 1s 30us/sample - loss: 3.1094 - val_loss: 0.7978\n",
            "Epoch 39/100\n",
            "43153/43153 [==============================] - 1s 30us/sample - loss: 2.7592 - val_loss: 0.7319\n",
            "Epoch 40/100\n",
            "43153/43153 [==============================] - 1s 30us/sample - loss: 2.4846 - val_loss: 0.6483\n",
            "Epoch 41/100\n",
            "43153/43153 [==============================] - 1s 30us/sample - loss: 2.2778 - val_loss: 0.6375\n",
            "Epoch 42/100\n",
            "43153/43153 [==============================] - 1s 30us/sample - loss: 2.0726 - val_loss: 0.5800\n",
            "Epoch 43/100\n",
            "43153/43153 [==============================] - 1s 30us/sample - loss: 1.9306 - val_loss: 0.5700\n",
            "Epoch 44/100\n",
            "43153/43153 [==============================] - 1s 29us/sample - loss: 1.7708 - val_loss: 0.5558\n",
            "Epoch 45/100\n",
            "43153/43153 [==============================] - 1s 29us/sample - loss: 1.6388 - val_loss: 0.5416\n",
            "Epoch 46/100\n",
            "43153/43153 [==============================] - 1s 30us/sample - loss: 1.5400 - val_loss: 0.5451\n",
            "Epoch 47/100\n",
            "43153/43153 [==============================] - 1s 29us/sample - loss: 1.4434 - val_loss: 0.5267\n",
            "Epoch 48/100\n",
            "43153/43153 [==============================] - 1s 30us/sample - loss: 1.3379 - val_loss: 0.5054\n",
            "Epoch 49/100\n",
            "43153/43153 [==============================] - 1s 30us/sample - loss: 1.2481 - val_loss: 0.5057\n",
            "Epoch 50/100\n",
            "43153/43153 [==============================] - 1s 30us/sample - loss: 1.1799 - val_loss: 0.5321\n",
            "Epoch 51/100\n",
            "43153/43153 [==============================] - 1s 29us/sample - loss: 1.1502 - val_loss: 0.4865\n",
            "Epoch 52/100\n",
            "43153/43153 [==============================] - 1s 30us/sample - loss: 1.8443 - val_loss: 0.5937\n",
            "Epoch 53/100\n",
            "43153/43153 [==============================] - 1s 30us/sample - loss: 1.1353 - val_loss: 0.5256\n",
            "Epoch 54/100\n",
            "43153/43153 [==============================] - 1s 30us/sample - loss: 1.2233 - val_loss: 0.4638\n",
            "Epoch 55/100\n",
            "43153/43153 [==============================] - 1s 29us/sample - loss: 1.1641 - val_loss: 0.5524\n",
            "Epoch 56/100\n",
            "43153/43153 [==============================] - 1s 29us/sample - loss: 0.9335 - val_loss: 0.4042\n",
            "Epoch 57/100\n",
            "43153/43153 [==============================] - 1s 29us/sample - loss: 0.8037 - val_loss: 0.3612\n",
            "Epoch 58/100\n",
            "43153/43153 [==============================] - 1s 30us/sample - loss: 0.7517 - val_loss: 0.3446\n",
            "Epoch 59/100\n",
            "43153/43153 [==============================] - 1s 29us/sample - loss: 0.7107 - val_loss: 0.3418\n",
            "Epoch 60/100\n",
            "43153/43153 [==============================] - 1s 30us/sample - loss: 0.6898 - val_loss: 0.3009\n",
            "Epoch 61/100\n",
            "43153/43153 [==============================] - 1s 29us/sample - loss: 0.6915 - val_loss: 0.3249\n",
            "Epoch 62/100\n",
            "43153/43153 [==============================] - 1s 30us/sample - loss: 0.7120 - val_loss: 0.3492\n",
            "Epoch 63/100\n",
            "43153/43153 [==============================] - 1s 29us/sample - loss: 0.6124 - val_loss: 0.2418\n",
            "Epoch 64/100\n",
            "43153/43153 [==============================] - 1s 30us/sample - loss: 0.5658 - val_loss: 0.2190\n",
            "Epoch 65/100\n",
            "43153/43153 [==============================] - 1s 30us/sample - loss: 0.5505 - val_loss: 0.2034\n",
            "Epoch 66/100\n",
            "43153/43153 [==============================] - 1s 30us/sample - loss: 0.5315 - val_loss: 0.2182\n",
            "Epoch 67/100\n",
            "43153/43153 [==============================] - 1s 30us/sample - loss: 0.5118 - val_loss: 0.1992\n",
            "Epoch 68/100\n",
            "43153/43153 [==============================] - 1s 30us/sample - loss: 0.5048 - val_loss: 0.2007\n",
            "Epoch 69/100\n",
            "43153/43153 [==============================] - 1s 30us/sample - loss: 0.4883 - val_loss: 0.2651\n",
            "Epoch 70/100\n",
            "43153/43153 [==============================] - 1s 30us/sample - loss: 0.4752 - val_loss: 0.2645\n",
            "Epoch 71/100\n",
            "43153/43153 [==============================] - 1s 30us/sample - loss: 0.4592 - val_loss: 0.1655\n",
            "Epoch 72/100\n",
            "43153/43153 [==============================] - 1s 29us/sample - loss: 0.4585 - val_loss: 0.2408\n",
            "Epoch 73/100\n",
            "43153/43153 [==============================] - 1s 29us/sample - loss: 0.4355 - val_loss: 0.1452\n",
            "Epoch 74/100\n",
            "43153/43153 [==============================] - 1s 29us/sample - loss: 0.4242 - val_loss: 0.2250\n",
            "Epoch 75/100\n",
            "43153/43153 [==============================] - 1s 29us/sample - loss: 0.5383 - val_loss: 0.1623\n",
            "Epoch 76/100\n",
            "43153/43153 [==============================] - 1s 30us/sample - loss: 0.3948 - val_loss: 0.1911\n",
            "Epoch 77/100\n",
            "43153/43153 [==============================] - 1s 30us/sample - loss: 0.3968 - val_loss: 0.1384\n",
            "Epoch 78/100\n",
            "43153/43153 [==============================] - 1s 30us/sample - loss: 0.4077 - val_loss: 0.1505\n",
            "Epoch 79/100\n",
            "43153/43153 [==============================] - 1s 30us/sample - loss: 0.4021 - val_loss: 0.1433\n",
            "Epoch 80/100\n",
            "43153/43153 [==============================] - 1s 30us/sample - loss: 0.3796 - val_loss: 0.1530\n",
            "Epoch 81/100\n",
            "43153/43153 [==============================] - 1s 29us/sample - loss: 0.3786 - val_loss: 0.1862\n",
            "Epoch 82/100\n",
            "43153/43153 [==============================] - 1s 34us/sample - loss: 0.3769 - val_loss: 0.1410\n"
          ],
          "name": "stdout"
        }
      ]
    },
    {
      "cell_type": "code",
      "metadata": {
        "colab": {
          "base_uri": "https://localhost:8080/",
          "height": 297
        },
        "id": "qUhnoMpbGjok",
        "outputId": "f7ff63a6-313c-46df-a274-22bb9b8d0f54"
      },
      "source": [
        "# Get train MAE loss.\n",
        "x_train_pred = vqvae.predict(x_train)\n",
        "train_mae_loss = np.mean(np.abs(x_train_pred - x_train), axis=1)\n",
        "\n",
        "plt.hist(train_mae_loss, bins=50)\n",
        "plt.xlabel(\"Train MAE loss\")\n",
        "plt.ylabel(\"No of samples\")\n",
        "plt.show()\n",
        "\n",
        "# Get reconstruction loss threshold.\n",
        "threshold = np.max(train_mae_loss)\n",
        "print(\"Reconstruction error threshold: \", threshold)"
      ],
      "execution_count": null,
      "outputs": [
        {
          "output_type": "display_data",
          "data": {
            "image/png": "[encoded data removed]",
            "text/plain": [
              "<Figure size 432x288 with 1 Axes>"
            ]
          },
          "metadata": {
            "tags": [],
            "needs_background": "light"
          }
        },
        {
          "output_type": "stream",
          "text": [
            "Reconstruction error threshold:  905.2094482183456\n"
          ],
          "name": "stdout"
        }
      ]
    },
    {
      "cell_type": "code",
      "metadata": {
        "id": "2iYKnUuCGjok"
      },
      "source": [
        "# Get train MAE loss.\n",
        "x_train_pred_m = vqvae.predict(x_train)\n",
        "original = []\n",
        "for item in x_train:\n",
        "  #print(item[0])\n",
        "  original.append(item[0])\n",
        "predicted = []\n",
        "for item in x_train_pred_m:\n",
        "  #print(item[0])\n",
        "  predicted.append(item[0])"
      ],
      "execution_count": null,
      "outputs": []
    },
    {
      "cell_type": "code",
      "metadata": {
        "id": "zM_vrG3KGjol"
      },
      "source": [
        "df_original = pd.DataFrame(original)\n",
        "df_pred = pd.DataFrame(predicted)\n",
        "original_mean = df_original.mean(axis = 0)\n",
        "difference = df_original - df_pred\n",
        "difference_mean = np.abs(difference.mean(axis = 0))"
      ],
      "execution_count": null,
      "outputs": []
    },
    {
      "cell_type": "code",
      "metadata": {
        "colab": {
          "base_uri": "https://localhost:8080/"
        },
        "id": "w-OFcnf1Gjol",
        "outputId": "76e2b26b-0768-4cf7-9da9-7b01296a1329"
      },
      "source": [
        "difference_mean/original_mean"
      ],
      "execution_count": null,
      "outputs": [
        {
          "output_type": "execute_result",
          "data": {
            "text/plain": [
              "0    0.057674\n",
              "dtype: float64"
            ]
          },
          "metadata": {
            "tags": []
          },
          "execution_count": 80
        }
      ]
    },
    {
      "cell_type": "code",
      "metadata": {
        "colab": {
          "base_uri": "https://localhost:8080/",
          "height": 265
        },
        "id": "uAxmOGCOGjol",
        "outputId": "f520fb92-5737-4c62-e0cc-f0e8bcee97eb"
      },
      "source": [
        "# Checking how the first sequence is learnt\n",
        "plt.plot(x_train[0])\n",
        "plt.plot(x_train_pred[0])\n",
        "plt.show()"
      ],
      "execution_count": null,
      "outputs": [
        {
          "output_type": "display_data",
          "data": {
            "image/png": "[encoded data removed]",
            "text/plain": [
              "<Figure size 432x288 with 1 Axes>"
            ]
          },
          "metadata": {
            "tags": [],
            "needs_background": "light"
          }
        }
      ]
    },
    {
      "cell_type": "code",
      "metadata": {
        "id": "9xk9ghGiGjom"
      },
      "source": [
        "intermediate_layer_model = Model(inputs=vqvae.input,\n",
        "                                 outputs=vqvae.get_layer(\"vqvae\").output)\n",
        "intermediate_output = intermediate_layer_model.predict(x_train)"
      ],
      "execution_count": null,
      "outputs": []
    },
    {
      "cell_type": "code",
      "metadata": {
        "colab": {
          "base_uri": "https://localhost:8080/"
        },
        "id": "K5M_JfvyGjom",
        "outputId": "fab81a72-aa26-42c8-e713-e29bf1c0dd74"
      },
      "source": [
        "intermediate_output[0][1:4]"
      ],
      "execution_count": null,
      "outputs": [
        {
          "output_type": "execute_result",
          "data": {
            "text/plain": [
              "array([[ 2.3535175 ,  1.525396  , -1.2520409 ,  1.7925855 ,  0.6066725 ,\n",
              "         0.01466619, -1.9547595 ,  0.2904759 ,  0.9998301 ,  0.60870767,\n",
              "        -2.2035553 ,  1.6382606 , -0.29236534,  0.6796401 , -1.0019153 ,\n",
              "        -2.8156059 ],\n",
              "       [ 2.3535175 ,  1.525396  , -1.2520409 ,  1.7925855 ,  0.6066725 ,\n",
              "         0.01466619, -1.9547595 ,  0.2904759 ,  0.9998301 ,  0.60870767,\n",
              "        -2.2035553 ,  1.6382606 , -0.29236534,  0.6796401 , -1.0019153 ,\n",
              "        -2.8156059 ],\n",
              "       [ 2.3535175 ,  1.525396  , -1.2520409 ,  1.7925855 ,  0.6066725 ,\n",
              "         0.01466619, -1.9547595 ,  0.2904759 ,  0.9998301 ,  0.60870767,\n",
              "        -2.2035553 ,  1.6382606 , -0.29236534,  0.6796401 , -1.0019153 ,\n",
              "        -2.8156059 ]], dtype=float32)"
            ]
          },
          "metadata": {
            "tags": []
          },
          "execution_count": 83
        }
      ]
    },
    {
      "cell_type": "code",
      "metadata": {
        "colab": {
          "base_uri": "https://localhost:8080/"
        },
        "id": "t9l1kTpoGjom",
        "outputId": "43769f48-b7f6-4c01-a430-b9e3aec523a8"
      },
      "source": [
        "encoded_vectors = dictionary_encoding(intermediate_output)\n",
        "embedded_size = sys.getsizeof(encoded_vectors)\n",
        "original_size = sys.getsizeof(y)\n",
        "print(\"Compression: \", embedded_size/original_size)"
      ],
      "execution_count": null,
      "outputs": [
        {
          "output_type": "stream",
          "text": [
            "Compression:  0.0009746184472461844\n"
          ],
          "name": "stdout"
        }
      ]
    },
    {
      "cell_type": "code",
      "metadata": {
        "colab": {
          "base_uri": "https://localhost:8080/"
        },
        "id": "8scHFICEGjon",
        "outputId": "9b0182fd-2882-450b-dca4-b1a6d06cf9fc"
      },
      "source": [
        "list(encoded_vectors.keys())[1]"
      ],
      "execution_count": null,
      "outputs": [
        {
          "output_type": "execute_result",
          "data": {
            "text/plain": [
              "(2.3535175,\n",
              " 1.525396,\n",
              " -1.2520409,\n",
              " 1.7925855,\n",
              " 0.6066725,\n",
              " 0.014666191,\n",
              " -1.9547595,\n",
              " 0.2904759,\n",
              " 0.9998301,\n",
              " 0.60870767,\n",
              " -2.2035553,\n",
              " 1.6382606,\n",
              " -0.29236534,\n",
              " 0.6796401,\n",
              " -1.0019153,\n",
              " -2.8156059)"
            ]
          },
          "metadata": {
            "tags": []
          },
          "execution_count": 85
        }
      ]
    },
    {
      "cell_type": "code",
      "metadata": {
        "colab": {
          "base_uri": "https://localhost:8080/"
        },
        "id": "gUOv0BHgGjon",
        "outputId": "67338a3c-3230-4f7a-a355-657188bcc70f"
      },
      "source": [
        "len(encoded_vectors)"
      ],
      "execution_count": null,
      "outputs": [
        {
          "output_type": "execute_result",
          "data": {
            "text/plain": [
              "8"
            ]
          },
          "metadata": {
            "tags": []
          },
          "execution_count": 86
        }
      ]
    },
    {
      "cell_type": "code",
      "metadata": {
        "id": "dEbjhGyxNTry"
      },
      "source": [
        "# Hyper Parameters.\n",
        "epochs = 50 # MAX\n",
        "batch_size = 256\n",
        "validation_split = 0.1\n",
        "\n",
        "# VQ-VAE Hyper Parameters.\n",
        "embedding_dim = 16 # Length of embedding vectors.\n",
        "num_embeddings = 16 # Number of embedding vectors (high value = high bottleneck capacity).\n",
        "commitment_cost = 0.25 # Controls the weighting of the loss terms.\n",
        "\n",
        "# EarlyStoppingCallback.\n",
        "esc = keras.callbacks.EarlyStopping(monitor='val_loss', min_delta=1e-4,\n",
        "                                    patience=5, verbose=0, mode='auto',\n",
        "                                    baseline=None, restore_best_weights=True)"
      ],
      "execution_count": null,
      "outputs": []
    },
    {
      "cell_type": "code",
      "metadata": {
        "colab": {
          "base_uri": "https://localhost:8080/"
        },
        "id": "EZiziOcwNTrz",
        "outputId": "378b0464-1b6f-4a02-82a7-f202d843e6a4"
      },
      "source": [
        "# Encoder\n",
        "input = Input(shape=(x_train.shape[1], x_train.shape[2]))\n",
        "x = Conv1D(filters=128, kernel_size=7,  strides=2,padding=\"same\", activation=\"relu\")(input)\n",
        "x = Dropout(rate=0.2)(x)\n",
        "x = Conv1D(filters=64, kernel_size=7,  strides=2,padding=\"same\", activation=\"relu\")(x)\n",
        "x = Dropout(rate=0.2)(x)\n",
        "x = Conv1D(filters=32, kernel_size=7,  strides=2,padding=\"same\", activation=\"relu\")(x)\n",
        "x = Dropout(rate=0.2)(x)\n",
        "encoder_output = Conv1D(filters=16, kernel_size=7, padding=\"same\", strides=2, activation=\"relu\")(x)\n",
        "\n",
        "# VQVAELayer.\n",
        "enc = Conv1D(embedding_dim, kernel_size=1, strides=1, name=\"pre_vqvae\")(x)\n",
        "enc_inputs = enc\n",
        "enc = VQVAELayer(embedding_dim, num_embeddings, commitment_cost, name=\"vqvae\")(enc)\n",
        "x = Lambda(lambda enc: enc_inputs + K.stop_gradient(enc - enc_inputs), name=\"encoded\")(enc)\n",
        "data_variance = np.var(x_train)\n",
        "loss = vq_vae_loss_wrapper(data_variance, commitment_cost, enc, enc_inputs)\n",
        "\n",
        "# Decoder.\n",
        "x = Conv1D(filters=16, kernel_size=7, strides=2, padding = 'same')(x)\n",
        "x = UpSampling1D(size = 2)(x)\n",
        "x = Dropout(rate=0.2)(x)\n",
        "x = Conv1D(filters=32, kernel_size=7,  strides=1, padding = 'same')(x)\n",
        "x = UpSampling1D(size = 2)(x)\n",
        "x = Conv1D(filters=64, kernel_size=7, padding = 'same')(x)\n",
        "x = UpSampling1D(size = 2)(x)\n",
        "x = Conv1D(filters=128, kernel_size=7, padding = 'same')(x)\n",
        "x = UpSampling1D(size = 2)(x)\n",
        "x = Conv1D(filters=1, kernel_size=7, padding = 'same')(x)\n",
        "\n",
        "# Autoencoder.\n",
        "vqvae = Model(input, x)\n",
        "vqvae.compile(loss=loss, optimizer='adam')\n",
        "vqvae.summary()"
      ],
      "execution_count": null,
      "outputs": [
        {
          "output_type": "stream",
          "text": [
            "WARNING:tensorflow:Entity <bound method VQVAELayer.call of <__main__.VQVAELayer object at 0x7f4c727ab510>> could not be transformed and will be executed as-is. Please report this to the AutoGraph team. When filing the bug, set the verbosity to 10 (on Linux, `export AUTOGRAPH_VERBOSITY=10`) and attach the full output. Cause: module 'gast' has no attribute 'Index'\n",
            "WARNING: Entity <bound method VQVAELayer.call of <__main__.VQVAELayer object at 0x7f4c727ab510>> could not be transformed and will be executed as-is. Please report this to the AutoGraph team. When filing the bug, set the verbosity to 10 (on Linux, `export AUTOGRAPH_VERBOSITY=10`) and attach the full output. Cause: module 'gast' has no attribute 'Index'\n",
            "Model: \"model_20\"\n",
            "_________________________________________________________________\n",
            "Layer (type)                 Output Shape              Param #   \n",
            "=================================================================\n",
            "input_12 (InputLayer)        [(None, 256, 1)]          0         \n",
            "_________________________________________________________________\n",
            "conv1d_99 (Conv1D)           (None, 128, 128)          1024      \n",
            "_________________________________________________________________\n",
            "dropout_40 (Dropout)         (None, 128, 128)          0         \n",
            "_________________________________________________________________\n",
            "conv1d_100 (Conv1D)          (None, 64, 64)            57408     \n",
            "_________________________________________________________________\n",
            "dropout_41 (Dropout)         (None, 64, 64)            0         \n",
            "_________________________________________________________________\n",
            "conv1d_101 (Conv1D)          (None, 32, 32)            14368     \n",
            "_________________________________________________________________\n",
            "dropout_42 (Dropout)         (None, 32, 32)            0         \n",
            "_________________________________________________________________\n",
            "pre_vqvae (Conv1D)           (None, 32, 16)            528       \n",
            "_________________________________________________________________\n",
            "vqvae (VQVAELayer)           (None, 32, 16)            1024      \n",
            "_________________________________________________________________\n",
            "encoded (Lambda)             (None, 32, 16)            0         \n",
            "_________________________________________________________________\n",
            "conv1d_103 (Conv1D)          (None, 16, 16)            1808      \n",
            "_________________________________________________________________\n",
            "up_sampling1d_49 (UpSampling (None, 32, 16)            0         \n",
            "_________________________________________________________________\n",
            "dropout_43 (Dropout)         (None, 32, 16)            0         \n",
            "_________________________________________________________________\n",
            "conv1d_104 (Conv1D)          (None, 32, 32)            3616      \n",
            "_________________________________________________________________\n",
            "up_sampling1d_50 (UpSampling (None, 64, 32)            0         \n",
            "_________________________________________________________________\n",
            "conv1d_105 (Conv1D)          (None, 64, 64)            14400     \n",
            "_________________________________________________________________\n",
            "up_sampling1d_51 (UpSampling (None, 128, 64)           0         \n",
            "_________________________________________________________________\n",
            "conv1d_106 (Conv1D)          (None, 128, 128)          57472     \n",
            "_________________________________________________________________\n",
            "up_sampling1d_52 (UpSampling (None, 256, 128)          0         \n",
            "_________________________________________________________________\n",
            "conv1d_107 (Conv1D)          (None, 256, 1)            897       \n",
            "=================================================================\n",
            "Total params: 152,545\n",
            "Trainable params: 152,545\n",
            "Non-trainable params: 0\n",
            "_________________________________________________________________\n"
          ],
          "name": "stdout"
        }
      ]
    },
    {
      "cell_type": "code",
      "metadata": {
        "colab": {
          "base_uri": "https://localhost:8080/"
        },
        "id": "imsY1eQTNTr0",
        "outputId": "95516bcf-5ef1-4d4e-e417-8916b709111a"
      },
      "source": [
        "history = vqvae.fit(x_train, x_train,\n",
        "                    batch_size=batch_size, epochs=epochs,\n",
        "                    validation_split=validation_split,\n",
        "                    callbacks=[esc])"
      ],
      "execution_count": null,
      "outputs": [
        {
          "output_type": "stream",
          "text": [
            "Train on 43153 samples, validate on 4795 samples\n",
            "Epoch 1/50\n",
            "43153/43153 [==============================] - 10s 240us/sample - loss: 307.7355 - val_loss: 1.0374\n",
            "Epoch 2/50\n",
            "43153/43153 [==============================] - 7s 155us/sample - loss: 1.2551 - val_loss: 1.0362\n",
            "Epoch 3/50\n",
            "43153/43153 [==============================] - 6s 150us/sample - loss: 1.5302 - val_loss: 1.0173\n",
            "Epoch 4/50\n",
            "43153/43153 [==============================] - 6s 150us/sample - loss: 2.3184 - val_loss: 1.1256\n",
            "Epoch 5/50\n",
            "43153/43153 [==============================] - 6s 150us/sample - loss: 3.9177 - val_loss: 1.0079\n",
            "Epoch 6/50\n",
            "43153/43153 [==============================] - 6s 149us/sample - loss: 9.5834 - val_loss: 10.2640\n",
            "Epoch 7/50\n",
            "43153/43153 [==============================] - 6s 149us/sample - loss: 3.6284 - val_loss: 0.3632\n",
            "Epoch 8/50\n",
            "43153/43153 [==============================] - 6s 150us/sample - loss: 0.6029 - val_loss: 0.3117\n",
            "Epoch 9/50\n",
            "43153/43153 [==============================] - 6s 150us/sample - loss: 0.5382 - val_loss: 0.2913\n",
            "Epoch 10/50\n",
            "43153/43153 [==============================] - 6s 150us/sample - loss: 0.4909 - val_loss: 0.2784\n",
            "Epoch 11/50\n",
            "43153/43153 [==============================] - 7s 152us/sample - loss: 0.4739 - val_loss: 0.2561\n",
            "Epoch 12/50\n",
            "43153/43153 [==============================] - 7s 151us/sample - loss: 0.4734 - val_loss: 0.2737\n",
            "Epoch 13/50\n",
            "43153/43153 [==============================] - 7s 151us/sample - loss: 0.4510 - val_loss: 0.2499\n",
            "Epoch 14/50\n",
            "43153/43153 [==============================] - 6s 150us/sample - loss: 0.4342 - val_loss: 0.2717\n",
            "Epoch 15/50\n",
            "43153/43153 [==============================] - 6s 151us/sample - loss: 0.4324 - val_loss: 0.2555\n",
            "Epoch 16/50\n",
            "43153/43153 [==============================] - 6s 150us/sample - loss: 0.4219 - val_loss: 0.2236\n",
            "Epoch 17/50\n",
            "43153/43153 [==============================] - 6s 151us/sample - loss: 0.4158 - val_loss: 0.2220\n",
            "Epoch 18/50\n",
            "43153/43153 [==============================] - 7s 152us/sample - loss: 0.4189 - val_loss: 0.2411\n",
            "Epoch 19/50\n",
            "43153/43153 [==============================] - 7s 153us/sample - loss: 0.4265 - val_loss: 0.2310\n",
            "Epoch 20/50\n",
            "43153/43153 [==============================] - 7s 151us/sample - loss: 0.4085 - val_loss: 0.2095\n",
            "Epoch 21/50\n",
            "43153/43153 [==============================] - 7s 152us/sample - loss: 0.4033 - val_loss: 0.2203\n",
            "Epoch 22/50\n",
            "43153/43153 [==============================] - 7s 153us/sample - loss: 0.3975 - val_loss: 0.2009\n",
            "Epoch 23/50\n",
            "43153/43153 [==============================] - 7s 151us/sample - loss: 0.3808 - val_loss: 0.2032\n",
            "Epoch 24/50\n",
            "43153/43153 [==============================] - 7s 151us/sample - loss: 0.3723 - val_loss: 0.1952\n",
            "Epoch 25/50\n",
            "43153/43153 [==============================] - 7s 151us/sample - loss: 0.3696 - val_loss: 0.1804\n",
            "Epoch 26/50\n",
            "43153/43153 [==============================] - 7s 152us/sample - loss: 0.3701 - val_loss: 0.1787\n",
            "Epoch 27/50\n",
            "43153/43153 [==============================] - 7s 152us/sample - loss: 0.3602 - val_loss: 0.1726\n",
            "Epoch 28/50\n",
            "43153/43153 [==============================] - 7s 152us/sample - loss: 0.3567 - val_loss: 0.1613\n",
            "Epoch 29/50\n",
            "43153/43153 [==============================] - 7s 152us/sample - loss: 0.3532 - val_loss: 0.1589\n",
            "Epoch 30/50\n",
            "43153/43153 [==============================] - 7s 153us/sample - loss: 0.3449 - val_loss: 0.1610\n",
            "Epoch 31/50\n",
            "43153/43153 [==============================] - 7s 153us/sample - loss: 0.3396 - val_loss: 0.1549\n",
            "Epoch 32/50\n",
            "43153/43153 [==============================] - 7s 151us/sample - loss: 0.3375 - val_loss: 0.1691\n",
            "Epoch 33/50\n",
            "43153/43153 [==============================] - 7s 153us/sample - loss: 0.3354 - val_loss: 0.1571\n",
            "Epoch 34/50\n",
            "43153/43153 [==============================] - 7s 155us/sample - loss: 0.3335 - val_loss: 0.1734\n",
            "Epoch 35/50\n",
            "43153/43153 [==============================] - 7s 154us/sample - loss: 0.3306 - val_loss: 0.1544\n",
            "Epoch 36/50\n",
            "43153/43153 [==============================] - 6s 150us/sample - loss: 0.3310 - val_loss: 0.2010\n",
            "Epoch 37/50\n",
            "43153/43153 [==============================] - 7s 151us/sample - loss: 0.3324 - val_loss: 0.1618\n",
            "Epoch 38/50\n",
            "43153/43153 [==============================] - 6s 150us/sample - loss: 0.3293 - val_loss: 0.1638\n",
            "Epoch 39/50\n",
            "43153/43153 [==============================] - 7s 151us/sample - loss: 0.3255 - val_loss: 0.1577\n",
            "Epoch 40/50\n",
            "43153/43153 [==============================] - 7s 168us/sample - loss: 0.3253 - val_loss: 0.1651\n"
          ],
          "name": "stdout"
        }
      ]
    },
    {
      "cell_type": "code",
      "metadata": {
        "colab": {
          "base_uri": "https://localhost:8080/",
          "height": 316
        },
        "id": "N4UiLHe9NTr1",
        "outputId": "e332d73e-b0cd-450a-e8f8-26186584ea00"
      },
      "source": [
        "# Get train MAE loss.\n",
        "x_train_pred = vqvae.predict(x_train)\n",
        "train_mae_loss = np.mean(np.abs(x_train_pred - x_train), axis=1)\n",
        "\n",
        "plt.hist(train_mae_loss, bins=50)\n",
        "plt.xlabel(\"Train MAE loss\")\n",
        "plt.ylabel(\"No of samples\")\n",
        "plt.show()\n",
        "\n",
        "# Get reconstruction loss threshold.\n",
        "threshold = np.max(train_mae_loss)\n",
        "print(\"Reconstruction error threshold: \", threshold)"
      ],
      "execution_count": null,
      "outputs": [
        {
          "output_type": "display_data",
          "data": {
            "image/png": "[encoded data removed]",
            "text/plain": [
              "<Figure size 432x288 with 1 Axes>"
            ]
          },
          "metadata": {
            "tags": [],
            "needs_background": "light"
          }
        },
        {
          "output_type": "stream",
          "text": [
            "Reconstruction error threshold:  1327.1356582641602\n"
          ],
          "name": "stdout"
        }
      ]
    },
    {
      "cell_type": "code",
      "metadata": {
        "id": "BFBtoe6fNTr1"
      },
      "source": [
        "# Get train MAE loss.\n",
        "x_train_pred_m = vqvae.predict(x_train)\n",
        "original = []\n",
        "for item in x_train:\n",
        "  #print(item[0])\n",
        "  original.append(item[0])\n",
        "predicted = []\n",
        "for item in x_train_pred_m:\n",
        "  #print(item[0])\n",
        "  predicted.append(item[0])"
      ],
      "execution_count": null,
      "outputs": []
    },
    {
      "cell_type": "code",
      "metadata": {
        "id": "cvaLdHtyNTr2"
      },
      "source": [
        "df_original = pd.DataFrame(original)\n",
        "df_pred = pd.DataFrame(predicted)\n",
        "original_mean = df_original.mean(axis = 0)\n",
        "difference = df_original - df_pred\n",
        "difference_mean = np.abs(difference.mean(axis = 0))"
      ],
      "execution_count": null,
      "outputs": []
    },
    {
      "cell_type": "code",
      "metadata": {
        "colab": {
          "base_uri": "https://localhost:8080/"
        },
        "id": "B9iV7DWRNTr2",
        "outputId": "6e888c61-859e-4d35-ab0b-ab9d4484eacd"
      },
      "source": [
        "difference_mean/original_mean"
      ],
      "execution_count": null,
      "outputs": [
        {
          "output_type": "execute_result",
          "data": {
            "text/plain": [
              "0    0.018476\n",
              "dtype: float64"
            ]
          },
          "metadata": {
            "tags": []
          },
          "execution_count": 118
        }
      ]
    },
    {
      "cell_type": "code",
      "metadata": {
        "colab": {
          "base_uri": "https://localhost:8080/",
          "height": 285
        },
        "id": "_-O--A3MNTr2",
        "outputId": "14e8ab37-ee47-450e-9b75-f46dab0707a9"
      },
      "source": [
        "# Checking how the first sequence is learnt\n",
        "plt.plot(x_train[0])\n",
        "plt.plot(x_train_pred[0])\n",
        "plt.show()"
      ],
      "execution_count": null,
      "outputs": [
        {
          "output_type": "display_data",
          "data": {
            "image/png": "[encoded data removed]",
            "text/plain": [
              "<Figure size 432x288 with 1 Axes>"
            ]
          },
          "metadata": {
            "tags": [],
            "needs_background": "light"
          }
        }
      ]
    },
    {
      "cell_type": "code",
      "metadata": {
        "id": "FybBqLSANTr2"
      },
      "source": [
        "intermediate_layer_model = Model(inputs=vqvae.input,\n",
        "                                 outputs=vqvae.get_layer(\"vqvae\").output)\n",
        "intermediate_output = intermediate_layer_model.predict(x_train)"
      ],
      "execution_count": null,
      "outputs": []
    },
    {
      "cell_type": "code",
      "metadata": {
        "colab": {
          "base_uri": "https://localhost:8080/"
        },
        "id": "DlHKTIXFNTr3",
        "outputId": "bf50c49c-5322-479a-d757-af938f6755ba"
      },
      "source": [
        "len(intermediate_output)"
      ],
      "execution_count": null,
      "outputs": [
        {
          "output_type": "execute_result",
          "data": {
            "text/plain": [
              "47948"
            ]
          },
          "metadata": {
            "tags": []
          },
          "execution_count": 121
        }
      ]
    },
    {
      "cell_type": "code",
      "metadata": {
        "id": "xvCCiuGINTr3"
      },
      "source": [
        "intermediate_output"
      ],
      "execution_count": null,
      "outputs": []
    },
    {
      "cell_type": "code",
      "metadata": {
        "colab": {
          "base_uri": "https://localhost:8080/"
        },
        "id": "DDIL2hoTNTr3",
        "outputId": "b5826b01-776f-4230-8927-ed5a89d01eea"
      },
      "source": [
        "embedded_size = sys.getsizeof(encoded_vectors)\n",
        "original_size = sys.getsizeof(y)\n",
        "print(\"Compression: \", embedded_size/original_size)"
      ],
      "execution_count": null,
      "outputs": [
        {
          "output_type": "stream",
          "text": [
            "Compression:  0.0009746184472461844\n"
          ],
          "name": "stdout"
        }
      ]
    },
    {
      "cell_type": "code",
      "metadata": {
        "colab": {
          "base_uri": "https://localhost:8080/"
        },
        "id": "j3yIwt-bNTr4",
        "outputId": "d1da80c5-2925-4bec-e451-c21afa321a4d"
      },
      "source": [
        "len(encoded_vectors)"
      ],
      "execution_count": null,
      "outputs": [
        {
          "output_type": "execute_result",
          "data": {
            "text/plain": [
              "10"
            ]
          },
          "metadata": {
            "tags": []
          },
          "execution_count": 124
        }
      ]
    },
    {
      "cell_type": "code",
      "metadata": {
        "id": "rF3DtQrkNTr4"
      },
      "source": [
        ""
      ],
      "execution_count": null,
      "outputs": []
    },
    {
      "cell_type": "code",
      "metadata": {
        "id": "zs1j7hj0PdA7"
      },
      "source": [
        "# Hyper Parameters.\n",
        "epochs = 50 # MAX\n",
        "batch_size = 64\n",
        "validation_split = 0.1\n",
        "\n",
        "# VQ-VAE Hyper Parameters.\n",
        "embedding_dim = 32 # Length of embedding vectors.\n",
        "num_embeddings = 32 # Number of embedding vectors (high value = high bottleneck capacity).\n",
        "commitment_cost = 0.25 # Controls the weighting of the loss terms.\n",
        "\n",
        "# EarlyStoppingCallback.\n",
        "esc = keras.callbacks.EarlyStopping(monitor='val_loss', min_delta=1e-4,\n",
        "                                    patience=5, verbose=0, mode='auto',\n",
        "                                    baseline=None, restore_best_weights=True)"
      ],
      "execution_count": null,
      "outputs": []
    },
    {
      "cell_type": "code",
      "metadata": {
        "colab": {
          "base_uri": "https://localhost:8080/"
        },
        "id": "bSakcF18PdA9",
        "outputId": "1b006826-ac14-4a85-ce05-17262b17f5eb"
      },
      "source": [
        "# Encoder\n",
        "input = Input(shape=(x_train.shape[1], x_train.shape[2]))\n",
        "x = Conv1D(filters=128, kernel_size=7,  strides=2,padding=\"same\", activation=\"relu\")(input)\n",
        "x = Dropout(rate=0.2)(x)\n",
        "x = Conv1D(filters=64, kernel_size=7,  strides=2,padding=\"same\", activation=\"relu\")(x)\n",
        "x = Dropout(rate=0.2)(x)\n",
        "x = Conv1D(filters=32, kernel_size=7,  strides=2,padding=\"same\", activation=\"relu\")(x)\n",
        "x = Dropout(rate=0.2)(x)\n",
        "encoder_output = Conv1D(filters=16, kernel_size=7, padding=\"same\", strides=2, activation=\"relu\")(x)\n",
        "\n",
        "# VQVAELayer.\n",
        "enc = Conv1D(embedding_dim, kernel_size=1, strides=1, name=\"pre_vqvae\")(x)\n",
        "enc_inputs = enc\n",
        "enc = VQVAELayer(embedding_dim, num_embeddings, commitment_cost, name=\"vqvae\")(enc)\n",
        "x = Lambda(lambda enc: enc_inputs + K.stop_gradient(enc - enc_inputs), name=\"encoded\")(enc)\n",
        "data_variance = np.var(x_train)\n",
        "loss = vq_vae_loss_wrapper(data_variance, commitment_cost, enc, enc_inputs)\n",
        "\n",
        "# Decoder.\n",
        "x = Conv1D(filters=16, kernel_size=7, strides=2, padding = 'same')(x)\n",
        "x = UpSampling1D(size = 2)(x)\n",
        "x = Dropout(rate=0.2)(x)\n",
        "x = Conv1D(filters=32, kernel_size=7,  strides=1, padding = 'same')(x)\n",
        "x = UpSampling1D(size = 2)(x)\n",
        "x = Conv1D(filters=64, kernel_size=7, padding = 'same')(x)\n",
        "x = UpSampling1D(size = 2)(x)\n",
        "x = Conv1D(filters=128, kernel_size=7, padding = 'same')(x)\n",
        "x = UpSampling1D(size = 2)(x)\n",
        "x = Conv1D(filters=1, kernel_size=7, padding = 'same')(x)\n",
        "\n",
        "# Autoencoder.\n",
        "vqvae = Model(input, x)\n",
        "vqvae.compile(loss=loss, optimizer='adam')\n",
        "vqvae.summary()"
      ],
      "execution_count": null,
      "outputs": [
        {
          "output_type": "stream",
          "text": [
            "WARNING:tensorflow:Entity <bound method VQVAELayer.call of <__main__.VQVAELayer object at 0x7f4c723542d0>> could not be transformed and will be executed as-is. Please report this to the AutoGraph team. When filing the bug, set the verbosity to 10 (on Linux, `export AUTOGRAPH_VERBOSITY=10`) and attach the full output. Cause: module 'gast' has no attribute 'Index'\n",
            "WARNING: Entity <bound method VQVAELayer.call of <__main__.VQVAELayer object at 0x7f4c723542d0>> could not be transformed and will be executed as-is. Please report this to the AutoGraph team. When filing the bug, set the verbosity to 10 (on Linux, `export AUTOGRAPH_VERBOSITY=10`) and attach the full output. Cause: module 'gast' has no attribute 'Index'\n",
            "Model: \"model_24\"\n",
            "_________________________________________________________________\n",
            "Layer (type)                 Output Shape              Param #   \n",
            "=================================================================\n",
            "input_14 (InputLayer)        [(None, 256, 1)]          0         \n",
            "_________________________________________________________________\n",
            "conv1d_117 (Conv1D)          (None, 128, 128)          1024      \n",
            "_________________________________________________________________\n",
            "dropout_48 (Dropout)         (None, 128, 128)          0         \n",
            "_________________________________________________________________\n",
            "conv1d_118 (Conv1D)          (None, 64, 64)            57408     \n",
            "_________________________________________________________________\n",
            "dropout_49 (Dropout)         (None, 64, 64)            0         \n",
            "_________________________________________________________________\n",
            "conv1d_119 (Conv1D)          (None, 32, 32)            14368     \n",
            "_________________________________________________________________\n",
            "dropout_50 (Dropout)         (None, 32, 32)            0         \n",
            "_________________________________________________________________\n",
            "pre_vqvae (Conv1D)           (None, 32, 32)            1056      \n",
            "_________________________________________________________________\n",
            "vqvae (VQVAELayer)           (None, 32, 32)            1024      \n",
            "_________________________________________________________________\n",
            "encoded (Lambda)             (None, 32, 32)            0         \n",
            "_________________________________________________________________\n",
            "conv1d_121 (Conv1D)          (None, 16, 16)            3600      \n",
            "_________________________________________________________________\n",
            "up_sampling1d_57 (UpSampling (None, 32, 16)            0         \n",
            "_________________________________________________________________\n",
            "dropout_51 (Dropout)         (None, 32, 16)            0         \n",
            "_________________________________________________________________\n",
            "conv1d_122 (Conv1D)          (None, 32, 32)            3616      \n",
            "_________________________________________________________________\n",
            "up_sampling1d_58 (UpSampling (None, 64, 32)            0         \n",
            "_________________________________________________________________\n",
            "conv1d_123 (Conv1D)          (None, 64, 64)            14400     \n",
            "_________________________________________________________________\n",
            "up_sampling1d_59 (UpSampling (None, 128, 64)           0         \n",
            "_________________________________________________________________\n",
            "conv1d_124 (Conv1D)          (None, 128, 128)          57472     \n",
            "_________________________________________________________________\n",
            "up_sampling1d_60 (UpSampling (None, 256, 128)          0         \n",
            "_________________________________________________________________\n",
            "conv1d_125 (Conv1D)          (None, 256, 1)            897       \n",
            "=================================================================\n",
            "Total params: 154,865\n",
            "Trainable params: 154,865\n",
            "Non-trainable params: 0\n",
            "_________________________________________________________________\n"
          ],
          "name": "stdout"
        }
      ]
    },
    {
      "cell_type": "code",
      "metadata": {
        "colab": {
          "base_uri": "https://localhost:8080/"
        },
        "id": "WJzEvnDVPdA9",
        "outputId": "7075bd84-9f74-4254-f8be-423ee09e75dc"
      },
      "source": [
        "history = vqvae.fit(x_train, x_train,\n",
        "                    batch_size=batch_size, epochs=epochs,\n",
        "                    validation_split=validation_split,\n",
        "                    callbacks=[esc])"
      ],
      "execution_count": null,
      "outputs": [
        {
          "output_type": "stream",
          "text": [
            "Train on 43153 samples, validate on 4795 samples\n",
            "Epoch 1/50\n",
            "43153/43153 [==============================] - 10s 243us/sample - loss: 121.5453 - val_loss: 1.0220\n",
            "Epoch 2/50\n",
            "43153/43153 [==============================] - 6s 150us/sample - loss: 1.9298 - val_loss: 1.0109\n",
            "Epoch 3/50\n",
            "43153/43153 [==============================] - 6s 149us/sample - loss: 1.1197 - val_loss: 1.0067\n",
            "Epoch 4/50\n",
            "43153/43153 [==============================] - 6s 149us/sample - loss: 1.1181 - val_loss: 0.9968\n",
            "Epoch 5/50\n",
            "43153/43153 [==============================] - 7s 152us/sample - loss: 1.0514 - val_loss: 0.9953\n",
            "Epoch 6/50\n",
            "43153/43153 [==============================] - 7s 151us/sample - loss: 1.0278 - val_loss: 0.9993\n",
            "Epoch 7/50\n",
            "43153/43153 [==============================] - 7s 151us/sample - loss: 1.0282 - val_loss: 0.9946\n",
            "Epoch 8/50\n",
            "43153/43153 [==============================] - 6s 149us/sample - loss: 1.0140 - val_loss: 0.9940\n",
            "Epoch 9/50\n",
            "43153/43153 [==============================] - 7s 154us/sample - loss: 1.0107 - val_loss: 0.9942\n",
            "Epoch 10/50\n",
            "43153/43153 [==============================] - 7s 154us/sample - loss: 1.0078 - val_loss: 0.9993\n",
            "Epoch 11/50\n",
            "43153/43153 [==============================] - 7s 153us/sample - loss: 1.0541 - val_loss: 0.9975\n",
            "Epoch 12/50\n",
            "43153/43153 [==============================] - 7s 156us/sample - loss: 1.0031 - val_loss: 0.9964\n",
            "Epoch 13/50\n",
            "43153/43153 [==============================] - 7s 154us/sample - loss: 1.0050 - val_loss: 0.9938\n",
            "Epoch 14/50\n",
            "43153/43153 [==============================] - 7s 155us/sample - loss: 1.0450 - val_loss: 0.9945\n",
            "Epoch 15/50\n",
            "43153/43153 [==============================] - 7s 155us/sample - loss: 1.0046 - val_loss: 0.9940\n",
            "Epoch 16/50\n",
            "43153/43153 [==============================] - 7s 155us/sample - loss: 1.0032 - val_loss: 1.0001\n",
            "Epoch 17/50\n",
            "43153/43153 [==============================] - 7s 155us/sample - loss: 1.0012 - val_loss: 0.9948\n",
            "Epoch 18/50\n",
            "43153/43153 [==============================] - 8s 179us/sample - loss: 0.9999 - val_loss: 0.9943\n"
          ],
          "name": "stdout"
        }
      ]
    },
    {
      "cell_type": "code",
      "metadata": {
        "colab": {
          "base_uri": "https://localhost:8080/",
          "height": 316
        },
        "id": "RslcH9kaPdA-",
        "outputId": "29d09810-5b32-4095-b725-0b9b8ae7d9a8"
      },
      "source": [
        "# Get train MAE loss.\n",
        "x_train_pred = vqvae.predict(x_train)\n",
        "train_mae_loss = np.mean(np.abs(x_train_pred - x_train), axis=1)\n",
        "\n",
        "plt.hist(train_mae_loss, bins=50)\n",
        "plt.xlabel(\"Train MAE loss\")\n",
        "plt.ylabel(\"No of samples\")\n",
        "plt.show()\n",
        "\n",
        "# Get reconstruction loss threshold.\n",
        "threshold = np.max(train_mae_loss)\n",
        "print(\"Reconstruction error threshold: \", threshold)"
      ],
      "execution_count": null,
      "outputs": [
        {
          "output_type": "display_data",
          "data": {
            "image/png": "[encoded data removed]",
            "text/plain": [
              "<Figure size 432x288 with 1 Axes>"
            ]
          },
          "metadata": {
            "tags": [],
            "needs_background": "light"
          }
        },
        {
          "output_type": "stream",
          "text": [
            "Reconstruction error threshold:  2141.5930042266846\n"
          ],
          "name": "stdout"
        }
      ]
    },
    {
      "cell_type": "code",
      "metadata": {
        "id": "fURcZIMNPdA-"
      },
      "source": [
        "# Get train MAE loss.\n",
        "x_train_pred_m = vqvae.predict(x_train)\n",
        "original = []\n",
        "for item in x_train:\n",
        "  #print(item[0])\n",
        "  original.append(item[0])\n",
        "predicted = []\n",
        "for item in x_train_pred_m:\n",
        "  #print(item[0])\n",
        "  predicted.append(item[0])"
      ],
      "execution_count": null,
      "outputs": []
    },
    {
      "cell_type": "code",
      "metadata": {
        "id": "XhtVcK4mPdA-"
      },
      "source": [
        "df_original = pd.DataFrame(original)\n",
        "df_pred = pd.DataFrame(predicted)\n",
        "original_mean = df_original.mean(axis = 0)\n",
        "difference = df_original - df_pred\n",
        "difference_mean = np.abs(difference.mean(axis = 0))"
      ],
      "execution_count": null,
      "outputs": []
    },
    {
      "cell_type": "code",
      "metadata": {
        "colab": {
          "base_uri": "https://localhost:8080/"
        },
        "id": "Ynp2jngLPdA_",
        "outputId": "61c14dcf-75e9-4ca1-d431-447bbc09ba92"
      },
      "source": [
        "difference_mean/original_mean"
      ],
      "execution_count": null,
      "outputs": [
        {
          "output_type": "execute_result",
          "data": {
            "text/plain": [
              "0    0.011767\n",
              "dtype: float64"
            ]
          },
          "metadata": {
            "tags": []
          },
          "execution_count": 146
        }
      ]
    },
    {
      "cell_type": "code",
      "metadata": {
        "colab": {
          "base_uri": "https://localhost:8080/",
          "height": 285
        },
        "id": "9ZDJYnfnPdA_",
        "outputId": "2d584726-1a8f-4235-da53-e1d28239be67"
      },
      "source": [
        "# Checking how the first sequence is learnt\n",
        "plt.plot(x_train[2])\n",
        "plt.plot(x_train_pred[2])\n",
        "plt.show()"
      ],
      "execution_count": null,
      "outputs": [
        {
          "output_type": "display_data",
          "data": {
            "image/png": "[encoded data removed]",
            "text/plain": [
              "<Figure size 432x288 with 1 Axes>"
            ]
          },
          "metadata": {
            "tags": [],
            "needs_background": "light"
          }
        }
      ]
    },
    {
      "cell_type": "code",
      "metadata": {
        "id": "QNKslH6oPdA_"
      },
      "source": [
        "intermediate_layer_model = Model(inputs=vqvae.input,\n",
        "                                 outputs=vqvae.get_layer(\"vqvae\").output)\n",
        "intermediate_output = intermediate_layer_model.predict(x_train)"
      ],
      "execution_count": null,
      "outputs": []
    },
    {
      "cell_type": "code",
      "metadata": {
        "colab": {
          "base_uri": "https://localhost:8080/"
        },
        "id": "GhlUpTcVPdA_",
        "outputId": "89d24d76-9926-4dd4-f7e1-ccfcf506fc03"
      },
      "source": [
        "intermediate_output[1][1]"
      ],
      "execution_count": null,
      "outputs": [
        {
          "output_type": "execute_result",
          "data": {
            "text/plain": [
              "array([ 1.0204285e-03,  1.1597524e-03,  1.8503407e-02,  2.1217377e-03,\n",
              "        8.1256212e-04, -1.7745162e-03, -1.6717019e-04, -8.3827396e-04,\n",
              "        1.7556140e-03, -4.7087664e-04, -2.2249457e-03, -6.9017062e-04,\n",
              "        3.0996467e-04,  1.4505137e-03, -8.4714935e-04, -2.1899792e-03,\n",
              "        2.1990729e-03,  1.4394504e-03,  7.2420901e-04, -2.5966938e-04,\n",
              "        5.6922145e-02,  7.5948593e-04,  5.6420609e-02, -1.0132436e-03,\n",
              "        1.6588692e-03, -5.5495105e-03,  7.0218230e-04,  7.9732906e-04,\n",
              "       -5.1072213e-05, -4.7462927e-03, -5.8868207e-04, -1.2186137e-03],\n",
              "      dtype=float32)"
            ]
          },
          "metadata": {
            "tags": []
          },
          "execution_count": 156
        }
      ]
    },
    {
      "cell_type": "code",
      "metadata": {
        "id": "v0XDSJDlDpxN"
      },
      "source": [
        ""
      ],
      "execution_count": null,
      "outputs": []
    },
    {
      "cell_type": "code",
      "metadata": {
        "colab": {
          "base_uri": "https://localhost:8080/"
        },
        "id": "9EUzy4jkPdBA",
        "outputId": "12ec1a01-4c13-4eba-d217-64682f187564"
      },
      "source": [
        "embedded_size = sys.getsizeof(encoded_vectors)\n",
        "original_size = sys.getsizeof(y)\n",
        "print(\"Compression: \", embedded_size/original_size)"
      ],
      "execution_count": null,
      "outputs": [
        {
          "output_type": "stream",
          "text": [
            "Compression:  0.0009746184472461844\n"
          ],
          "name": "stdout"
        }
      ]
    },
    {
      "cell_type": "code",
      "metadata": {
        "colab": {
          "base_uri": "https://localhost:8080/"
        },
        "id": "edVTfJi9PdBA",
        "outputId": "5a574967-a010-4c27-bd31-062051ccb6d0"
      },
      "source": [
        "len(encoded_vectors)"
      ],
      "execution_count": null,
      "outputs": [
        {
          "output_type": "execute_result",
          "data": {
            "text/plain": [
              "10"
            ]
          },
          "metadata": {
            "tags": []
          },
          "execution_count": 139
        }
      ]
    },
    {
      "cell_type": "code",
      "metadata": {
        "id": "5YGDA8R8PdBA"
      },
      "source": [
        ""
      ],
      "execution_count": null,
      "outputs": []
    },
    {
      "cell_type": "code",
      "metadata": {
        "id": "Z94HlejFRg_B"
      },
      "source": [
        "# Hyper Parameters.\n",
        "epochs = 50 # MAX\n",
        "batch_size = 256\n",
        "validation_split = 0.1\n",
        "\n",
        "# VQ-VAE Hyper Parameters.\n",
        "embedding_dim = 8 # Length of embedding vectors.\n",
        "num_embeddings = 8 # Number of embedding vectors (high value = high bottleneck capacity).\n",
        "commitment_cost = 0.25 # Controls the weighting of the loss terms.\n",
        "\n",
        "# EarlyStoppingCallback.\n",
        "esc = keras.callbacks.EarlyStopping(monitor='val_loss', min_delta=1e-4,\n",
        "                                    patience=5, verbose=0, mode='auto',\n",
        "                                    baseline=None, restore_best_weights=True)"
      ],
      "execution_count": null,
      "outputs": []
    },
    {
      "cell_type": "code",
      "metadata": {
        "colab": {
          "base_uri": "https://localhost:8080/"
        },
        "id": "_M4cs84GRg_B",
        "outputId": "2f16cc9c-13a4-42e3-f113-0e2e01148541"
      },
      "source": [
        "# Encoder\n",
        "input = Input(shape=(x_train.shape[1], x_train.shape[2]))\n",
        "x = Conv1D(filters=128, kernel_size=7,  strides=2,padding=\"same\", activation=\"relu\")(input)\n",
        "x = Dropout(rate=0.2)(x)\n",
        "x = Conv1D(filters=64, kernel_size=7,  strides=2,padding=\"same\", activation=\"relu\")(x)\n",
        "x = Dropout(rate=0.2)(x)\n",
        "x = Conv1D(filters=32, kernel_size=7,  strides=2,padding=\"same\", activation=\"relu\")(x)\n",
        "x = Dropout(rate=0.2)(x)\n",
        "encoder_output = Conv1D(filters=16, kernel_size=7, padding=\"same\", strides=2, activation=\"relu\")(x)\n",
        "\n",
        "# VQVAELayer.\n",
        "enc = Conv1D(embedding_dim, kernel_size=1, strides=1, name=\"pre_vqvae\")(x)\n",
        "enc_inputs = enc\n",
        "enc = VQVAELayer(embedding_dim, num_embeddings, commitment_cost, name=\"vqvae\")(enc)\n",
        "x = Lambda(lambda enc: enc_inputs + K.stop_gradient(enc - enc_inputs), name=\"encoded\")(enc)\n",
        "data_variance = np.var(x_train)\n",
        "loss = vq_vae_loss_wrapper(data_variance, commitment_cost, enc, enc_inputs)\n",
        "\n",
        "# Decoder.\n",
        "x = Conv1D(filters=16, kernel_size=7, strides=2, padding = 'same')(x)\n",
        "x = UpSampling1D(size = 2)(x)\n",
        "x = Dropout(rate=0.2)(x)\n",
        "x = Conv1D(filters=32, kernel_size=7,  strides=1, padding = 'same')(x)\n",
        "x = UpSampling1D(size = 2)(x)\n",
        "x = Conv1D(filters=64, kernel_size=7, padding = 'same')(x)\n",
        "x = UpSampling1D(size = 2)(x)\n",
        "x = Conv1D(filters=128, kernel_size=7, padding = 'same')(x)\n",
        "x = UpSampling1D(size = 2)(x)\n",
        "x = Conv1D(filters=1, kernel_size=7, padding = 'same')(x)\n",
        "\n",
        "# Autoencoder.\n",
        "vqvae = Model(input, x)\n",
        "vqvae.compile(loss=loss, optimizer='adam')\n",
        "vqvae.summary()"
      ],
      "execution_count": null,
      "outputs": [
        {
          "output_type": "stream",
          "text": [
            "WARNING:tensorflow:Entity <bound method VQVAELayer.call of <__main__.VQVAELayer object at 0x7f4c7d932410>> could not be transformed and will be executed as-is. Please report this to the AutoGraph team. When filing the bug, set the verbosity to 10 (on Linux, `export AUTOGRAPH_VERBOSITY=10`) and attach the full output. Cause: module 'gast' has no attribute 'Index'\n",
            "WARNING: Entity <bound method VQVAELayer.call of <__main__.VQVAELayer object at 0x7f4c7d932410>> could not be transformed and will be executed as-is. Please report this to the AutoGraph team. When filing the bug, set the verbosity to 10 (on Linux, `export AUTOGRAPH_VERBOSITY=10`) and attach the full output. Cause: module 'gast' has no attribute 'Index'\n",
            "Model: \"model_26\"\n",
            "_________________________________________________________________\n",
            "Layer (type)                 Output Shape              Param #   \n",
            "=================================================================\n",
            "input_15 (InputLayer)        [(None, 256, 1)]          0         \n",
            "_________________________________________________________________\n",
            "conv1d_126 (Conv1D)          (None, 128, 128)          1024      \n",
            "_________________________________________________________________\n",
            "dropout_52 (Dropout)         (None, 128, 128)          0         \n",
            "_________________________________________________________________\n",
            "conv1d_127 (Conv1D)          (None, 64, 64)            57408     \n",
            "_________________________________________________________________\n",
            "dropout_53 (Dropout)         (None, 64, 64)            0         \n",
            "_________________________________________________________________\n",
            "conv1d_128 (Conv1D)          (None, 32, 32)            14368     \n",
            "_________________________________________________________________\n",
            "dropout_54 (Dropout)         (None, 32, 32)            0         \n",
            "_________________________________________________________________\n",
            "pre_vqvae (Conv1D)           (None, 32, 8)             264       \n",
            "_________________________________________________________________\n",
            "vqvae (VQVAELayer)           (None, 32, 8)             64        \n",
            "_________________________________________________________________\n",
            "encoded (Lambda)             (None, 32, 8)             0         \n",
            "_________________________________________________________________\n",
            "conv1d_130 (Conv1D)          (None, 16, 16)            912       \n",
            "_________________________________________________________________\n",
            "up_sampling1d_61 (UpSampling (None, 32, 16)            0         \n",
            "_________________________________________________________________\n",
            "dropout_55 (Dropout)         (None, 32, 16)            0         \n",
            "_________________________________________________________________\n",
            "conv1d_131 (Conv1D)          (None, 32, 32)            3616      \n",
            "_________________________________________________________________\n",
            "up_sampling1d_62 (UpSampling (None, 64, 32)            0         \n",
            "_________________________________________________________________\n",
            "conv1d_132 (Conv1D)          (None, 64, 64)            14400     \n",
            "_________________________________________________________________\n",
            "up_sampling1d_63 (UpSampling (None, 128, 64)           0         \n",
            "_________________________________________________________________\n",
            "conv1d_133 (Conv1D)          (None, 128, 128)          57472     \n",
            "_________________________________________________________________\n",
            "up_sampling1d_64 (UpSampling (None, 256, 128)          0         \n",
            "_________________________________________________________________\n",
            "conv1d_134 (Conv1D)          (None, 256, 1)            897       \n",
            "=================================================================\n",
            "Total params: 150,425\n",
            "Trainable params: 150,425\n",
            "Non-trainable params: 0\n",
            "_________________________________________________________________\n"
          ],
          "name": "stdout"
        }
      ]
    },
    {
      "cell_type": "code",
      "metadata": {
        "colab": {
          "base_uri": "https://localhost:8080/"
        },
        "id": "PRctVdSsRg_C",
        "outputId": "709330be-a3ed-478a-f561-20a5a6ae4e9c"
      },
      "source": [
        "history = vqvae.fit(x_train, x_train,\n",
        "                    batch_size=batch_size, epochs=epochs,\n",
        "                    validation_split=validation_split,\n",
        "                    callbacks=[esc])"
      ],
      "execution_count": null,
      "outputs": [
        {
          "output_type": "stream",
          "text": [
            "Train on 43153 samples, validate on 4795 samples\n",
            "Epoch 1/50\n",
            "43153/43153 [==============================] - 9s 213us/sample - loss: 2061.4758 - val_loss: 1.0851\n",
            "Epoch 2/50\n",
            "43153/43153 [==============================] - 4s 84us/sample - loss: 1.9956 - val_loss: 1.0625\n",
            "Epoch 3/50\n",
            "43153/43153 [==============================] - 4s 84us/sample - loss: 1.4799 - val_loss: 1.0409\n",
            "Epoch 4/50\n",
            "43153/43153 [==============================] - 4s 84us/sample - loss: 12.6040 - val_loss: 3.0376\n",
            "Epoch 5/50\n",
            "43153/43153 [==============================] - 4s 85us/sample - loss: 462.6444 - val_loss: 2.9707\n",
            "Epoch 6/50\n",
            "43153/43153 [==============================] - 4s 84us/sample - loss: 22.4094 - val_loss: 1.6346\n",
            "Epoch 7/50\n",
            "43153/43153 [==============================] - 4s 84us/sample - loss: 22.0131 - val_loss: 1.0208\n",
            "Epoch 8/50\n",
            "43153/43153 [==============================] - 4s 85us/sample - loss: 7.5721 - val_loss: 1.0172\n",
            "Epoch 9/50\n",
            "43153/43153 [==============================] - 4s 85us/sample - loss: 4.1360 - val_loss: 1.0132\n",
            "Epoch 10/50\n",
            "43153/43153 [==============================] - 4s 86us/sample - loss: 2.6621 - val_loss: 1.0128\n",
            "Epoch 11/50\n",
            "43153/43153 [==============================] - 4s 85us/sample - loss: 2.1485 - val_loss: 1.0105\n",
            "Epoch 12/50\n",
            "43153/43153 [==============================] - 4s 85us/sample - loss: 1.7100 - val_loss: 1.0090\n",
            "Epoch 13/50\n",
            "43153/43153 [==============================] - 4s 85us/sample - loss: 1.6938 - val_loss: 1.0094\n",
            "Epoch 14/50\n",
            "43153/43153 [==============================] - 4s 86us/sample - loss: 21.5961 - val_loss: 1.0072\n",
            "Epoch 15/50\n",
            "43153/43153 [==============================] - 4s 86us/sample - loss: 2.1012 - val_loss: 1.0056\n",
            "Epoch 16/50\n",
            "43153/43153 [==============================] - 4s 84us/sample - loss: 1.7866 - val_loss: 1.0133\n",
            "Epoch 17/50\n",
            "43153/43153 [==============================] - 4s 85us/sample - loss: 1.8835 - val_loss: 1.0036\n",
            "Epoch 18/50\n",
            "43153/43153 [==============================] - 4s 84us/sample - loss: 1.6712 - val_loss: 1.0256\n",
            "Epoch 19/50\n",
            "43153/43153 [==============================] - 4s 84us/sample - loss: 4.9146 - val_loss: 0.9997\n",
            "Epoch 20/50\n",
            "43153/43153 [==============================] - 4s 84us/sample - loss: 2.5333 - val_loss: 1.1106\n",
            "Epoch 21/50\n",
            "43153/43153 [==============================] - 4s 85us/sample - loss: 2.7330 - val_loss: 1.0283\n",
            "Epoch 22/50\n",
            "43153/43153 [==============================] - 4s 85us/sample - loss: 1.6584 - val_loss: 1.0049\n",
            "Epoch 23/50\n",
            "43153/43153 [==============================] - 4s 85us/sample - loss: 1.5114 - val_loss: 1.0010\n",
            "Epoch 24/50\n",
            "43153/43153 [==============================] - 5s 109us/sample - loss: 13.0401 - val_loss: 11.7953\n"
          ],
          "name": "stdout"
        }
      ]
    },
    {
      "cell_type": "code",
      "metadata": {
        "colab": {
          "base_uri": "https://localhost:8080/",
          "height": 316
        },
        "id": "JwGsuxg_Rg_C",
        "outputId": "fd46d07a-b643-4d13-815e-458246b44842"
      },
      "source": [
        "# Get train MAE loss.\n",
        "x_train_pred = vqvae.predict(x_train)\n",
        "train_mae_loss = np.mean(np.abs(x_train_pred - x_train), axis=1)\n",
        "\n",
        "plt.hist(train_mae_loss, bins=50)\n",
        "plt.xlabel(\"Train MAE loss\")\n",
        "plt.ylabel(\"No of samples\")\n",
        "plt.show()\n",
        "\n",
        "# Get reconstruction loss threshold.\n",
        "threshold = np.max(train_mae_loss)\n",
        "print(\"Reconstruction error threshold: \", threshold)"
      ],
      "execution_count": null,
      "outputs": [
        {
          "output_type": "display_data",
          "data": {
            "image/png": "[encoded data removed]",
            "text/plain": [
              "<Figure size 432x288 with 1 Axes>"
            ]
          },
          "metadata": {
            "tags": [],
            "needs_background": "light"
          }
        },
        {
          "output_type": "stream",
          "text": [
            "Reconstruction error threshold:  2117.3616514205933\n"
          ],
          "name": "stdout"
        }
      ]
    },
    {
      "cell_type": "code",
      "metadata": {
        "id": "_vQ8V57oRg_D"
      },
      "source": [
        "# Get train MAE loss.\n",
        "x_train_pred_m = vqvae.predict(x_train)\n",
        "original = []\n",
        "for item in x_train:\n",
        "  #print(item[0])\n",
        "  original.append(item[0])\n",
        "predicted = []\n",
        "for item in x_train_pred_m:\n",
        "  #print(item[0])\n",
        "  predicted.append(item[0])"
      ],
      "execution_count": null,
      "outputs": []
    },
    {
      "cell_type": "code",
      "metadata": {
        "id": "qEUcWZJQRg_D"
      },
      "source": [
        "df_original = pd.DataFrame(original)\n",
        "df_pred = pd.DataFrame(predicted)\n",
        "original_mean = df_original.mean(axis = 0)\n",
        "difference = df_original - df_pred\n",
        "difference_mean = np.abs(difference.mean(axis = 0))"
      ],
      "execution_count": null,
      "outputs": []
    },
    {
      "cell_type": "code",
      "metadata": {
        "colab": {
          "base_uri": "https://localhost:8080/"
        },
        "id": "_y6HRcSsRg_D",
        "outputId": "c1b1e095-660c-4c56-f336-bfd514fbb12d"
      },
      "source": [
        "difference_mean/original_mean"
      ],
      "execution_count": null,
      "outputs": [
        {
          "output_type": "execute_result",
          "data": {
            "text/plain": [
              "0    0.379455\n",
              "dtype: float64"
            ]
          },
          "metadata": {
            "tags": []
          },
          "execution_count": 165
        }
      ]
    },
    {
      "cell_type": "code",
      "metadata": {
        "colab": {
          "base_uri": "https://localhost:8080/",
          "height": 285
        },
        "id": "EtKeMqX-Rg_D",
        "outputId": "69df134f-2867-4363-8ca8-4456bd5fa016"
      },
      "source": [
        "# Checking how the first sequence is learnt\n",
        "plt.plot(x_train[0])\n",
        "plt.plot(x_train_pred[0])\n",
        "plt.show()"
      ],
      "execution_count": null,
      "outputs": [
        {
          "output_type": "display_data",
          "data": {
            "image/png": "[encoded data removed]",
            "text/plain": [
              "<Figure size 432x288 with 1 Axes>"
            ]
          },
          "metadata": {
            "tags": [],
            "needs_background": "light"
          }
        }
      ]
    },
    {
      "cell_type": "code",
      "metadata": {
        "id": "OHFJ-copRg_E"
      },
      "source": [
        "intermediate_layer_model = Model(inputs=vqvae.input,\n",
        "                                 outputs=vqvae.get_layer(\"vqvae\").output)\n",
        "intermediate_output = intermediate_layer_model.predict(x_train)"
      ],
      "execution_count": null,
      "outputs": []
    },
    {
      "cell_type": "code",
      "metadata": {
        "id": "lKoamF_sRg_E"
      },
      "source": [
        "intermediate_output[:5]"
      ],
      "execution_count": null,
      "outputs": []
    },
    {
      "cell_type": "code",
      "metadata": {
        "colab": {
          "base_uri": "https://localhost:8080/"
        },
        "id": "w6q7APgmRg_E",
        "outputId": "8b3b406d-478e-4af3-f1ac-5d25ee38714b"
      },
      "source": [
        "embedded_size = sys.getsizeof(encoded_vectors)\n",
        "original_size = sys.getsizeof(y)\n",
        "print(\"Compression: \", embedded_size/original_size)"
      ],
      "execution_count": null,
      "outputs": [
        {
          "output_type": "stream",
          "text": [
            "Compression:  0.0009746184472461844\n"
          ],
          "name": "stdout"
        }
      ]
    },
    {
      "cell_type": "code",
      "metadata": {
        "id": "avl3wDYYRg_F"
      },
      "source": [
        "|"
      ],
      "execution_count": null,
      "outputs": []
    }
  ]
}