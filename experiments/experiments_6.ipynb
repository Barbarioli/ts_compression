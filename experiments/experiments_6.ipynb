{
  "nbformat": 4,
  "nbformat_minor": 0,
  "metadata": {
    "colab": {
      "name": "Experiments_6.ipynb",
      "provenance": [],
      "collapsed_sections": [
        "TQUvH8NRCS5H",
        "nB83WbLdaM2R"
      ]
    },
    "kernelspec": {
      "name": "python3",
      "display_name": "Python 3"
    },
    "language_info": {
      "name": "python"
    },
    "accelerator": "GPU"
  },
  "cells": [
    {
      "cell_type": "markdown",
      "metadata": {
        "id": "3V2EL6QQUKx0"
      },
      "source": [
        "# Time Series Feature Store"
      ]
    },
    {
      "cell_type": "code",
      "metadata": {
        "id": "QSuczRaBUCMZ",
        "colab": {
          "base_uri": "https://localhost:8080/"
        },
        "outputId": "dd83bba4-a332-4b65-85cf-5a8f8622ab48"
      },
      "source": [
        "# Imports.\n",
        "import numpy as np\n",
        "from matplotlib import pyplot as plt\n",
        "import sys\n",
        "import pandas as pd\n",
        "%tensorflow_version 1.x\n",
        "import tensorflow as tf\n",
        "from tensorflow import keras\n",
        "from sklearn.decomposition import PCA\n",
        "\n",
        "from tensorflow.keras.models import Model\n",
        "from tensorflow.keras.layers import *\n",
        "from tensorflow.keras import losses\n",
        "from tensorflow.keras import backend as K\n",
        "from tensorflow.keras.utils import to_categorical\n",
        "from tensorflow.keras.datasets import mnist, fashion_mnist"
      ],
      "execution_count": null,
      "outputs": [
        {
          "output_type": "stream",
          "text": [
            "TensorFlow 1.x selected.\n"
          ],
          "name": "stdout"
        }
      ]
    },
    {
      "cell_type": "code",
      "metadata": {
        "colab": {
          "base_uri": "https://localhost:8080/"
        },
        "id": "TR8ugCYp6LTd",
        "outputId": "f426bd26-fa67-4e0b-e9f3-c4a9c6008b40"
      },
      "source": [
        "pip install pwlf"
      ],
      "execution_count": null,
      "outputs": [
        {
          "output_type": "stream",
          "text": [
            "Collecting pwlf\n",
            "  Downloading https://files.pythonhosted.org/packages/25/db/00b3067ce44edbb097571e336f27398ed0187408a0419ac3f947d6ae8c53/pwlf-2.0.4.tar.gz\n",
            "Requirement already satisfied: numpy>=1.14.0 in /usr/local/lib/python3.7/dist-packages (from pwlf) (1.19.5)\n",
            "Requirement already satisfied: scipy>=1.2.0 in /usr/local/lib/python3.7/dist-packages (from pwlf) (1.4.1)\n",
            "Collecting pyDOE>=0.3.8\n",
            "  Downloading https://files.pythonhosted.org/packages/bc/ac/91fe4c039e2744466621343d3b8af4a485193ed0aab53af5b1db03be0989/pyDOE-0.3.8.zip\n",
            "Building wheels for collected packages: pwlf, pyDOE\n",
            "  Building wheel for pwlf (setup.py) ... \u001b[?25l\u001b[?25hdone\n",
            "  Created wheel for pwlf: filename=pwlf-2.0.4-cp37-none-any.whl size=16143 sha256=215f116b120033c7d996e46eb3caf5410805016bea03237728eab5729618d072\n",
            "  Stored in directory: /root/.cache/pip/wheels/aa/b4/ef/2cb67a24a71a0d9dd93a5ba02f46106e9fa34dd2e3d9d8b4a0\n",
            "  Building wheel for pyDOE (setup.py) ... \u001b[?25l\u001b[?25hdone\n",
            "  Created wheel for pyDOE: filename=pyDOE-0.3.8-cp37-none-any.whl size=18178 sha256=f72709e742eec344a51db22a9c1439d499f34910766b48df75b1c34319943154\n",
            "  Stored in directory: /root/.cache/pip/wheels/7c/c8/58/a6493bd415e8ba5735082b5e0c096d7c1f2933077a8ce34544\n",
            "Successfully built pwlf pyDOE\n",
            "Installing collected packages: pyDOE, pwlf\n",
            "Successfully installed pwlf-2.0.4 pyDOE-0.3.8\n"
          ],
          "name": "stdout"
        }
      ]
    },
    {
      "cell_type": "code",
      "metadata": {
        "id": "0hAIu9Lz6pEf"
      },
      "source": [
        "import pwlf"
      ],
      "execution_count": null,
      "outputs": []
    },
    {
      "cell_type": "code",
      "metadata": {
        "colab": {
          "base_uri": "https://localhost:8080/"
        },
        "id": "I3kcbrvYRdhe",
        "outputId": "a6565b90-7591-42fc-bab3-8d8cc5878594"
      },
      "source": [
        "pip install iteration_utilities"
      ],
      "execution_count": null,
      "outputs": [
        {
          "output_type": "stream",
          "text": [
            "Collecting iteration_utilities\n",
            "\u001b[?25l  Downloading https://files.pythonhosted.org/packages/e7/ec/fd0a264895b7bc0613959189688747ae241e29ab1f694508e9e5073c6144/iteration_utilities-0.11.0-cp37-cp37m-manylinux2014_x86_64.whl (283kB)\n",
            "\r\u001b[K     |█▏                              | 10kB 16.0MB/s eta 0:00:01\r\u001b[K     |██▎                             | 20kB 14.7MB/s eta 0:00:01\r\u001b[K     |███▌                            | 30kB 8.9MB/s eta 0:00:01\r\u001b[K     |████▋                           | 40kB 7.5MB/s eta 0:00:01\r\u001b[K     |█████▊                          | 51kB 5.8MB/s eta 0:00:01\r\u001b[K     |███████                         | 61kB 6.2MB/s eta 0:00:01\r\u001b[K     |████████                        | 71kB 6.6MB/s eta 0:00:01\r\u001b[K     |█████████▎                      | 81kB 7.0MB/s eta 0:00:01\r\u001b[K     |██████████▍                     | 92kB 7.2MB/s eta 0:00:01\r\u001b[K     |███████████▌                    | 102kB 6.7MB/s eta 0:00:01\r\u001b[K     |████████████▊                   | 112kB 6.7MB/s eta 0:00:01\r\u001b[K     |█████████████▉                  | 122kB 6.7MB/s eta 0:00:01\r\u001b[K     |███████████████                 | 133kB 6.7MB/s eta 0:00:01\r\u001b[K     |████████████████▏               | 143kB 6.7MB/s eta 0:00:01\r\u001b[K     |█████████████████▎              | 153kB 6.7MB/s eta 0:00:01\r\u001b[K     |██████████████████▌             | 163kB 6.7MB/s eta 0:00:01\r\u001b[K     |███████████████████▋            | 174kB 6.7MB/s eta 0:00:01\r\u001b[K     |████████████████████▉           | 184kB 6.7MB/s eta 0:00:01\r\u001b[K     |██████████████████████          | 194kB 6.7MB/s eta 0:00:01\r\u001b[K     |███████████████████████         | 204kB 6.7MB/s eta 0:00:01\r\u001b[K     |████████████████████████▎       | 215kB 6.7MB/s eta 0:00:01\r\u001b[K     |█████████████████████████▍      | 225kB 6.7MB/s eta 0:00:01\r\u001b[K     |██████████████████████████▋     | 235kB 6.7MB/s eta 0:00:01\r\u001b[K     |███████████████████████████▊    | 245kB 6.7MB/s eta 0:00:01\r\u001b[K     |████████████████████████████▉   | 256kB 6.7MB/s eta 0:00:01\r\u001b[K     |██████████████████████████████  | 266kB 6.7MB/s eta 0:00:01\r\u001b[K     |███████████████████████████████▏| 276kB 6.7MB/s eta 0:00:01\r\u001b[K     |████████████████████████████████| 286kB 6.7MB/s \n",
            "\u001b[?25hInstalling collected packages: iteration-utilities\n",
            "Successfully installed iteration-utilities-0.11.0\n"
          ],
          "name": "stdout"
        }
      ]
    },
    {
      "cell_type": "code",
      "metadata": {
        "id": "4S1zHKmJRgiw"
      },
      "source": [
        "from iteration_utilities import deepflatten"
      ],
      "execution_count": null,
      "outputs": []
    },
    {
      "cell_type": "markdown",
      "metadata": {
        "id": "Wnl-Bpg-UUwK"
      },
      "source": [
        "## Univariate"
      ]
    },
    {
      "cell_type": "code",
      "metadata": {
        "id": "Y-skrtmOUXUC"
      },
      "source": [
        "master_url_root = \"https://raw.githubusercontent.com/numenta/NAB/master/data/\"\n",
        "\n",
        "df_small_noise_url_suffix = \"artificialNoAnomaly/art_daily_small_noise.csv\"\n",
        "df_small_noise_url = master_url_root + df_small_noise_url_suffix\n",
        "df_small_noise = pd.read_csv(\n",
        "    df_small_noise_url, parse_dates=True, index_col=\"timestamp\"\n",
        ")\n",
        "\n",
        "df_daily_jumpsup_url_suffix = \"artificialWithAnomaly/art_daily_jumpsup.csv\"\n",
        "df_daily_jumpsup_url = master_url_root + df_daily_jumpsup_url_suffix\n",
        "df_daily_jumpsup = pd.read_csv(\n",
        "    df_daily_jumpsup_url, parse_dates=True, index_col=\"timestamp\"\n",
        ")"
      ],
      "execution_count": null,
      "outputs": []
    },
    {
      "cell_type": "code",
      "metadata": {
        "colab": {
          "base_uri": "https://localhost:8080/"
        },
        "id": "aYhPtsHSUcad",
        "outputId": "61a65ac2-f6fd-47a6-eed8-88999c938547"
      },
      "source": [
        "print(df_small_noise.head())\n",
        "\n",
        "print(df_daily_jumpsup.head())"
      ],
      "execution_count": null,
      "outputs": [
        {
          "output_type": "stream",
          "text": [
            "                         value\n",
            "timestamp                     \n",
            "2014-04-01 00:00:00  18.324919\n",
            "2014-04-01 00:05:00  21.970327\n",
            "2014-04-01 00:10:00  18.624806\n",
            "2014-04-01 00:15:00  21.953684\n",
            "2014-04-01 00:20:00  21.909120\n",
            "                         value\n",
            "timestamp                     \n",
            "2014-04-01 00:00:00  19.761252\n",
            "2014-04-01 00:05:00  20.500833\n",
            "2014-04-01 00:10:00  19.961641\n",
            "2014-04-01 00:15:00  21.490266\n",
            "2014-04-01 00:20:00  20.187739\n"
          ],
          "name": "stdout"
        }
      ]
    },
    {
      "cell_type": "code",
      "metadata": {
        "colab": {
          "base_uri": "https://localhost:8080/",
          "height": 303
        },
        "id": "ssV3cFzKUfxz",
        "outputId": "614285db-f202-46c0-e2b5-9d28bc351d33"
      },
      "source": [
        "fig, ax = plt.subplots()\n",
        "df_small_noise.plot(legend=False, ax=ax)\n",
        "plt.show()"
      ],
      "execution_count": null,
      "outputs": [
        {
          "output_type": "display_data",
          "data": {
            "image/png": "[encoded data removed]",
            "text/plain": [
              "<Figure size 432x288 with 1 Axes>"
            ]
          },
          "metadata": {
            "tags": [],
            "needs_background": "light"
          }
        }
      ]
    },
    {
      "cell_type": "code",
      "metadata": {
        "colab": {
          "base_uri": "https://localhost:8080/",
          "height": 303
        },
        "id": "tLLvjxkoUh5K",
        "outputId": "7424c6e5-e99b-434e-92e6-152e4e75cc7c"
      },
      "source": [
        "fig, ax = plt.subplots()\n",
        "df_daily_jumpsup.plot(legend=False, ax=ax)\n",
        "plt.show()"
      ],
      "execution_count": null,
      "outputs": [
        {
          "output_type": "display_data",
          "data": {
            "image/png": "[encoded data removed]",
            "text/plain": [
              "<Figure size 432x288 with 1 Axes>"
            ]
          },
          "metadata": {
            "tags": [],
            "needs_background": "light"
          }
        }
      ]
    },
    {
      "cell_type": "code",
      "metadata": {
        "colab": {
          "base_uri": "https://localhost:8080/"
        },
        "id": "3Rd5qJmUUj8i",
        "outputId": "619065b0-22b9-49c8-f457-51ba68c804f1"
      },
      "source": [
        "# Normalize and save the mean and std we get,\n",
        "# for normalizing test data.\n",
        "training_mean = df_small_noise.mean()\n",
        "training_std = df_small_noise.std()\n",
        "df_training_value = (df_small_noise - training_mean) / training_std\n",
        "print(\"Number of training samples:\", len(df_training_value))"
      ],
      "execution_count": null,
      "outputs": [
        {
          "output_type": "stream",
          "text": [
            "Number of training samples: 4032\n"
          ],
          "name": "stdout"
        }
      ]
    },
    {
      "cell_type": "code",
      "metadata": {
        "colab": {
          "base_uri": "https://localhost:8080/",
          "height": 240
        },
        "id": "qdW2FLUI9riS",
        "outputId": "ff92963d-a42d-473c-a897-1114e706769f"
      },
      "source": [
        "df_training_value.head()"
      ],
      "execution_count": null,
      "outputs": [
        {
          "output_type": "execute_result",
          "data": {
            "text/html": [
              "<div>\n",
              "<style scoped>\n",
              "    .dataframe tbody tr th:only-of-type {\n",
              "        vertical-align: middle;\n",
              "    }\n",
              "\n",
              "    .dataframe tbody tr th {\n",
              "        vertical-align: top;\n",
              "    }\n",
              "\n",
              "    .dataframe thead th {\n",
              "        text-align: right;\n",
              "    }\n",
              "</style>\n",
              "<table border=\"1\" class=\"dataframe\">\n",
              "  <thead>\n",
              "    <tr style=\"text-align: right;\">\n",
              "      <th></th>\n",
              "      <th>value</th>\n",
              "    </tr>\n",
              "    <tr>\n",
              "      <th>timestamp</th>\n",
              "      <th></th>\n",
              "    </tr>\n",
              "  </thead>\n",
              "  <tbody>\n",
              "    <tr>\n",
              "      <th>2014-04-01 00:00:00</th>\n",
              "      <td>-0.858829</td>\n",
              "    </tr>\n",
              "    <tr>\n",
              "      <th>2014-04-01 00:05:00</th>\n",
              "      <td>-0.728993</td>\n",
              "    </tr>\n",
              "    <tr>\n",
              "      <th>2014-04-01 00:10:00</th>\n",
              "      <td>-0.848148</td>\n",
              "    </tr>\n",
              "    <tr>\n",
              "      <th>2014-04-01 00:15:00</th>\n",
              "      <td>-0.729586</td>\n",
              "    </tr>\n",
              "    <tr>\n",
              "      <th>2014-04-01 00:20:00</th>\n",
              "      <td>-0.731173</td>\n",
              "    </tr>\n",
              "  </tbody>\n",
              "</table>\n",
              "</div>"
            ],
            "text/plain": [
              "                        value\n",
              "timestamp                    \n",
              "2014-04-01 00:00:00 -0.858829\n",
              "2014-04-01 00:05:00 -0.728993\n",
              "2014-04-01 00:10:00 -0.848148\n",
              "2014-04-01 00:15:00 -0.729586\n",
              "2014-04-01 00:20:00 -0.731173"
            ]
          },
          "metadata": {
            "tags": []
          },
          "execution_count": 9
        }
      ]
    },
    {
      "cell_type": "code",
      "metadata": {
        "colab": {
          "base_uri": "https://localhost:8080/"
        },
        "id": "x3zgqWkjUl1r",
        "outputId": "21dc2a51-606c-4eeb-9fe5-679c3093331f"
      },
      "source": [
        "TIME_STEPS = 256\n",
        "\n",
        "# Generated training sequences for use in the model.\n",
        "def create_sequences(values, time_steps=TIME_STEPS):\n",
        "    output = []\n",
        "    for i in range(len(values) - time_steps):\n",
        "        output.append(values[i : (i + time_steps)])\n",
        "\n",
        "    return np.stack(output)\n",
        "\n",
        "train_dataset = create_sequences(df_training_value.values)\n",
        "print(\"Training input shape: \", train_dataset.shape)\n",
        "x_train = train_dataset"
      ],
      "execution_count": null,
      "outputs": [
        {
          "output_type": "stream",
          "text": [
            "Training input shape:  (3776, 256, 1)\n"
          ],
          "name": "stdout"
        }
      ]
    },
    {
      "cell_type": "markdown",
      "metadata": {
        "id": "lHOCKh0Vg1jB"
      },
      "source": [
        "### VQ-VAE"
      ]
    },
    {
      "cell_type": "code",
      "metadata": {
        "id": "L-1RPw7SUpuN"
      },
      "source": [
        "# VQ layer.\n",
        "class VQVAELayer(Layer):\n",
        "    def __init__(self, embedding_dim, num_embeddings, commitment_cost,\n",
        "                 initializer='uniform', epsilon=1e-10, **kwargs):\n",
        "        self.embedding_dim = embedding_dim\n",
        "        self.num_embeddings = num_embeddings\n",
        "        self.commitment_cost = commitment_cost\n",
        "        self.initializer = initializer\n",
        "        super(VQVAELayer, self).__init__(**kwargs)\n",
        "\n",
        "    def build(self, input_shape):\n",
        "        # Add embedding weights.\n",
        "        self.w = self.add_weight(name='embedding',\n",
        "                                  shape=(self.embedding_dim, self.num_embeddings),\n",
        "                                  initializer=self.initializer,\n",
        "                                  trainable=True)\n",
        "\n",
        "        # Finalize building.\n",
        "        super(VQVAELayer, self).build(input_shape)\n",
        "\n",
        "    def call(self, x):\n",
        "        # Flatten input except for last dimension.\n",
        "        flat_inputs = K.reshape(x, (-1, self.embedding_dim))\n",
        "\n",
        "        # Calculate distances of input to embedding vectors.\n",
        "        distances = (K.sum(flat_inputs**2, axis=1, keepdims=True)\n",
        "                     - 2 * K.dot(flat_inputs, self.w)\n",
        "                     + K.sum(self.w ** 2, axis=0, keepdims=True))\n",
        "\n",
        "        # Retrieve encoding indices.\n",
        "        encoding_indices = K.argmax(-distances, axis=1)\n",
        "        encodings = K.one_hot(encoding_indices, self.num_embeddings)\n",
        "        encoding_indices = K.reshape(encoding_indices, K.shape(x)[:-1])\n",
        "        quantized = self.quantize(encoding_indices)\n",
        "\n",
        "        # Metrics.\n",
        "        #avg_probs = K.mean(encodings, axis=0)\n",
        "        #perplexity = K.exp(- K.sum(avg_probs * K.log(avg_probs + epsilon)))\n",
        "\n",
        "        return quantized\n",
        "\n",
        "    @property\n",
        "    def embeddings(self):\n",
        "        return self.w\n",
        "\n",
        "    def quantize(self, encoding_indices):\n",
        "        w = K.transpose(self.embeddings.read_value())\n",
        "        return tf.nn.embedding_lookup(params=w, ids=encoding_indices)"
      ],
      "execution_count": null,
      "outputs": []
    },
    {
      "cell_type": "code",
      "metadata": {
        "id": "GY0eqR9lUvae"
      },
      "source": [
        "# Calculate vq-vae loss.\n",
        "def vq_vae_loss_wrapper(data_variance, commitment_cost, quantized, x_inputs):\n",
        "    def vq_vae_loss(x, x_hat):\n",
        "        recon_loss = losses.mse(x, x_hat) / data_variance\n",
        "\n",
        "        e_latent_loss = K.mean((K.stop_gradient(quantized) - x_inputs) ** 2)\n",
        "        q_latent_loss = K.mean((quantized - K.stop_gradient(x_inputs)) ** 2)\n",
        "        loss = q_latent_loss + commitment_cost * e_latent_loss\n",
        "\n",
        "        return recon_loss + loss #* beta\n",
        "    return vq_vae_loss"
      ],
      "execution_count": null,
      "outputs": []
    },
    {
      "cell_type": "code",
      "metadata": {
        "id": "JFlmtnOFUyeJ"
      },
      "source": [
        "# Hyper Parameters.\n",
        "epochs = 50 # MAX\n",
        "batch_size = 64\n",
        "validation_split = 0.1\n",
        "\n",
        "# VQ-VAE Hyper Parameters.\n",
        "embedding_dim = 16 # Length of embedding vectors.\n",
        "num_embeddings = 64 # Number of embedding vectors (high value = high bottleneck capacity).\n",
        "commitment_cost = 0.25 # Controls the weighting of the loss terms.\n",
        "\n",
        "# EarlyStoppingCallback.\n",
        "esc = keras.callbacks.EarlyStopping(monitor='val_loss', min_delta=1e-4,\n",
        "                                    patience=5, verbose=0, mode='auto',\n",
        "                                    baseline=None, restore_best_weights=True)"
      ],
      "execution_count": null,
      "outputs": []
    },
    {
      "cell_type": "code",
      "metadata": {
        "colab": {
          "base_uri": "https://localhost:8080/"
        },
        "id": "DPI5kxRoU1bG",
        "outputId": "a84fd0b5-37ca-4ae0-85ff-c8d19067ef6f"
      },
      "source": [
        "# Encoder\n",
        "input = Input(shape=(x_train.shape[1], x_train.shape[2]))\n",
        "x = Conv1D(filters=32, kernel_size=7,  strides=2,padding=\"same\", activation=\"relu\")(input)\n",
        "x = Dropout(rate=0.2)(x)\n",
        "encoder_output = Conv1D(filters=16, kernel_size=7, padding=\"same\", strides=2, activation=\"relu\")(x)\n",
        "\n",
        "# VQVAELayer.\n",
        "enc = Conv1D(embedding_dim, kernel_size=1, strides=1, name=\"pre_vqvae\")(x)\n",
        "enc_inputs = enc\n",
        "enc = VQVAELayer(embedding_dim, num_embeddings, commitment_cost, name=\"vqvae\")(enc)\n",
        "x = Lambda(lambda enc: enc_inputs + K.stop_gradient(enc - enc_inputs), name=\"encoded\")(enc)\n",
        "data_variance = np.var(x_train)\n",
        "loss = vq_vae_loss_wrapper(data_variance, commitment_cost, enc, enc_inputs)\n",
        "\n",
        "# Decoder.\n",
        "x = Conv1D(filters=16, kernel_size=7, strides=2, padding = 'same')(x)\n",
        "x = UpSampling1D(size = 2)(x)\n",
        "x = Dropout(rate=0.2)(x)\n",
        "x = Conv1D(filters=32, kernel_size=7,  strides=1, padding = 'same')(x)\n",
        "x = UpSampling1D(size = 2)(x)\n",
        "x = Conv1D(filters=1, kernel_size=7, padding = 'same')(x)\n",
        "\n",
        "# Autoencoder.\n",
        "vqvae = Model(input, x)\n",
        "vqvae.compile(loss=loss, optimizer='adam')\n",
        "vqvae.summary()"
      ],
      "execution_count": null,
      "outputs": [
        {
          "output_type": "stream",
          "text": [
            "WARNING:tensorflow:From /tensorflow-1.15.2/python3.7/tensorflow_core/python/ops/resource_variable_ops.py:1630: calling BaseResourceVariable.__init__ (from tensorflow.python.ops.resource_variable_ops) with constraint is deprecated and will be removed in a future version.\n",
            "Instructions for updating:\n",
            "If using Keras pass *_constraint arguments to layers.\n",
            "WARNING:tensorflow:From /tensorflow-1.15.2/python3.7/tensorflow_core/python/keras/initializers.py:119: calling RandomUniform.__init__ (from tensorflow.python.ops.init_ops) with dtype is deprecated and will be removed in a future version.\n",
            "Instructions for updating:\n",
            "Call initializer instance with the dtype argument instead of passing it to the constructor\n",
            "WARNING:tensorflow:Entity <bound method VQVAELayer.call of <__main__.VQVAELayer object at 0x7fa6dc750ed0>> could not be transformed and will be executed as-is. Please report this to the AutoGraph team. When filing the bug, set the verbosity to 10 (on Linux, `export AUTOGRAPH_VERBOSITY=10`) and attach the full output. Cause: Bad argument number for Name: 3, expecting 4\n",
            "WARNING: Entity <bound method VQVAELayer.call of <__main__.VQVAELayer object at 0x7fa6dc750ed0>> could not be transformed and will be executed as-is. Please report this to the AutoGraph team. When filing the bug, set the verbosity to 10 (on Linux, `export AUTOGRAPH_VERBOSITY=10`) and attach the full output. Cause: Bad argument number for Name: 3, expecting 4\n",
            "Model: \"model\"\n",
            "_________________________________________________________________\n",
            "Layer (type)                 Output Shape              Param #   \n",
            "=================================================================\n",
            "input_1 (InputLayer)         [(None, 256, 1)]          0         \n",
            "_________________________________________________________________\n",
            "conv1d (Conv1D)              (None, 128, 32)           256       \n",
            "_________________________________________________________________\n",
            "dropout (Dropout)            (None, 128, 32)           0         \n",
            "_________________________________________________________________\n",
            "pre_vqvae (Conv1D)           (None, 128, 16)           528       \n",
            "_________________________________________________________________\n",
            "vqvae (VQVAELayer)           (None, 128, 16)           1024      \n",
            "_________________________________________________________________\n",
            "encoded (Lambda)             (None, 128, 16)           0         \n",
            "_________________________________________________________________\n",
            "conv1d_2 (Conv1D)            (None, 64, 16)            1808      \n",
            "_________________________________________________________________\n",
            "up_sampling1d (UpSampling1D) (None, 128, 16)           0         \n",
            "_________________________________________________________________\n",
            "dropout_1 (Dropout)          (None, 128, 16)           0         \n",
            "_________________________________________________________________\n",
            "conv1d_3 (Conv1D)            (None, 128, 32)           3616      \n",
            "_________________________________________________________________\n",
            "up_sampling1d_1 (UpSampling1 (None, 256, 32)           0         \n",
            "_________________________________________________________________\n",
            "conv1d_4 (Conv1D)            (None, 256, 1)            225       \n",
            "=================================================================\n",
            "Total params: 7,457\n",
            "Trainable params: 7,457\n",
            "Non-trainable params: 0\n",
            "_________________________________________________________________\n"
          ],
          "name": "stdout"
        }
      ]
    },
    {
      "cell_type": "code",
      "metadata": {
        "colab": {
          "base_uri": "https://localhost:8080/"
        },
        "id": "IcS2vLhPU2r-",
        "outputId": "8f8103b4-b654-475b-be7c-2d82b0b22414"
      },
      "source": [
        "history = vqvae.fit(x_train, x_train,\n",
        "                    batch_size=batch_size, epochs=epochs,\n",
        "                    validation_split=validation_split,\n",
        "                    callbacks=[esc])"
      ],
      "execution_count": null,
      "outputs": [
        {
          "output_type": "stream",
          "text": [
            "WARNING:tensorflow:From /tensorflow-1.15.2/python3.7/tensorflow_core/python/ops/math_grad.py:1375: where (from tensorflow.python.ops.array_ops) is deprecated and will be removed in a future version.\n",
            "Instructions for updating:\n",
            "Use tf.where in 2.0, which has the same broadcast rule as np.where\n",
            "Train on 3398 samples, validate on 378 samples\n",
            "Epoch 1/50\n",
            "3398/3398 [==============================] - 3s 970us/sample - loss: 0.3035 - val_loss: 0.0861\n",
            "Epoch 2/50\n",
            "3398/3398 [==============================] - 0s 97us/sample - loss: 0.0913 - val_loss: 0.0611\n",
            "Epoch 3/50\n",
            "3398/3398 [==============================] - 0s 95us/sample - loss: 0.0670 - val_loss: 0.0395\n",
            "Epoch 4/50\n",
            "3398/3398 [==============================] - 0s 91us/sample - loss: 0.0527 - val_loss: 0.0329\n",
            "Epoch 5/50\n",
            "3398/3398 [==============================] - 0s 96us/sample - loss: 0.0445 - val_loss: 0.0260\n",
            "Epoch 6/50\n",
            "3398/3398 [==============================] - 0s 91us/sample - loss: 0.0404 - val_loss: 0.0234\n",
            "Epoch 7/50\n",
            "3398/3398 [==============================] - 0s 92us/sample - loss: 0.0381 - val_loss: 0.0225\n",
            "Epoch 8/50\n",
            "3398/3398 [==============================] - 0s 93us/sample - loss: 0.0359 - val_loss: 0.0215\n",
            "Epoch 9/50\n",
            "3398/3398 [==============================] - 0s 93us/sample - loss: 0.0351 - val_loss: 0.0263\n",
            "Epoch 10/50\n",
            "3398/3398 [==============================] - 0s 92us/sample - loss: 0.0343 - val_loss: 0.0211\n",
            "Epoch 11/50\n",
            "3398/3398 [==============================] - 0s 91us/sample - loss: 0.0337 - val_loss: 0.0240\n",
            "Epoch 12/50\n",
            "3398/3398 [==============================] - 0s 93us/sample - loss: 0.0328 - val_loss: 0.0248\n",
            "Epoch 13/50\n",
            "3398/3398 [==============================] - 0s 92us/sample - loss: 0.0322 - val_loss: 0.0210\n",
            "Epoch 14/50\n",
            "3398/3398 [==============================] - 0s 93us/sample - loss: 0.0312 - val_loss: 0.0205\n",
            "Epoch 15/50\n",
            "3398/3398 [==============================] - 0s 93us/sample - loss: 0.0305 - val_loss: 0.0227\n",
            "Epoch 16/50\n",
            "3398/3398 [==============================] - 0s 92us/sample - loss: 0.0301 - val_loss: 0.0191\n",
            "Epoch 17/50\n",
            "3398/3398 [==============================] - 0s 93us/sample - loss: 0.0296 - val_loss: 0.0173\n",
            "Epoch 18/50\n",
            "3398/3398 [==============================] - 0s 94us/sample - loss: 0.0295 - val_loss: 0.0196\n",
            "Epoch 19/50\n",
            "3398/3398 [==============================] - 0s 94us/sample - loss: 0.0294 - val_loss: 0.0165\n",
            "Epoch 20/50\n",
            "3398/3398 [==============================] - 0s 91us/sample - loss: 0.0295 - val_loss: 0.0165\n",
            "Epoch 21/50\n",
            "3398/3398 [==============================] - 0s 94us/sample - loss: 0.0291 - val_loss: 0.0190\n",
            "Epoch 22/50\n",
            "3398/3398 [==============================] - 0s 92us/sample - loss: 0.0289 - val_loss: 0.0179\n",
            "Epoch 23/50\n",
            "3398/3398 [==============================] - 0s 92us/sample - loss: 0.0288 - val_loss: 0.0174\n",
            "Epoch 24/50\n",
            "3398/3398 [==============================] - 0s 108us/sample - loss: 0.0285 - val_loss: 0.0181\n"
          ],
          "name": "stdout"
        }
      ]
    },
    {
      "cell_type": "code",
      "metadata": {
        "colab": {
          "base_uri": "https://localhost:8080/",
          "height": 297
        },
        "id": "MNU0g_tiU4tq",
        "outputId": "c308a965-2a1a-4c9d-a74b-49d20243d313"
      },
      "source": [
        "# Get train MAE loss.\n",
        "x_train_pred = vqvae.predict(x_train)\n",
        "train_mae_loss = np.mean(np.abs(x_train_pred - x_train), axis=1)\n",
        "\n",
        "plt.hist(train_mae_loss, bins=50)\n",
        "plt.xlabel(\"Train MAE loss\")\n",
        "plt.ylabel(\"No of samples\")\n",
        "plt.show()\n",
        "\n",
        "# Get reconstruction loss threshold.\n",
        "threshold = np.max(train_mae_loss)\n",
        "print(\"Reconstruction error threshold: \", threshold)"
      ],
      "execution_count": null,
      "outputs": [
        {
          "output_type": "display_data",
          "data": {
            "image/png": "[encoded data removed]",
            "text/plain": [
              "<Figure size 432x288 with 1 Axes>"
            ]
          },
          "metadata": {
            "tags": [],
            "needs_background": "light"
          }
        },
        {
          "output_type": "stream",
          "text": [
            "Reconstruction error threshold:  0.0940684867542575\n"
          ],
          "name": "stdout"
        }
      ]
    },
    {
      "cell_type": "code",
      "metadata": {
        "colab": {
          "base_uri": "https://localhost:8080/"
        },
        "id": "vLeXnXAjO7vm",
        "outputId": "ca2cbc3d-4dc0-481a-915b-8f1cd8c232b0"
      },
      "source": [
        "y_original = np.array(list(deepflatten(x_train, depth=2)))\n",
        "y_predicted = np.array(list(deepflatten(x_train_pred, depth=2)))\n",
        "error_vq_vae = np.mean(np.subtract(y_original,y_predicted)**2)\n",
        "print(error_vq_vae)"
      ],
      "execution_count": null,
      "outputs": [
        {
          "output_type": "stream",
          "text": [
            "0.015588147491630117\n"
          ],
          "name": "stdout"
        }
      ]
    },
    {
      "cell_type": "code",
      "metadata": {
        "colab": {
          "base_uri": "https://localhost:8080/",
          "height": 265
        },
        "id": "yatLtThJU9xJ",
        "outputId": "f4f2b937-6a3b-4fd7-896d-3ca1ee204764"
      },
      "source": [
        "# Checking how the first sequence is learnt\n",
        "plt.plot(x_train[0])\n",
        "plt.plot(x_train_pred[0])\n",
        "plt.show()"
      ],
      "execution_count": null,
      "outputs": [
        {
          "output_type": "display_data",
          "data": {
            "image/png": "[encoded data removed]",
            "text/plain": [
              "<Figure size 432x288 with 1 Axes>"
            ]
          },
          "metadata": {
            "tags": [],
            "needs_background": "light"
          }
        }
      ]
    },
    {
      "cell_type": "code",
      "metadata": {
        "id": "umt1mrUEU-U0"
      },
      "source": [
        "intermediate_layer_model = Model(inputs=vqvae.input,\n",
        "                                 outputs=vqvae.get_layer(\"vqvae\").output)\n",
        "intermediate_output = intermediate_layer_model.predict(x_train)"
      ],
      "execution_count": null,
      "outputs": []
    },
    {
      "cell_type": "code",
      "metadata": {
        "colab": {
          "base_uri": "https://localhost:8080/"
        },
        "id": "26Vp3w6rXSEW",
        "outputId": "e9f1891f-1235-45e0-bcfc-232c8d2412e9"
      },
      "source": [
        "len(intermediate_output)"
      ],
      "execution_count": null,
      "outputs": [
        {
          "output_type": "execute_result",
          "data": {
            "text/plain": [
              "3776"
            ]
          },
          "metadata": {
            "tags": []
          },
          "execution_count": 45
        }
      ]
    },
    {
      "cell_type": "code",
      "metadata": {
        "id": "lFGOywESXVoB"
      },
      "source": [
        "intermediate_output"
      ],
      "execution_count": null,
      "outputs": []
    },
    {
      "cell_type": "code",
      "metadata": {
        "id": "wV2WEY2FX2IM"
      },
      "source": [
        "def dictionary_encoding(intermediate_output):\n",
        "\n",
        "  global i\n",
        "  global j\n",
        "  i = -1\n",
        "  j = -1\n",
        "\n",
        "  encoded_vectors = {}\n",
        "  for emb_1 in intermediate_output:\n",
        "    i +=1\n",
        "    j = -1\n",
        "    for emb_2 in emb_1:\n",
        "      j +=1\n",
        "      emb_2 = tuple(emb_2)\n",
        "      #print(emb_2)\n",
        "      if emb_2 in encoded_vectors:\n",
        "\n",
        "        previous = encoded_vectors[emb_2]\n",
        "        previous.append((i,j))\n",
        "        encoded_vectors[emb_2] = previous\n",
        "      else:\n",
        "        encoded_vectors[emb_2] = [(i,j)]\n",
        "  return encoded_vectors"
      ],
      "execution_count": null,
      "outputs": []
    },
    {
      "cell_type": "code",
      "metadata": {
        "id": "TbkCeYLQ4RNQ"
      },
      "source": [
        "def dictionary_decoding(embedded_dictionary):\n",
        "\n",
        "  for key, value"
      ],
      "execution_count": null,
      "outputs": []
    },
    {
      "cell_type": "code",
      "metadata": {
        "colab": {
          "base_uri": "https://localhost:8080/"
        },
        "id": "jY0bl4R_Yk5p",
        "outputId": "ee8b1f6c-609b-418f-d766-60f0acf70810"
      },
      "source": [
        "len(list(encoded_vectors.keys()))"
      ],
      "execution_count": null,
      "outputs": [
        {
          "output_type": "execute_result",
          "data": {
            "text/plain": [
              "43"
            ]
          },
          "metadata": {
            "tags": []
          },
          "execution_count": 107
        }
      ]
    },
    {
      "cell_type": "code",
      "metadata": {
        "colab": {
          "base_uri": "https://localhost:8080/"
        },
        "id": "1imilAREjEij",
        "outputId": "aaf2f602-21e3-4cc0-be49-afc7ede3c5f1"
      },
      "source": [
        "embedded_size = sys.getsizeof(encoded_vectors)\n",
        "original_size = sys.getsizeof(df_training_value)\n",
        "print(\"Compression: \", embedded_size/original_size)"
      ],
      "execution_count": null,
      "outputs": [
        {
          "output_type": "stream",
          "text": [
            "Compression:  0.035448686167575606\n"
          ],
          "name": "stdout"
        }
      ]
    },
    {
      "cell_type": "markdown",
      "metadata": {
        "id": "FI6ERoh_g-dG"
      },
      "source": [
        "###Piecewise linear fit"
      ]
    },
    {
      "cell_type": "code",
      "metadata": {
        "id": "t7lYa6jdkBIs"
      },
      "source": [
        "x = np.array(range(0,len(df_training_value.value)))[0:400]\n",
        "y = np.array(df_training_value.iloc[:,0].values)[:400]"
      ],
      "execution_count": null,
      "outputs": []
    },
    {
      "cell_type": "code",
      "metadata": {
        "id": "DcirH2d4CO0h"
      },
      "source": [
        "my_pwlf = pwlf.PiecewiseLinFit(x, y)\n",
        "breaks = my_pwlf.fit(5)"
      ],
      "execution_count": null,
      "outputs": []
    },
    {
      "cell_type": "code",
      "metadata": {
        "colab": {
          "base_uri": "https://localhost:8080/",
          "height": 265
        },
        "id": "T-4nWiky92GO",
        "outputId": "76a34a62-0634-43ce-9577-15cf2e54719a"
      },
      "source": [
        "x_hat = x\n",
        "y_hat = my_pwlf.predict(x_hat)\n",
        "\n",
        "\n",
        "plt.figure()\n",
        "plt.plot(x, y, 'o')\n",
        "plt.plot(x_hat, y_hat, '-')\n",
        "plt.show()"
      ],
      "execution_count": null,
      "outputs": [
        {
          "output_type": "display_data",
          "data": {
            "image/png": "[encoded data removed]",
            "text/plain": [
              "<Figure size 432x288 with 1 Axes>"
            ]
          },
          "metadata": {
            "tags": [],
            "needs_background": "light"
          }
        }
      ]
    },
    {
      "cell_type": "code",
      "metadata": {
        "colab": {
          "base_uri": "https://localhost:8080/"
        },
        "id": "q8knUZkuMTA0",
        "outputId": "55d22dd3-94a6-40b1-a81d-d630eb00ec14"
      },
      "source": [
        "plf = sys.getsizeof(my_pwlf)\n",
        "original_size = sys.getsizeof(df_training_value)\n",
        "print(\"Compression plf: \", plf/original_size)"
      ],
      "execution_count": null,
      "outputs": [
        {
          "output_type": "stream",
          "text": [
            "Compression plf:  0.0009915716410510659\n"
          ],
          "name": "stdout"
        }
      ]
    },
    {
      "cell_type": "code",
      "metadata": {
        "colab": {
          "base_uri": "https://localhost:8080/"
        },
        "id": "GCaLGxwBMq3P",
        "outputId": "6b98d973-f5e3-4700-aec3-50885aa91438"
      },
      "source": [
        "error_plf = np.mean((y-y_hat)**2)\n",
        "print(error_plf)"
      ],
      "execution_count": null,
      "outputs": [
        {
          "output_type": "stream",
          "text": [
            "0.043688836417381326\n"
          ],
          "name": "stdout"
        }
      ]
    },
    {
      "cell_type": "markdown",
      "metadata": {
        "id": "bpTwvTqvhFn5"
      },
      "source": [
        "###Fourier Transform"
      ]
    },
    {
      "cell_type": "code",
      "metadata": {
        "id": "nz-Xz7MWjp2U"
      },
      "source": [
        "df = np.fft.fft(df_training_value)"
      ],
      "execution_count": null,
      "outputs": []
    },
    {
      "cell_type": "code",
      "metadata": {
        "colab": {
          "base_uri": "https://localhost:8080/"
        },
        "id": "IrOefGpPhMIM",
        "outputId": "42698d23-0686-4702-de73-3541f84f053c"
      },
      "source": [
        "df[0]"
      ],
      "execution_count": null,
      "outputs": [
        {
          "output_type": "execute_result",
          "data": {
            "text/plain": [
              "array([-0.85882857+0.j])"
            ]
          },
          "metadata": {
            "tags": []
          },
          "execution_count": 83
        }
      ]
    },
    {
      "cell_type": "code",
      "metadata": {
        "colab": {
          "base_uri": "https://localhost:8080/"
        },
        "id": "Z4MJBQUWo2No",
        "outputId": "38563341-f22c-48d8-9146-d087bfcbf92f"
      },
      "source": [
        "df_size = sys.getsizeof(df)\n",
        "print(df_size)"
      ],
      "execution_count": null,
      "outputs": [
        {
          "output_type": "stream",
          "text": [
            "64624\n"
          ],
          "name": "stdout"
        }
      ]
    },
    {
      "cell_type": "code",
      "metadata": {
        "colab": {
          "base_uri": "https://localhost:8080/"
        },
        "id": "pZG6kuj0o_Ec",
        "outputId": "ab7220f2-1777-469e-994a-e042153873ab"
      },
      "source": [
        "original = np.fft.ifft(df).real\n",
        "print(len(original))\n",
        "original_df = sys.getsizeof(original)\n",
        "print(original_df)"
      ],
      "execution_count": null,
      "outputs": [
        {
          "output_type": "stream",
          "text": [
            "4032\n",
            "112\n"
          ],
          "name": "stdout"
        }
      ]
    },
    {
      "cell_type": "code",
      "metadata": {
        "colab": {
          "base_uri": "https://localhost:8080/",
          "height": 283
        },
        "id": "kN9pTe-ZvmO0",
        "outputId": "b56f334f-cc64-4e34-bc86-1777d2975b23"
      },
      "source": [
        "plt.plot(original)"
      ],
      "execution_count": null,
      "outputs": [
        {
          "output_type": "execute_result",
          "data": {
            "text/plain": [
              "[<matplotlib.lines.Line2D at 0x7fa672161d50>]"
            ]
          },
          "metadata": {
            "tags": []
          },
          "execution_count": 94
        },
        {
          "output_type": "display_data",
          "data": {
            "image/png": "[encoded data removed]",
            "text/plain": [
              "<Figure size 432x288 with 1 Axes>"
            ]
          },
          "metadata": {
            "tags": [],
            "needs_background": "light"
          }
        }
      ]
    },
    {
      "cell_type": "code",
      "metadata": {
        "colab": {
          "base_uri": "https://localhost:8080/"
        },
        "id": "-CJqoD6nvyYD",
        "outputId": "0ff377b5-d231-4ad2-cd15-ef8e7f3d27db"
      },
      "source": [
        "error_dft = np.mean((np.array(df_training_value.iloc[0])-original)**2)\n",
        "print(error_dft)"
      ],
      "execution_count": null,
      "outputs": [
        {
          "output_type": "stream",
          "text": [
            "1.7373384978809772\n"
          ],
          "name": "stdout"
        }
      ]
    },
    {
      "cell_type": "markdown",
      "metadata": {
        "id": "4SHHcW_TFR0i"
      },
      "source": [
        "### Plots"
      ]
    },
    {
      "cell_type": "code",
      "metadata": {
        "colab": {
          "base_uri": "https://localhost:8080/",
          "height": 321
        },
        "id": "Gsaeu5h_FTSn",
        "outputId": "43e27330-be3c-4937-c723-eb4a27f7d068"
      },
      "source": [
        "#Reconstruction error\n",
        "\n",
        "error = [0.0155, 0.044, 1.737]\n",
        "algorithm = ['vq-vae','plf' , 'dft']\n",
        "df_error = pd.DataFrame(error, index = algorithm)\n",
        "df_error.plot(kind = 'bar', legend = False)\n",
        "plt.xlabel(\"Algorithm\")\n",
        "plt.ylabel(\"Reconstruction Error\")"
      ],
      "execution_count": null,
      "outputs": [
        {
          "output_type": "execute_result",
          "data": {
            "text/plain": [
              "Text(0, 0.5, 'Reconstruction Error')"
            ]
          },
          "metadata": {
            "tags": []
          },
          "execution_count": 125
        },
        {
          "output_type": "display_data",
          "data": {
            "image/png": "[encoded data removed]",
            "text/plain": [
              "<Figure size 432x288 with 1 Axes>"
            ]
          },
          "metadata": {
            "tags": [],
            "needs_background": "light"
          }
        }
      ]
    },
    {
      "cell_type": "code",
      "metadata": {
        "colab": {
          "base_uri": "https://localhost:8080/",
          "height": 321
        },
        "id": "Ss3eyqUueBug",
        "outputId": "55ae48ed-5d31-4ca0-8cc6-c9e4405c3cf4"
      },
      "source": [
        "#Encoding time\n",
        "#training time vq_vae 11s\n",
        "\n",
        "error = [1, 40, 1]\n",
        "algorithm = ['vq-vae','plf' , 'dft']\n",
        "df_error = pd.DataFrame(error, index = algorithm)\n",
        "df_error.plot(kind = 'bar', legend = False)\n",
        "plt.xlabel(\"Algorithm\")\n",
        "plt.ylabel(\"Training time (s)\")"
      ],
      "execution_count": null,
      "outputs": [
        {
          "output_type": "execute_result",
          "data": {
            "text/plain": [
              "Text(0, 0.5, 'Training time (s)')"
            ]
          },
          "metadata": {
            "tags": []
          },
          "execution_count": 126
        },
        {
          "output_type": "display_data",
          "data": {
            "image/png": "[encoded data removed]",
            "text/plain": [
              "<Figure size 432x288 with 1 Axes>"
            ]
          },
          "metadata": {
            "tags": [],
            "needs_background": "light"
          }
        }
      ]
    },
    {
      "cell_type": "code",
      "metadata": {
        "colab": {
          "base_uri": "https://localhost:8080/",
          "height": 321
        },
        "id": "UiGgOMzXtlCL",
        "outputId": "d69066d4-2bed-41d9-c3de-cd426b71ba31"
      },
      "source": [
        "#Compression rate\n",
        "\n",
        "compression = [0.035, 0.001, 1]\n",
        "algorithm = ['vq-vae','plf' , 'dft']\n",
        "df_compression = pd.DataFrame(compression, index = algorithm)\n",
        "df_compression.plot(kind = 'bar', legend = False)\n",
        "plt.xlabel(\"Algorithm\")\n",
        "plt.ylabel(\"Compression ratio\")"
      ],
      "execution_count": null,
      "outputs": [
        {
          "output_type": "execute_result",
          "data": {
            "text/plain": [
              "Text(0, 0.5, 'Compression ratio')"
            ]
          },
          "metadata": {
            "tags": []
          },
          "execution_count": 116
        },
        {
          "output_type": "display_data",
          "data": {
            "image/png": "[encoded data removed]",
            "text/plain": [
              "<Figure size 432x288 with 1 Axes>"
            ]
          },
          "metadata": {
            "tags": [],
            "needs_background": "light"
          }
        }
      ]
    },
    {
      "cell_type": "markdown",
      "metadata": {
        "id": "G4R3h211ucVH"
      },
      "source": [
        "##Multivariate"
      ]
    },
    {
      "cell_type": "code",
      "metadata": {
        "id": "bGXdQbjvwVtP"
      },
      "source": [
        "data_path = 'Metro_Interstate_Traffic_Volume.csv'\n",
        "traffic = pd.read_csv(data_path)"
      ],
      "execution_count": null,
      "outputs": []
    },
    {
      "cell_type": "code",
      "metadata": {
        "colab": {
          "base_uri": "https://localhost:8080/",
          "height": 208
        },
        "id": "tmbYU_yr10I_",
        "outputId": "b7d55f4b-d983-4f3a-a68a-394898dc63a5"
      },
      "source": [
        "traffic.head()"
      ],
      "execution_count": null,
      "outputs": [
        {
          "output_type": "execute_result",
          "data": {
            "text/html": [
              "<div>\n",
              "<style scoped>\n",
              "    .dataframe tbody tr th:only-of-type {\n",
              "        vertical-align: middle;\n",
              "    }\n",
              "\n",
              "    .dataframe tbody tr th {\n",
              "        vertical-align: top;\n",
              "    }\n",
              "\n",
              "    .dataframe thead th {\n",
              "        text-align: right;\n",
              "    }\n",
              "</style>\n",
              "<table border=\"1\" class=\"dataframe\">\n",
              "  <thead>\n",
              "    <tr style=\"text-align: right;\">\n",
              "      <th></th>\n",
              "      <th>holiday</th>\n",
              "      <th>temp</th>\n",
              "      <th>rain_1h</th>\n",
              "      <th>snow_1h</th>\n",
              "      <th>clouds_all</th>\n",
              "      <th>weather_main</th>\n",
              "      <th>weather_description</th>\n",
              "      <th>date_time</th>\n",
              "      <th>traffic_volume</th>\n",
              "    </tr>\n",
              "  </thead>\n",
              "  <tbody>\n",
              "    <tr>\n",
              "      <th>0</th>\n",
              "      <td>None</td>\n",
              "      <td>288.28</td>\n",
              "      <td>0.0</td>\n",
              "      <td>0.0</td>\n",
              "      <td>40</td>\n",
              "      <td>Clouds</td>\n",
              "      <td>scattered clouds</td>\n",
              "      <td>2012-10-02 09:00:00</td>\n",
              "      <td>5545</td>\n",
              "    </tr>\n",
              "    <tr>\n",
              "      <th>1</th>\n",
              "      <td>None</td>\n",
              "      <td>289.36</td>\n",
              "      <td>0.0</td>\n",
              "      <td>0.0</td>\n",
              "      <td>75</td>\n",
              "      <td>Clouds</td>\n",
              "      <td>broken clouds</td>\n",
              "      <td>2012-10-02 10:00:00</td>\n",
              "      <td>4516</td>\n",
              "    </tr>\n",
              "    <tr>\n",
              "      <th>2</th>\n",
              "      <td>None</td>\n",
              "      <td>289.58</td>\n",
              "      <td>0.0</td>\n",
              "      <td>0.0</td>\n",
              "      <td>90</td>\n",
              "      <td>Clouds</td>\n",
              "      <td>overcast clouds</td>\n",
              "      <td>2012-10-02 11:00:00</td>\n",
              "      <td>4767</td>\n",
              "    </tr>\n",
              "    <tr>\n",
              "      <th>3</th>\n",
              "      <td>None</td>\n",
              "      <td>290.13</td>\n",
              "      <td>0.0</td>\n",
              "      <td>0.0</td>\n",
              "      <td>90</td>\n",
              "      <td>Clouds</td>\n",
              "      <td>overcast clouds</td>\n",
              "      <td>2012-10-02 12:00:00</td>\n",
              "      <td>5026</td>\n",
              "    </tr>\n",
              "    <tr>\n",
              "      <th>4</th>\n",
              "      <td>None</td>\n",
              "      <td>291.14</td>\n",
              "      <td>0.0</td>\n",
              "      <td>0.0</td>\n",
              "      <td>75</td>\n",
              "      <td>Clouds</td>\n",
              "      <td>broken clouds</td>\n",
              "      <td>2012-10-02 13:00:00</td>\n",
              "      <td>4918</td>\n",
              "    </tr>\n",
              "  </tbody>\n",
              "</table>\n",
              "</div>"
            ],
            "text/plain": [
              "  holiday    temp  ...            date_time  traffic_volume\n",
              "0    None  288.28  ...  2012-10-02 09:00:00            5545\n",
              "1    None  289.36  ...  2012-10-02 10:00:00            4516\n",
              "2    None  289.58  ...  2012-10-02 11:00:00            4767\n",
              "3    None  290.13  ...  2012-10-02 12:00:00            5026\n",
              "4    None  291.14  ...  2012-10-02 13:00:00            4918\n",
              "\n",
              "[5 rows x 9 columns]"
            ]
          },
          "metadata": {
            "tags": []
          },
          "execution_count": 82
        }
      ]
    },
    {
      "cell_type": "code",
      "metadata": {
        "colab": {
          "base_uri": "https://localhost:8080/",
          "height": 428
        },
        "id": "Zh-wQg2o16zK",
        "outputId": "86fa1139-c989-428c-8424-39a43887d339"
      },
      "source": [
        "traffic = traffic.rename(columns={'date_time': 'ds', 'traffic_volume': 'y'})\n",
        "y = traffic['y']\n",
        "ds = traffic['ds']\n",
        "X = traffic.drop(['holiday','ds', 'weather_main','snow_1h', 'weather_description'], axis = 1)\n",
        "X"
      ],
      "execution_count": null,
      "outputs": [
        {
          "output_type": "execute_result",
          "data": {
            "text/html": [
              "<div>\n",
              "<style scoped>\n",
              "    .dataframe tbody tr th:only-of-type {\n",
              "        vertical-align: middle;\n",
              "    }\n",
              "\n",
              "    .dataframe tbody tr th {\n",
              "        vertical-align: top;\n",
              "    }\n",
              "\n",
              "    .dataframe thead th {\n",
              "        text-align: right;\n",
              "    }\n",
              "</style>\n",
              "<table border=\"1\" class=\"dataframe\">\n",
              "  <thead>\n",
              "    <tr style=\"text-align: right;\">\n",
              "      <th></th>\n",
              "      <th>temp</th>\n",
              "      <th>rain_1h</th>\n",
              "      <th>clouds_all</th>\n",
              "      <th>y</th>\n",
              "    </tr>\n",
              "  </thead>\n",
              "  <tbody>\n",
              "    <tr>\n",
              "      <th>0</th>\n",
              "      <td>288.28</td>\n",
              "      <td>0.0</td>\n",
              "      <td>40</td>\n",
              "      <td>5545</td>\n",
              "    </tr>\n",
              "    <tr>\n",
              "      <th>1</th>\n",
              "      <td>289.36</td>\n",
              "      <td>0.0</td>\n",
              "      <td>75</td>\n",
              "      <td>4516</td>\n",
              "    </tr>\n",
              "    <tr>\n",
              "      <th>2</th>\n",
              "      <td>289.58</td>\n",
              "      <td>0.0</td>\n",
              "      <td>90</td>\n",
              "      <td>4767</td>\n",
              "    </tr>\n",
              "    <tr>\n",
              "      <th>3</th>\n",
              "      <td>290.13</td>\n",
              "      <td>0.0</td>\n",
              "      <td>90</td>\n",
              "      <td>5026</td>\n",
              "    </tr>\n",
              "    <tr>\n",
              "      <th>4</th>\n",
              "      <td>291.14</td>\n",
              "      <td>0.0</td>\n",
              "      <td>75</td>\n",
              "      <td>4918</td>\n",
              "    </tr>\n",
              "    <tr>\n",
              "      <th>...</th>\n",
              "      <td>...</td>\n",
              "      <td>...</td>\n",
              "      <td>...</td>\n",
              "      <td>...</td>\n",
              "    </tr>\n",
              "    <tr>\n",
              "      <th>48199</th>\n",
              "      <td>283.45</td>\n",
              "      <td>0.0</td>\n",
              "      <td>75</td>\n",
              "      <td>3543</td>\n",
              "    </tr>\n",
              "    <tr>\n",
              "      <th>48200</th>\n",
              "      <td>282.76</td>\n",
              "      <td>0.0</td>\n",
              "      <td>90</td>\n",
              "      <td>2781</td>\n",
              "    </tr>\n",
              "    <tr>\n",
              "      <th>48201</th>\n",
              "      <td>282.73</td>\n",
              "      <td>0.0</td>\n",
              "      <td>90</td>\n",
              "      <td>2159</td>\n",
              "    </tr>\n",
              "    <tr>\n",
              "      <th>48202</th>\n",
              "      <td>282.09</td>\n",
              "      <td>0.0</td>\n",
              "      <td>90</td>\n",
              "      <td>1450</td>\n",
              "    </tr>\n",
              "    <tr>\n",
              "      <th>48203</th>\n",
              "      <td>282.12</td>\n",
              "      <td>0.0</td>\n",
              "      <td>90</td>\n",
              "      <td>954</td>\n",
              "    </tr>\n",
              "  </tbody>\n",
              "</table>\n",
              "<p>48204 rows × 4 columns</p>\n",
              "</div>"
            ],
            "text/plain": [
              "         temp  rain_1h  clouds_all     y\n",
              "0      288.28      0.0          40  5545\n",
              "1      289.36      0.0          75  4516\n",
              "2      289.58      0.0          90  4767\n",
              "3      290.13      0.0          90  5026\n",
              "4      291.14      0.0          75  4918\n",
              "...       ...      ...         ...   ...\n",
              "48199  283.45      0.0          75  3543\n",
              "48200  282.76      0.0          90  2781\n",
              "48201  282.73      0.0          90  2159\n",
              "48202  282.09      0.0          90  1450\n",
              "48203  282.12      0.0          90   954\n",
              "\n",
              "[48204 rows x 4 columns]"
            ]
          },
          "metadata": {
            "tags": []
          },
          "execution_count": 83
        }
      ]
    },
    {
      "cell_type": "code",
      "metadata": {
        "colab": {
          "base_uri": "https://localhost:8080/",
          "height": 303
        },
        "id": "AdJBOaFkxlsI",
        "outputId": "11202eb9-44df-4881-bd42-46aa14d719ef"
      },
      "source": [
        "X.describe()"
      ],
      "execution_count": null,
      "outputs": [
        {
          "output_type": "execute_result",
          "data": {
            "text/html": [
              "<div>\n",
              "<style scoped>\n",
              "    .dataframe tbody tr th:only-of-type {\n",
              "        vertical-align: middle;\n",
              "    }\n",
              "\n",
              "    .dataframe tbody tr th {\n",
              "        vertical-align: top;\n",
              "    }\n",
              "\n",
              "    .dataframe thead th {\n",
              "        text-align: right;\n",
              "    }\n",
              "</style>\n",
              "<table border=\"1\" class=\"dataframe\">\n",
              "  <thead>\n",
              "    <tr style=\"text-align: right;\">\n",
              "      <th></th>\n",
              "      <th>temp</th>\n",
              "      <th>rain_1h</th>\n",
              "      <th>clouds_all</th>\n",
              "      <th>y</th>\n",
              "    </tr>\n",
              "  </thead>\n",
              "  <tbody>\n",
              "    <tr>\n",
              "      <th>count</th>\n",
              "      <td>48204.000000</td>\n",
              "      <td>48204.000000</td>\n",
              "      <td>48204.000000</td>\n",
              "      <td>48204.000000</td>\n",
              "    </tr>\n",
              "    <tr>\n",
              "      <th>mean</th>\n",
              "      <td>281.205870</td>\n",
              "      <td>0.334264</td>\n",
              "      <td>49.362231</td>\n",
              "      <td>3259.818355</td>\n",
              "    </tr>\n",
              "    <tr>\n",
              "      <th>std</th>\n",
              "      <td>13.338232</td>\n",
              "      <td>44.789133</td>\n",
              "      <td>39.015750</td>\n",
              "      <td>1986.860670</td>\n",
              "    </tr>\n",
              "    <tr>\n",
              "      <th>min</th>\n",
              "      <td>0.000000</td>\n",
              "      <td>0.000000</td>\n",
              "      <td>0.000000</td>\n",
              "      <td>0.000000</td>\n",
              "    </tr>\n",
              "    <tr>\n",
              "      <th>25%</th>\n",
              "      <td>272.160000</td>\n",
              "      <td>0.000000</td>\n",
              "      <td>1.000000</td>\n",
              "      <td>1193.000000</td>\n",
              "    </tr>\n",
              "    <tr>\n",
              "      <th>50%</th>\n",
              "      <td>282.450000</td>\n",
              "      <td>0.000000</td>\n",
              "      <td>64.000000</td>\n",
              "      <td>3380.000000</td>\n",
              "    </tr>\n",
              "    <tr>\n",
              "      <th>75%</th>\n",
              "      <td>291.806000</td>\n",
              "      <td>0.000000</td>\n",
              "      <td>90.000000</td>\n",
              "      <td>4933.000000</td>\n",
              "    </tr>\n",
              "    <tr>\n",
              "      <th>max</th>\n",
              "      <td>310.070000</td>\n",
              "      <td>9831.300000</td>\n",
              "      <td>100.000000</td>\n",
              "      <td>7280.000000</td>\n",
              "    </tr>\n",
              "  </tbody>\n",
              "</table>\n",
              "</div>"
            ],
            "text/plain": [
              "               temp       rain_1h    clouds_all             y\n",
              "count  48204.000000  48204.000000  48204.000000  48204.000000\n",
              "mean     281.205870      0.334264     49.362231   3259.818355\n",
              "std       13.338232     44.789133     39.015750   1986.860670\n",
              "min        0.000000      0.000000      0.000000      0.000000\n",
              "25%      272.160000      0.000000      1.000000   1193.000000\n",
              "50%      282.450000      0.000000     64.000000   3380.000000\n",
              "75%      291.806000      0.000000     90.000000   4933.000000\n",
              "max      310.070000   9831.300000    100.000000   7280.000000"
            ]
          },
          "metadata": {
            "tags": []
          },
          "execution_count": 52
        }
      ]
    },
    {
      "cell_type": "code",
      "metadata": {
        "colab": {
          "base_uri": "https://localhost:8080/",
          "height": 283
        },
        "id": "NJ_erSP6ygbJ",
        "outputId": "b590f8cb-6dd7-45fd-83f3-74246cef0dd1"
      },
      "source": [
        "X_new = X['rain_1h'].replace(9831.30,55.63)\n",
        "X_new.plot()"
      ],
      "execution_count": null,
      "outputs": [
        {
          "output_type": "execute_result",
          "data": {
            "text/plain": [
              "<matplotlib.axes._subplots.AxesSubplot at 0x7f38a0217b10>"
            ]
          },
          "metadata": {
            "tags": []
          },
          "execution_count": 58
        },
        {
          "output_type": "display_data",
          "data": {
            "image/png": "[encoded data removed]",
            "text/plain": [
              "<Figure size 432x288 with 1 Axes>"
            ]
          },
          "metadata": {
            "tags": [],
            "needs_background": "light"
          }
        }
      ]
    },
    {
      "cell_type": "code",
      "metadata": {
        "id": "GnV2y5xdG-8x"
      },
      "source": [
        "X['rain_1h'] = X['rain_1h'].replace(9831.30,55.63)"
      ],
      "execution_count": null,
      "outputs": []
    },
    {
      "cell_type": "code",
      "metadata": {
        "colab": {
          "base_uri": "https://localhost:8080/"
        },
        "id": "YGwtMjoc3vNC",
        "outputId": "21a10d00-e115-4f37-b654-34faf8f806fe"
      },
      "source": [
        "TIME_STEPS = 256\n",
        "\n",
        "# Generated training sequences for use in the model.\n",
        "def create_sequences(values, time_steps=TIME_STEPS):\n",
        "    output = []\n",
        "    for i in range(len(values) - time_steps):\n",
        "        output.append(values.iloc[i : (i + time_steps),:])\n",
        "    \n",
        "    return np.stack(output)\n",
        "\n",
        "train_dataset_m = create_sequences(X)\n",
        "print(\"Training input shape: \", train_dataset_m.shape)\n",
        "x_train_m = train_dataset_m"
      ],
      "execution_count": null,
      "outputs": [
        {
          "output_type": "stream",
          "text": [
            "Training input shape:  (47948, 256, 4)\n"
          ],
          "name": "stdout"
        }
      ]
    },
    {
      "cell_type": "markdown",
      "metadata": {
        "id": "dypssBvaZcBv"
      },
      "source": [
        "#### 1D Conv"
      ]
    },
    {
      "cell_type": "code",
      "metadata": {
        "id": "YbCkNLgwZjnZ"
      },
      "source": [
        "# VQ layer.\n",
        "class VQVAELayer(Layer):\n",
        "    def __init__(self, embedding_dim, num_embeddings, commitment_cost,\n",
        "                 initializer='uniform', epsilon=1e-10, **kwargs):\n",
        "        self.embedding_dim = embedding_dim\n",
        "        self.num_embeddings = num_embeddings\n",
        "        self.commitment_cost = commitment_cost\n",
        "        self.initializer = initializer\n",
        "        super(VQVAELayer, self).__init__(**kwargs)\n",
        "\n",
        "    def build(self, input_shape):\n",
        "        # Add embedding weights.\n",
        "        self.w = self.add_weight(name='embedding',\n",
        "                                  shape=(self.embedding_dim, self.num_embeddings),\n",
        "                                  initializer=self.initializer,\n",
        "                                  trainable=True)\n",
        "\n",
        "        # Finalize building.\n",
        "        super(VQVAELayer, self).build(input_shape)\n",
        "\n",
        "    def call(self, x):\n",
        "        # Flatten input except for last dimension.\n",
        "        flat_inputs = K.reshape(x, (-1, self.embedding_dim))\n",
        "\n",
        "        # Calculate distances of input to embedding vectors.\n",
        "        distances = (K.sum(flat_inputs**2, axis=1, keepdims=True)\n",
        "                     - 2 * K.dot(flat_inputs, self.w)\n",
        "                     + K.sum(self.w ** 2, axis=0, keepdims=True))\n",
        "\n",
        "        # Retrieve encoding indices.\n",
        "        encoding_indices = K.argmax(-distances, axis=1)\n",
        "        encodings = K.one_hot(encoding_indices, self.num_embeddings)\n",
        "        encoding_indices = K.reshape(encoding_indices, K.shape(x)[:-1])\n",
        "        quantized = self.quantize(encoding_indices)\n",
        "\n",
        "        # Metrics.\n",
        "        #avg_probs = K.mean(encodings, axis=0)\n",
        "        #perplexity = K.exp(- K.sum(avg_probs * K.log(avg_probs + epsilon)))\n",
        "\n",
        "        return quantized\n",
        "\n",
        "    @property\n",
        "    def embeddings(self):\n",
        "        return self.w\n",
        "\n",
        "    def quantize(self, encoding_indices):\n",
        "        w = K.transpose(self.embeddings.read_value())\n",
        "        return tf.nn.embedding_lookup(params=w, ids=encoding_indices)"
      ],
      "execution_count": null,
      "outputs": []
    },
    {
      "cell_type": "code",
      "metadata": {
        "id": "oGxRSdfGap6F"
      },
      "source": [
        "# Calculate vq-vae loss.\n",
        "def vq_vae_loss_wrapper(data_variance, commitment_cost, quantized, x_inputs):\n",
        "    def vq_vae_loss(x, x_hat):\n",
        "        recon_loss = losses.mse(x, x_hat) / data_variance\n",
        "\n",
        "        e_latent_loss = K.mean((K.stop_gradient(quantized) - x_inputs) ** 2)\n",
        "        q_latent_loss = K.mean((quantized - K.stop_gradient(x_inputs)) ** 2)\n",
        "        loss = q_latent_loss + commitment_cost * e_latent_loss\n",
        "\n",
        "        return recon_loss + loss #* beta\n",
        "    return vq_vae_loss"
      ],
      "execution_count": null,
      "outputs": []
    },
    {
      "cell_type": "markdown",
      "metadata": {
        "id": "P2KQ4583I2nM"
      },
      "source": [
        "##### Base"
      ]
    },
    {
      "cell_type": "code",
      "metadata": {
        "id": "6KDNGo2GI5oE"
      },
      "source": [
        "# Hyper Parameters.\n",
        "epochs = 150 # MAX\n",
        "batch_size = 64\n",
        "validation_split = 0.1\n",
        "\n",
        "# VQ-VAE Hyper Parameters.\n",
        "embedding_dim = 32 # Length of embedding vectors.\n",
        "num_embeddings = 128 # Number of embedding vectors (high value = high bottleneck capacity).\n",
        "commitment_cost = 0.25 # Controls the weighting of the loss terms.\n",
        "\n",
        "# EarlyStoppingCallback.\n",
        "esc = keras.callbacks.EarlyStopping(monitor='val_loss', min_delta=1e-4,\n",
        "                                    patience=5, verbose=0, mode='auto',\n",
        "                                    baseline=None, restore_best_weights=True)"
      ],
      "execution_count": null,
      "outputs": []
    },
    {
      "cell_type": "code",
      "metadata": {
        "colab": {
          "base_uri": "https://localhost:8080/"
        },
        "id": "cTVCPpoaKAU5",
        "outputId": "b21b5838-7f94-4a71-c84e-49902168e860"
      },
      "source": [
        "# Encoder\n",
        "input = Input(shape=(x_train_m.shape[1], x_train_m.shape[2]))\n",
        "x = Conv1D(filters=32, kernel_size=7,  strides=2,padding=\"same\", activation=\"relu\")(input)\n",
        "x = Dropout(rate=0.2)(x)\n",
        "encoder_output = Conv1D(filters=16, kernel_size=7, padding=\"same\", strides=2, activation=\"relu\")(x)\n",
        "\n",
        "# VQVAELayer.\n",
        "enc = Conv1D(embedding_dim, kernel_size=1, strides=1, name=\"pre_vqvae\")(x)\n",
        "enc_inputs = enc\n",
        "enc = VQVAELayer(embedding_dim, num_embeddings, commitment_cost, name=\"vqvae\")(enc)\n",
        "x = Lambda(lambda enc: enc_inputs + K.stop_gradient(enc - enc_inputs), name=\"encoded\")(enc)\n",
        "data_variance = np.var(x_train_m)\n",
        "loss = vq_vae_loss_wrapper(data_variance, commitment_cost, enc, enc_inputs)\n",
        "\n",
        "# Decoder.\n",
        "x = Conv1D(filters=16, kernel_size=7, strides=2, padding = 'same')(x)\n",
        "x = UpSampling1D(size = 2)(x)\n",
        "x = Dropout(rate=0.2)(x)\n",
        "x = Conv1D(filters=32, kernel_size=7,  strides=1, padding = 'same')(x)\n",
        "x = UpSampling1D(size = 2)(x)\n",
        "x = Conv1D(filters=4, kernel_size=7, padding = 'same')(x)\n",
        "\n",
        "# Autoencoder.\n",
        "vqvae = Model(input, x)\n",
        "vqvae.compile(loss=loss, optimizer='adam')\n",
        "vqvae.summary()"
      ],
      "execution_count": null,
      "outputs": [
        {
          "output_type": "stream",
          "text": [
            "WARNING:tensorflow:Entity <bound method VQVAELayer.call of <__main__.VQVAELayer object at 0x7f3ab926ddd0>> could not be transformed and will be executed as-is. Please report this to the AutoGraph team. When filing the bug, set the verbosity to 10 (on Linux, `export AUTOGRAPH_VERBOSITY=10`) and attach the full output. Cause: Bad argument number for Name: 3, expecting 4\n",
            "WARNING: Entity <bound method VQVAELayer.call of <__main__.VQVAELayer object at 0x7f3ab926ddd0>> could not be transformed and will be executed as-is. Please report this to the AutoGraph team. When filing the bug, set the verbosity to 10 (on Linux, `export AUTOGRAPH_VERBOSITY=10`) and attach the full output. Cause: Bad argument number for Name: 3, expecting 4\n",
            "Model: \"model_4\"\n",
            "_________________________________________________________________\n",
            "Layer (type)                 Output Shape              Param #   \n",
            "=================================================================\n",
            "input_5 (InputLayer)         [(None, 256, 4)]          0         \n",
            "_________________________________________________________________\n",
            "conv1d_20 (Conv1D)           (None, 128, 32)           928       \n",
            "_________________________________________________________________\n",
            "dropout_9 (Dropout)          (None, 128, 32)           0         \n",
            "_________________________________________________________________\n",
            "pre_vqvae (Conv1D)           (None, 128, 32)           1056      \n",
            "_________________________________________________________________\n",
            "vqvae (VQVAELayer)           (None, 128, 32)           4096      \n",
            "_________________________________________________________________\n",
            "encoded (Lambda)             (None, 128, 32)           0         \n",
            "_________________________________________________________________\n",
            "conv1d_22 (Conv1D)           (None, 64, 16)            3600      \n",
            "_________________________________________________________________\n",
            "up_sampling1d_8 (UpSampling1 (None, 128, 16)           0         \n",
            "_________________________________________________________________\n",
            "dropout_10 (Dropout)         (None, 128, 16)           0         \n",
            "_________________________________________________________________\n",
            "conv1d_23 (Conv1D)           (None, 128, 32)           3616      \n",
            "_________________________________________________________________\n",
            "up_sampling1d_9 (UpSampling1 (None, 256, 32)           0         \n",
            "_________________________________________________________________\n",
            "conv1d_24 (Conv1D)           (None, 256, 4)            900       \n",
            "=================================================================\n",
            "Total params: 14,196\n",
            "Trainable params: 14,196\n",
            "Non-trainable params: 0\n",
            "_________________________________________________________________\n"
          ],
          "name": "stdout"
        }
      ]
    },
    {
      "cell_type": "code",
      "metadata": {
        "colab": {
          "base_uri": "https://localhost:8080/"
        },
        "id": "Jm95iSsLJ6Sf",
        "outputId": "24dfe923-adf9-40e3-8e69-fd07d862ac79"
      },
      "source": [
        "history = vqvae.fit(x_train_m, x_train_m,\n",
        "                    batch_size=batch_size, epochs=epochs,\n",
        "                    validation_split=validation_split,\n",
        "                    callbacks=[esc])"
      ],
      "execution_count": null,
      "outputs": [
        {
          "output_type": "stream",
          "text": [
            "Train on 13788 samples, validate on 1533 samples\n",
            "Epoch 1/150\n",
            "13788/13788 [==============================] - 4s 285us/sample - loss: 36052.2398 - val_loss: 1028.0509\n",
            "Epoch 2/150\n",
            "13788/13788 [==============================] - 3s 192us/sample - loss: 587.5160 - val_loss: 289.9424\n",
            "Epoch 3/150\n",
            "13788/13788 [==============================] - 3s 193us/sample - loss: 162.4159 - val_loss: 132.9850\n",
            "Epoch 4/150\n",
            "13788/13788 [==============================] - 3s 197us/sample - loss: 67.1091 - val_loss: 77.5131\n",
            "Epoch 5/150\n",
            "13788/13788 [==============================] - 3s 194us/sample - loss: 36.6305 - val_loss: 51.9785\n",
            "Epoch 6/150\n",
            "13788/13788 [==============================] - 3s 194us/sample - loss: 24.0602 - val_loss: 37.3254\n",
            "Epoch 7/150\n",
            "13788/13788 [==============================] - 3s 193us/sample - loss: 17.3472 - val_loss: 27.3804\n",
            "Epoch 8/150\n",
            "13788/13788 [==============================] - 3s 193us/sample - loss: 12.8817 - val_loss: 20.4133\n",
            "Epoch 9/150\n",
            "13788/13788 [==============================] - 3s 193us/sample - loss: 9.9420 - val_loss: 15.4803\n",
            "Epoch 10/150\n",
            "13788/13788 [==============================] - 3s 192us/sample - loss: 7.8875 - val_loss: 11.9361\n",
            "Epoch 11/150\n",
            "13788/13788 [==============================] - 3s 193us/sample - loss: 6.3479 - val_loss: 9.3703\n",
            "Epoch 12/150\n",
            "13788/13788 [==============================] - 3s 192us/sample - loss: 5.1696 - val_loss: 7.4584\n",
            "Epoch 13/150\n",
            "13788/13788 [==============================] - 3s 194us/sample - loss: 4.2871 - val_loss: 5.9668\n",
            "Epoch 14/150\n",
            "13788/13788 [==============================] - 3s 192us/sample - loss: 3.5265 - val_loss: 4.8030\n",
            "Epoch 15/150\n",
            "13788/13788 [==============================] - 3s 193us/sample - loss: 2.9726 - val_loss: 3.8909\n",
            "Epoch 16/150\n",
            "13788/13788 [==============================] - 3s 192us/sample - loss: 2.5075 - val_loss: 3.1900\n",
            "Epoch 17/150\n",
            "13788/13788 [==============================] - 3s 192us/sample - loss: 2.1426 - val_loss: 2.6445\n",
            "Epoch 18/150\n",
            "13788/13788 [==============================] - 3s 193us/sample - loss: 1.8164 - val_loss: 2.2191\n",
            "Epoch 19/150\n",
            "13788/13788 [==============================] - 3s 192us/sample - loss: 1.5891 - val_loss: 1.8748\n",
            "Epoch 20/150\n",
            "13788/13788 [==============================] - 3s 195us/sample - loss: 1.3959 - val_loss: 1.6128\n",
            "Epoch 21/150\n",
            "13788/13788 [==============================] - 3s 193us/sample - loss: 1.2567 - val_loss: 1.4049\n",
            "Epoch 22/150\n",
            "13788/13788 [==============================] - 3s 193us/sample - loss: 1.1102 - val_loss: 1.2525\n",
            "Epoch 23/150\n",
            "13788/13788 [==============================] - 3s 193us/sample - loss: 0.9965 - val_loss: 1.1300\n",
            "Epoch 24/150\n",
            "13788/13788 [==============================] - 3s 194us/sample - loss: 0.8901 - val_loss: 1.0313\n",
            "Epoch 25/150\n",
            "13788/13788 [==============================] - 3s 191us/sample - loss: 0.8170 - val_loss: 0.9510\n",
            "Epoch 26/150\n",
            "13788/13788 [==============================] - 3s 194us/sample - loss: 0.7667 - val_loss: 0.8765\n",
            "Epoch 27/150\n",
            "13788/13788 [==============================] - 3s 194us/sample - loss: 0.7083 - val_loss: 0.8186\n",
            "Epoch 28/150\n",
            "13788/13788 [==============================] - 3s 192us/sample - loss: 0.6667 - val_loss: 0.7637\n",
            "Epoch 29/150\n",
            "13788/13788 [==============================] - 3s 192us/sample - loss: 0.6335 - val_loss: 0.7136\n",
            "Epoch 30/150\n",
            "13788/13788 [==============================] - 3s 192us/sample - loss: 0.6018 - val_loss: 0.6708\n",
            "Epoch 31/150\n",
            "13788/13788 [==============================] - 3s 195us/sample - loss: 0.5739 - val_loss: 0.6361\n",
            "Epoch 32/150\n",
            "13788/13788 [==============================] - 3s 198us/sample - loss: 0.5529 - val_loss: 0.6033\n",
            "Epoch 33/150\n",
            "13788/13788 [==============================] - 3s 196us/sample - loss: 0.5176 - val_loss: 0.5780\n",
            "Epoch 34/150\n",
            "13788/13788 [==============================] - 3s 195us/sample - loss: 0.4998 - val_loss: 0.5504\n",
            "Epoch 35/150\n",
            "13788/13788 [==============================] - 3s 194us/sample - loss: 0.4822 - val_loss: 0.5285\n",
            "Epoch 36/150\n",
            "13788/13788 [==============================] - 3s 194us/sample - loss: 0.4695 - val_loss: 0.5064\n",
            "Epoch 37/150\n",
            "13788/13788 [==============================] - 3s 192us/sample - loss: 0.4553 - val_loss: 0.4899\n",
            "Epoch 38/150\n",
            "13788/13788 [==============================] - 3s 191us/sample - loss: 0.4425 - val_loss: 0.4745\n",
            "Epoch 39/150\n",
            "13788/13788 [==============================] - 3s 193us/sample - loss: 0.4346 - val_loss: 0.4589\n",
            "Epoch 40/150\n",
            "13788/13788 [==============================] - 3s 192us/sample - loss: 0.4277 - val_loss: 0.4452\n",
            "Epoch 41/150\n",
            "13788/13788 [==============================] - 3s 191us/sample - loss: 0.4181 - val_loss: 0.4398\n",
            "Epoch 42/150\n",
            "13788/13788 [==============================] - 3s 193us/sample - loss: 0.4153 - val_loss: 0.4232\n",
            "Epoch 43/150\n",
            "13788/13788 [==============================] - 3s 194us/sample - loss: 0.4090 - val_loss: 0.4028\n",
            "Epoch 44/150\n",
            "13788/13788 [==============================] - 3s 195us/sample - loss: 0.4184 - val_loss: 0.4013\n",
            "Epoch 45/150\n",
            "13788/13788 [==============================] - 3s 193us/sample - loss: 0.4132 - val_loss: 0.3902\n",
            "Epoch 46/150\n",
            "13788/13788 [==============================] - 3s 192us/sample - loss: 0.4031 - val_loss: 0.3777\n",
            "Epoch 47/150\n",
            "13788/13788 [==============================] - 3s 195us/sample - loss: 0.4032 - val_loss: 0.3638\n",
            "Epoch 48/150\n",
            "13788/13788 [==============================] - 3s 193us/sample - loss: 0.3956 - val_loss: 0.3542\n",
            "Epoch 49/150\n",
            "13788/13788 [==============================] - 3s 194us/sample - loss: 0.3810 - val_loss: 0.3455\n",
            "Epoch 50/150\n",
            "13788/13788 [==============================] - 3s 193us/sample - loss: 0.3778 - val_loss: 0.3280\n",
            "Epoch 51/150\n",
            "13788/13788 [==============================] - 3s 193us/sample - loss: 2.5073 - val_loss: 0.3091\n",
            "Epoch 52/150\n",
            "13788/13788 [==============================] - 3s 193us/sample - loss: 0.3563 - val_loss: 0.3040\n",
            "Epoch 53/150\n",
            "13788/13788 [==============================] - 3s 193us/sample - loss: 0.3325 - val_loss: 0.2924\n",
            "Epoch 54/150\n",
            "13788/13788 [==============================] - 3s 192us/sample - loss: 0.3140 - val_loss: 0.2880\n",
            "Epoch 55/150\n",
            "13788/13788 [==============================] - 3s 193us/sample - loss: 0.3015 - val_loss: 0.2803\n",
            "Epoch 56/150\n",
            "13788/13788 [==============================] - 3s 197us/sample - loss: 0.2908 - val_loss: 0.2740\n",
            "Epoch 57/150\n",
            "13788/13788 [==============================] - 3s 193us/sample - loss: 0.2851 - val_loss: 0.2672\n",
            "Epoch 58/150\n",
            "13788/13788 [==============================] - 3s 193us/sample - loss: 0.2774 - val_loss: 0.2548\n",
            "Epoch 59/150\n",
            "13788/13788 [==============================] - 3s 192us/sample - loss: 0.2772 - val_loss: 0.2452\n",
            "Epoch 60/150\n",
            "13788/13788 [==============================] - 3s 193us/sample - loss: 0.2754 - val_loss: 0.2429\n",
            "Epoch 61/150\n",
            "13788/13788 [==============================] - 3s 194us/sample - loss: 0.2664 - val_loss: 0.2362\n",
            "Epoch 62/150\n",
            "13788/13788 [==============================] - 3s 194us/sample - loss: 0.2552 - val_loss: 0.2321\n",
            "Epoch 63/150\n",
            "13788/13788 [==============================] - 3s 191us/sample - loss: 0.2475 - val_loss: 0.2323\n",
            "Epoch 64/150\n",
            "13788/13788 [==============================] - 3s 195us/sample - loss: 0.2365 - val_loss: 0.2104\n",
            "Epoch 65/150\n",
            "13788/13788 [==============================] - 3s 193us/sample - loss: 0.2155 - val_loss: 0.1956\n",
            "Epoch 66/150\n",
            "13788/13788 [==============================] - 3s 193us/sample - loss: 0.1966 - val_loss: 0.1885\n",
            "Epoch 67/150\n",
            "13788/13788 [==============================] - 3s 192us/sample - loss: 0.1876 - val_loss: 0.1798\n",
            "Epoch 68/150\n",
            "13788/13788 [==============================] - 3s 195us/sample - loss: 0.1806 - val_loss: 0.1752\n",
            "Epoch 69/150\n",
            "13788/13788 [==============================] - 3s 191us/sample - loss: 0.1750 - val_loss: 0.1661\n",
            "Epoch 70/150\n",
            "13788/13788 [==============================] - 3s 191us/sample - loss: 0.1704 - val_loss: 0.1701\n",
            "Epoch 71/150\n",
            "13788/13788 [==============================] - 3s 191us/sample - loss: 0.1645 - val_loss: 0.1612\n",
            "Epoch 72/150\n",
            "13788/13788 [==============================] - 3s 193us/sample - loss: 0.1622 - val_loss: 0.1696\n",
            "Epoch 73/150\n",
            "13788/13788 [==============================] - 3s 193us/sample - loss: 0.1568 - val_loss: 0.1660\n",
            "Epoch 74/150\n",
            "13788/13788 [==============================] - 3s 192us/sample - loss: 0.1524 - val_loss: 0.1346\n",
            "Epoch 75/150\n",
            "13788/13788 [==============================] - 3s 191us/sample - loss: 0.1487 - val_loss: 0.1326\n",
            "Epoch 76/150\n",
            "13788/13788 [==============================] - 3s 194us/sample - loss: 0.3744 - val_loss: 0.3650\n",
            "Epoch 77/150\n",
            "13788/13788 [==============================] - 3s 193us/sample - loss: 0.3562 - val_loss: 0.3619\n",
            "Epoch 78/150\n",
            "13788/13788 [==============================] - 3s 193us/sample - loss: 0.3550 - val_loss: 0.3615\n",
            "Epoch 79/150\n",
            "13788/13788 [==============================] - 3s 194us/sample - loss: 0.3546 - val_loss: 0.3618\n",
            "Epoch 80/150\n",
            "13788/13788 [==============================] - 3s 212us/sample - loss: 0.3545 - val_loss: 0.3614\n"
          ],
          "name": "stdout"
        }
      ]
    },
    {
      "cell_type": "code",
      "metadata": {
        "id": "d4t9VvJAKdEp"
      },
      "source": [
        "#3m36s"
      ],
      "execution_count": null,
      "outputs": []
    },
    {
      "cell_type": "code",
      "metadata": {
        "colab": {
          "base_uri": "https://localhost:8080/"
        },
        "id": "bHaGRKrRJ6pp",
        "outputId": "5a71765d-420c-45cc-99f1-de5c1c5957d2"
      },
      "source": [
        "# Get train MAE loss.\n",
        "x_train_pred_m = vqvae.predict(x_train_m)\n",
        "x_train_pred_m.shape"
      ],
      "execution_count": null,
      "outputs": [
        {
          "output_type": "execute_result",
          "data": {
            "text/plain": [
              "(15321, 256, 4)"
            ]
          },
          "metadata": {
            "tags": []
          },
          "execution_count": 70
        }
      ]
    },
    {
      "cell_type": "code",
      "metadata": {
        "id": "pH7wNOcrI5wV"
      },
      "source": [
        "# Get train MAE loss.\n",
        "x_train_pred_m = vqvae.predict(x_train_m)\n",
        "original = []\n",
        "for item in x_train_m:\n",
        "  #print(item[0])\n",
        "  original.append(item[0])\n",
        "predicted = []\n",
        "for item in x_train_pred_m:\n",
        "  #print(item[0])\n",
        "  predicted.append(item[0])"
      ],
      "execution_count": null,
      "outputs": []
    },
    {
      "cell_type": "code",
      "metadata": {
        "id": "fWqyLz6uI50H"
      },
      "source": [
        "df_original = pd.DataFrame(original)\n",
        "df_pred = pd.DataFrame(predicted)\n",
        "original_mean = df_original.mean(axis = 0)\n",
        "difference = df_original - df_pred\n",
        "difference_mean = np.abs(difference.mean(axis = 0))"
      ],
      "execution_count": null,
      "outputs": []
    },
    {
      "cell_type": "code",
      "metadata": {
        "colab": {
          "base_uri": "https://localhost:8080/",
          "height": 287
        },
        "id": "VNW-DhHjI54A",
        "outputId": "8123e9a1-6885-47e7-c464-44c324fd6aa1"
      },
      "source": [
        "df_pred.iloc[:,1].plot()"
      ],
      "execution_count": null,
      "outputs": [
        {
          "output_type": "execute_result",
          "data": {
            "text/plain": [
              "<matplotlib.axes._subplots.AxesSubplot at 0x7f3ab0160e50>"
            ]
          },
          "metadata": {
            "tags": []
          },
          "execution_count": 73
        },
        {
          "output_type": "display_data",
          "data": {
            "image/png": "[encoded data removed]",
            "text/plain": [
              "<Figure size 432x288 with 1 Axes>"
            ]
          },
          "metadata": {
            "tags": [],
            "needs_background": "light"
          }
        }
      ]
    },
    {
      "cell_type": "code",
      "metadata": {
        "colab": {
          "base_uri": "https://localhost:8080/"
        },
        "id": "yhqYsdR1I58G",
        "outputId": "a171106d-19aa-4992-dc7b-c4bb66264818"
      },
      "source": [
        "difference_mean/original_mean"
      ],
      "execution_count": null,
      "outputs": [
        {
          "output_type": "execute_result",
          "data": {
            "text/plain": [
              "0    0.225614\n",
              "1    6.471033\n",
              "2    0.183304\n",
              "3    0.143711\n",
              "dtype: float64"
            ]
          },
          "metadata": {
            "tags": []
          },
          "execution_count": 74
        }
      ]
    },
    {
      "cell_type": "markdown",
      "metadata": {
        "id": "rdlBMj_wA5O8"
      },
      "source": [
        "##### 1st"
      ]
    },
    {
      "cell_type": "code",
      "metadata": {
        "id": "Gbv4HL-ZaxiH"
      },
      "source": [
        "# Hyper Parameters.\n",
        "epochs = 150 # MAX\n",
        "batch_size = 64\n",
        "validation_split = 0.1\n",
        "\n",
        "# VQ-VAE Hyper Parameters.\n",
        "embedding_dim = 32 # Length of embedding vectors.\n",
        "num_embeddings = 64 # Number of embedding vectors (high value = high bottleneck capacity).\n",
        "commitment_cost = 0.25 # Controls the weighting of the loss terms.\n",
        "\n",
        "# EarlyStoppingCallback.\n",
        "esc = keras.callbacks.EarlyStopping(monitor='val_loss', min_delta=1e-4,\n",
        "                                    patience=5, verbose=0, mode='auto',\n",
        "                                    baseline=None, restore_best_weights=True)"
      ],
      "execution_count": null,
      "outputs": []
    },
    {
      "cell_type": "code",
      "metadata": {
        "colab": {
          "base_uri": "https://localhost:8080/"
        },
        "id": "hR6w0A1Qa8TY",
        "outputId": "b1d0fbef-3df2-4784-a163-d3cb7b8715ae"
      },
      "source": [
        "# Encoder\n",
        "input = Input(shape=(x_train_m.shape[1], x_train_m.shape[2]))\n",
        "x = Conv1D(filters=32, kernel_size=7,  strides=2,padding=\"same\", activation=\"relu\")(input)\n",
        "x = Dropout(rate=0.2)(x)\n",
        "encoder_output = Conv1D(filters=16, kernel_size=7, padding=\"same\", strides=2, activation=\"relu\")(x)\n",
        "\n",
        "# VQVAELayer.\n",
        "enc = Conv1D(embedding_dim, kernel_size=1, strides=1, name=\"pre_vqvae\")(x)\n",
        "enc_inputs = enc\n",
        "enc = VQVAELayer(embedding_dim, num_embeddings, commitment_cost, name=\"vqvae\")(enc)\n",
        "x = Lambda(lambda enc: enc_inputs + K.stop_gradient(enc - enc_inputs), name=\"encoded\")(enc)\n",
        "data_variance = np.var(x_train_m)\n",
        "loss = vq_vae_loss_wrapper(data_variance, commitment_cost, enc, enc_inputs)\n",
        "\n",
        "# Decoder.\n",
        "x = Conv1D(filters=16, kernel_size=7, strides=2, padding = 'same')(x)\n",
        "x = UpSampling1D(size = 2)(x)\n",
        "x = Dropout(rate=0.2)(x)\n",
        "x = Conv1D(filters=32, kernel_size=7,  strides=1, padding = 'same')(x)\n",
        "x = UpSampling1D(size = 2)(x)\n",
        "x = Conv1D(filters=4, kernel_size=7, padding = 'same')(x)\n",
        "\n",
        "# Autoencoder.\n",
        "vqvae = Model(input, x)\n",
        "vqvae.compile(loss=loss, optimizer='adam')\n",
        "vqvae.summary()"
      ],
      "execution_count": null,
      "outputs": [
        {
          "output_type": "stream",
          "text": [
            "WARNING:tensorflow:Entity <bound method VQVAELayer.call of <__main__.VQVAELayer object at 0x7f3a5ec37650>> could not be transformed and will be executed as-is. Please report this to the AutoGraph team. When filing the bug, set the verbosity to 10 (on Linux, `export AUTOGRAPH_VERBOSITY=10`) and attach the full output. Cause: Bad argument number for Name: 3, expecting 4\n",
            "WARNING: Entity <bound method VQVAELayer.call of <__main__.VQVAELayer object at 0x7f3a5ec37650>> could not be transformed and will be executed as-is. Please report this to the AutoGraph team. When filing the bug, set the verbosity to 10 (on Linux, `export AUTOGRAPH_VERBOSITY=10`) and attach the full output. Cause: Bad argument number for Name: 3, expecting 4\n",
            "Model: \"model_6\"\n",
            "_________________________________________________________________\n",
            "Layer (type)                 Output Shape              Param #   \n",
            "=================================================================\n",
            "input_7 (InputLayer)         [(None, 256, 4)]          0         \n",
            "_________________________________________________________________\n",
            "conv1d_30 (Conv1D)           (None, 128, 32)           928       \n",
            "_________________________________________________________________\n",
            "dropout_13 (Dropout)         (None, 128, 32)           0         \n",
            "_________________________________________________________________\n",
            "pre_vqvae (Conv1D)           (None, 128, 32)           1056      \n",
            "_________________________________________________________________\n",
            "vqvae (VQVAELayer)           (None, 128, 32)           2048      \n",
            "_________________________________________________________________\n",
            "encoded (Lambda)             (None, 128, 32)           0         \n",
            "_________________________________________________________________\n",
            "conv1d_32 (Conv1D)           (None, 64, 16)            3600      \n",
            "_________________________________________________________________\n",
            "up_sampling1d_12 (UpSampling (None, 128, 16)           0         \n",
            "_________________________________________________________________\n",
            "dropout_14 (Dropout)         (None, 128, 16)           0         \n",
            "_________________________________________________________________\n",
            "conv1d_33 (Conv1D)           (None, 128, 32)           3616      \n",
            "_________________________________________________________________\n",
            "up_sampling1d_13 (UpSampling (None, 256, 32)           0         \n",
            "_________________________________________________________________\n",
            "conv1d_34 (Conv1D)           (None, 256, 4)            900       \n",
            "=================================================================\n",
            "Total params: 12,148\n",
            "Trainable params: 12,148\n",
            "Non-trainable params: 0\n",
            "_________________________________________________________________\n"
          ],
          "name": "stdout"
        }
      ]
    },
    {
      "cell_type": "code",
      "metadata": {
        "colab": {
          "base_uri": "https://localhost:8080/"
        },
        "id": "xo_8g8BsbPKM",
        "outputId": "34b8abca-ee22-4f25-aed7-c29f044c31f9"
      },
      "source": [
        "history = vqvae.fit(x_train_m, x_train_m,\n",
        "                    batch_size=batch_size, epochs=epochs,\n",
        "                    validation_split=validation_split,\n",
        "                    callbacks=[esc])"
      ],
      "execution_count": null,
      "outputs": [
        {
          "output_type": "stream",
          "text": [
            "Train on 13788 samples, validate on 1533 samples\n",
            "Epoch 1/150\n",
            "13788/13788 [==============================] - 4s 314us/sample - loss: 25858.9986 - val_loss: 586.9316\n",
            "Epoch 2/150\n",
            "13788/13788 [==============================] - 3s 190us/sample - loss: 440.7206 - val_loss: 152.5172\n",
            "Epoch 3/150\n",
            "13788/13788 [==============================] - 3s 192us/sample - loss: 147.9121 - val_loss: 70.9511\n",
            "Epoch 4/150\n",
            "13788/13788 [==============================] - 3s 193us/sample - loss: 76.0114 - val_loss: 42.5402\n",
            "Epoch 5/150\n",
            "13788/13788 [==============================] - 3s 193us/sample - loss: 48.5767 - val_loss: 28.7894\n",
            "Epoch 6/150\n",
            "13788/13788 [==============================] - 3s 194us/sample - loss: 35.2750 - val_loss: 22.3349\n",
            "Epoch 7/150\n",
            "13788/13788 [==============================] - 3s 193us/sample - loss: 27.7393 - val_loss: 17.7652\n",
            "Epoch 8/150\n",
            "13788/13788 [==============================] - 3s 193us/sample - loss: 22.0579 - val_loss: 14.3180\n",
            "Epoch 9/150\n",
            "13788/13788 [==============================] - 3s 196us/sample - loss: 16.9831 - val_loss: 9.9677\n",
            "Epoch 10/150\n",
            "13788/13788 [==============================] - 3s 194us/sample - loss: 13.2133 - val_loss: 8.1823\n",
            "Epoch 11/150\n",
            "13788/13788 [==============================] - 3s 195us/sample - loss: 10.7754 - val_loss: 7.2789\n",
            "Epoch 12/150\n",
            "13788/13788 [==============================] - 3s 196us/sample - loss: 8.8675 - val_loss: 6.3795\n",
            "Epoch 13/150\n",
            "13788/13788 [==============================] - 3s 195us/sample - loss: 7.5483 - val_loss: 5.4092\n",
            "Epoch 14/150\n",
            "13788/13788 [==============================] - 3s 194us/sample - loss: 6.3103 - val_loss: 4.8086\n",
            "Epoch 15/150\n",
            "13788/13788 [==============================] - 3s 196us/sample - loss: 5.3397 - val_loss: 3.9723\n",
            "Epoch 16/150\n",
            "13788/13788 [==============================] - 3s 194us/sample - loss: 4.4797 - val_loss: 3.4492\n",
            "Epoch 17/150\n",
            "13788/13788 [==============================] - 3s 191us/sample - loss: 3.8032 - val_loss: 3.1281\n",
            "Epoch 18/150\n",
            "13788/13788 [==============================] - 3s 194us/sample - loss: 3.2701 - val_loss: 2.7188\n",
            "Epoch 19/150\n",
            "13788/13788 [==============================] - 3s 192us/sample - loss: 2.7337 - val_loss: 2.3194\n",
            "Epoch 20/150\n",
            "13788/13788 [==============================] - 3s 191us/sample - loss: 2.3926 - val_loss: 2.1748\n",
            "Epoch 21/150\n",
            "13788/13788 [==============================] - 3s 188us/sample - loss: 2.0493 - val_loss: 1.8228\n",
            "Epoch 22/150\n",
            "13788/13788 [==============================] - 3s 190us/sample - loss: 1.9309 - val_loss: 2.1054\n",
            "Epoch 23/150\n",
            "13788/13788 [==============================] - 3s 194us/sample - loss: 1.8723 - val_loss: 1.6964\n",
            "Epoch 24/150\n",
            "13788/13788 [==============================] - 3s 194us/sample - loss: 1.5850 - val_loss: 1.5337\n",
            "Epoch 25/150\n",
            "13788/13788 [==============================] - 3s 192us/sample - loss: 1.4375 - val_loss: 1.3946\n",
            "Epoch 26/150\n",
            "13788/13788 [==============================] - 3s 192us/sample - loss: 1.2634 - val_loss: 1.2170\n",
            "Epoch 27/150\n",
            "13788/13788 [==============================] - 3s 194us/sample - loss: 1.1534 - val_loss: 1.1069\n",
            "Epoch 28/150\n",
            "13788/13788 [==============================] - 3s 195us/sample - loss: 1.0533 - val_loss: 1.0116\n",
            "Epoch 29/150\n",
            "13788/13788 [==============================] - 3s 192us/sample - loss: 0.8674 - val_loss: 0.8293\n",
            "Epoch 30/150\n",
            "13788/13788 [==============================] - 3s 191us/sample - loss: 0.7912 - val_loss: 0.8735\n",
            "Epoch 31/150\n",
            "13788/13788 [==============================] - 3s 194us/sample - loss: 0.8141 - val_loss: 0.7453\n",
            "Epoch 32/150\n",
            "13788/13788 [==============================] - 3s 194us/sample - loss: 0.7212 - val_loss: 0.6614\n",
            "Epoch 33/150\n",
            "13788/13788 [==============================] - 3s 195us/sample - loss: 0.6572 - val_loss: 0.6387\n",
            "Epoch 34/150\n",
            "13788/13788 [==============================] - 3s 191us/sample - loss: 0.6184 - val_loss: 0.5986\n",
            "Epoch 35/150\n",
            "13788/13788 [==============================] - 3s 193us/sample - loss: 0.5951 - val_loss: 0.5835\n",
            "Epoch 36/150\n",
            "13788/13788 [==============================] - 3s 198us/sample - loss: 0.5511 - val_loss: 0.5485\n",
            "Epoch 37/150\n",
            "13788/13788 [==============================] - 3s 192us/sample - loss: 0.5222 - val_loss: 0.5521\n",
            "Epoch 38/150\n",
            "13788/13788 [==============================] - 3s 194us/sample - loss: 0.5168 - val_loss: 0.5286\n",
            "Epoch 39/150\n",
            "13788/13788 [==============================] - 3s 193us/sample - loss: 0.4911 - val_loss: 0.5510\n",
            "Epoch 40/150\n",
            "13788/13788 [==============================] - 3s 194us/sample - loss: 0.4783 - val_loss: 0.5496\n",
            "Epoch 41/150\n",
            "13788/13788 [==============================] - 3s 194us/sample - loss: 0.4574 - val_loss: 0.5221\n",
            "Epoch 42/150\n",
            "13788/13788 [==============================] - 3s 194us/sample - loss: 0.4458 - val_loss: 0.5083\n",
            "Epoch 43/150\n",
            "13788/13788 [==============================] - 3s 193us/sample - loss: 0.4272 - val_loss: 0.4861\n",
            "Epoch 44/150\n",
            "13788/13788 [==============================] - 3s 193us/sample - loss: 0.4237 - val_loss: 0.4661\n",
            "Epoch 45/150\n",
            "13788/13788 [==============================] - 3s 193us/sample - loss: 0.4133 - val_loss: 0.4687\n",
            "Epoch 46/150\n",
            "13788/13788 [==============================] - 3s 196us/sample - loss: 0.4082 - val_loss: 0.4548\n",
            "Epoch 47/150\n",
            "13788/13788 [==============================] - 3s 194us/sample - loss: 0.3984 - val_loss: 0.4423\n",
            "Epoch 48/150\n",
            "13788/13788 [==============================] - 3s 193us/sample - loss: 0.3934 - val_loss: 0.4316\n",
            "Epoch 49/150\n",
            "13788/13788 [==============================] - 3s 192us/sample - loss: 0.3942 - val_loss: 0.4333\n",
            "Epoch 50/150\n",
            "13788/13788 [==============================] - 3s 193us/sample - loss: 0.3892 - val_loss: 0.4174\n",
            "Epoch 51/150\n",
            "13788/13788 [==============================] - 3s 195us/sample - loss: 0.3865 - val_loss: 0.4101\n",
            "Epoch 52/150\n",
            "13788/13788 [==============================] - 3s 195us/sample - loss: 0.5192 - val_loss: 0.2752\n",
            "Epoch 53/150\n",
            "13788/13788 [==============================] - 3s 193us/sample - loss: 1.0943 - val_loss: 0.4310\n",
            "Epoch 54/150\n",
            "13788/13788 [==============================] - 3s 193us/sample - loss: 0.3899 - val_loss: 0.4027\n",
            "Epoch 55/150\n",
            "13788/13788 [==============================] - 3s 195us/sample - loss: 0.3757 - val_loss: 0.4105\n",
            "Epoch 56/150\n",
            "13788/13788 [==============================] - 3s 193us/sample - loss: 0.3846 - val_loss: 0.3943\n",
            "Epoch 57/150\n",
            "13788/13788 [==============================] - 3s 221us/sample - loss: 0.3691 - val_loss: 0.3852\n"
          ],
          "name": "stdout"
        }
      ]
    },
    {
      "cell_type": "code",
      "metadata": {
        "id": "E7YSoXz_SZB4"
      },
      "source": [
        "#2min35s"
      ],
      "execution_count": null,
      "outputs": []
    },
    {
      "cell_type": "code",
      "metadata": {
        "colab": {
          "base_uri": "https://localhost:8080/"
        },
        "id": "C_e9tEzTdPt4",
        "outputId": "6cbab8fb-f194-4438-f781-650431aebe12"
      },
      "source": [
        "# Get train MAE loss.\n",
        "x_train_pred_m = vqvae.predict(x_train_m)\n",
        "x_train_pred_m.shape"
      ],
      "execution_count": null,
      "outputs": [
        {
          "output_type": "execute_result",
          "data": {
            "text/plain": [
              "(15321, 256, 4)"
            ]
          },
          "metadata": {
            "tags": []
          },
          "execution_count": 82
        }
      ]
    },
    {
      "cell_type": "code",
      "metadata": {
        "id": "sFAhty-Koo_H"
      },
      "source": [
        "original = []\n",
        "for item in x_train_m:\n",
        "  #print(item[0])\n",
        "  original.append(item[0])"
      ],
      "execution_count": null,
      "outputs": []
    },
    {
      "cell_type": "code",
      "metadata": {
        "id": "4Cdbu6fgr0kZ"
      },
      "source": [
        "predicted = []\n",
        "for item in x_train_pred_m:\n",
        "  #print(item[0])\n",
        "  predicted.append(item[0])"
      ],
      "execution_count": null,
      "outputs": []
    },
    {
      "cell_type": "code",
      "metadata": {
        "id": "Sfg2vu3ot-Bh"
      },
      "source": [
        "df_original = pd.DataFrame(original)\n",
        "df_pred = pd.DataFrame(predicted)"
      ],
      "execution_count": null,
      "outputs": []
    },
    {
      "cell_type": "code",
      "metadata": {
        "colab": {
          "base_uri": "https://localhost:8080/"
        },
        "id": "HJeE9P13t-E0",
        "outputId": "ee25808e-293a-4d8a-e6c2-0a42b10b5a89"
      },
      "source": [
        "original_mean = df_original.mean(axis = 0)\n",
        "original_mean"
      ],
      "execution_count": null,
      "outputs": [
        {
          "output_type": "execute_result",
          "data": {
            "text/plain": [
              "0     276.948124\n",
              "1       0.158941\n",
              "2      54.046081\n",
              "3    3249.415965\n",
              "dtype: float64"
            ]
          },
          "metadata": {
            "tags": []
          },
          "execution_count": 86
        }
      ]
    },
    {
      "cell_type": "code",
      "metadata": {
        "colab": {
          "base_uri": "https://localhost:8080/"
        },
        "id": "LCK61hrut-Hb",
        "outputId": "fe00314c-9027-45c0-f16b-5957ff373c43"
      },
      "source": [
        "difference = df_original - df_pred\n",
        "difference_mean = np.abs(difference.mean(axis = 0))\n",
        "difference_mean"
      ],
      "execution_count": null,
      "outputs": [
        {
          "output_type": "execute_result",
          "data": {
            "text/plain": [
              "0    145.412949\n",
              "1      1.323552\n",
              "2     21.742738\n",
              "3    684.730466\n",
              "dtype: float64"
            ]
          },
          "metadata": {
            "tags": []
          },
          "execution_count": 87
        }
      ]
    },
    {
      "cell_type": "code",
      "metadata": {
        "colab": {
          "base_uri": "https://localhost:8080/",
          "height": 283
        },
        "id": "wIdcEXel_Tc6",
        "outputId": "775da7c4-6d2c-405a-ed50-6d151c721a29"
      },
      "source": [
        "df_pred.iloc[:,1].plot()"
      ],
      "execution_count": null,
      "outputs": [
        {
          "output_type": "execute_result",
          "data": {
            "text/plain": [
              "<matplotlib.axes._subplots.AxesSubplot at 0x7f3a5e821650>"
            ]
          },
          "metadata": {
            "tags": []
          },
          "execution_count": 88
        },
        {
          "output_type": "display_data",
          "data": {
            "image/png": "[encoded data removed]",
            "text/plain": [
              "<Figure size 432x288 with 1 Axes>"
            ]
          },
          "metadata": {
            "tags": [],
            "needs_background": "light"
          }
        }
      ]
    },
    {
      "cell_type": "code",
      "metadata": {
        "colab": {
          "base_uri": "https://localhost:8080/",
          "height": 283
        },
        "id": "x-QJWOYB_3Q_",
        "outputId": "78855ee2-706a-4317-bde4-746f1a3b5b8d"
      },
      "source": [
        "df_original.iloc[:,1].plot()"
      ],
      "execution_count": null,
      "outputs": [
        {
          "output_type": "execute_result",
          "data": {
            "text/plain": [
              "<matplotlib.axes._subplots.AxesSubplot at 0x7f3a5e7e0a50>"
            ]
          },
          "metadata": {
            "tags": []
          },
          "execution_count": 89
        },
        {
          "output_type": "display_data",
          "data": {
            "image/png": "[encoded data removed]",
            "text/plain": [
              "<Figure size 432x288 with 1 Axes>"
            ]
          },
          "metadata": {
            "tags": [],
            "needs_background": "light"
          }
        }
      ]
    },
    {
      "cell_type": "code",
      "metadata": {
        "colab": {
          "base_uri": "https://localhost:8080/"
        },
        "id": "DEX2fxHIveOU",
        "outputId": "11f88f39-7e66-47b7-bbf2-448316f1e546"
      },
      "source": [
        "difference_mean/original_mean"
      ],
      "execution_count": null,
      "outputs": [
        {
          "output_type": "execute_result",
          "data": {
            "text/plain": [
              "0    0.525055\n",
              "1    8.327303\n",
              "2    0.402300\n",
              "3    0.210724\n",
              "dtype: float64"
            ]
          },
          "metadata": {
            "tags": []
          },
          "execution_count": 90
        }
      ]
    },
    {
      "cell_type": "markdown",
      "metadata": {
        "id": "vzGw1dCoBC9o"
      },
      "source": [
        "##### 2nd"
      ]
    },
    {
      "cell_type": "code",
      "metadata": {
        "id": "2b96u3p5A0SL"
      },
      "source": [
        "# Hyper Parameters.\n",
        "epochs = 150 # MAX\n",
        "batch_size = 64\n",
        "validation_split = 0.1\n",
        "\n",
        "# VQ-VAE Hyper Parameters.\n",
        "embedding_dim = 32 # Length of embedding vectors.\n",
        "num_embeddings = 32 # Number of embedding vectors (high value = high bottleneck capacity).\n",
        "commitment_cost = 0.25 # Controls the weighting of the loss terms.\n",
        "\n",
        "# EarlyStoppingCallback.\n",
        "esc = keras.callbacks.EarlyStopping(monitor='val_loss', min_delta=1e-4,\n",
        "                                    patience=5, verbose=0, mode='auto',\n",
        "                                    baseline=None, restore_best_weights=True)"
      ],
      "execution_count": null,
      "outputs": []
    },
    {
      "cell_type": "code",
      "metadata": {
        "colab": {
          "base_uri": "https://localhost:8080/"
        },
        "id": "bnkzES-jBpJB",
        "outputId": "f4384ca8-9456-45ac-b3a5-d0a5b7049b51"
      },
      "source": [
        "# Encoder\n",
        "input = Input(shape=(x_train_m.shape[1], x_train_m.shape[2]))\n",
        "x = Conv1D(filters=32, kernel_size=7,  strides=2,padding=\"same\", activation=\"relu\")(input)\n",
        "x = Dropout(rate=0.2)(x)\n",
        "encoder_output = Conv1D(filters=16, kernel_size=7, padding=\"same\", strides=2, activation=\"relu\")(x)\n",
        "\n",
        "# VQVAELayer.\n",
        "enc = Conv1D(embedding_dim, kernel_size=1, strides=1, name=\"pre_vqvae\")(x)\n",
        "enc_inputs = enc\n",
        "enc = VQVAELayer(embedding_dim, num_embeddings, commitment_cost, name=\"vqvae\")(enc)\n",
        "x = Lambda(lambda enc: enc_inputs + K.stop_gradient(enc - enc_inputs), name=\"encoded\")(enc)\n",
        "data_variance = np.var(x_train_m)\n",
        "loss = vq_vae_loss_wrapper(data_variance, commitment_cost, enc, enc_inputs)\n",
        "\n",
        "# Decoder.\n",
        "x = Conv1D(filters=16, kernel_size=7, strides=2, padding = 'same')(x)\n",
        "x = UpSampling1D(size = 2)(x)\n",
        "x = Dropout(rate=0.2)(x)\n",
        "x = Conv1D(filters=32, kernel_size=7,  strides=1, padding = 'same')(x)\n",
        "x = UpSampling1D(size = 2)(x)\n",
        "x = Conv1D(filters=4, kernel_size=7, padding = 'same')(x)\n",
        "\n",
        "# Autoencoder.\n",
        "vqvae = Model(input, x)\n",
        "vqvae.compile(loss=loss, optimizer='adam')\n",
        "vqvae.summary()"
      ],
      "execution_count": null,
      "outputs": [
        {
          "output_type": "stream",
          "text": [
            "WARNING:tensorflow:Entity <bound method VQVAELayer.call of <__main__.VQVAELayer object at 0x7f3a5e62da90>> could not be transformed and will be executed as-is. Please report this to the AutoGraph team. When filing the bug, set the verbosity to 10 (on Linux, `export AUTOGRAPH_VERBOSITY=10`) and attach the full output. Cause: Bad argument number for Name: 3, expecting 4\n",
            "WARNING: Entity <bound method VQVAELayer.call of <__main__.VQVAELayer object at 0x7f3a5e62da90>> could not be transformed and will be executed as-is. Please report this to the AutoGraph team. When filing the bug, set the verbosity to 10 (on Linux, `export AUTOGRAPH_VERBOSITY=10`) and attach the full output. Cause: Bad argument number for Name: 3, expecting 4\n",
            "Model: \"model_7\"\n",
            "_________________________________________________________________\n",
            "Layer (type)                 Output Shape              Param #   \n",
            "=================================================================\n",
            "input_8 (InputLayer)         [(None, 256, 4)]          0         \n",
            "_________________________________________________________________\n",
            "conv1d_35 (Conv1D)           (None, 128, 32)           928       \n",
            "_________________________________________________________________\n",
            "dropout_15 (Dropout)         (None, 128, 32)           0         \n",
            "_________________________________________________________________\n",
            "pre_vqvae (Conv1D)           (None, 128, 32)           1056      \n",
            "_________________________________________________________________\n",
            "vqvae (VQVAELayer)           (None, 128, 32)           1024      \n",
            "_________________________________________________________________\n",
            "encoded (Lambda)             (None, 128, 32)           0         \n",
            "_________________________________________________________________\n",
            "conv1d_37 (Conv1D)           (None, 64, 16)            3600      \n",
            "_________________________________________________________________\n",
            "up_sampling1d_14 (UpSampling (None, 128, 16)           0         \n",
            "_________________________________________________________________\n",
            "dropout_16 (Dropout)         (None, 128, 16)           0         \n",
            "_________________________________________________________________\n",
            "conv1d_38 (Conv1D)           (None, 128, 32)           3616      \n",
            "_________________________________________________________________\n",
            "up_sampling1d_15 (UpSampling (None, 256, 32)           0         \n",
            "_________________________________________________________________\n",
            "conv1d_39 (Conv1D)           (None, 256, 4)            900       \n",
            "=================================================================\n",
            "Total params: 11,124\n",
            "Trainable params: 11,124\n",
            "Non-trainable params: 0\n",
            "_________________________________________________________________\n"
          ],
          "name": "stdout"
        }
      ]
    },
    {
      "cell_type": "code",
      "metadata": {
        "colab": {
          "base_uri": "https://localhost:8080/"
        },
        "id": "T3ZaQhNUBw6V",
        "outputId": "b6dfd592-37e6-4061-8ab5-e427b288883e"
      },
      "source": [
        "history = vqvae.fit(x_train_m, x_train_m,\n",
        "                    batch_size=batch_size, epochs=epochs,\n",
        "                    validation_split=validation_split,\n",
        "                    callbacks=[esc])"
      ],
      "execution_count": null,
      "outputs": [
        {
          "output_type": "stream",
          "text": [
            "Train on 13788 samples, validate on 1533 samples\n",
            "Epoch 1/150\n",
            "13788/13788 [==============================] - 4s 322us/sample - loss: 47299.6553 - val_loss: 954.9926\n",
            "Epoch 2/150\n",
            "13788/13788 [==============================] - 3s 189us/sample - loss: 530.0677 - val_loss: 306.6636\n",
            "Epoch 3/150\n",
            "13788/13788 [==============================] - 3s 190us/sample - loss: 179.1089 - val_loss: 184.2852\n",
            "Epoch 4/150\n",
            "13788/13788 [==============================] - 3s 190us/sample - loss: 107.8777 - val_loss: 114.2586\n",
            "Epoch 5/150\n",
            "13788/13788 [==============================] - 3s 190us/sample - loss: 67.3164 - val_loss: 84.3265\n",
            "Epoch 6/150\n",
            "13788/13788 [==============================] - 3s 191us/sample - loss: 47.2981 - val_loss: 65.0264\n",
            "Epoch 7/150\n",
            "13788/13788 [==============================] - 3s 192us/sample - loss: 34.4935 - val_loss: 51.4044\n",
            "Epoch 8/150\n",
            "13788/13788 [==============================] - 3s 194us/sample - loss: 26.3775 - val_loss: 41.9099\n",
            "Epoch 9/150\n",
            "13788/13788 [==============================] - 3s 195us/sample - loss: 21.1997 - val_loss: 35.5593\n",
            "Epoch 10/150\n",
            "13788/13788 [==============================] - 3s 194us/sample - loss: 17.2444 - val_loss: 29.5368\n",
            "Epoch 11/150\n",
            "13788/13788 [==============================] - 3s 192us/sample - loss: 13.6732 - val_loss: 24.5109\n",
            "Epoch 12/150\n",
            "13788/13788 [==============================] - 3s 191us/sample - loss: 11.0507 - val_loss: 20.5746\n",
            "Epoch 13/150\n",
            "13788/13788 [==============================] - 3s 193us/sample - loss: 9.2324 - val_loss: 17.5274\n",
            "Epoch 14/150\n",
            "13788/13788 [==============================] - 3s 193us/sample - loss: 7.9075 - val_loss: 15.0176\n",
            "Epoch 15/150\n",
            "13788/13788 [==============================] - 3s 190us/sample - loss: 6.7684 - val_loss: 13.3237\n",
            "Epoch 16/150\n",
            "13788/13788 [==============================] - 3s 192us/sample - loss: 6.1937 - val_loss: 11.4565\n",
            "Epoch 17/150\n",
            "13788/13788 [==============================] - 3s 192us/sample - loss: 5.0673 - val_loss: 9.4753\n",
            "Epoch 18/150\n",
            "13788/13788 [==============================] - 3s 194us/sample - loss: 4.4453 - val_loss: 8.2726\n",
            "Epoch 19/150\n",
            "13788/13788 [==============================] - 3s 191us/sample - loss: 3.7520 - val_loss: 6.9516\n",
            "Epoch 20/150\n",
            "13788/13788 [==============================] - 3s 190us/sample - loss: 3.3182 - val_loss: 6.0184\n",
            "Epoch 21/150\n",
            "13788/13788 [==============================] - 3s 194us/sample - loss: 2.7699 - val_loss: 5.1285\n",
            "Epoch 22/150\n",
            "13788/13788 [==============================] - 3s 191us/sample - loss: 2.3820 - val_loss: 4.5382\n",
            "Epoch 23/150\n",
            "13788/13788 [==============================] - 3s 191us/sample - loss: 2.2862 - val_loss: 4.0638\n",
            "Epoch 24/150\n",
            "13788/13788 [==============================] - 3s 192us/sample - loss: 2.0845 - val_loss: 4.0228\n",
            "Epoch 25/150\n",
            "13788/13788 [==============================] - 3s 191us/sample - loss: 2.7979 - val_loss: 4.5288\n",
            "Epoch 26/150\n",
            "13788/13788 [==============================] - 3s 194us/sample - loss: 2.4790 - val_loss: 4.4282\n",
            "Epoch 27/150\n",
            "13788/13788 [==============================] - 3s 194us/sample - loss: 2.0888 - val_loss: 3.5672\n",
            "Epoch 28/150\n",
            "13788/13788 [==============================] - 3s 195us/sample - loss: 1.6620 - val_loss: 2.9084\n",
            "Epoch 29/150\n",
            "13788/13788 [==============================] - 3s 194us/sample - loss: 1.4478 - val_loss: 2.7653\n",
            "Epoch 30/150\n",
            "13788/13788 [==============================] - 3s 195us/sample - loss: 1.2931 - val_loss: 2.5600\n",
            "Epoch 31/150\n",
            "13788/13788 [==============================] - 3s 193us/sample - loss: 1.1642 - val_loss: 2.3453\n",
            "Epoch 32/150\n",
            "13788/13788 [==============================] - 3s 194us/sample - loss: 1.0568 - val_loss: 2.0413\n",
            "Epoch 33/150\n",
            "13788/13788 [==============================] - 3s 191us/sample - loss: 0.9410 - val_loss: 1.8851\n",
            "Epoch 34/150\n",
            "13788/13788 [==============================] - 3s 194us/sample - loss: 0.8459 - val_loss: 1.7403\n",
            "Epoch 35/150\n",
            "13788/13788 [==============================] - 3s 193us/sample - loss: 0.7786 - val_loss: 1.6517\n",
            "Epoch 36/150\n",
            "13788/13788 [==============================] - 3s 193us/sample - loss: 0.7127 - val_loss: 1.5560\n",
            "Epoch 37/150\n",
            "13788/13788 [==============================] - 3s 191us/sample - loss: 0.6597 - val_loss: 1.4160\n",
            "Epoch 38/150\n",
            "13788/13788 [==============================] - 3s 194us/sample - loss: 0.6186 - val_loss: 1.3727\n",
            "Epoch 39/150\n",
            "13788/13788 [==============================] - 3s 193us/sample - loss: 0.5802 - val_loss: 1.2461\n",
            "Epoch 40/150\n",
            "13788/13788 [==============================] - 3s 192us/sample - loss: 0.5455 - val_loss: 1.1829\n",
            "Epoch 41/150\n",
            "13788/13788 [==============================] - 3s 192us/sample - loss: 0.5297 - val_loss: 1.1104\n",
            "Epoch 42/150\n",
            "13788/13788 [==============================] - 3s 193us/sample - loss: 0.4971 - val_loss: 1.0411\n",
            "Epoch 43/150\n",
            "13788/13788 [==============================] - 3s 191us/sample - loss: 0.4875 - val_loss: 0.9863\n",
            "Epoch 44/150\n",
            "13788/13788 [==============================] - 3s 194us/sample - loss: 0.4618 - val_loss: 0.9348\n",
            "Epoch 45/150\n",
            "13788/13788 [==============================] - 3s 191us/sample - loss: 0.6551 - val_loss: 0.8956\n",
            "Epoch 46/150\n",
            "13788/13788 [==============================] - 3s 193us/sample - loss: 0.4860 - val_loss: 0.8643\n",
            "Epoch 47/150\n",
            "13788/13788 [==============================] - 3s 193us/sample - loss: 0.4379 - val_loss: 0.8145\n",
            "Epoch 48/150\n",
            "13788/13788 [==============================] - 3s 193us/sample - loss: 0.4204 - val_loss: 0.7784\n",
            "Epoch 49/150\n",
            "13788/13788 [==============================] - 3s 191us/sample - loss: 0.4139 - val_loss: 0.7520\n",
            "Epoch 50/150\n",
            "13788/13788 [==============================] - 3s 193us/sample - loss: 0.4098 - val_loss: 0.7266\n",
            "Epoch 51/150\n",
            "13788/13788 [==============================] - 3s 191us/sample - loss: 0.4052 - val_loss: 0.6989\n",
            "Epoch 52/150\n",
            "13788/13788 [==============================] - 3s 194us/sample - loss: 0.4004 - val_loss: 0.6767\n",
            "Epoch 53/150\n",
            "13788/13788 [==============================] - 3s 193us/sample - loss: 0.4079 - val_loss: 0.6477\n",
            "Epoch 54/150\n",
            "13788/13788 [==============================] - 3s 192us/sample - loss: 0.3851 - val_loss: 0.6280\n",
            "Epoch 55/150\n",
            "13788/13788 [==============================] - 3s 195us/sample - loss: 0.3811 - val_loss: 0.6035\n",
            "Epoch 56/150\n",
            "13788/13788 [==============================] - 3s 190us/sample - loss: 0.3782 - val_loss: 0.5894\n",
            "Epoch 57/150\n",
            "13788/13788 [==============================] - 3s 191us/sample - loss: 0.3750 - val_loss: 0.5710\n",
            "Epoch 58/150\n",
            "13788/13788 [==============================] - 3s 193us/sample - loss: 0.3729 - val_loss: 0.5518\n",
            "Epoch 59/150\n",
            "13788/13788 [==============================] - 3s 193us/sample - loss: 0.3714 - val_loss: 0.5314\n",
            "Epoch 60/150\n",
            "13788/13788 [==============================] - 3s 191us/sample - loss: 0.3699 - val_loss: 0.5213\n",
            "Epoch 61/150\n",
            "13788/13788 [==============================] - 3s 195us/sample - loss: 0.4112 - val_loss: 0.5089\n",
            "Epoch 62/150\n",
            "13788/13788 [==============================] - 3s 192us/sample - loss: 0.3646 - val_loss: 0.4950\n",
            "Epoch 63/150\n",
            "13788/13788 [==============================] - 3s 194us/sample - loss: 0.3609 - val_loss: 0.4808\n",
            "Epoch 64/150\n",
            "13788/13788 [==============================] - 3s 193us/sample - loss: 0.4265 - val_loss: 0.2981\n",
            "Epoch 65/150\n",
            "13788/13788 [==============================] - 3s 194us/sample - loss: 0.2157 - val_loss: 0.3303\n",
            "Epoch 66/150\n",
            "13788/13788 [==============================] - 3s 195us/sample - loss: 0.3245 - val_loss: 0.4563\n",
            "Epoch 67/150\n",
            "13788/13788 [==============================] - 3s 191us/sample - loss: 0.3653 - val_loss: 0.4521\n",
            "Epoch 68/150\n",
            "13788/13788 [==============================] - 3s 193us/sample - loss: 0.3593 - val_loss: 0.4444\n",
            "Epoch 69/150\n",
            "13788/13788 [==============================] - 3s 215us/sample - loss: 0.3575 - val_loss: 0.4424\n"
          ],
          "name": "stdout"
        }
      ]
    },
    {
      "cell_type": "code",
      "metadata": {
        "id": "F_4yn5qtThMj"
      },
      "source": [
        "#2min2s"
      ],
      "execution_count": null,
      "outputs": []
    },
    {
      "cell_type": "code",
      "metadata": {
        "colab": {
          "base_uri": "https://localhost:8080/"
        },
        "id": "GVdkKvq2Bw9Z",
        "outputId": "2335187c-1611-4ea0-fed7-7d83e591ac7b"
      },
      "source": [
        "# Get train MAE loss.\n",
        "x_train_pred_m = vqvae.predict(x_train_m)\n",
        "x_train_pred_m.shape"
      ],
      "execution_count": null,
      "outputs": [
        {
          "output_type": "execute_result",
          "data": {
            "text/plain": [
              "(15321, 256, 4)"
            ]
          },
          "metadata": {
            "tags": []
          },
          "execution_count": 100
        }
      ]
    },
    {
      "cell_type": "code",
      "metadata": {
        "id": "aRzXFeHVBxCt"
      },
      "source": [
        "original = []\n",
        "for item in x_train_m:\n",
        "  #print(item[0])\n",
        "  original.append(item[0])\n",
        "predicted = []\n",
        "for item in x_train_pred_m:\n",
        "  #print(item[0])\n",
        "  predicted.append(item[0])"
      ],
      "execution_count": null,
      "outputs": []
    },
    {
      "cell_type": "code",
      "metadata": {
        "id": "7wLeDC-qCNX-"
      },
      "source": [
        "df_original = pd.DataFrame(original)\n",
        "df_pred = pd.DataFrame(predicted)\n",
        "original_mean = df_original.mean(axis = 0)\n",
        "difference = df_original - df_pred\n",
        "difference_mean = np.abs(difference.mean(axis = 0))"
      ],
      "execution_count": null,
      "outputs": []
    },
    {
      "cell_type": "code",
      "metadata": {
        "colab": {
          "base_uri": "https://localhost:8080/",
          "height": 283
        },
        "id": "D2XGQBu4ECiK",
        "outputId": "ded2dcd5-5617-4b25-89d2-204ff55e44e4"
      },
      "source": [
        "df_pred.iloc[:,1].plot()"
      ],
      "execution_count": null,
      "outputs": [
        {
          "output_type": "execute_result",
          "data": {
            "text/plain": [
              "<matplotlib.axes._subplots.AxesSubplot at 0x7f3a5e0c4e50>"
            ]
          },
          "metadata": {
            "tags": []
          },
          "execution_count": 103
        },
        {
          "output_type": "display_data",
          "data": {
            "image/png": "[encoded data removed]",
            "text/plain": [
              "<Figure size 432x288 with 1 Axes>"
            ]
          },
          "metadata": {
            "tags": [],
            "needs_background": "light"
          }
        }
      ]
    },
    {
      "cell_type": "code",
      "metadata": {
        "colab": {
          "base_uri": "https://localhost:8080/",
          "height": 283
        },
        "id": "La_MynF5ECln",
        "outputId": "7a02b9cb-fa6e-4d59-fdc3-c86656b284ff"
      },
      "source": [
        "df_original.iloc[:,1].plot()"
      ],
      "execution_count": null,
      "outputs": [
        {
          "output_type": "execute_result",
          "data": {
            "text/plain": [
              "<matplotlib.axes._subplots.AxesSubplot at 0x7f3a5dfa3c90>"
            ]
          },
          "metadata": {
            "tags": []
          },
          "execution_count": 104
        },
        {
          "output_type": "display_data",
          "data": {
            "image/png": "[encoded data removed]",
            "text/plain": [
              "<Figure size 432x288 with 1 Axes>"
            ]
          },
          "metadata": {
            "tags": [],
            "needs_background": "light"
          }
        }
      ]
    },
    {
      "cell_type": "code",
      "metadata": {
        "colab": {
          "base_uri": "https://localhost:8080/"
        },
        "id": "5pcNVFsqECo_",
        "outputId": "808da838-b122-4782-c408-dc320e523e78"
      },
      "source": [
        "difference_mean/original_mean"
      ],
      "execution_count": null,
      "outputs": [
        {
          "output_type": "execute_result",
          "data": {
            "text/plain": [
              "0    0.313973\n",
              "1    0.731994\n",
              "2    0.216140\n",
              "3    0.366688\n",
              "dtype: float64"
            ]
          },
          "metadata": {
            "tags": []
          },
          "execution_count": 105
        }
      ]
    },
    {
      "cell_type": "markdown",
      "metadata": {
        "id": "BiRbBPTfFIG-"
      },
      "source": [
        "##### 3rd"
      ]
    },
    {
      "cell_type": "code",
      "metadata": {
        "id": "sD3cdx3LE6xB"
      },
      "source": [
        "# Hyper Parameters.\n",
        "epochs = 150 # MAX\n",
        "batch_size = 64\n",
        "validation_split = 0.1\n",
        "\n",
        "# VQ-VAE Hyper Parameters.\n",
        "embedding_dim = 32 # Length of embedding vectors.\n",
        "num_embeddings = 16 # Number of embedding vectors (high value = high bottleneck capacity).\n",
        "commitment_cost = 0.25 # Controls the weighting of the loss terms.\n",
        "\n",
        "# EarlyStoppingCallback.\n",
        "esc = keras.callbacks.EarlyStopping(monitor='val_loss', min_delta=1e-4,\n",
        "                                    patience=5, verbose=0, mode='auto',\n",
        "                                    baseline=None, restore_best_weights=True)"
      ],
      "execution_count": null,
      "outputs": []
    },
    {
      "cell_type": "code",
      "metadata": {
        "colab": {
          "base_uri": "https://localhost:8080/"
        },
        "id": "8QX5kvn8E62F",
        "outputId": "2207be26-9c74-44c6-fa07-3d902c98e2f8"
      },
      "source": [
        "# Encoder\n",
        "input = Input(shape=(x_train_m.shape[1], x_train_m.shape[2]))\n",
        "x = Conv1D(filters=32, kernel_size=7,  strides=2,padding=\"same\", activation=\"relu\")(input)\n",
        "x = Dropout(rate=0.2)(x)\n",
        "encoder_output = Conv1D(filters=16, kernel_size=7, padding=\"same\", strides=2, activation=\"relu\")(x)\n",
        "\n",
        "# VQVAELayer.\n",
        "enc = Conv1D(embedding_dim, kernel_size=1, strides=1, name=\"pre_vqvae\")(x)\n",
        "enc_inputs = enc\n",
        "enc = VQVAELayer(embedding_dim, num_embeddings, commitment_cost, name=\"vqvae\")(enc)\n",
        "x = Lambda(lambda enc: enc_inputs + K.stop_gradient(enc - enc_inputs), name=\"encoded\")(enc)\n",
        "data_variance = np.var(x_train_m)\n",
        "loss = vq_vae_loss_wrapper(data_variance, commitment_cost, enc, enc_inputs)\n",
        "\n",
        "# Decoder.\n",
        "x = Conv1D(filters=16, kernel_size=7, strides=2, padding = 'same')(x)\n",
        "x = UpSampling1D(size = 2)(x)\n",
        "x = Dropout(rate=0.2)(x)\n",
        "x = Conv1D(filters=32, kernel_size=7,  strides=1, padding = 'same')(x)\n",
        "x = UpSampling1D(size = 2)(x)\n",
        "x = Conv1D(filters=4, kernel_size=7, padding = 'same')(x)\n",
        "\n",
        "# Autoencoder.\n",
        "vqvae = Model(input, x)\n",
        "vqvae.compile(loss=loss, optimizer='adam')\n",
        "vqvae.summary()"
      ],
      "execution_count": null,
      "outputs": [
        {
          "output_type": "stream",
          "text": [
            "WARNING:tensorflow:Entity <bound method VQVAELayer.call of <__main__.VQVAELayer object at 0x7f3a5df91450>> could not be transformed and will be executed as-is. Please report this to the AutoGraph team. When filing the bug, set the verbosity to 10 (on Linux, `export AUTOGRAPH_VERBOSITY=10`) and attach the full output. Cause: Bad argument number for Name: 3, expecting 4\n",
            "WARNING: Entity <bound method VQVAELayer.call of <__main__.VQVAELayer object at 0x7f3a5df91450>> could not be transformed and will be executed as-is. Please report this to the AutoGraph team. When filing the bug, set the verbosity to 10 (on Linux, `export AUTOGRAPH_VERBOSITY=10`) and attach the full output. Cause: Bad argument number for Name: 3, expecting 4\n",
            "Model: \"model_8\"\n",
            "_________________________________________________________________\n",
            "Layer (type)                 Output Shape              Param #   \n",
            "=================================================================\n",
            "input_9 (InputLayer)         [(None, 256, 4)]          0         \n",
            "_________________________________________________________________\n",
            "conv1d_40 (Conv1D)           (None, 128, 32)           928       \n",
            "_________________________________________________________________\n",
            "dropout_17 (Dropout)         (None, 128, 32)           0         \n",
            "_________________________________________________________________\n",
            "pre_vqvae (Conv1D)           (None, 128, 32)           1056      \n",
            "_________________________________________________________________\n",
            "vqvae (VQVAELayer)           (None, 128, 32)           512       \n",
            "_________________________________________________________________\n",
            "encoded (Lambda)             (None, 128, 32)           0         \n",
            "_________________________________________________________________\n",
            "conv1d_42 (Conv1D)           (None, 64, 16)            3600      \n",
            "_________________________________________________________________\n",
            "up_sampling1d_16 (UpSampling (None, 128, 16)           0         \n",
            "_________________________________________________________________\n",
            "dropout_18 (Dropout)         (None, 128, 16)           0         \n",
            "_________________________________________________________________\n",
            "conv1d_43 (Conv1D)           (None, 128, 32)           3616      \n",
            "_________________________________________________________________\n",
            "up_sampling1d_17 (UpSampling (None, 256, 32)           0         \n",
            "_________________________________________________________________\n",
            "conv1d_44 (Conv1D)           (None, 256, 4)            900       \n",
            "=================================================================\n",
            "Total params: 10,612\n",
            "Trainable params: 10,612\n",
            "Non-trainable params: 0\n",
            "_________________________________________________________________\n"
          ],
          "name": "stdout"
        }
      ]
    },
    {
      "cell_type": "code",
      "metadata": {
        "colab": {
          "base_uri": "https://localhost:8080/"
        },
        "id": "o3gourBAHKcn",
        "outputId": "a6f06c33-86be-4132-dd0c-2103f9449fe1"
      },
      "source": [
        "history = vqvae.fit(x_train_m, x_train_m,\n",
        "                    batch_size=batch_size, epochs=epochs,\n",
        "                    validation_split=validation_split,\n",
        "                    callbacks=[esc])"
      ],
      "execution_count": null,
      "outputs": [
        {
          "output_type": "stream",
          "text": [
            "Train on 13788 samples, validate on 1533 samples\n",
            "Epoch 1/150\n",
            "13788/13788 [==============================] - 5s 328us/sample - loss: 38463.5559 - val_loss: 1013.6724\n",
            "Epoch 2/150\n",
            "13788/13788 [==============================] - 3s 184us/sample - loss: 667.2836 - val_loss: 298.9218\n",
            "Epoch 3/150\n",
            "13788/13788 [==============================] - 3s 189us/sample - loss: 230.5855 - val_loss: 154.0008\n",
            "Epoch 4/150\n",
            "13788/13788 [==============================] - 3s 189us/sample - loss: 134.7031 - val_loss: 102.4419\n",
            "Epoch 5/150\n",
            "13788/13788 [==============================] - 3s 192us/sample - loss: 87.8915 - val_loss: 73.2523\n",
            "Epoch 6/150\n",
            "13788/13788 [==============================] - 3s 189us/sample - loss: 63.6619 - val_loss: 55.9267\n",
            "Epoch 7/150\n",
            "13788/13788 [==============================] - 3s 189us/sample - loss: 48.9652 - val_loss: 44.6228\n",
            "Epoch 8/150\n",
            "13788/13788 [==============================] - 3s 188us/sample - loss: 38.7342 - val_loss: 36.1371\n",
            "Epoch 9/150\n",
            "13788/13788 [==============================] - 3s 190us/sample - loss: 30.9861 - val_loss: 30.0396\n",
            "Epoch 10/150\n",
            "13788/13788 [==============================] - 3s 190us/sample - loss: 25.3984 - val_loss: 25.5279\n",
            "Epoch 11/150\n",
            "13788/13788 [==============================] - 3s 189us/sample - loss: 21.2422 - val_loss: 23.6013\n",
            "Epoch 12/150\n",
            "13788/13788 [==============================] - 3s 189us/sample - loss: 31.9902 - val_loss: 24.3215\n",
            "Epoch 13/150\n",
            "13788/13788 [==============================] - 3s 189us/sample - loss: 17.5118 - val_loss: 17.2272\n",
            "Epoch 14/150\n",
            "13788/13788 [==============================] - 3s 188us/sample - loss: 12.9782 - val_loss: 15.1401\n",
            "Epoch 15/150\n",
            "13788/13788 [==============================] - 3s 190us/sample - loss: 10.6395 - val_loss: 12.9013\n",
            "Epoch 16/150\n",
            "13788/13788 [==============================] - 3s 189us/sample - loss: 8.9068 - val_loss: 10.9020\n",
            "Epoch 17/150\n",
            "13788/13788 [==============================] - 3s 189us/sample - loss: 7.2847 - val_loss: 9.5387\n",
            "Epoch 18/150\n",
            "13788/13788 [==============================] - 3s 185us/sample - loss: 6.1383 - val_loss: 8.1763\n",
            "Epoch 19/150\n",
            "13788/13788 [==============================] - 3s 186us/sample - loss: 5.3892 - val_loss: 7.7466\n",
            "Epoch 20/150\n",
            "13788/13788 [==============================] - 3s 185us/sample - loss: 4.7871 - val_loss: 6.6562\n",
            "Epoch 21/150\n",
            "13788/13788 [==============================] - 3s 187us/sample - loss: 3.6454 - val_loss: 5.0052\n",
            "Epoch 22/150\n",
            "13788/13788 [==============================] - 3s 187us/sample - loss: 2.5143 - val_loss: 4.3078\n",
            "Epoch 23/150\n",
            "13788/13788 [==============================] - 3s 188us/sample - loss: 2.1076 - val_loss: 3.8279\n",
            "Epoch 24/150\n",
            "13788/13788 [==============================] - 3s 187us/sample - loss: 1.7955 - val_loss: 3.4015\n",
            "Epoch 25/150\n",
            "13788/13788 [==============================] - 3s 188us/sample - loss: 1.5794 - val_loss: 3.0105\n",
            "Epoch 26/150\n",
            "13788/13788 [==============================] - 3s 187us/sample - loss: 1.3370 - val_loss: 2.6544\n",
            "Epoch 27/150\n",
            "13788/13788 [==============================] - 3s 186us/sample - loss: 1.1449 - val_loss: 2.4080\n",
            "Epoch 28/150\n",
            "13788/13788 [==============================] - 3s 185us/sample - loss: 1.0109 - val_loss: 2.0307\n",
            "Epoch 29/150\n",
            "13788/13788 [==============================] - 3s 187us/sample - loss: 0.8589 - val_loss: 1.7437\n",
            "Epoch 30/150\n",
            "13788/13788 [==============================] - 3s 189us/sample - loss: 0.7503 - val_loss: 1.4951\n",
            "Epoch 31/150\n",
            "13788/13788 [==============================] - 3s 187us/sample - loss: 0.6334 - val_loss: 1.3027\n",
            "Epoch 32/150\n",
            "13788/13788 [==============================] - 3s 186us/sample - loss: 0.5598 - val_loss: 1.1261\n",
            "Epoch 33/150\n",
            "13788/13788 [==============================] - 3s 185us/sample - loss: 0.4826 - val_loss: 0.9681\n",
            "Epoch 34/150\n",
            "13788/13788 [==============================] - 3s 185us/sample - loss: 0.4338 - val_loss: 0.8269\n",
            "Epoch 35/150\n",
            "13788/13788 [==============================] - 3s 188us/sample - loss: 0.3964 - val_loss: 0.7270\n",
            "Epoch 36/150\n",
            "13788/13788 [==============================] - 3s 185us/sample - loss: 0.3582 - val_loss: 0.6248\n",
            "Epoch 37/150\n",
            "13788/13788 [==============================] - 3s 187us/sample - loss: 0.3383 - val_loss: 0.5476\n",
            "Epoch 38/150\n",
            "13788/13788 [==============================] - 3s 188us/sample - loss: 0.3027 - val_loss: 0.4989\n",
            "Epoch 39/150\n",
            "13788/13788 [==============================] - 3s 185us/sample - loss: 0.2753 - val_loss: 0.4479\n",
            "Epoch 40/150\n",
            "13788/13788 [==============================] - 3s 186us/sample - loss: 0.2663 - val_loss: 0.3881\n",
            "Epoch 41/150\n",
            "13788/13788 [==============================] - 3s 184us/sample - loss: 0.2429 - val_loss: 0.3510\n",
            "Epoch 42/150\n",
            "13788/13788 [==============================] - 3s 188us/sample - loss: 0.2316 - val_loss: 0.3206\n",
            "Epoch 43/150\n",
            "13788/13788 [==============================] - 3s 187us/sample - loss: 0.2190 - val_loss: 0.2924\n",
            "Epoch 44/150\n",
            "13788/13788 [==============================] - 3s 184us/sample - loss: 0.2166 - val_loss: 0.2766\n",
            "Epoch 45/150\n",
            "13788/13788 [==============================] - 3s 185us/sample - loss: 0.2093 - val_loss: 0.2526\n",
            "Epoch 46/150\n",
            "13788/13788 [==============================] - 3s 186us/sample - loss: 0.1983 - val_loss: 0.2356\n",
            "Epoch 47/150\n",
            "13788/13788 [==============================] - 3s 187us/sample - loss: 0.2015 - val_loss: 0.2300\n",
            "Epoch 48/150\n",
            "13788/13788 [==============================] - 3s 186us/sample - loss: 0.2185 - val_loss: 0.2473\n",
            "Epoch 49/150\n",
            "13788/13788 [==============================] - 3s 188us/sample - loss: 0.2043 - val_loss: 0.2173\n",
            "Epoch 50/150\n",
            "13788/13788 [==============================] - 3s 188us/sample - loss: 0.1953 - val_loss: 0.1967\n",
            "Epoch 51/150\n",
            "13788/13788 [==============================] - 3s 189us/sample - loss: 0.1812 - val_loss: 0.1931\n",
            "Epoch 52/150\n",
            "13788/13788 [==============================] - 3s 185us/sample - loss: 0.1781 - val_loss: 0.1815\n",
            "Epoch 53/150\n",
            "13788/13788 [==============================] - 3s 186us/sample - loss: 0.1733 - val_loss: 0.1774\n",
            "Epoch 54/150\n",
            "13788/13788 [==============================] - 3s 187us/sample - loss: 0.1735 - val_loss: 0.1710\n",
            "Epoch 55/150\n",
            "13788/13788 [==============================] - 3s 190us/sample - loss: 0.1652 - val_loss: 0.1594\n",
            "Epoch 56/150\n",
            "13788/13788 [==============================] - 3s 187us/sample - loss: 0.1672 - val_loss: 0.1585\n",
            "Epoch 57/150\n",
            "13788/13788 [==============================] - 3s 185us/sample - loss: 0.1648 - val_loss: 0.1543\n",
            "Epoch 58/150\n",
            "13788/13788 [==============================] - 3s 186us/sample - loss: 0.1601 - val_loss: 0.1485\n",
            "Epoch 59/150\n",
            "13788/13788 [==============================] - 3s 191us/sample - loss: 0.1598 - val_loss: 0.1496\n",
            "Epoch 60/150\n",
            "13788/13788 [==============================] - 3s 187us/sample - loss: 0.1576 - val_loss: 0.1421\n",
            "Epoch 61/150\n",
            "13788/13788 [==============================] - 3s 185us/sample - loss: 0.1563 - val_loss: 0.1373\n",
            "Epoch 62/150\n",
            "13788/13788 [==============================] - 3s 187us/sample - loss: 0.1586 - val_loss: 0.1423\n",
            "Epoch 63/150\n",
            "13788/13788 [==============================] - 3s 190us/sample - loss: 0.1565 - val_loss: 0.1267\n",
            "Epoch 64/150\n",
            "13788/13788 [==============================] - 3s 188us/sample - loss: 0.1534 - val_loss: 0.1341\n",
            "Epoch 65/150\n",
            "13788/13788 [==============================] - 3s 188us/sample - loss: 0.1529 - val_loss: 0.1258\n",
            "Epoch 66/150\n",
            "13788/13788 [==============================] - 3s 188us/sample - loss: 0.1535 - val_loss: 0.1243\n",
            "Epoch 67/150\n",
            "13788/13788 [==============================] - 3s 190us/sample - loss: 0.1523 - val_loss: 0.1245\n",
            "Epoch 68/150\n",
            "13788/13788 [==============================] - 3s 187us/sample - loss: 0.1534 - val_loss: 0.1295\n",
            "Epoch 69/150\n",
            "13788/13788 [==============================] - 3s 187us/sample - loss: 0.1547 - val_loss: 0.1261\n",
            "Epoch 70/150\n",
            "13788/13788 [==============================] - 3s 187us/sample - loss: 0.1524 - val_loss: 0.1251\n",
            "Epoch 71/150\n",
            "13788/13788 [==============================] - 3s 187us/sample - loss: 0.1526 - val_loss: 0.1236\n",
            "Epoch 72/150\n",
            "13788/13788 [==============================] - 3s 187us/sample - loss: 0.1508 - val_loss: 0.1266\n",
            "Epoch 73/150\n",
            "13788/13788 [==============================] - 3s 185us/sample - loss: 0.1501 - val_loss: 0.1239\n",
            "Epoch 74/150\n",
            "13788/13788 [==============================] - 3s 187us/sample - loss: 0.1508 - val_loss: 0.1227\n",
            "Epoch 75/150\n",
            "13788/13788 [==============================] - 3s 188us/sample - loss: 0.1507 - val_loss: 0.1191\n",
            "Epoch 76/150\n",
            "13788/13788 [==============================] - 3s 186us/sample - loss: 0.1513 - val_loss: 0.1224\n",
            "Epoch 77/150\n",
            "13788/13788 [==============================] - 3s 186us/sample - loss: 0.1510 - val_loss: 0.1253\n",
            "Epoch 78/150\n",
            "13788/13788 [==============================] - 3s 190us/sample - loss: 0.1501 - val_loss: 0.1243\n",
            "Epoch 79/150\n",
            "13788/13788 [==============================] - 3s 185us/sample - loss: 0.1505 - val_loss: 0.1332\n",
            "Epoch 80/150\n",
            "13788/13788 [==============================] - 3s 222us/sample - loss: 0.1504 - val_loss: 0.1192\n"
          ],
          "name": "stdout"
        }
      ]
    },
    {
      "cell_type": "code",
      "metadata": {
        "id": "eeGnHbmAH8k2"
      },
      "source": [
        "#2m34s"
      ],
      "execution_count": null,
      "outputs": []
    },
    {
      "cell_type": "code",
      "metadata": {
        "id": "va0i4uCiE65k"
      },
      "source": [
        "# Get train MAE loss.\n",
        "x_train_pred_m = vqvae.predict(x_train_m)\n",
        "original = []\n",
        "for item in x_train_m:\n",
        "  #print(item[0])\n",
        "  original.append(item[0])\n",
        "predicted = []\n",
        "for item in x_train_pred_m:\n",
        "  #print(item[0])\n",
        "  predicted.append(item[0])"
      ],
      "execution_count": null,
      "outputs": []
    },
    {
      "cell_type": "code",
      "metadata": {
        "id": "40bTc_nYE69Q"
      },
      "source": [
        "df_original = pd.DataFrame(original)\n",
        "df_pred = pd.DataFrame(predicted)\n",
        "original_mean = df_original.mean(axis = 0)\n",
        "difference = df_original - df_pred\n",
        "difference_mean = np.abs(difference.mean(axis = 0))"
      ],
      "execution_count": null,
      "outputs": []
    },
    {
      "cell_type": "code",
      "metadata": {
        "colab": {
          "base_uri": "https://localhost:8080/",
          "height": 283
        },
        "id": "G75d4l1XE7Au",
        "outputId": "a5a0376c-8583-496c-b87f-42d098490529"
      },
      "source": [
        "df_pred.iloc[:,1].plot()"
      ],
      "execution_count": null,
      "outputs": [
        {
          "output_type": "execute_result",
          "data": {
            "text/plain": [
              "<matplotlib.axes._subplots.AxesSubplot at 0x7f3a5dd74850>"
            ]
          },
          "metadata": {
            "tags": []
          },
          "execution_count": 112
        },
        {
          "output_type": "display_data",
          "data": {
            "image/png": "[encoded data removed]",
            "text/plain": [
              "<Figure size 432x288 with 1 Axes>"
            ]
          },
          "metadata": {
            "tags": [],
            "needs_background": "light"
          }
        }
      ]
    },
    {
      "cell_type": "code",
      "metadata": {
        "colab": {
          "base_uri": "https://localhost:8080/",
          "height": 283
        },
        "id": "3UkxpP-KE7D9",
        "outputId": "d6d5359e-80c7-4e69-c38c-db75f4083899"
      },
      "source": [
        "df_original.iloc[:,1].plot()"
      ],
      "execution_count": null,
      "outputs": [
        {
          "output_type": "execute_result",
          "data": {
            "text/plain": [
              "<matplotlib.axes._subplots.AxesSubplot at 0x7f3a5dac6690>"
            ]
          },
          "metadata": {
            "tags": []
          },
          "execution_count": 113
        },
        {
          "output_type": "display_data",
          "data": {
            "image/png": "[encoded data removed]",
            "text/plain": [
              "<Figure size 432x288 with 1 Axes>"
            ]
          },
          "metadata": {
            "tags": [],
            "needs_background": "light"
          }
        }
      ]
    },
    {
      "cell_type": "code",
      "metadata": {
        "colab": {
          "base_uri": "https://localhost:8080/"
        },
        "id": "J03ncW6UE7HZ",
        "outputId": "4a6e2e13-61f5-4763-fa23-7df61a99235e"
      },
      "source": [
        "difference_mean/original_mean"
      ],
      "execution_count": null,
      "outputs": [
        {
          "output_type": "execute_result",
          "data": {
            "text/plain": [
              "0    0.057748\n",
              "1    1.053378\n",
              "2    0.065494\n",
              "3    0.039895\n",
              "dtype: float64"
            ]
          },
          "metadata": {
            "tags": []
          },
          "execution_count": 114
        }
      ]
    },
    {
      "cell_type": "markdown",
      "metadata": {
        "id": "gMXQpI8eWWbR"
      },
      "source": [
        "##### 5th"
      ]
    },
    {
      "cell_type": "code",
      "metadata": {
        "id": "EAQWI52tE75Z"
      },
      "source": [
        "# Hyper Parameters.\n",
        "epochs = 150 # MAX\n",
        "batch_size = 64\n",
        "validation_split = 0.1\n",
        "\n",
        "# VQ-VAE Hyper Parameters.\n",
        "embedding_dim = 128 # Length of embedding vectors.\n",
        "num_embeddings = 32 # Number of embedding vectors (high value = high bottleneck capacity).\n",
        "commitment_cost = 0.25 # Controls the weighting of the loss terms.\n",
        "\n",
        "# EarlyStoppingCallback.\n",
        "esc = keras.callbacks.EarlyStopping(monitor='val_loss', min_delta=1e-4,\n",
        "                                    patience=5, verbose=0, mode='auto',\n",
        "                                    baseline=None, restore_best_weights=True)"
      ],
      "execution_count": null,
      "outputs": []
    },
    {
      "cell_type": "code",
      "metadata": {
        "colab": {
          "base_uri": "https://localhost:8080/"
        },
        "id": "rwPVrQoeXrzc",
        "outputId": "08502c83-2725-4643-e6ca-dcc97cca3a87"
      },
      "source": [
        "# Encoder\n",
        "input = Input(shape=(x_train_m.shape[1], x_train_m.shape[2]))\n",
        "x = Conv1D(filters=32, kernel_size=7,  strides=2,padding=\"same\", activation=\"relu\")(input)\n",
        "x = Dropout(rate=0.2)(x)\n",
        "encoder_output = Conv1D(filters=16, kernel_size=7, padding=\"same\", strides=2, activation=\"relu\")(x)\n",
        "\n",
        "# VQVAELayer.\n",
        "enc = Conv1D(embedding_dim, kernel_size=1, strides=1, name=\"pre_vqvae\")(x)\n",
        "enc_inputs = enc\n",
        "enc = VQVAELayer(embedding_dim, num_embeddings, commitment_cost, name=\"vqvae\")(enc)\n",
        "x = Lambda(lambda enc: enc_inputs + K.stop_gradient(enc - enc_inputs), name=\"encoded\")(enc)\n",
        "data_variance = np.var(x_train_m)\n",
        "loss = vq_vae_loss_wrapper(data_variance, commitment_cost, enc, enc_inputs)\n",
        "\n",
        "# Decoder.\n",
        "x = Conv1D(filters=16, kernel_size=7, strides=2, padding = 'same')(x)\n",
        "x = UpSampling1D(size = 2)(x)\n",
        "x = Dropout(rate=0.2)(x)\n",
        "x = Conv1D(filters=32, kernel_size=7,  strides=1, padding = 'same')(x)\n",
        "x = UpSampling1D(size = 2)(x)\n",
        "x = Conv1D(filters=4, kernel_size=7, padding = 'same')(x)\n",
        "\n",
        "# Autoencoder.\n",
        "vqvae = Model(input, x)\n",
        "vqvae.compile(loss=loss, optimizer='adam')\n",
        "vqvae.summary()"
      ],
      "execution_count": null,
      "outputs": [
        {
          "output_type": "stream",
          "text": [
            "WARNING:tensorflow:Entity <bound method VQVAELayer.call of <__main__.VQVAELayer object at 0x7f3a5da6ed10>> could not be transformed and will be executed as-is. Please report this to the AutoGraph team. When filing the bug, set the verbosity to 10 (on Linux, `export AUTOGRAPH_VERBOSITY=10`) and attach the full output. Cause: Bad argument number for Name: 3, expecting 4\n",
            "WARNING: Entity <bound method VQVAELayer.call of <__main__.VQVAELayer object at 0x7f3a5da6ed10>> could not be transformed and will be executed as-is. Please report this to the AutoGraph team. When filing the bug, set the verbosity to 10 (on Linux, `export AUTOGRAPH_VERBOSITY=10`) and attach the full output. Cause: Bad argument number for Name: 3, expecting 4\n",
            "Model: \"model_9\"\n",
            "_________________________________________________________________\n",
            "Layer (type)                 Output Shape              Param #   \n",
            "=================================================================\n",
            "input_10 (InputLayer)        [(None, 256, 4)]          0         \n",
            "_________________________________________________________________\n",
            "conv1d_45 (Conv1D)           (None, 128, 32)           928       \n",
            "_________________________________________________________________\n",
            "dropout_19 (Dropout)         (None, 128, 32)           0         \n",
            "_________________________________________________________________\n",
            "pre_vqvae (Conv1D)           (None, 128, 128)          4224      \n",
            "_________________________________________________________________\n",
            "vqvae (VQVAELayer)           (None, 128, 128)          4096      \n",
            "_________________________________________________________________\n",
            "encoded (Lambda)             (None, 128, 128)          0         \n",
            "_________________________________________________________________\n",
            "conv1d_47 (Conv1D)           (None, 64, 16)            14352     \n",
            "_________________________________________________________________\n",
            "up_sampling1d_18 (UpSampling (None, 128, 16)           0         \n",
            "_________________________________________________________________\n",
            "dropout_20 (Dropout)         (None, 128, 16)           0         \n",
            "_________________________________________________________________\n",
            "conv1d_48 (Conv1D)           (None, 128, 32)           3616      \n",
            "_________________________________________________________________\n",
            "up_sampling1d_19 (UpSampling (None, 256, 32)           0         \n",
            "_________________________________________________________________\n",
            "conv1d_49 (Conv1D)           (None, 256, 4)            900       \n",
            "=================================================================\n",
            "Total params: 28,116\n",
            "Trainable params: 28,116\n",
            "Non-trainable params: 0\n",
            "_________________________________________________________________\n"
          ],
          "name": "stdout"
        }
      ]
    },
    {
      "cell_type": "code",
      "metadata": {
        "colab": {
          "base_uri": "https://localhost:8080/"
        },
        "id": "YVVk3IW7Xzeu",
        "outputId": "aeac6ba8-e0da-499f-e2b7-68562c692a33"
      },
      "source": [
        "history = vqvae.fit(x_train_m, x_train_m,\n",
        "                    batch_size=batch_size, epochs=epochs,\n",
        "                    validation_split=validation_split,\n",
        "                    callbacks=[esc])"
      ],
      "execution_count": null,
      "outputs": [
        {
          "output_type": "stream",
          "text": [
            "Train on 13788 samples, validate on 1533 samples\n",
            "Epoch 1/150\n",
            "13788/13788 [==============================] - 3s 219us/sample - loss: 0.1422 - val_loss: 0.7708\n",
            "Epoch 2/150\n",
            "13788/13788 [==============================] - 3s 218us/sample - loss: 0.3633 - val_loss: 0.7064\n",
            "Epoch 3/150\n",
            "13788/13788 [==============================] - 3s 213us/sample - loss: 0.3578 - val_loss: 0.6571\n",
            "Epoch 4/150\n",
            "13788/13788 [==============================] - 3s 201us/sample - loss: 0.3573 - val_loss: 0.6145\n",
            "Epoch 5/150\n",
            "13788/13788 [==============================] - 3s 196us/sample - loss: 0.3567 - val_loss: 0.5709\n",
            "Epoch 6/150\n",
            "13788/13788 [==============================] - 3s 195us/sample - loss: 0.3565 - val_loss: 0.5407\n",
            "Epoch 7/150\n",
            "13788/13788 [==============================] - 3s 196us/sample - loss: 0.3597 - val_loss: 0.5067\n",
            "Epoch 8/150\n",
            "13788/13788 [==============================] - 3s 196us/sample - loss: 0.3857 - val_loss: 0.5782\n",
            "Epoch 9/150\n",
            "13788/13788 [==============================] - 3s 197us/sample - loss: 0.3741 - val_loss: 0.4649\n",
            "Epoch 10/150\n",
            "13788/13788 [==============================] - 3s 194us/sample - loss: 0.3579 - val_loss: 0.4494\n",
            "Epoch 11/150\n",
            "13788/13788 [==============================] - 3s 197us/sample - loss: 0.3565 - val_loss: 0.4344\n",
            "Epoch 12/150\n",
            "13788/13788 [==============================] - 3s 196us/sample - loss: 0.3587 - val_loss: 0.4248\n",
            "Epoch 13/150\n",
            "13788/13788 [==============================] - 3s 199us/sample - loss: 0.3616 - val_loss: 0.4137\n",
            "Epoch 14/150\n",
            "13788/13788 [==============================] - 3s 201us/sample - loss: 0.3660 - val_loss: 0.4128\n",
            "Epoch 15/150\n",
            "13788/13788 [==============================] - 3s 197us/sample - loss: 0.3738 - val_loss: 0.4318\n",
            "Epoch 16/150\n",
            "13788/13788 [==============================] - 3s 198us/sample - loss: 0.3600 - val_loss: 0.3939\n",
            "Epoch 17/150\n",
            "13788/13788 [==============================] - 3s 199us/sample - loss: 0.3546 - val_loss: 0.3865\n",
            "Epoch 18/150\n",
            "13788/13788 [==============================] - 3s 198us/sample - loss: 0.3543 - val_loss: 0.3813\n",
            "Epoch 19/150\n",
            "13788/13788 [==============================] - 3s 197us/sample - loss: 0.3542 - val_loss: 0.3796\n",
            "Epoch 20/150\n",
            "13788/13788 [==============================] - 3s 200us/sample - loss: 0.3547 - val_loss: 0.3720\n",
            "Epoch 21/150\n",
            "13788/13788 [==============================] - 3s 199us/sample - loss: 0.3557 - val_loss: 0.3684\n",
            "Epoch 22/150\n",
            "13788/13788 [==============================] - 3s 200us/sample - loss: 0.3642 - val_loss: 0.3746\n",
            "Epoch 23/150\n",
            "13788/13788 [==============================] - 3s 198us/sample - loss: 0.3609 - val_loss: 0.3647\n",
            "Epoch 24/150\n",
            "13788/13788 [==============================] - 3s 201us/sample - loss: 0.3557 - val_loss: 0.3638\n",
            "Epoch 25/150\n",
            "13788/13788 [==============================] - 3s 199us/sample - loss: 0.3547 - val_loss: 0.3624\n",
            "Epoch 26/150\n",
            "13788/13788 [==============================] - 3s 200us/sample - loss: 0.3548 - val_loss: 0.3615\n",
            "Epoch 27/150\n",
            "13788/13788 [==============================] - 3s 199us/sample - loss: 0.3548 - val_loss: 0.3613\n",
            "Epoch 28/150\n",
            "13788/13788 [==============================] - 3s 197us/sample - loss: 0.3579 - val_loss: 0.3741\n",
            "Epoch 29/150\n",
            "13788/13788 [==============================] - 3s 197us/sample - loss: 0.3574 - val_loss: 0.3638\n",
            "Epoch 30/150\n",
            "13788/13788 [==============================] - 3s 198us/sample - loss: 0.3566 - val_loss: 0.3689\n",
            "Epoch 31/150\n",
            "13788/13788 [==============================] - 3s 197us/sample - loss: 0.3556 - val_loss: 0.3615\n",
            "Epoch 32/150\n",
            "13788/13788 [==============================] - 3s 199us/sample - loss: 0.3557 - val_loss: 0.3658\n"
          ],
          "name": "stdout"
        }
      ]
    },
    {
      "cell_type": "code",
      "metadata": {
        "id": "fyojg4cXYL2y"
      },
      "source": [
        "#1m27s"
      ],
      "execution_count": null,
      "outputs": []
    },
    {
      "cell_type": "code",
      "metadata": {
        "id": "oskqI8KIX3Ju"
      },
      "source": [
        "# Get train MAE loss.\n",
        "x_train_pred_m = vqvae.predict(x_train_m)\n",
        "original = []\n",
        "for item in x_train_m:\n",
        "  #print(item[0])\n",
        "  original.append(item[0])\n",
        "predicted = []\n",
        "for item in x_train_pred_m:\n",
        "  #print(item[0])\n",
        "  predicted.append(item[0])"
      ],
      "execution_count": null,
      "outputs": []
    },
    {
      "cell_type": "code",
      "metadata": {
        "id": "yQTMW1VgX6Nt"
      },
      "source": [
        "df_original = pd.DataFrame(original)\n",
        "df_pred = pd.DataFrame(predicted)\n",
        "original_mean = df_original.mean(axis = 0)\n",
        "difference = df_original - df_pred\n",
        "difference_mean = np.abs(difference.mean(axis = 0))"
      ],
      "execution_count": null,
      "outputs": []
    },
    {
      "cell_type": "code",
      "metadata": {
        "colab": {
          "base_uri": "https://localhost:8080/",
          "height": 283
        },
        "id": "H3R2ZO4mX_sQ",
        "outputId": "f1944bc6-de90-4bf4-f214-0975ea3911f6"
      },
      "source": [
        "df_pred.iloc[:,1].plot()"
      ],
      "execution_count": null,
      "outputs": [
        {
          "output_type": "execute_result",
          "data": {
            "text/plain": [
              "<matplotlib.axes._subplots.AxesSubplot at 0x7f3a5d5d1510>"
            ]
          },
          "metadata": {
            "tags": []
          },
          "execution_count": 127
        },
        {
          "output_type": "display_data",
          "data": {
            "image/png": "[encoded data removed]",
            "text/plain": [
              "<Figure size 432x288 with 1 Axes>"
            ]
          },
          "metadata": {
            "tags": [],
            "needs_background": "light"
          }
        }
      ]
    },
    {
      "cell_type": "code",
      "metadata": {
        "colab": {
          "base_uri": "https://localhost:8080/"
        },
        "id": "L7TTPh7cYC7k",
        "outputId": "f1821b71-cb70-43b2-b61d-b273a75944a6"
      },
      "source": [
        "difference_mean/original_mean"
      ],
      "execution_count": null,
      "outputs": [
        {
          "output_type": "execute_result",
          "data": {
            "text/plain": [
              "0    0.010805\n",
              "1    3.146672\n",
              "2    0.029043\n",
              "3    0.053466\n",
              "dtype: float64"
            ]
          },
          "metadata": {
            "tags": []
          },
          "execution_count": 128
        }
      ]
    },
    {
      "cell_type": "markdown",
      "metadata": {
        "id": "BtvsZN4-alac"
      },
      "source": [
        "##### 6th"
      ]
    },
    {
      "cell_type": "code",
      "metadata": {
        "id": "43uPul3XYKD1"
      },
      "source": [
        "# Hyper Parameters.\n",
        "epochs = 150 # MAX\n",
        "batch_size = 64\n",
        "validation_split = 0.1\n",
        "\n",
        "# VQ-VAE Hyper Parameters.\n",
        "embedding_dim = 64 # Length of embedding vectors.\n",
        "num_embeddings = 32 # Number of embedding vectors (high value = high bottleneck capacity).\n",
        "commitment_cost = 0.25 # Controls the weighting of the loss terms.\n",
        "\n",
        "# EarlyStoppingCallback.\n",
        "esc = keras.callbacks.EarlyStopping(monitor='val_loss', min_delta=1e-4,\n",
        "                                    patience=5, verbose=0, mode='auto',\n",
        "                                    baseline=None, restore_best_weights=True)"
      ],
      "execution_count": null,
      "outputs": []
    },
    {
      "cell_type": "code",
      "metadata": {
        "colab": {
          "base_uri": "https://localhost:8080/"
        },
        "id": "oJRHwK5GbONr",
        "outputId": "3b5a8959-2cff-43ba-d431-5879672fd8fe"
      },
      "source": [
        "# Encoder\n",
        "input = Input(shape=(x_train_m.shape[1], x_train_m.shape[2]))\n",
        "x = Conv1D(filters=32, kernel_size=7,  strides=2,padding=\"same\", activation=\"relu\")(input)\n",
        "x = Dropout(rate=0.2)(x)\n",
        "encoder_output = Conv1D(filters=16, kernel_size=7, padding=\"same\", strides=2, activation=\"relu\")(x)\n",
        "\n",
        "# VQVAELayer.\n",
        "enc = Conv1D(embedding_dim, kernel_size=1, strides=1, name=\"pre_vqvae\")(x)\n",
        "enc_inputs = enc\n",
        "enc = VQVAELayer(embedding_dim, num_embeddings, commitment_cost, name=\"vqvae\")(enc)\n",
        "x = Lambda(lambda enc: enc_inputs + K.stop_gradient(enc - enc_inputs), name=\"encoded\")(enc)\n",
        "data_variance = np.var(x_train_m)\n",
        "loss = vq_vae_loss_wrapper(data_variance, commitment_cost, enc, enc_inputs)\n",
        "\n",
        "# Decoder.\n",
        "x = Conv1D(filters=16, kernel_size=7, strides=2, padding = 'same')(x)\n",
        "x = UpSampling1D(size = 2)(x)\n",
        "x = Dropout(rate=0.2)(x)\n",
        "x = Conv1D(filters=32, kernel_size=7,  strides=1, padding = 'same')(x)\n",
        "x = UpSampling1D(size = 2)(x)\n",
        "x = Conv1D(filters=4, kernel_size=7, padding = 'same')(x)\n",
        "\n",
        "# Autoencoder.\n",
        "vqvae = Model(input, x)\n",
        "vqvae.compile(loss=loss, optimizer='adam')\n",
        "vqvae.summary()"
      ],
      "execution_count": null,
      "outputs": [
        {
          "output_type": "stream",
          "text": [
            "WARNING:tensorflow:Entity <bound method VQVAELayer.call of <__main__.VQVAELayer object at 0x7f3a5d505450>> could not be transformed and will be executed as-is. Please report this to the AutoGraph team. When filing the bug, set the verbosity to 10 (on Linux, `export AUTOGRAPH_VERBOSITY=10`) and attach the full output. Cause: Bad argument number for Name: 3, expecting 4\n",
            "WARNING: Entity <bound method VQVAELayer.call of <__main__.VQVAELayer object at 0x7f3a5d505450>> could not be transformed and will be executed as-is. Please report this to the AutoGraph team. When filing the bug, set the verbosity to 10 (on Linux, `export AUTOGRAPH_VERBOSITY=10`) and attach the full output. Cause: Bad argument number for Name: 3, expecting 4\n",
            "Model: \"model_10\"\n",
            "_________________________________________________________________\n",
            "Layer (type)                 Output Shape              Param #   \n",
            "=================================================================\n",
            "input_11 (InputLayer)        [(None, 256, 4)]          0         \n",
            "_________________________________________________________________\n",
            "conv1d_50 (Conv1D)           (None, 128, 32)           928       \n",
            "_________________________________________________________________\n",
            "dropout_21 (Dropout)         (None, 128, 32)           0         \n",
            "_________________________________________________________________\n",
            "pre_vqvae (Conv1D)           (None, 128, 128)          4224      \n",
            "_________________________________________________________________\n",
            "vqvae (VQVAELayer)           (None, 128, 128)          4096      \n",
            "_________________________________________________________________\n",
            "encoded (Lambda)             (None, 128, 128)          0         \n",
            "_________________________________________________________________\n",
            "conv1d_52 (Conv1D)           (None, 64, 16)            14352     \n",
            "_________________________________________________________________\n",
            "up_sampling1d_20 (UpSampling (None, 128, 16)           0         \n",
            "_________________________________________________________________\n",
            "dropout_22 (Dropout)         (None, 128, 16)           0         \n",
            "_________________________________________________________________\n",
            "conv1d_53 (Conv1D)           (None, 128, 32)           3616      \n",
            "_________________________________________________________________\n",
            "up_sampling1d_21 (UpSampling (None, 256, 32)           0         \n",
            "_________________________________________________________________\n",
            "conv1d_54 (Conv1D)           (None, 256, 4)            900       \n",
            "=================================================================\n",
            "Total params: 28,116\n",
            "Trainable params: 28,116\n",
            "Non-trainable params: 0\n",
            "_________________________________________________________________\n"
          ],
          "name": "stdout"
        }
      ]
    },
    {
      "cell_type": "code",
      "metadata": {
        "id": "N5HQVSWRbOXo"
      },
      "source": [
        "history = vqvae.fit(x_train_m, x_train_m,\n",
        "                    batch_size=batch_size, epochs=epochs,\n",
        "                    validation_split=validation_split,\n",
        "                    callbacks=[esc])"
      ],
      "execution_count": null,
      "outputs": []
    },
    {
      "cell_type": "code",
      "metadata": {
        "id": "_rZ2UmCrbOfG"
      },
      "source": [
        "#2min45s"
      ],
      "execution_count": null,
      "outputs": []
    },
    {
      "cell_type": "code",
      "metadata": {
        "id": "2CtLR2iDbOrr"
      },
      "source": [
        "# Get train MAE loss.\n",
        "x_train_pred_m = vqvae.predict(x_train_m)\n",
        "original = []\n",
        "for item in x_train_m:\n",
        "  #print(item[0])\n",
        "  original.append(item[0])\n",
        "predicted = []\n",
        "for item in x_train_pred_m:\n",
        "  #print(item[0])\n",
        "  predicted.append(item[0])"
      ],
      "execution_count": null,
      "outputs": []
    },
    {
      "cell_type": "code",
      "metadata": {
        "id": "vwdrn6H3cP-i"
      },
      "source": [
        "df_original = pd.DataFrame(original)\n",
        "df_pred = pd.DataFrame(predicted)\n",
        "original_mean = df_original.mean(axis = 0)\n",
        "difference = df_original - df_pred\n",
        "difference_mean = np.abs(difference.mean(axis = 0))"
      ],
      "execution_count": null,
      "outputs": []
    },
    {
      "cell_type": "code",
      "metadata": {
        "colab": {
          "base_uri": "https://localhost:8080/",
          "height": 283
        },
        "id": "UZZmXTFocQL6",
        "outputId": "736ef572-7502-4786-a1e5-83ed838327cc"
      },
      "source": [
        "df_pred.iloc[:,1].plot()"
      ],
      "execution_count": null,
      "outputs": [
        {
          "output_type": "execute_result",
          "data": {
            "text/plain": [
              "<matplotlib.axes._subplots.AxesSubplot at 0x7f3a5d2c48d0>"
            ]
          },
          "metadata": {
            "tags": []
          },
          "execution_count": 133
        },
        {
          "output_type": "display_data",
          "data": {
            "image/png": "[encoded data removed]",
            "text/plain": [
              "<Figure size 432x288 with 1 Axes>"
            ]
          },
          "metadata": {
            "tags": [],
            "needs_background": "light"
          }
        }
      ]
    },
    {
      "cell_type": "code",
      "metadata": {
        "colab": {
          "base_uri": "https://localhost:8080/"
        },
        "id": "4E6l3614cZQb",
        "outputId": "aab58690-195b-4201-fab3-de693c658a1a"
      },
      "source": [
        "difference_mean/original_mean"
      ],
      "execution_count": null,
      "outputs": [
        {
          "output_type": "execute_result",
          "data": {
            "text/plain": [
              "0    0.240052\n",
              "1    0.109379\n",
              "2    0.251415\n",
              "3    0.114602\n",
              "dtype: float64"
            ]
          },
          "metadata": {
            "tags": []
          },
          "execution_count": 134
        }
      ]
    },
    {
      "cell_type": "markdown",
      "metadata": {
        "id": "DupErHsydfab"
      },
      "source": [
        "##### 7th"
      ]
    },
    {
      "cell_type": "code",
      "metadata": {
        "id": "3YUCy7MTc_LW"
      },
      "source": [
        "# Hyper Parameters.\n",
        "epochs = 150 # MAX\n",
        "batch_size = 64\n",
        "validation_split = 0.1\n",
        "\n",
        "# VQ-VAE Hyper Parameters.\n",
        "embedding_dim = 32 # Length of embedding vectors.\n",
        "num_embeddings = 32 # Number of embedding vectors (high value = high bottleneck capacity).\n",
        "commitment_cost = 0.25 # Controls the weighting of the loss terms.\n",
        "\n",
        "# EarlyStoppingCallback.\n",
        "esc = keras.callbacks.EarlyStopping(monitor='val_loss', min_delta=1e-4,\n",
        "                                    patience=5, verbose=0, mode='auto',\n",
        "                                    baseline=None, restore_best_weights=True)"
      ],
      "execution_count": null,
      "outputs": []
    },
    {
      "cell_type": "code",
      "metadata": {
        "colab": {
          "base_uri": "https://localhost:8080/"
        },
        "id": "mXOJ131Ydk9y",
        "outputId": "23de9afd-0302-42b5-9282-ca4aaed0586e"
      },
      "source": [
        "# Encoder\n",
        "input = Input(shape=(x_train_m.shape[1], x_train_m.shape[2]))\n",
        "x = Conv1D(filters=32, kernel_size=7,  strides=2,padding=\"same\", activation=\"relu\")(input)\n",
        "x = Dropout(rate=0.2)(x)\n",
        "encoder_output = Conv1D(filters=16, kernel_size=7, padding=\"same\", strides=2, activation=\"relu\")(x)\n",
        "\n",
        "# VQVAELayer.\n",
        "enc = Conv1D(embedding_dim, kernel_size=1, strides=1, name=\"pre_vqvae\")(x)\n",
        "enc_inputs = enc\n",
        "enc = VQVAELayer(embedding_dim, num_embeddings, commitment_cost, name=\"vqvae\")(enc)\n",
        "x = Lambda(lambda enc: enc_inputs + K.stop_gradient(enc - enc_inputs), name=\"encoded\")(enc)\n",
        "data_variance = np.var(x_train_m)\n",
        "loss = vq_vae_loss_wrapper(data_variance, commitment_cost, enc, enc_inputs)\n",
        "\n",
        "# Decoder.\n",
        "x = Conv1D(filters=16, kernel_size=7, strides=2, padding = 'same')(x)\n",
        "x = UpSampling1D(size = 2)(x)\n",
        "x = Dropout(rate=0.2)(x)\n",
        "x = Conv1D(filters=32, kernel_size=7,  strides=1, padding = 'same')(x)\n",
        "x = UpSampling1D(size = 2)(x)\n",
        "x = Conv1D(filters=4, kernel_size=7, padding = 'same')(x)\n",
        "\n",
        "# Autoencoder.\n",
        "vqvae = Model(input, x)\n",
        "vqvae.compile(loss=loss, optimizer='adam')\n",
        "vqvae.summary()"
      ],
      "execution_count": null,
      "outputs": [
        {
          "output_type": "stream",
          "text": [
            "WARNING:tensorflow:Entity <bound method VQVAELayer.call of <__main__.VQVAELayer object at 0x7f3a5d014ad0>> could not be transformed and will be executed as-is. Please report this to the AutoGraph team. When filing the bug, set the verbosity to 10 (on Linux, `export AUTOGRAPH_VERBOSITY=10`) and attach the full output. Cause: Bad argument number for Name: 3, expecting 4\n",
            "WARNING: Entity <bound method VQVAELayer.call of <__main__.VQVAELayer object at 0x7f3a5d014ad0>> could not be transformed and will be executed as-is. Please report this to the AutoGraph team. When filing the bug, set the verbosity to 10 (on Linux, `export AUTOGRAPH_VERBOSITY=10`) and attach the full output. Cause: Bad argument number for Name: 3, expecting 4\n",
            "Model: \"model_11\"\n",
            "_________________________________________________________________\n",
            "Layer (type)                 Output Shape              Param #   \n",
            "=================================================================\n",
            "input_12 (InputLayer)        [(None, 256, 4)]          0         \n",
            "_________________________________________________________________\n",
            "conv1d_55 (Conv1D)           (None, 128, 32)           928       \n",
            "_________________________________________________________________\n",
            "dropout_23 (Dropout)         (None, 128, 32)           0         \n",
            "_________________________________________________________________\n",
            "pre_vqvae (Conv1D)           (None, 128, 32)           1056      \n",
            "_________________________________________________________________\n",
            "vqvae (VQVAELayer)           (None, 128, 32)           1024      \n",
            "_________________________________________________________________\n",
            "encoded (Lambda)             (None, 128, 32)           0         \n",
            "_________________________________________________________________\n",
            "conv1d_57 (Conv1D)           (None, 64, 16)            3600      \n",
            "_________________________________________________________________\n",
            "up_sampling1d_22 (UpSampling (None, 128, 16)           0         \n",
            "_________________________________________________________________\n",
            "dropout_24 (Dropout)         (None, 128, 16)           0         \n",
            "_________________________________________________________________\n",
            "conv1d_58 (Conv1D)           (None, 128, 32)           3616      \n",
            "_________________________________________________________________\n",
            "up_sampling1d_23 (UpSampling (None, 256, 32)           0         \n",
            "_________________________________________________________________\n",
            "conv1d_59 (Conv1D)           (None, 256, 4)            900       \n",
            "=================================================================\n",
            "Total params: 11,124\n",
            "Trainable params: 11,124\n",
            "Non-trainable params: 0\n",
            "_________________________________________________________________\n"
          ],
          "name": "stdout"
        }
      ]
    },
    {
      "cell_type": "code",
      "metadata": {
        "colab": {
          "base_uri": "https://localhost:8080/"
        },
        "id": "bGdaKo34dlH5",
        "outputId": "5a498d5d-0136-457d-98c1-33b99008789e"
      },
      "source": [
        "history = vqvae.fit(x_train_m, x_train_m,\n",
        "                    batch_size=batch_size, epochs=epochs,\n",
        "                    validation_split=validation_split,\n",
        "                    callbacks=[esc])"
      ],
      "execution_count": null,
      "outputs": [
        {
          "output_type": "stream",
          "text": [
            "Train on 13788 samples, validate on 1533 samples\n",
            "Epoch 1/150\n",
            "13788/13788 [==============================] - 5s 375us/sample - loss: 34943.5364 - val_loss: 862.2060\n",
            "Epoch 2/150\n",
            "13788/13788 [==============================] - 3s 189us/sample - loss: 451.8809 - val_loss: 301.6417\n",
            "Epoch 3/150\n",
            "13788/13788 [==============================] - 3s 190us/sample - loss: 187.0707 - val_loss: 165.4759\n",
            "Epoch 4/150\n",
            "13788/13788 [==============================] - 3s 190us/sample - loss: 110.0284 - val_loss: 115.3801\n",
            "Epoch 5/150\n",
            "13788/13788 [==============================] - 3s 192us/sample - loss: 73.7665 - val_loss: 81.2648\n",
            "Epoch 6/150\n",
            "13788/13788 [==============================] - 3s 191us/sample - loss: 51.9346 - val_loss: 60.5010\n",
            "Epoch 7/150\n",
            "13788/13788 [==============================] - 3s 193us/sample - loss: 37.9940 - val_loss: 47.7040\n",
            "Epoch 8/150\n",
            "13788/13788 [==============================] - 3s 192us/sample - loss: 28.6945 - val_loss: 38.4234\n",
            "Epoch 9/150\n",
            "13788/13788 [==============================] - 3s 194us/sample - loss: 21.8044 - val_loss: 31.4935\n",
            "Epoch 10/150\n",
            "13788/13788 [==============================] - 3s 192us/sample - loss: 17.2114 - val_loss: 26.8653\n",
            "Epoch 11/150\n",
            "13788/13788 [==============================] - 3s 193us/sample - loss: 19.7029 - val_loss: 69.6337\n",
            "Epoch 12/150\n",
            "13788/13788 [==============================] - 3s 192us/sample - loss: 14.9035 - val_loss: 21.9835\n",
            "Epoch 13/150\n",
            "13788/13788 [==============================] - 3s 193us/sample - loss: 8.9600 - val_loss: 16.8306\n",
            "Epoch 14/150\n",
            "13788/13788 [==============================] - 3s 192us/sample - loss: 6.2579 - val_loss: 13.0474\n",
            "Epoch 15/150\n",
            "13788/13788 [==============================] - 3s 191us/sample - loss: 4.8435 - val_loss: 10.9334\n",
            "Epoch 16/150\n",
            "13788/13788 [==============================] - 3s 190us/sample - loss: 3.8464 - val_loss: 9.6110\n",
            "Epoch 17/150\n",
            "13788/13788 [==============================] - 3s 193us/sample - loss: 3.1974 - val_loss: 8.4432\n",
            "Epoch 18/150\n",
            "13788/13788 [==============================] - 3s 192us/sample - loss: 2.6674 - val_loss: 7.3528\n",
            "Epoch 19/150\n",
            "13788/13788 [==============================] - 3s 192us/sample - loss: 2.2973 - val_loss: 6.5294\n",
            "Epoch 20/150\n",
            "13788/13788 [==============================] - 3s 191us/sample - loss: 1.9090 - val_loss: 5.7385\n",
            "Epoch 21/150\n",
            "13788/13788 [==============================] - 3s 191us/sample - loss: 1.6667 - val_loss: 5.1195\n",
            "Epoch 22/150\n",
            "13788/13788 [==============================] - 3s 192us/sample - loss: 1.3765 - val_loss: 4.6229\n",
            "Epoch 23/150\n",
            "13788/13788 [==============================] - 3s 189us/sample - loss: 1.1941 - val_loss: 4.1119\n",
            "Epoch 24/150\n",
            "13788/13788 [==============================] - 3s 190us/sample - loss: 1.0184 - val_loss: 3.7178\n",
            "Epoch 25/150\n",
            "13788/13788 [==============================] - 3s 191us/sample - loss: 0.9004 - val_loss: 3.4880\n",
            "Epoch 26/150\n",
            "13788/13788 [==============================] - 3s 192us/sample - loss: 0.8323 - val_loss: 3.0935\n",
            "Epoch 27/150\n",
            "13788/13788 [==============================] - 3s 192us/sample - loss: 0.6962 - val_loss: 2.8400\n",
            "Epoch 28/150\n",
            "13788/13788 [==============================] - 3s 189us/sample - loss: 0.6255 - val_loss: 2.5740\n",
            "Epoch 29/150\n",
            "13788/13788 [==============================] - 3s 192us/sample - loss: 0.9421 - val_loss: 2.5903\n",
            "Epoch 30/150\n",
            "13788/13788 [==============================] - 3s 193us/sample - loss: 0.7548 - val_loss: 2.4240\n",
            "Epoch 31/150\n",
            "13788/13788 [==============================] - 3s 193us/sample - loss: 1.0564 - val_loss: 2.3132\n",
            "Epoch 32/150\n",
            "13788/13788 [==============================] - 3s 194us/sample - loss: 0.5959 - val_loss: 1.9749\n",
            "Epoch 33/150\n",
            "13788/13788 [==============================] - 3s 192us/sample - loss: 0.4200 - val_loss: 1.7759\n",
            "Epoch 34/150\n",
            "13788/13788 [==============================] - 3s 190us/sample - loss: 0.3868 - val_loss: 1.6673\n",
            "Epoch 35/150\n",
            "13788/13788 [==============================] - 3s 192us/sample - loss: 0.3630 - val_loss: 1.5298\n",
            "Epoch 36/150\n",
            "13788/13788 [==============================] - 3s 192us/sample - loss: 0.3499 - val_loss: 1.4411\n",
            "Epoch 37/150\n",
            "13788/13788 [==============================] - 3s 191us/sample - loss: 0.3271 - val_loss: 1.3813\n",
            "Epoch 38/150\n",
            "13788/13788 [==============================] - 3s 191us/sample - loss: 0.3696 - val_loss: 1.3255\n",
            "Epoch 39/150\n",
            "13788/13788 [==============================] - 3s 194us/sample - loss: 0.5377 - val_loss: 1.2440\n",
            "Epoch 40/150\n",
            "13788/13788 [==============================] - 3s 192us/sample - loss: 0.3272 - val_loss: 1.0579\n",
            "Epoch 41/150\n",
            "13788/13788 [==============================] - 3s 193us/sample - loss: 0.2473 - val_loss: 0.9307\n",
            "Epoch 42/150\n",
            "13788/13788 [==============================] - 3s 190us/sample - loss: 0.2193 - val_loss: 0.8355\n",
            "Epoch 43/150\n",
            "13788/13788 [==============================] - 3s 189us/sample - loss: 0.1894 - val_loss: 0.7581\n",
            "Epoch 44/150\n",
            "13788/13788 [==============================] - 3s 191us/sample - loss: 0.1831 - val_loss: 0.6959\n",
            "Epoch 45/150\n",
            "13788/13788 [==============================] - 3s 191us/sample - loss: 0.1580 - val_loss: 0.6257\n",
            "Epoch 46/150\n",
            "13788/13788 [==============================] - 3s 189us/sample - loss: 0.1610 - val_loss: 0.5575\n",
            "Epoch 47/150\n",
            "13788/13788 [==============================] - 3s 189us/sample - loss: 0.1665 - val_loss: 0.5342\n",
            "Epoch 48/150\n",
            "13788/13788 [==============================] - 3s 188us/sample - loss: 0.1521 - val_loss: 0.4681\n",
            "Epoch 49/150\n",
            "13788/13788 [==============================] - 3s 193us/sample - loss: 0.1352 - val_loss: 0.4404\n",
            "Epoch 50/150\n",
            "13788/13788 [==============================] - 3s 193us/sample - loss: 0.1337 - val_loss: 0.4056\n",
            "Epoch 51/150\n",
            "13788/13788 [==============================] - 3s 190us/sample - loss: 0.1720 - val_loss: 33.0252\n",
            "Epoch 52/150\n",
            "13788/13788 [==============================] - 3s 193us/sample - loss: 1.2578 - val_loss: 0.6452\n",
            "Epoch 53/150\n",
            "13788/13788 [==============================] - 3s 195us/sample - loss: 0.3747 - val_loss: 0.6177\n",
            "Epoch 54/150\n",
            "13788/13788 [==============================] - 3s 192us/sample - loss: 0.4192 - val_loss: 0.4661\n",
            "Epoch 55/150\n",
            "13788/13788 [==============================] - 3s 234us/sample - loss: 7.5494 - val_loss: 490.2100\n"
          ],
          "name": "stdout"
        }
      ]
    },
    {
      "cell_type": "code",
      "metadata": {
        "id": "uqQCKKfLdlRK"
      },
      "source": [
        "#2min29s"
      ],
      "execution_count": null,
      "outputs": []
    },
    {
      "cell_type": "code",
      "metadata": {
        "id": "TO038aYgdldv"
      },
      "source": [
        "# Get train MAE loss.\n",
        "x_train_pred_m = vqvae.predict(x_train_m)\n",
        "original = []\n",
        "for item in x_train_m:\n",
        "  #print(item[0])\n",
        "  original.append(item[0])\n",
        "predicted = []\n",
        "for item in x_train_pred_m:\n",
        "  #print(item[0])\n",
        "  predicted.append(item[0])"
      ],
      "execution_count": null,
      "outputs": []
    },
    {
      "cell_type": "code",
      "metadata": {
        "id": "RhO2893Adlpu"
      },
      "source": [
        "df_original = pd.DataFrame(original)\n",
        "df_pred = pd.DataFrame(predicted)\n",
        "original_mean = df_original.mean(axis = 0)\n",
        "difference = df_original - df_pred\n",
        "difference_mean = np.abs(difference.mean(axis = 0))"
      ],
      "execution_count": null,
      "outputs": []
    },
    {
      "cell_type": "code",
      "metadata": {
        "colab": {
          "base_uri": "https://localhost:8080/",
          "height": 283
        },
        "id": "gz19QQx_fHFO",
        "outputId": "f7ec9b4e-bd1e-4d8a-a38e-84a2a841f446"
      },
      "source": [
        "df_pred.iloc[:,1].plot()"
      ],
      "execution_count": null,
      "outputs": [
        {
          "output_type": "execute_result",
          "data": {
            "text/plain": [
              "<matplotlib.axes._subplots.AxesSubplot at 0x7f3a5d263cd0>"
            ]
          },
          "metadata": {
            "tags": []
          },
          "execution_count": 141
        },
        {
          "output_type": "display_data",
          "data": {
            "image/png": "[encoded data removed]",
            "text/plain": [
              "<Figure size 432x288 with 1 Axes>"
            ]
          },
          "metadata": {
            "tags": [],
            "needs_background": "light"
          }
        }
      ]
    },
    {
      "cell_type": "code",
      "metadata": {
        "colab": {
          "base_uri": "https://localhost:8080/"
        },
        "id": "wPL6y1tufMFy",
        "outputId": "9229173f-f6b2-45d6-ac80-2e80d24f2692"
      },
      "source": [
        "difference_mean/original_mean"
      ],
      "execution_count": null,
      "outputs": [
        {
          "output_type": "execute_result",
          "data": {
            "text/plain": [
              "0    0.546322\n",
              "1    2.918888\n",
              "2    0.441983\n",
              "3    0.376815\n",
              "dtype: float64"
            ]
          },
          "metadata": {
            "tags": []
          },
          "execution_count": 142
        }
      ]
    },
    {
      "cell_type": "markdown",
      "metadata": {
        "id": "t8vxUyrffWaB"
      },
      "source": [
        "##### 8th"
      ]
    },
    {
      "cell_type": "code",
      "metadata": {
        "id": "9haW13L7ffdI"
      },
      "source": [
        "# Hyper Parameters.\n",
        "epochs = 150 # MAX\n",
        "batch_size = 64\n",
        "validation_split = 0.1\n",
        "\n",
        "# VQ-VAE Hyper Parameters.\n",
        "embedding_dim = 16 # Length of embedding vectors.\n",
        "num_embeddings = 32 # Number of embedding vectors (high value = high bottleneck capacity).\n",
        "commitment_cost = 0.25 # Controls the weighting of the loss terms.\n",
        "\n",
        "# EarlyStoppingCallback.\n",
        "esc = keras.callbacks.EarlyStopping(monitor='val_loss', min_delta=1e-4,\n",
        "                                    patience=5, verbose=0, mode='auto',\n",
        "                                    baseline=None, restore_best_weights=True)"
      ],
      "execution_count": null,
      "outputs": []
    },
    {
      "cell_type": "code",
      "metadata": {
        "colab": {
          "base_uri": "https://localhost:8080/"
        },
        "id": "MzQF3xLdfmII",
        "outputId": "6bc4456c-1d19-44f2-8e02-e09f43f6db3b"
      },
      "source": [
        "# Encoder\n",
        "input = Input(shape=(x_train_m.shape[1], x_train_m.shape[2]))\n",
        "x = Conv1D(filters=32, kernel_size=7,  strides=2,padding=\"same\", activation=\"relu\")(input)\n",
        "x = Dropout(rate=0.2)(x)\n",
        "encoder_output = Conv1D(filters=16, kernel_size=7, padding=\"same\", strides=2, activation=\"relu\")(x)\n",
        "\n",
        "# VQVAELayer.\n",
        "enc = Conv1D(embedding_dim, kernel_size=1, strides=1, name=\"pre_vqvae\")(x)\n",
        "enc_inputs = enc\n",
        "enc = VQVAELayer(embedding_dim, num_embeddings, commitment_cost, name=\"vqvae\")(enc)\n",
        "x = Lambda(lambda enc: enc_inputs + K.stop_gradient(enc - enc_inputs), name=\"encoded\")(enc)\n",
        "data_variance = np.var(x_train_m)\n",
        "loss = vq_vae_loss_wrapper(data_variance, commitment_cost, enc, enc_inputs)\n",
        "\n",
        "# Decoder.\n",
        "x = Conv1D(filters=16, kernel_size=7, strides=2, padding = 'same')(x)\n",
        "x = UpSampling1D(size = 2)(x)\n",
        "x = Dropout(rate=0.2)(x)\n",
        "x = Conv1D(filters=32, kernel_size=7,  strides=1, padding = 'same')(x)\n",
        "x = UpSampling1D(size = 2)(x)\n",
        "x = Conv1D(filters=4, kernel_size=7, padding = 'same')(x)\n",
        "\n",
        "# Autoencoder.\n",
        "vqvae = Model(input, x)\n",
        "vqvae.compile(loss=loss, optimizer='adam')\n",
        "vqvae.summary()"
      ],
      "execution_count": null,
      "outputs": [
        {
          "output_type": "stream",
          "text": [
            "WARNING:tensorflow:Entity <bound method VQVAELayer.call of <__main__.VQVAELayer object at 0x7f38a3a86190>> could not be transformed and will be executed as-is. Please report this to the AutoGraph team. When filing the bug, set the verbosity to 10 (on Linux, `export AUTOGRAPH_VERBOSITY=10`) and attach the full output. Cause: Bad argument number for Name: 3, expecting 4\n",
            "WARNING: Entity <bound method VQVAELayer.call of <__main__.VQVAELayer object at 0x7f38a3a86190>> could not be transformed and will be executed as-is. Please report this to the AutoGraph team. When filing the bug, set the verbosity to 10 (on Linux, `export AUTOGRAPH_VERBOSITY=10`) and attach the full output. Cause: Bad argument number for Name: 3, expecting 4\n",
            "Model: \"model_8\"\n",
            "_________________________________________________________________\n",
            "Layer (type)                 Output Shape              Param #   \n",
            "=================================================================\n",
            "input_6 (InputLayer)         [(None, 256, 4)]          0         \n",
            "_________________________________________________________________\n",
            "conv1d_25 (Conv1D)           (None, 128, 32)           928       \n",
            "_________________________________________________________________\n",
            "dropout_10 (Dropout)         (None, 128, 32)           0         \n",
            "_________________________________________________________________\n",
            "pre_vqvae (Conv1D)           (None, 128, 16)           528       \n",
            "_________________________________________________________________\n",
            "vqvae (VQVAELayer)           (None, 128, 16)           512       \n",
            "_________________________________________________________________\n",
            "encoded (Lambda)             (None, 128, 16)           0         \n",
            "_________________________________________________________________\n",
            "conv1d_27 (Conv1D)           (None, 64, 16)            1808      \n",
            "_________________________________________________________________\n",
            "up_sampling1d_10 (UpSampling (None, 128, 16)           0         \n",
            "_________________________________________________________________\n",
            "dropout_11 (Dropout)         (None, 128, 16)           0         \n",
            "_________________________________________________________________\n",
            "conv1d_28 (Conv1D)           (None, 128, 32)           3616      \n",
            "_________________________________________________________________\n",
            "up_sampling1d_11 (UpSampling (None, 256, 32)           0         \n",
            "_________________________________________________________________\n",
            "conv1d_29 (Conv1D)           (None, 256, 4)            900       \n",
            "=================================================================\n",
            "Total params: 8,292\n",
            "Trainable params: 8,292\n",
            "Non-trainable params: 0\n",
            "_________________________________________________________________\n"
          ],
          "name": "stdout"
        }
      ]
    },
    {
      "cell_type": "code",
      "metadata": {
        "colab": {
          "base_uri": "https://localhost:8080/"
        },
        "id": "GnnVSaPkgXbS",
        "outputId": "d983e117-853a-4692-b49f-7cb768fe91a9"
      },
      "source": [
        "history = vqvae.fit(x_train_m, x_train_m,\n",
        "                    batch_size=batch_size, epochs=epochs,\n",
        "                    validation_split=validation_split,\n",
        "                    callbacks=[esc])"
      ],
      "execution_count": null,
      "outputs": [
        {
          "output_type": "stream",
          "text": [
            "Train on 43153 samples, validate on 4795 samples\n",
            "Epoch 1/150\n",
            "43153/43153 [==============================] - 10s 241us/sample - loss: 15664.7282 - val_loss: 43.7144\n",
            "Epoch 2/150\n",
            "43153/43153 [==============================] - 8s 189us/sample - loss: 103.4545 - val_loss: 8.1529\n",
            "Epoch 3/150\n",
            "43153/43153 [==============================] - 8s 189us/sample - loss: 30.8622 - val_loss: 3.1704\n",
            "Epoch 4/150\n",
            "43153/43153 [==============================] - 8s 189us/sample - loss: 13.7178 - val_loss: 1.8390\n",
            "Epoch 5/150\n",
            "43153/43153 [==============================] - 8s 187us/sample - loss: 7.2959 - val_loss: 1.0918\n",
            "Epoch 6/150\n",
            "43153/43153 [==============================] - 8s 188us/sample - loss: 4.2304 - val_loss: 0.7888\n",
            "Epoch 7/150\n",
            "43153/43153 [==============================] - 8s 188us/sample - loss: 3.0070 - val_loss: 1.4655\n",
            "Epoch 8/150\n",
            "43153/43153 [==============================] - 8s 189us/sample - loss: 2.5446 - val_loss: 0.7498\n",
            "Epoch 9/150\n",
            "43153/43153 [==============================] - 8s 192us/sample - loss: 1.5388 - val_loss: 0.5421\n",
            "Epoch 10/150\n",
            "43153/43153 [==============================] - 8s 190us/sample - loss: 1.5972 - val_loss: 0.2460\n",
            "Epoch 11/150\n",
            "43153/43153 [==============================] - 8s 190us/sample - loss: 0.5880 - val_loss: 0.1583\n",
            "Epoch 12/150\n",
            "43153/43153 [==============================] - 8s 187us/sample - loss: 0.3877 - val_loss: 0.1000\n",
            "Epoch 13/150\n",
            "43153/43153 [==============================] - 8s 190us/sample - loss: 0.2758 - val_loss: 0.0701\n",
            "Epoch 14/150\n",
            "43153/43153 [==============================] - 8s 188us/sample - loss: 0.2100 - val_loss: 0.0606\n",
            "Epoch 15/150\n",
            "43153/43153 [==============================] - 8s 188us/sample - loss: 0.1703 - val_loss: 0.0552\n",
            "Epoch 16/150\n",
            "43153/43153 [==============================] - 8s 188us/sample - loss: 0.1461 - val_loss: 0.0564\n",
            "Epoch 17/150\n",
            "43153/43153 [==============================] - 8s 190us/sample - loss: 0.1607 - val_loss: 0.2363\n",
            "Epoch 18/150\n",
            "43153/43153 [==============================] - 8s 187us/sample - loss: 0.2508 - val_loss: 0.0543\n",
            "Epoch 19/150\n",
            "43153/43153 [==============================] - 8s 186us/sample - loss: 0.1162 - val_loss: 0.0514\n",
            "Epoch 20/150\n",
            "43153/43153 [==============================] - 8s 187us/sample - loss: 0.1085 - val_loss: 0.0438\n",
            "Epoch 21/150\n",
            "43153/43153 [==============================] - 8s 187us/sample - loss: 0.1041 - val_loss: 0.0429\n",
            "Epoch 22/150\n",
            "43153/43153 [==============================] - 8s 185us/sample - loss: 0.1017 - val_loss: 0.0428\n",
            "Epoch 23/150\n",
            "43153/43153 [==============================] - 8s 188us/sample - loss: 0.1016 - val_loss: 0.0442\n",
            "Epoch 24/150\n",
            "43153/43153 [==============================] - 8s 189us/sample - loss: 0.0998 - val_loss: 0.0411\n",
            "Epoch 25/150\n",
            "43153/43153 [==============================] - 8s 192us/sample - loss: 0.0997 - val_loss: 0.0424\n",
            "Epoch 26/150\n",
            "43153/43153 [==============================] - 8s 189us/sample - loss: 0.0989 - val_loss: 0.0437\n",
            "Epoch 27/150\n",
            "43153/43153 [==============================] - 8s 188us/sample - loss: 0.0988 - val_loss: 0.0446\n",
            "Epoch 28/150\n",
            "43153/43153 [==============================] - 8s 187us/sample - loss: 0.0989 - val_loss: 0.0396\n",
            "Epoch 29/150\n",
            "43153/43153 [==============================] - 8s 190us/sample - loss: 0.0992 - val_loss: 0.0378\n",
            "Epoch 30/150\n",
            "43153/43153 [==============================] - 8s 190us/sample - loss: 0.0983 - val_loss: 0.0435\n",
            "Epoch 31/150\n",
            "43153/43153 [==============================] - 8s 189us/sample - loss: 0.0987 - val_loss: 0.0406\n",
            "Epoch 32/150\n",
            "43153/43153 [==============================] - 8s 190us/sample - loss: 0.0995 - val_loss: 0.0439\n",
            "Epoch 33/150\n",
            "43153/43153 [==============================] - 8s 192us/sample - loss: 0.0998 - val_loss: 0.0465\n",
            "Epoch 34/150\n",
            "43153/43153 [==============================] - 9s 205us/sample - loss: 0.0990 - val_loss: 0.0481\n"
          ],
          "name": "stdout"
        }
      ]
    },
    {
      "cell_type": "code",
      "metadata": {
        "id": "RJeoTZaYfmVP"
      },
      "source": [
        "#4min1s"
      ],
      "execution_count": null,
      "outputs": []
    },
    {
      "cell_type": "code",
      "metadata": {
        "id": "-GvEeLavfmfy"
      },
      "source": [
        "# Get train MAE loss.\n",
        "x_train_pred_m = vqvae.predict(x_train_m)\n",
        "original = []\n",
        "for item in x_train_m:\n",
        "  #print(item[0])\n",
        "  original.append(item[0])\n",
        "predicted = []\n",
        "for item in x_train_pred_m:\n",
        "  #print(item[0])\n",
        "  predicted.append(item[0])"
      ],
      "execution_count": null,
      "outputs": []
    },
    {
      "cell_type": "code",
      "metadata": {
        "id": "SyvsdJOVgbvj"
      },
      "source": [
        "df_original = pd.DataFrame(original)\n",
        "df_pred = pd.DataFrame(predicted)\n",
        "original_mean = df_original.mean(axis = 0)\n",
        "difference = df_original - df_pred\n",
        "difference_mean = np.abs(difference.mean(axis = 0))"
      ],
      "execution_count": null,
      "outputs": []
    },
    {
      "cell_type": "code",
      "metadata": {
        "colab": {
          "base_uri": "https://localhost:8080/",
          "height": 283
        },
        "id": "_iugS7p0gb6a",
        "outputId": "37d2fd02-0fbd-4153-9978-4b6147a3f72a"
      },
      "source": [
        "df_pred.iloc[:,1].plot()"
      ],
      "execution_count": null,
      "outputs": [
        {
          "output_type": "execute_result",
          "data": {
            "text/plain": [
              "<matplotlib.axes._subplots.AxesSubplot at 0x7f3a5c974c10>"
            ]
          },
          "metadata": {
            "tags": []
          },
          "execution_count": 148
        },
        {
          "output_type": "display_data",
          "data": {
            "image/png": "[encoded data removed]",
            "text/plain": [
              "<Figure size 432x288 with 1 Axes>"
            ]
          },
          "metadata": {
            "tags": [],
            "needs_background": "light"
          }
        }
      ]
    },
    {
      "cell_type": "code",
      "metadata": {
        "colab": {
          "base_uri": "https://localhost:8080/"
        },
        "id": "tqPLo25ffmlR",
        "outputId": "7f44d0f9-fdc8-43bb-efbd-4331dc7463ca"
      },
      "source": [
        "difference_mean/original_mean"
      ],
      "execution_count": null,
      "outputs": [
        {
          "output_type": "execute_result",
          "data": {
            "text/plain": [
              "0    0.080580\n",
              "1    0.011694\n",
              "2    0.145490\n",
              "3    0.156302\n",
              "dtype: float64"
            ]
          },
          "metadata": {
            "tags": []
          },
          "execution_count": 149
        }
      ]
    },
    {
      "cell_type": "markdown",
      "metadata": {
        "id": "YQ4pKhaRiF-B"
      },
      "source": [
        "##### 10th"
      ]
    },
    {
      "cell_type": "code",
      "metadata": {
        "id": "PJnmPmF8iJLJ"
      },
      "source": [
        "# Hyper Parameters.\n",
        "epochs = 150 # MAX\n",
        "batch_size = 64\n",
        "validation_split = 0.1\n",
        "\n",
        "# VQ-VAE Hyper Parameters.\n",
        "embedding_dim = 16 # Length of embedding vectors.\n",
        "num_embeddings = 16 # Number of embedding vectors (high value = high bottleneck capacity).\n",
        "commitment_cost = 0.25 # Controls the weighting of the loss terms.\n",
        "\n",
        "# EarlyStoppingCallback.\n",
        "esc = keras.callbacks.EarlyStopping(monitor='val_loss', min_delta=1e-4,\n",
        "                                    patience=5, verbose=0, mode='auto',\n",
        "                                    baseline=None, restore_best_weights=True)"
      ],
      "execution_count": null,
      "outputs": []
    },
    {
      "cell_type": "code",
      "metadata": {
        "colab": {
          "base_uri": "https://localhost:8080/"
        },
        "id": "XCtCzGo7iJVo",
        "outputId": "f7072b11-7043-45e8-86e6-b040622624ee"
      },
      "source": [
        "# Encoder\n",
        "input = Input(shape=(x_train_m.shape[1], x_train_m.shape[2]))\n",
        "x = Conv1D(filters=32, kernel_size=7,  strides=2,padding=\"same\", activation=\"relu\")(input)\n",
        "x = Dropout(rate=0.2)(x)\n",
        "encoder_output = Conv1D(filters=16, kernel_size=7, padding=\"same\", strides=2, activation=\"relu\")(x)\n",
        "\n",
        "# VQVAELayer.\n",
        "enc = Conv1D(embedding_dim, kernel_size=1, strides=1, name=\"pre_vqvae\")(x)\n",
        "enc_inputs = enc\n",
        "enc = VQVAELayer(embedding_dim, num_embeddings, commitment_cost, name=\"vqvae\")(enc)\n",
        "x = Lambda(lambda enc: enc_inputs + K.stop_gradient(enc - enc_inputs), name=\"encoded\")(enc)\n",
        "data_variance = np.var(x_train_m)\n",
        "loss = vq_vae_loss_wrapper(data_variance, commitment_cost, enc, enc_inputs)\n",
        "\n",
        "# Decoder.\n",
        "x = Conv1D(filters=16, kernel_size=7, strides=2, padding = 'same')(x)\n",
        "x = UpSampling1D(size = 2)(x)\n",
        "x = Dropout(rate=0.2)(x)\n",
        "x = Conv1D(filters=32, kernel_size=7,  strides=1, padding = 'same')(x)\n",
        "x = UpSampling1D(size = 2)(x)\n",
        "x = Conv1D(filters=4, kernel_size=7, padding = 'same')(x)\n",
        "\n",
        "# Autoencoder.\n",
        "vqvae = Model(input, x)\n",
        "vqvae.compile(loss=loss, optimizer='adam')\n",
        "vqvae.summary()"
      ],
      "execution_count": null,
      "outputs": [
        {
          "output_type": "stream",
          "text": [
            "WARNING:tensorflow:From /tensorflow-1.15.2/python3.7/tensorflow_core/python/ops/resource_variable_ops.py:1630: calling BaseResourceVariable.__init__ (from tensorflow.python.ops.resource_variable_ops) with constraint is deprecated and will be removed in a future version.\n",
            "Instructions for updating:\n",
            "If using Keras pass *_constraint arguments to layers.\n",
            "WARNING:tensorflow:From /tensorflow-1.15.2/python3.7/tensorflow_core/python/keras/initializers.py:119: calling RandomUniform.__init__ (from tensorflow.python.ops.init_ops) with dtype is deprecated and will be removed in a future version.\n",
            "Instructions for updating:\n",
            "Call initializer instance with the dtype argument instead of passing it to the constructor\n",
            "WARNING:tensorflow:Entity <bound method VQVAELayer.call of <__main__.VQVAELayer object at 0x7f391a5cab10>> could not be transformed and will be executed as-is. Please report this to the AutoGraph team. When filing the bug, set the verbosity to 10 (on Linux, `export AUTOGRAPH_VERBOSITY=10`) and attach the full output. Cause: Bad argument number for Name: 3, expecting 4\n",
            "WARNING: Entity <bound method VQVAELayer.call of <__main__.VQVAELayer object at 0x7f391a5cab10>> could not be transformed and will be executed as-is. Please report this to the AutoGraph team. When filing the bug, set the verbosity to 10 (on Linux, `export AUTOGRAPH_VERBOSITY=10`) and attach the full output. Cause: Bad argument number for Name: 3, expecting 4\n",
            "Model: \"model\"\n",
            "_________________________________________________________________\n",
            "Layer (type)                 Output Shape              Param #   \n",
            "=================================================================\n",
            "input_1 (InputLayer)         [(None, 256, 4)]          0         \n",
            "_________________________________________________________________\n",
            "conv1d (Conv1D)              (None, 128, 32)           928       \n",
            "_________________________________________________________________\n",
            "dropout (Dropout)            (None, 128, 32)           0         \n",
            "_________________________________________________________________\n",
            "pre_vqvae (Conv1D)           (None, 128, 16)           528       \n",
            "_________________________________________________________________\n",
            "vqvae (VQVAELayer)           (None, 128, 16)           256       \n",
            "_________________________________________________________________\n",
            "encoded (Lambda)             (None, 128, 16)           0         \n",
            "_________________________________________________________________\n",
            "conv1d_2 (Conv1D)            (None, 64, 16)            1808      \n",
            "_________________________________________________________________\n",
            "up_sampling1d (UpSampling1D) (None, 128, 16)           0         \n",
            "_________________________________________________________________\n",
            "dropout_1 (Dropout)          (None, 128, 16)           0         \n",
            "_________________________________________________________________\n",
            "conv1d_3 (Conv1D)            (None, 128, 32)           3616      \n",
            "_________________________________________________________________\n",
            "up_sampling1d_1 (UpSampling1 (None, 256, 32)           0         \n",
            "_________________________________________________________________\n",
            "conv1d_4 (Conv1D)            (None, 256, 4)            900       \n",
            "=================================================================\n",
            "Total params: 8,036\n",
            "Trainable params: 8,036\n",
            "Non-trainable params: 0\n",
            "_________________________________________________________________\n"
          ],
          "name": "stdout"
        }
      ]
    },
    {
      "cell_type": "code",
      "metadata": {
        "colab": {
          "base_uri": "https://localhost:8080/"
        },
        "id": "CKeqG5aWiJgr",
        "outputId": "fefea4bd-18ba-4adc-e45a-322d0c3a55c5"
      },
      "source": [
        "history = vqvae.fit(x_train_m, x_train_m,\n",
        "                    batch_size=batch_size, epochs=epochs,\n",
        "                    validation_split=validation_split,\n",
        "                    callbacks=[esc])"
      ],
      "execution_count": null,
      "outputs": [
        {
          "output_type": "stream",
          "text": [
            "WARNING:tensorflow:From /tensorflow-1.15.2/python3.7/tensorflow_core/python/ops/math_grad.py:1375: where (from tensorflow.python.ops.array_ops) is deprecated and will be removed in a future version.\n",
            "Instructions for updating:\n",
            "Use tf.where in 2.0, which has the same broadcast rule as np.where\n",
            "Train on 43153 samples, validate on 4795 samples\n",
            "Epoch 1/150\n",
            "43153/43153 [==============================] - 22s 505us/sample - loss: 23131.7667 - val_loss: 81.6420\n",
            "Epoch 2/150\n",
            "43153/43153 [==============================] - 7s 167us/sample - loss: 107.7099 - val_loss: 16.0760\n",
            "Epoch 3/150\n",
            "43153/43153 [==============================] - 7s 166us/sample - loss: 33.8757 - val_loss: 6.8328\n",
            "Epoch 4/150\n",
            "43153/43153 [==============================] - 7s 166us/sample - loss: 17.3156 - val_loss: 3.9384\n",
            "Epoch 5/150\n",
            "43153/43153 [==============================] - 7s 167us/sample - loss: 10.5843 - val_loss: 2.6042\n",
            "Epoch 6/150\n",
            "43153/43153 [==============================] - 7s 166us/sample - loss: 7.1767 - val_loss: 1.6862\n",
            "Epoch 7/150\n",
            "43153/43153 [==============================] - 7s 168us/sample - loss: 5.4400 - val_loss: 1.2130\n",
            "Epoch 8/150\n",
            "43153/43153 [==============================] - 8s 181us/sample - loss: 3.6471 - val_loss: 0.7867\n",
            "Epoch 9/150\n",
            "43153/43153 [==============================] - 8s 183us/sample - loss: 2.4479 - val_loss: 0.5122\n",
            "Epoch 10/150\n",
            "43153/43153 [==============================] - 8s 182us/sample - loss: 1.7294 - val_loss: 0.3540\n",
            "Epoch 11/150\n",
            "43153/43153 [==============================] - 8s 183us/sample - loss: 1.1457 - val_loss: 0.3602\n",
            "Epoch 12/150\n",
            "43153/43153 [==============================] - 8s 183us/sample - loss: 1.2811 - val_loss: 0.8259\n",
            "Epoch 13/150\n",
            "43153/43153 [==============================] - 8s 183us/sample - loss: 0.6687 - val_loss: 0.3647\n",
            "Epoch 14/150\n",
            "43153/43153 [==============================] - 8s 184us/sample - loss: 0.5406 - val_loss: 0.3530\n",
            "Epoch 15/150\n",
            "43153/43153 [==============================] - 8s 186us/sample - loss: 0.4734 - val_loss: 0.3477\n",
            "Epoch 16/150\n",
            "43153/43153 [==============================] - 8s 186us/sample - loss: 0.4407 - val_loss: 0.3461\n",
            "Epoch 17/150\n",
            "43153/43153 [==============================] - 8s 186us/sample - loss: 0.4155 - val_loss: 0.3447\n",
            "Epoch 18/150\n",
            "43153/43153 [==============================] - 8s 185us/sample - loss: 0.3934 - val_loss: 0.3443\n",
            "Epoch 19/150\n",
            "43153/43153 [==============================] - 8s 184us/sample - loss: 0.3923 - val_loss: 0.3452\n",
            "Epoch 20/150\n",
            "43153/43153 [==============================] - 8s 186us/sample - loss: 0.3746 - val_loss: 0.3437\n",
            "Epoch 21/150\n",
            "43153/43153 [==============================] - 8s 186us/sample - loss: 0.3675 - val_loss: 0.3447\n",
            "Epoch 22/150\n",
            "43153/43153 [==============================] - 8s 185us/sample - loss: 0.3621 - val_loss: 0.3436\n",
            "Epoch 23/150\n",
            "43153/43153 [==============================] - 8s 184us/sample - loss: 0.3562 - val_loss: 0.3437\n",
            "Epoch 24/150\n",
            "43153/43153 [==============================] - 8s 188us/sample - loss: 0.3546 - val_loss: 0.3442\n",
            "Epoch 25/150\n",
            "43153/43153 [==============================] - 8s 184us/sample - loss: 0.3763 - val_loss: 0.2386\n",
            "Epoch 26/150\n",
            "43153/43153 [==============================] - 8s 184us/sample - loss: 0.1447 - val_loss: 0.0695\n",
            "Epoch 27/150\n",
            "43153/43153 [==============================] - 8s 183us/sample - loss: 0.0977 - val_loss: 0.0398\n",
            "Epoch 28/150\n",
            "43153/43153 [==============================] - 8s 183us/sample - loss: 0.0977 - val_loss: 0.0412\n",
            "Epoch 29/150\n",
            "43153/43153 [==============================] - 8s 184us/sample - loss: 0.0954 - val_loss: 0.0395\n",
            "Epoch 30/150\n",
            "43153/43153 [==============================] - 8s 183us/sample - loss: 0.0980 - val_loss: 0.0396\n",
            "Epoch 31/150\n",
            "43153/43153 [==============================] - 8s 182us/sample - loss: 0.0938 - val_loss: 0.0395\n",
            "Epoch 32/150\n",
            "43153/43153 [==============================] - 8s 182us/sample - loss: 0.0941 - val_loss: 0.0412\n",
            "Epoch 33/150\n",
            "43153/43153 [==============================] - 8s 185us/sample - loss: 0.0951 - val_loss: 0.0466\n",
            "Epoch 34/150\n",
            "43153/43153 [==============================] - 8s 186us/sample - loss: 0.0961 - val_loss: 0.0474\n"
          ],
          "name": "stdout"
        }
      ]
    },
    {
      "cell_type": "code",
      "metadata": {
        "id": "djfDvJz231Qd"
      },
      "source": [
        "intermediate_layer_model = Model(inputs=vqvae.input,\n",
        "                                 outputs=vqvae.get_layer(\"vqvae\").output)\n",
        "intermediate_output = intermediate_layer_model.predict(x_train_m)"
      ],
      "execution_count": null,
      "outputs": []
    },
    {
      "cell_type": "code",
      "metadata": {
        "id": "L62uzlMz6f-6"
      },
      "source": [
        "encoded_vae = dictionary_encoding(intermediate_output)"
      ],
      "execution_count": null,
      "outputs": []
    },
    {
      "cell_type": "code",
      "metadata": {
        "colab": {
          "base_uri": "https://localhost:8080/"
        },
        "id": "9U8hesDn8H5m",
        "outputId": "ce774af5-e37c-4716-d949-a42fae86dec5"
      },
      "source": [
        "embedded_size = sys.getsizeof(encoded_vae)\n",
        "original_size = sys.getsizeof(X)\n",
        "print(\"Compression: \", embedded_size/original_size)"
      ],
      "execution_count": null,
      "outputs": [
        {
          "output_type": "stream",
          "text": [
            "Compression:  0.00042523180319027566\n"
          ],
          "name": "stdout"
        }
      ]
    },
    {
      "cell_type": "code",
      "metadata": {
        "id": "9EklZ5KriJrW"
      },
      "source": [
        "#3m55s"
      ],
      "execution_count": null,
      "outputs": []
    },
    {
      "cell_type": "code",
      "metadata": {
        "id": "KDPwbf1hiJ_Y"
      },
      "source": [
        "# Get train MAE loss.\n",
        "x_train_pred_m = vqvae.predict(x_train_m)\n",
        "original = []\n",
        "for item in x_train_m:\n",
        "  #print(item[0])\n",
        "  original.append(item[0])\n",
        "predicted = []\n",
        "for item in x_train_pred_m:\n",
        "  #print(item[0])\n",
        "  predicted.append(item[0])"
      ],
      "execution_count": null,
      "outputs": []
    },
    {
      "cell_type": "code",
      "metadata": {
        "id": "JjxcTUakiKL4"
      },
      "source": [
        "df_original = pd.DataFrame(original)\n",
        "df_pred = pd.DataFrame(predicted)\n",
        "original_mean = df_original.mean(axis = 0)\n",
        "difference = df_original - df_pred\n",
        "difference_mean = np.abs(difference.mean(axis = 0))"
      ],
      "execution_count": null,
      "outputs": []
    },
    {
      "cell_type": "code",
      "metadata": {
        "colab": {
          "base_uri": "https://localhost:8080/",
          "height": 283
        },
        "id": "Nt1Sz15hiKY6",
        "outputId": "4be475a5-2e44-4019-b946-00b447b38a83"
      },
      "source": [
        "df_pred.iloc[:,1].plot()"
      ],
      "execution_count": null,
      "outputs": [
        {
          "output_type": "execute_result",
          "data": {
            "text/plain": [
              "<matplotlib.axes._subplots.AxesSubplot at 0x7f3a5c4767d0>"
            ]
          },
          "metadata": {
            "tags": []
          },
          "execution_count": 156
        },
        {
          "output_type": "display_data",
          "data": {
            "image/png": "[encoded data removed]",
            "text/plain": [
              "<Figure size 432x288 with 1 Axes>"
            ]
          },
          "metadata": {
            "tags": [],
            "needs_background": "light"
          }
        }
      ]
    },
    {
      "cell_type": "code",
      "metadata": {
        "colab": {
          "base_uri": "https://localhost:8080/"
        },
        "id": "asSIRttOjdpU",
        "outputId": "d9f1e704-6839-468c-d278-8b7b416a1e5c"
      },
      "source": [
        "difference_mean/original_mean"
      ],
      "execution_count": null,
      "outputs": [
        {
          "output_type": "execute_result",
          "data": {
            "text/plain": [
              "0    0.140477\n",
              "1    1.019741\n",
              "2    0.071016\n",
              "3    0.064329\n",
              "dtype: float64"
            ]
          },
          "metadata": {
            "tags": []
          },
          "execution_count": 157
        }
      ]
    },
    {
      "cell_type": "code",
      "metadata": {
        "colab": {
          "base_uri": "https://localhost:8080/"
        },
        "id": "FbHsDXZ4kSLP",
        "outputId": "efc95dc5-0984-4cb3-bba1-62a333baaaec"
      },
      "source": [
        "#CPU\n",
        "history = vqvae.fit(x_train_m, x_train_m,\n",
        "                    batch_size=batch_size, epochs=epochs,\n",
        "                    validation_split=validation_split,\n",
        "                    callbacks=[esc])"
      ],
      "execution_count": null,
      "outputs": [
        {
          "output_type": "stream",
          "text": [
            "WARNING:tensorflow:From /tensorflow-1.15.2/python3.7/tensorflow_core/python/ops/math_grad.py:1375: where (from tensorflow.python.ops.array_ops) is deprecated and will be removed in a future version.\n",
            "Instructions for updating:\n",
            "Use tf.where in 2.0, which has the same broadcast rule as np.where\n",
            "Train on 13788 samples, validate on 1533 samples\n",
            "Epoch 1/150\n",
            "13788/13788 [==============================] - 13s 948us/sample - loss: 81399.1899 - val_loss: 3079.6923\n",
            "Epoch 2/150\n",
            "13788/13788 [==============================] - 12s 877us/sample - loss: 2298.1591 - val_loss: 913.7986\n",
            "Epoch 3/150\n",
            "13788/13788 [==============================] - 12s 877us/sample - loss: 678.5085 - val_loss: 429.3865\n",
            "Epoch 4/150\n",
            "13788/13788 [==============================] - 12s 877us/sample - loss: 294.9358 - val_loss: 234.5983\n",
            "Epoch 5/150\n",
            "13788/13788 [==============================] - 12s 883us/sample - loss: 153.3501 - val_loss: 149.7677\n",
            "Epoch 6/150\n",
            "13788/13788 [==============================] - 12s 889us/sample - loss: 94.2631 - val_loss: 107.2045\n",
            "Epoch 7/150\n",
            "13788/13788 [==============================] - 12s 891us/sample - loss: 67.6949 - val_loss: 84.0613\n",
            "Epoch 8/150\n",
            "13788/13788 [==============================] - 12s 878us/sample - loss: 50.6031 - val_loss: 65.6586\n",
            "Epoch 9/150\n",
            "13788/13788 [==============================] - 12s 886us/sample - loss: 38.4296 - val_loss: 52.7634\n",
            "Epoch 10/150\n",
            "13788/13788 [==============================] - 12s 881us/sample - loss: 30.1449 - val_loss: 42.4883\n",
            "Epoch 11/150\n",
            "13788/13788 [==============================] - 12s 884us/sample - loss: 23.5775 - val_loss: 35.2082\n",
            "Epoch 12/150\n",
            "13788/13788 [==============================] - 12s 887us/sample - loss: 19.0478 - val_loss: 29.9688\n",
            "Epoch 13/150\n",
            "13788/13788 [==============================] - 12s 871us/sample - loss: 16.0949 - val_loss: 25.8796\n",
            "Epoch 14/150\n",
            "13788/13788 [==============================] - 12s 873us/sample - loss: 13.5403 - val_loss: 22.8776\n",
            "Epoch 15/150\n",
            "13788/13788 [==============================] - 12s 873us/sample - loss: 11.4429 - val_loss: 19.9151\n",
            "Epoch 16/150\n",
            "13788/13788 [==============================] - 12s 875us/sample - loss: 9.8667 - val_loss: 17.5551\n",
            "Epoch 17/150\n",
            "13788/13788 [==============================] - 12s 887us/sample - loss: 8.7012 - val_loss: 15.5151\n",
            "Epoch 18/150\n",
            "13788/13788 [==============================] - 12s 879us/sample - loss: 7.7108 - val_loss: 13.9476\n",
            "Epoch 19/150\n",
            "13788/13788 [==============================] - 12s 888us/sample - loss: 6.9381 - val_loss: 12.6832\n",
            "Epoch 20/150\n",
            "13788/13788 [==============================] - 12s 888us/sample - loss: 6.1606 - val_loss: 11.3956\n",
            "Epoch 21/150\n",
            "13788/13788 [==============================] - 12s 890us/sample - loss: 5.5816 - val_loss: 10.3739\n",
            "Epoch 22/150\n",
            "13788/13788 [==============================] - 12s 881us/sample - loss: 5.0095 - val_loss: 9.2391\n",
            "Epoch 23/150\n",
            "13788/13788 [==============================] - 12s 898us/sample - loss: 4.5825 - val_loss: 8.6791\n",
            "Epoch 24/150\n",
            "13788/13788 [==============================] - 13s 949us/sample - loss: 4.2342 - val_loss: 7.6071\n",
            "Epoch 25/150\n",
            "13788/13788 [==============================] - 13s 951us/sample - loss: 3.8883 - val_loss: 6.8331\n",
            "Epoch 26/150\n",
            "13788/13788 [==============================] - 13s 917us/sample - loss: 3.4157 - val_loss: 6.0611\n",
            "Epoch 27/150\n",
            "13788/13788 [==============================] - 13s 929us/sample - loss: 2.9723 - val_loss: 5.3334\n",
            "Epoch 28/150\n",
            "13788/13788 [==============================] - 13s 957us/sample - loss: 2.6130 - val_loss: 4.4845\n",
            "Epoch 29/150\n",
            "13788/13788 [==============================] - 14s 998us/sample - loss: 2.1474 - val_loss: 4.3825\n",
            "Epoch 30/150\n",
            "13788/13788 [==============================] - 14s 1ms/sample - loss: 2.0616 - val_loss: 3.7564\n",
            "Epoch 31/150\n",
            "13788/13788 [==============================] - 13s 979us/sample - loss: 1.8415 - val_loss: 3.4031\n",
            "Epoch 32/150\n",
            "13788/13788 [==============================] - 14s 996us/sample - loss: 1.7166 - val_loss: 3.1352\n",
            "Epoch 33/150\n",
            "13788/13788 [==============================] - 14s 998us/sample - loss: 1.5917 - val_loss: 2.6768\n",
            "Epoch 34/150\n",
            "13788/13788 [==============================] - 14s 1ms/sample - loss: 1.2427 - val_loss: 2.3622\n",
            "Epoch 35/150\n",
            "13788/13788 [==============================] - 14s 988us/sample - loss: 1.0766 - val_loss: 2.1588\n",
            "Epoch 36/150\n",
            "13788/13788 [==============================] - 14s 1ms/sample - loss: 0.9379 - val_loss: 1.9398\n",
            "Epoch 37/150\n",
            "13788/13788 [==============================] - 16s 1ms/sample - loss: 0.8244 - val_loss: 1.7710\n",
            "Epoch 38/150\n",
            "13788/13788 [==============================] - 14s 1ms/sample - loss: 1.0112 - val_loss: 1.7613\n",
            "Epoch 39/150\n",
            "13788/13788 [==============================] - 14s 1ms/sample - loss: 0.7753 - val_loss: 1.6680\n",
            "Epoch 40/150\n",
            "13788/13788 [==============================] - 14s 1ms/sample - loss: 0.6879 - val_loss: 1.4199\n",
            "Epoch 41/150\n",
            "13788/13788 [==============================] - 13s 972us/sample - loss: 0.7324 - val_loss: 1.2500\n",
            "Epoch 42/150\n",
            "13788/13788 [==============================] - 14s 986us/sample - loss: 0.4628 - val_loss: 1.1120\n",
            "Epoch 43/150\n",
            "13788/13788 [==============================] - 14s 1ms/sample - loss: 0.3991 - val_loss: 0.9724\n",
            "Epoch 44/150\n",
            "13788/13788 [==============================] - 15s 1ms/sample - loss: 0.3350 - val_loss: 0.8917\n",
            "Epoch 45/150\n",
            "13788/13788 [==============================] - 14s 1ms/sample - loss: 0.3002 - val_loss: 0.8153\n",
            "Epoch 46/150\n",
            "13788/13788 [==============================] - 14s 1ms/sample - loss: 0.2621 - val_loss: 0.7564\n",
            "Epoch 47/150\n",
            "13788/13788 [==============================] - 14s 1ms/sample - loss: 0.2377 - val_loss: 0.6904\n",
            "Epoch 48/150\n",
            "13788/13788 [==============================] - 14s 1ms/sample - loss: 0.2286 - val_loss: 0.6258\n",
            "Epoch 49/150\n",
            "13788/13788 [==============================] - 14s 1ms/sample - loss: 0.2086 - val_loss: 0.5724\n",
            "Epoch 50/150\n",
            "13788/13788 [==============================] - 14s 1ms/sample - loss: 0.2029 - val_loss: 0.5189\n",
            "Epoch 51/150\n",
            "13788/13788 [==============================] - 14s 992us/sample - loss: 0.1844 - val_loss: 0.4704\n",
            "Epoch 52/150\n",
            "13788/13788 [==============================] - 14s 1ms/sample - loss: 0.1694 - val_loss: 0.4298\n",
            "Epoch 53/150\n",
            "13788/13788 [==============================] - 14s 1ms/sample - loss: 0.1585 - val_loss: 0.3827\n",
            "Epoch 54/150\n",
            "13788/13788 [==============================] - 14s 1ms/sample - loss: 0.1529 - val_loss: 0.3627\n",
            "Epoch 55/150\n",
            "13788/13788 [==============================] - 14s 1ms/sample - loss: 0.1462 - val_loss: 0.3371\n",
            "Epoch 56/150\n",
            "13788/13788 [==============================] - 14s 1ms/sample - loss: 0.1440 - val_loss: 0.2973\n",
            "Epoch 57/150\n",
            "13788/13788 [==============================] - 14s 1ms/sample - loss: 0.1376 - val_loss: 0.2652\n",
            "Epoch 58/150\n",
            "13788/13788 [==============================] - 14s 1ms/sample - loss: 0.1329 - val_loss: 0.2423\n",
            "Epoch 59/150\n",
            "13788/13788 [==============================] - 14s 1ms/sample - loss: 0.1301 - val_loss: 0.2364\n",
            "Epoch 60/150\n",
            "13788/13788 [==============================] - 14s 1ms/sample - loss: 0.1252 - val_loss: 0.2080\n",
            "Epoch 61/150\n",
            "13788/13788 [==============================] - 14s 1ms/sample - loss: 0.1209 - val_loss: 0.2006\n",
            "Epoch 62/150\n",
            "13788/13788 [==============================] - 14s 992us/sample - loss: 0.1200 - val_loss: 0.1734\n",
            "Epoch 63/150\n",
            "13788/13788 [==============================] - 13s 978us/sample - loss: 0.1173 - val_loss: 0.1639\n",
            "Epoch 64/150\n",
            "13788/13788 [==============================] - 14s 987us/sample - loss: 0.1147 - val_loss: 0.1554\n",
            "Epoch 65/150\n",
            "13788/13788 [==============================] - 14s 995us/sample - loss: 0.1141 - val_loss: 0.1356\n",
            "Epoch 66/150\n",
            "13788/13788 [==============================] - 14s 1ms/sample - loss: 0.1093 - val_loss: 0.1234\n",
            "Epoch 67/150\n",
            "13788/13788 [==============================] - 14s 1ms/sample - loss: 0.1087 - val_loss: 0.1222\n",
            "Epoch 68/150\n",
            "13788/13788 [==============================] - 14s 1ms/sample - loss: 0.1072 - val_loss: 0.1003\n",
            "Epoch 69/150\n",
            "13788/13788 [==============================] - 14s 994us/sample - loss: 0.1064 - val_loss: 0.0960\n",
            "Epoch 70/150\n",
            "13788/13788 [==============================] - 14s 994us/sample - loss: 0.1050 - val_loss: 0.0889\n",
            "Epoch 71/150\n",
            "13788/13788 [==============================] - 13s 975us/sample - loss: 0.1033 - val_loss: 0.0815\n",
            "Epoch 72/150\n",
            "13788/13788 [==============================] - 14s 1ms/sample - loss: 0.1031 - val_loss: 0.0838\n",
            "Epoch 73/150\n",
            "13788/13788 [==============================] - 14s 1ms/sample - loss: 0.1026 - val_loss: 0.0755\n",
            "Epoch 74/150\n",
            "13788/13788 [==============================] - 14s 992us/sample - loss: 0.1021 - val_loss: 0.0685\n",
            "Epoch 75/150\n",
            "13788/13788 [==============================] - 13s 958us/sample - loss: 0.1031 - val_loss: 0.0812\n",
            "Epoch 76/150\n",
            "13788/13788 [==============================] - 13s 970us/sample - loss: 0.1022 - val_loss: 0.0652\n",
            "Epoch 77/150\n",
            "13788/13788 [==============================] - 13s 936us/sample - loss: 0.1013 - val_loss: 0.0670\n",
            "Epoch 78/150\n",
            "13788/13788 [==============================] - 12s 900us/sample - loss: 0.1012 - val_loss: 0.0748\n",
            "Epoch 79/150\n",
            "13788/13788 [==============================] - 12s 898us/sample - loss: 0.1013 - val_loss: 0.0703\n",
            "Epoch 80/150\n",
            "13788/13788 [==============================] - 12s 885us/sample - loss: 0.1005 - val_loss: 0.0741\n",
            "Epoch 81/150\n",
            "13788/13788 [==============================] - 14s 1ms/sample - loss: 0.1010 - val_loss: 0.0648\n",
            "Epoch 82/150\n",
            "13788/13788 [==============================] - 12s 902us/sample - loss: 0.1000 - val_loss: 0.0714\n",
            "Epoch 83/150\n",
            "13788/13788 [==============================] - 12s 904us/sample - loss: 0.1005 - val_loss: 0.0640\n",
            "Epoch 84/150\n",
            "13788/13788 [==============================] - 13s 909us/sample - loss: 0.1000 - val_loss: 0.0621\n",
            "Epoch 85/150\n",
            "13788/13788 [==============================] - 12s 906us/sample - loss: 0.1002 - val_loss: 0.0722\n",
            "Epoch 86/150\n",
            "13788/13788 [==============================] - 12s 905us/sample - loss: 0.1005 - val_loss: 0.0620\n",
            "Epoch 87/150\n",
            "13788/13788 [==============================] - 13s 915us/sample - loss: 0.1017 - val_loss: 0.0605\n",
            "Epoch 88/150\n",
            "13788/13788 [==============================] - 14s 985us/sample - loss: 0.1011 - val_loss: 0.0632\n",
            "Epoch 89/150\n",
            "13788/13788 [==============================] - 14s 983us/sample - loss: 0.1011 - val_loss: 0.0786\n",
            "Epoch 90/150\n",
            "13788/13788 [==============================] - 13s 977us/sample - loss: 0.0999 - val_loss: 0.0704\n",
            "Epoch 91/150\n",
            "13788/13788 [==============================] - 14s 989us/sample - loss: 0.0995 - val_loss: 0.0609\n",
            "Epoch 92/150\n",
            "13788/13788 [==============================] - 14s 987us/sample - loss: 0.1002 - val_loss: 0.0694\n"
          ],
          "name": "stdout"
        }
      ]
    },
    {
      "cell_type": "code",
      "metadata": {
        "id": "ghbbIycCq3ip"
      },
      "source": [
        "#20min21"
      ],
      "execution_count": null,
      "outputs": []
    },
    {
      "cell_type": "code",
      "metadata": {
        "colab": {
          "base_uri": "https://localhost:8080/"
        },
        "id": "6sWxk4MEu0yZ",
        "outputId": "6232194e-0b11-4706-85e8-957f9c263b02"
      },
      "source": [
        "# Encoder\n",
        "input = Input(shape=(x_train_m.shape[1], x_train_m.shape[2]))\n",
        "x = Conv1D(filters=32, kernel_size=7,  strides=2,padding=\"same\", activation=\"relu\")(input)\n",
        "x = Dropout(rate=0.2)(x)\n",
        "encoder_output = Conv1D(filters=16, kernel_size=7, padding=\"same\", strides=2, activation=\"relu\")(x)\n",
        "\n",
        "# VQVAELayer.\n",
        "enc = Conv1D(embedding_dim, kernel_size=1, strides=1, name=\"pre_vqvae\")(x)\n",
        "enc_inputs = enc\n",
        "enc = VQVAELayer(embedding_dim, num_embeddings, commitment_cost, name=\"vqvae\")(enc)\n",
        "x = Lambda(lambda enc: enc_inputs + K.stop_gradient(enc - enc_inputs), name=\"encoded\")(enc)\n",
        "data_variance = np.var(x_train_m)\n",
        "loss = vq_vae_loss_wrapper(data_variance, commitment_cost, enc, enc_inputs)\n",
        "\n",
        "# Decoder.\n",
        "x = Conv1D(filters=16, kernel_size=7, strides=2, padding = 'same')(x)\n",
        "x = UpSampling1D(size = 2)(x)\n",
        "x = Dropout(rate=0.2)(x)\n",
        "x = Conv1D(filters=32, kernel_size=7,  strides=1, padding = 'same')(x)\n",
        "x = UpSampling1D(size = 2)(x)\n",
        "x = Conv1D(filters=4, kernel_size=7, padding = 'same')(x)\n",
        "\n",
        "\n",
        "#\n",
        "initial_learning_rate = 0.015\n",
        "lr_schedule = tf.keras.optimizers.schedules.ExponentialDecay(\n",
        "    initial_learning_rate, decay_steps=100000, decay_rate=0.96, staircase=True\n",
        ")\n",
        "# Autoencoder.\n",
        "\n",
        "vqvae = Model(input, x)\n",
        "vqvae.compile(loss=loss, optimizer=tf.keras.optimizers.Adam(learning_rate=lr_schedule))\n",
        "vqvae.summary()"
      ],
      "execution_count": null,
      "outputs": [
        {
          "output_type": "stream",
          "text": [
            "WARNING:tensorflow:From /tensorflow-1.15.2/python3.7/tensorflow_core/python/keras/initializers.py:119: calling RandomUniform.__init__ (from tensorflow.python.ops.init_ops) with dtype is deprecated and will be removed in a future version.\n",
            "Instructions for updating:\n",
            "Call initializer instance with the dtype argument instead of passing it to the constructor\n",
            "WARNING:tensorflow:Entity <bound method VQVAELayer.call of <__main__.VQVAELayer object at 0x7f601dd1cfd0>> could not be transformed and will be executed as-is. Please report this to the AutoGraph team. When filing the bug, set the verbosity to 10 (on Linux, `export AUTOGRAPH_VERBOSITY=10`) and attach the full output. Cause: Bad argument number for Name: 3, expecting 4\n",
            "WARNING: Entity <bound method VQVAELayer.call of <__main__.VQVAELayer object at 0x7f601dd1cfd0>> could not be transformed and will be executed as-is. Please report this to the AutoGraph team. When filing the bug, set the verbosity to 10 (on Linux, `export AUTOGRAPH_VERBOSITY=10`) and attach the full output. Cause: Bad argument number for Name: 3, expecting 4\n",
            "Model: \"model\"\n",
            "_________________________________________________________________\n",
            "Layer (type)                 Output Shape              Param #   \n",
            "=================================================================\n",
            "input_2 (InputLayer)         [(None, 256, 4)]          0         \n",
            "_________________________________________________________________\n",
            "conv1d_2 (Conv1D)            (None, 128, 32)           928       \n",
            "_________________________________________________________________\n",
            "dropout_1 (Dropout)          (None, 128, 32)           0         \n",
            "_________________________________________________________________\n",
            "pre_vqvae (Conv1D)           (None, 128, 16)           528       \n",
            "_________________________________________________________________\n",
            "vqvae (VQVAELayer)           (None, 128, 16)           256       \n",
            "_________________________________________________________________\n",
            "encoded (Lambda)             (None, 128, 16)           0         \n",
            "_________________________________________________________________\n",
            "conv1d_4 (Conv1D)            (None, 64, 16)            1808      \n",
            "_________________________________________________________________\n",
            "up_sampling1d (UpSampling1D) (None, 128, 16)           0         \n",
            "_________________________________________________________________\n",
            "dropout_2 (Dropout)          (None, 128, 16)           0         \n",
            "_________________________________________________________________\n",
            "conv1d_5 (Conv1D)            (None, 128, 32)           3616      \n",
            "_________________________________________________________________\n",
            "up_sampling1d_1 (UpSampling1 (None, 256, 32)           0         \n",
            "_________________________________________________________________\n",
            "conv1d_6 (Conv1D)            (None, 256, 4)            900       \n",
            "=================================================================\n",
            "Total params: 8,036\n",
            "Trainable params: 8,036\n",
            "Non-trainable params: 0\n",
            "_________________________________________________________________\n"
          ],
          "name": "stdout"
        }
      ]
    },
    {
      "cell_type": "code",
      "metadata": {
        "id": "5GD7FiMj2Zbq"
      },
      "source": [
        "import os\n",
        "use_tpu = True #@param {type:\"boolean\"}\n",
        "\n",
        "if use_tpu:\n",
        "    assert 'COLAB_TPU_ADDR' in os.environ, 'Missing TPU; did you request a TPU in Notebook Settings?'\n",
        "\n",
        "if 'COLAB_TPU_ADDR' in os.environ:\n",
        "  TF_MASTER = 'grpc://{}'.format(os.environ['COLAB_TPU_ADDR'])\n",
        "else:\n",
        "  TF_MASTER=''"
      ],
      "execution_count": null,
      "outputs": []
    },
    {
      "cell_type": "code",
      "metadata": {
        "id": "N8H2A9GI3C0f"
      },
      "source": [
        "# Model specific parameters\n",
        "\n",
        "# TPU address\n",
        "tpu_address = TF_MASTER"
      ],
      "execution_count": null,
      "outputs": []
    },
    {
      "cell_type": "code",
      "metadata": {
        "colab": {
          "base_uri": "https://localhost:8080/"
        },
        "id": "WbGkMgY83IJ8",
        "outputId": "a37f9430-e865-4e78-e3e2-c9d1d3f0a5c5"
      },
      "source": [
        "resolver = tf.distribute.cluster_resolver.TPUClusterResolver(TF_MASTER)\n",
        "tf.config.experimental_connect_to_cluster(resolver)\n",
        "tf.tpu.experimental.initialize_tpu_system(resolver)\n",
        "strategy = tf.distribute.experimental.TPUStrategy(resolver)"
      ],
      "execution_count": null,
      "outputs": [
        {
          "output_type": "stream",
          "text": [
            "INFO:tensorflow:Initializing the TPU system: 10.107.77.242:8470\n",
            "INFO:tensorflow:Finished initializing TPU system.\n",
            "INFO:tensorflow:Querying Tensorflow master (grpc://10.107.77.242:8470) for TPU system metadata.\n",
            "INFO:tensorflow:Found TPU system:\n",
            "INFO:tensorflow:*** Num TPU Cores: 8\n",
            "INFO:tensorflow:*** Num TPU Workers: 1\n",
            "INFO:tensorflow:*** Num TPU Cores Per Worker: 8\n",
            "INFO:tensorflow:*** Available Device: _DeviceAttributes(/job:worker/replica:0/task:0/device:CPU:0, CPU, -1, 12655922209792169794)\n",
            "INFO:tensorflow:*** Available Device: _DeviceAttributes(/job:worker/replica:0/task:0/device:TPU:0, TPU, 17179869184, 9345516845503791905)\n",
            "INFO:tensorflow:*** Available Device: _DeviceAttributes(/job:worker/replica:0/task:0/device:TPU:1, TPU, 17179869184, 8599692543721159468)\n",
            "INFO:tensorflow:*** Available Device: _DeviceAttributes(/job:worker/replica:0/task:0/device:TPU:2, TPU, 17179869184, 6421530062137266078)\n",
            "INFO:tensorflow:*** Available Device: _DeviceAttributes(/job:worker/replica:0/task:0/device:TPU:3, TPU, 17179869184, 10391763432954032578)\n",
            "INFO:tensorflow:*** Available Device: _DeviceAttributes(/job:worker/replica:0/task:0/device:TPU:4, TPU, 17179869184, 417732202054489681)\n",
            "INFO:tensorflow:*** Available Device: _DeviceAttributes(/job:worker/replica:0/task:0/device:TPU:5, TPU, 17179869184, 9443554745402175251)\n",
            "INFO:tensorflow:*** Available Device: _DeviceAttributes(/job:worker/replica:0/task:0/device:TPU:6, TPU, 17179869184, 7671544331863838990)\n",
            "INFO:tensorflow:*** Available Device: _DeviceAttributes(/job:worker/replica:0/task:0/device:TPU:7, TPU, 17179869184, 6857296372907551216)\n",
            "INFO:tensorflow:*** Available Device: _DeviceAttributes(/job:worker/replica:0/task:0/device:TPU_SYSTEM:0, TPU_SYSTEM, 8589934592, 16096224758851607220)\n",
            "INFO:tensorflow:*** Available Device: _DeviceAttributes(/job:worker/replica:0/task:0/device:XLA_CPU:0, XLA_CPU, 17179869184, 14875233809598303488)\n"
          ],
          "name": "stdout"
        }
      ]
    },
    {
      "cell_type": "code",
      "metadata": {
        "colab": {
          "base_uri": "https://localhost:8080/"
        },
        "id": "daAaZLq314xI",
        "outputId": "2cf52afd-1fe0-4466-fd83-d9b142cb59e9"
      },
      "source": [
        "tpu_model = tf.contrib.tpu.keras_to_tpu_model(\n",
        "        vqvae,\n",
        "        strategy=tf.contrib.tpu.TPUDistributionStrategy(\n",
        "        tf.contrib.cluster_resolver.TPUClusterResolver(tpu=TF_MASTER   + os.environ['COLAB_TPU_ADDR'])\n",
        "        )\n",
        "    )\n",
        "tpu_model.compile(\n",
        "        optimizer=tf.train.AdamOptimizer(learning_rate=5e-2),\n",
        "        loss= loss\n",
        "    )"
      ],
      "execution_count": null,
      "outputs": [
        {
          "output_type": "stream",
          "text": [
            "WARNING:tensorflow:Keras support is now deprecated in support of TPU Strategy. Please follow the distribution strategy guide on tensorflow.org to migrate to the 2.0 supported version.\n",
            "INFO:tensorflow:Querying Tensorflow master (grpc://10.107.77.242:847010.107.77.242:8470) for TPU system metadata.\n"
          ],
          "name": "stdout"
        }
      ]
    },
    {
      "cell_type": "code",
      "metadata": {
        "id": "j6AK4rCSq70D"
      },
      "source": [
        "#TPU\n",
        "history = vqvae.fit(x_train_m, x_train_m,\n",
        "                    batch_size=batch_size, epochs=epochs,\n",
        "                    validation_split=validation_split,\n",
        "                    callbacks=[esc])"
      ],
      "execution_count": null,
      "outputs": []
    },
    {
      "cell_type": "markdown",
      "metadata": {
        "id": "AC50zTy-5Luo"
      },
      "source": [
        "### **Results**"
      ]
    },
    {
      "cell_type": "code",
      "metadata": {
        "id": "I-2eLSVY8i3r"
      },
      "source": [
        "import matplotlib.pyplot as plt"
      ],
      "execution_count": null,
      "outputs": []
    },
    {
      "cell_type": "code",
      "metadata": {
        "colab": {
          "base_uri": "https://localhost:8080/",
          "height": 282
        },
        "id": "YktXxvl-2Tmb",
        "outputId": "7f58d530-d83d-48fb-b0d7-fa1df3967d4f"
      },
      "source": [
        "#number of embeddings =  32 \n",
        "e_128 = [0.225, 6.471, 0.183304, 0.143711]\n",
        "e_64 = [0.525055, 8.327303, 0.402300, 0.210724]\n",
        "e_32 = [0.313973, 0.731994, 0.216140, 0.366688]\n",
        "e_16 = [0.057748, 1.053378, 0.065494, 0.039895]\n",
        "ts = ['temp',\t'rain_1h',\t'clouds_all',\t'y']\n",
        "plt.plot( ts,e_128, label = 'reconstruction e_128')\n",
        "plt.plot(ts,e_64, label = 'reconstruction e_64')\n",
        "plt.plot(ts,e_32, label = 'reconstruction e_32')\n",
        "plt.plot(ts,e_16, label = 'reconstruction e_16')\n",
        "plt.title('Reconstruction error for different number of embeddings')\n",
        "plt.legend()\n",
        "plt.ylabel('Reconstruction error')\n",
        "plt.show()"
      ],
      "execution_count": null,
      "outputs": [
        {
          "output_type": "display_data",
          "data": {
            "image/png": "[encoded data removed]",
            "text/plain": [
              "<Figure size 432x288 with 1 Axes>"
            ]
          },
          "metadata": {
            "tags": [],
            "needs_background": "light"
          }
        }
      ]
    },
    {
      "cell_type": "code",
      "metadata": {
        "colab": {
          "base_uri": "https://localhost:8080/",
          "height": 282
        },
        "id": "lgSK-GiI851i",
        "outputId": "9ee8d0a2-6472-42ec-9c87-d1bcb822df00"
      },
      "source": [
        "# dimension of embeddings =  32 \n",
        "e_128 = [0.010805, 3.146672, 0.029043, 0.053466]\n",
        "e_64 = [0.240052, 0.109379, 0.251415, 0.114602]\n",
        "e_32 = [0.546322, 2.918888, 0.441983, 0.376815]\n",
        "e_16 = [0.080580, 0.011694, 0.145490, 0.156302]\n",
        "ts = ['temp',\t'rain_1h',\t'clouds_all',\t'y']\n",
        "plt.plot( ts,e_128, label = 'reconstruction e_128')\n",
        "plt.plot(ts,e_64, label = 'reconstruction e_64')\n",
        "plt.plot(ts,e_32, label = 'reconstruction e_32')\n",
        "plt.plot(ts,e_16, label = 'reconstruction e_16')\n",
        "plt.title('Reconstruction error for different embedding sizes')\n",
        "plt.ylabel('Reconstruction error')\n",
        "plt.legend()\n",
        "plt.show()"
      ],
      "execution_count": null,
      "outputs": [
        {
          "output_type": "display_data",
          "data": {
            "image/png": "[encoded data removed]",
            "text/plain": [
              "<Figure size 432x288 with 1 Axes>"
            ]
          },
          "metadata": {
            "tags": [],
            "needs_background": "light"
          }
        }
      ]
    },
    {
      "cell_type": "code",
      "metadata": {
        "colab": {
          "base_uri": "https://localhost:8080/",
          "height": 278
        },
        "id": "8iYcGETCkT3x",
        "outputId": "0f3097fc-006e-49eb-e878-7a5cb2125b9f"
      },
      "source": [
        "e_16 = [0.057748, 1.053378, 0.065494, 0.039895]\n",
        "e_min = [0.140477, 1.019741, 0.071016, 0.064329]\n",
        "ts = ['temp',\t'rain_1h',\t'clouds_all',\t'y']\n",
        "df_c = pd.DataFrame(data = [e_16, e_min], columns= ts)\n",
        "df_c.plot(y=df_c.columns, kind = 'bar')\n",
        "labels = ['e_16_32', 'e_16_16']\n",
        "plt.title('Reconstruction error for e_16_32 x e_16_16')\n",
        "#plt.xticks(labels)\n",
        "plt.ylabel('Reconstruction error')\n",
        "plt.show()"
      ],
      "execution_count": null,
      "outputs": [
        {
          "output_type": "display_data",
          "data": {
            "image/png": "[encoded data removed]",
            "text/plain": [
              "<Figure size 432x288 with 1 Axes>"
            ]
          },
          "metadata": {
            "tags": [],
            "needs_background": "light"
          }
        }
      ]
    },
    {
      "cell_type": "code",
      "metadata": {
        "id": "7VzpNBjAx1DI"
      },
      "source": [
        "#PCA\n",
        "original = []\n",
        "for item in x_train_m:\n",
        "  #print(item[0])\n",
        "  original.append(item[0])"
      ],
      "execution_count": null,
      "outputs": []
    },
    {
      "cell_type": "code",
      "metadata": {
        "id": "51oqwDrEoawU"
      },
      "source": [
        "from sklearn.decomposition import PCA\n",
        "from sys import getsizeof\n",
        "pca = PCA(n_components=1)\n",
        "X_train_pca = pca.fit_transform(original)\n",
        "X_recon = pca.inverse_transform(X_train_pca)\n",
        "df_pca = pd.DataFrame(X_train_pca)"
      ],
      "execution_count": null,
      "outputs": []
    },
    {
      "cell_type": "code",
      "metadata": {
        "colab": {
          "base_uri": "https://localhost:8080/"
        },
        "id": "EGFnBFSjvmlX",
        "outputId": "150f2b12-3ac1-43a7-cdd5-ad99f12680a9"
      },
      "source": [
        "df_original = pd.DataFrame(original)\n",
        "df_pred = pd.DataFrame(X_recon)\n",
        "#print(df_pred.head())\n",
        "original_mean = df_original.mean(axis = 0)\n",
        "#print(original_mean)\n",
        "difference = df_original - df_pred\n",
        "#print(difference.head())\n",
        "difference_mean = np.abs(difference.mean(axis = 0))\n",
        "difference_mean/original_mean"
      ],
      "execution_count": null,
      "outputs": [
        {
          "output_type": "execute_result",
          "data": {
            "text/plain": [
              "0    2.230269e-14\n",
              "1    1.190368e-14\n",
              "2    2.537213e-17\n",
              "3    8.584398e-20\n",
              "dtype: float64"
            ]
          },
          "metadata": {
            "tags": []
          },
          "execution_count": 42
        }
      ]
    },
    {
      "cell_type": "code",
      "metadata": {
        "colab": {
          "base_uri": "https://localhost:8080/"
        },
        "id": "qWojc8K5xHHl",
        "outputId": "d32d938d-2d83-422f-8c0d-42d13de1db4e"
      },
      "source": [
        "#PCA\n",
        "o_s = getsizeof(df_original)\n",
        "c_s = getsizeof(df_pca)\n",
        "print('ratio: ',c_s/o_s)"
      ],
      "execution_count": null,
      "outputs": [
        {
          "output_type": "stream",
          "text": [
            "original size:  1534496\n",
            "compressed size:  383744\n",
            "ratio:  0.2500782015723729\n"
          ],
          "name": "stdout"
        }
      ]
    },
    {
      "cell_type": "code",
      "metadata": {
        "colab": {
          "base_uri": "https://localhost:8080/"
        },
        "id": "j5-q2IX02emh",
        "outputId": "d28c2508-7ecd-487e-899a-73e1798433af"
      },
      "source": [
        "#VQ-VAE\n",
        "embedded_size = sys.getsizeof(encoded_vae)\n",
        "original_size = sys.getsizeof(X)\n",
        "print(\"Ratio: \", embedded_size/original_size)"
      ],
      "execution_count": null,
      "outputs": [
        {
          "output_type": "stream",
          "text": [
            "Ratio:  0.00042523180319027566\n"
          ],
          "name": "stdout"
        }
      ]
    },
    {
      "cell_type": "markdown",
      "metadata": {
        "id": "TQUvH8NRCS5H"
      },
      "source": [
        "### New tests"
      ]
    },
    {
      "cell_type": "code",
      "metadata": {
        "colab": {
          "base_uri": "https://localhost:8080/",
          "height": 283
        },
        "id": "PgEOQt9x-KXY",
        "outputId": "8ea1c1e5-002c-4b7c-fa26-87d9545adf42"
      },
      "source": [
        "df_training_value = pd.DataFrame(X_new)\n",
        "df_training_value.plot()"
      ],
      "execution_count": null,
      "outputs": [
        {
          "output_type": "execute_result",
          "data": {
            "text/plain": [
              "<matplotlib.axes._subplots.AxesSubplot at 0x7f38a01eab90>"
            ]
          },
          "metadata": {
            "tags": []
          },
          "execution_count": 59
        },
        {
          "output_type": "display_data",
          "data": {
            "image/png": "[encoded data removed]",
            "text/plain": [
              "<Figure size 432x288 with 1 Axes>"
            ]
          },
          "metadata": {
            "tags": [],
            "needs_background": "light"
          }
        }
      ]
    },
    {
      "cell_type": "code",
      "metadata": {
        "colab": {
          "base_uri": "https://localhost:8080/"
        },
        "id": "Y-yFpxkD9-aS",
        "outputId": "dc5e0802-f366-4d90-e865-575a490912cf"
      },
      "source": [
        "TIME_STEPS = 256\n",
        "\n",
        "# Generated training sequences for use in the model.\n",
        "def create_sequences(values, time_steps=TIME_STEPS):\n",
        "    output = []\n",
        "    for i in range(len(values) - time_steps):\n",
        "        output.append(values[i : (i + time_steps)])\n",
        "\n",
        "    return np.stack(output)\n",
        "\n",
        "train_dataset = create_sequences(df_training_value.values)\n",
        "print(\"Training input shape: \", train_dataset.shape)\n",
        "x_train = train_dataset"
      ],
      "execution_count": null,
      "outputs": [
        {
          "output_type": "stream",
          "text": [
            "Training input shape:  (47948, 256, 1)\n"
          ],
          "name": "stdout"
        }
      ]
    },
    {
      "cell_type": "code",
      "metadata": {
        "id": "Ma-3Fb3n9-mn"
      },
      "source": [
        "# Hyper Parameters.\n",
        "epochs = 50 # MAX\n",
        "batch_size = 64\n",
        "validation_split = 0.1\n",
        "\n",
        "# VQ-VAE Hyper Parameters.\n",
        "embedding_dim = 16 # Length of embedding vectors.\n",
        "num_embeddings = 16 # Number of embedding vectors (high value = high bottleneck capacity).\n",
        "commitment_cost = 0.25 # Controls the weighting of the loss terms.\n",
        "\n",
        "# EarlyStoppingCallback.\n",
        "esc = keras.callbacks.EarlyStopping(monitor='val_loss', min_delta=1e-4,\n",
        "                                    patience=5, verbose=0, mode='auto',\n",
        "                                    baseline=None, restore_best_weights=True)"
      ],
      "execution_count": null,
      "outputs": []
    },
    {
      "cell_type": "code",
      "metadata": {
        "colab": {
          "base_uri": "https://localhost:8080/"
        },
        "id": "jA5qY5-V9-sM",
        "outputId": "3c90d628-13bb-4e4e-cc6b-428f99ea9b7a"
      },
      "source": [
        "# Encoder\n",
        "input = Input(shape=(x_train.shape[1], x_train.shape[2]))\n",
        "x = Conv1D(filters=32, kernel_size=7,  strides=2,padding=\"same\", activation=\"relu\")(input)\n",
        "x = Dropout(rate=0.2)(x)\n",
        "encoder_output = Conv1D(filters=16, kernel_size=7, padding=\"same\", strides=2, activation=\"relu\")(x)\n",
        "\n",
        "# VQVAELayer.\n",
        "enc = Conv1D(embedding_dim, kernel_size=1, strides=1, name=\"pre_vqvae\")(x)\n",
        "enc_inputs = enc\n",
        "enc = VQVAELayer(embedding_dim, num_embeddings, commitment_cost, name=\"vqvae\")(enc)\n",
        "x = Lambda(lambda enc: enc_inputs + K.stop_gradient(enc - enc_inputs), name=\"encoded\")(enc)\n",
        "data_variance = np.var(x_train)\n",
        "loss = vq_vae_loss_wrapper(data_variance, commitment_cost, enc, enc_inputs)\n",
        "\n",
        "# Decoder.\n",
        "x = Conv1D(filters=16, kernel_size=7, strides=2, padding = 'same')(x)\n",
        "x = UpSampling1D(size = 2)(x)\n",
        "x = Dropout(rate=0.2)(x)\n",
        "x = Conv1D(filters=32, kernel_size=7,  strides=1, padding = 'same')(x)\n",
        "x = UpSampling1D(size = 2)(x)\n",
        "x = Conv1D(filters=1, kernel_size=7, padding = 'same')(x)\n",
        "\n",
        "# Autoencoder.\n",
        "vqvae = Model(input, x)\n",
        "vqvae.compile(loss=loss, optimizer='adam')\n",
        "vqvae.summary()"
      ],
      "execution_count": null,
      "outputs": [
        {
          "output_type": "stream",
          "text": [
            "WARNING:tensorflow:Entity <bound method VQVAELayer.call of <__main__.VQVAELayer object at 0x7f389f958ad0>> could not be transformed and will be executed as-is. Please report this to the AutoGraph team. When filing the bug, set the verbosity to 10 (on Linux, `export AUTOGRAPH_VERBOSITY=10`) and attach the full output. Cause: Bad argument number for Name: 3, expecting 4\n",
            "WARNING: Entity <bound method VQVAELayer.call of <__main__.VQVAELayer object at 0x7f389f958ad0>> could not be transformed and will be executed as-is. Please report this to the AutoGraph team. When filing the bug, set the verbosity to 10 (on Linux, `export AUTOGRAPH_VERBOSITY=10`) and attach the full output. Cause: Bad argument number for Name: 3, expecting 4\n",
            "Model: \"model_6\"\n",
            "_________________________________________________________________\n",
            "Layer (type)                 Output Shape              Param #   \n",
            "=================================================================\n",
            "input_5 (InputLayer)         [(None, 256, 1)]          0         \n",
            "_________________________________________________________________\n",
            "conv1d_20 (Conv1D)           (None, 128, 32)           256       \n",
            "_________________________________________________________________\n",
            "dropout_8 (Dropout)          (None, 128, 32)           0         \n",
            "_________________________________________________________________\n",
            "pre_vqvae (Conv1D)           (None, 128, 16)           528       \n",
            "_________________________________________________________________\n",
            "vqvae (VQVAELayer)           (None, 128, 16)           256       \n",
            "_________________________________________________________________\n",
            "encoded (Lambda)             (None, 128, 16)           0         \n",
            "_________________________________________________________________\n",
            "conv1d_22 (Conv1D)           (None, 64, 16)            1808      \n",
            "_________________________________________________________________\n",
            "up_sampling1d_8 (UpSampling1 (None, 128, 16)           0         \n",
            "_________________________________________________________________\n",
            "dropout_9 (Dropout)          (None, 128, 16)           0         \n",
            "_________________________________________________________________\n",
            "conv1d_23 (Conv1D)           (None, 128, 32)           3616      \n",
            "_________________________________________________________________\n",
            "up_sampling1d_9 (UpSampling1 (None, 256, 32)           0         \n",
            "_________________________________________________________________\n",
            "conv1d_24 (Conv1D)           (None, 256, 1)            225       \n",
            "=================================================================\n",
            "Total params: 6,689\n",
            "Trainable params: 6,689\n",
            "Non-trainable params: 0\n",
            "_________________________________________________________________\n"
          ],
          "name": "stdout"
        }
      ]
    },
    {
      "cell_type": "code",
      "metadata": {
        "colab": {
          "base_uri": "https://localhost:8080/"
        },
        "id": "ukzDl5bU9-xf",
        "outputId": "2f376ae5-d6d7-4eba-aac9-a1ad435164eb"
      },
      "source": [
        "history = vqvae.fit(x_train, x_train,\n",
        "                    batch_size=batch_size, epochs=epochs,\n",
        "                    validation_split=validation_split,\n",
        "                    callbacks=[esc])"
      ],
      "execution_count": null,
      "outputs": [
        {
          "output_type": "stream",
          "text": [
            "Train on 43153 samples, validate on 4795 samples\n",
            "Epoch 1/50\n",
            "43153/43153 [==============================] - 9s 217us/sample - loss: 34.6786 - val_loss: 29.0427\n",
            "Epoch 2/50\n",
            "43153/43153 [==============================] - 7s 170us/sample - loss: 34.3510 - val_loss: 16.9078\n",
            "Epoch 3/50\n",
            "43153/43153 [==============================] - 7s 172us/sample - loss: 21.4511 - val_loss: 9.8159\n",
            "Epoch 4/50\n",
            "43153/43153 [==============================] - 8s 174us/sample - loss: 18.7970 - val_loss: 4.8922\n",
            "Epoch 5/50\n",
            "43153/43153 [==============================] - 7s 174us/sample - loss: 18.4741 - val_loss: 2.4848\n",
            "Epoch 6/50\n",
            "43153/43153 [==============================] - 7s 174us/sample - loss: 13.8825 - val_loss: 1.3125\n",
            "Epoch 7/50\n",
            "43153/43153 [==============================] - 8s 174us/sample - loss: 8.8137 - val_loss: 0.8024\n",
            "Epoch 8/50\n",
            "43153/43153 [==============================] - 8s 174us/sample - loss: 6.0963 - val_loss: 0.6047\n",
            "Epoch 9/50\n",
            "43153/43153 [==============================] - 7s 173us/sample - loss: 5.3291 - val_loss: 0.5228\n",
            "Epoch 10/50\n",
            "43153/43153 [==============================] - 7s 173us/sample - loss: 5.2019 - val_loss: 0.2660\n",
            "Epoch 11/50\n",
            "43153/43153 [==============================] - 7s 173us/sample - loss: 5.2780 - val_loss: 0.3388\n",
            "Epoch 12/50\n",
            "43153/43153 [==============================] - 7s 172us/sample - loss: 5.4530 - val_loss: 0.2806\n",
            "Epoch 13/50\n",
            "43153/43153 [==============================] - 8s 175us/sample - loss: 4.0358 - val_loss: 0.2352\n",
            "Epoch 14/50\n",
            "43153/43153 [==============================] - 7s 171us/sample - loss: 3.9009 - val_loss: 0.2234\n",
            "Epoch 15/50\n",
            "43153/43153 [==============================] - 7s 173us/sample - loss: 3.6176 - val_loss: 0.2197\n",
            "Epoch 16/50\n",
            "43153/43153 [==============================] - 7s 174us/sample - loss: 3.4206 - val_loss: 0.2247\n",
            "Epoch 17/50\n",
            "43153/43153 [==============================] - 8s 176us/sample - loss: 3.0616 - val_loss: 0.2318\n",
            "Epoch 18/50\n",
            "43153/43153 [==============================] - 7s 173us/sample - loss: 2.9423 - val_loss: 0.2303\n",
            "Epoch 19/50\n",
            "43153/43153 [==============================] - 8s 175us/sample - loss: 2.5578 - val_loss: 0.2102\n",
            "Epoch 20/50\n",
            "43153/43153 [==============================] - 7s 173us/sample - loss: 2.3250 - val_loss: 0.2322\n",
            "Epoch 21/50\n",
            "43153/43153 [==============================] - 8s 174us/sample - loss: 2.2669 - val_loss: 0.2445\n",
            "Epoch 22/50\n",
            "43153/43153 [==============================] - 7s 172us/sample - loss: 2.2739 - val_loss: 0.2559\n",
            "Epoch 23/50\n",
            "43153/43153 [==============================] - 7s 172us/sample - loss: 2.2406 - val_loss: 0.2430\n",
            "Epoch 24/50\n",
            "43153/43153 [==============================] - 8s 183us/sample - loss: 2.1358 - val_loss: 0.2371\n"
          ],
          "name": "stdout"
        }
      ]
    },
    {
      "cell_type": "code",
      "metadata": {
        "id": "wovdpbqg9-2K"
      },
      "source": [
        "# Get train MAE loss.\n",
        "x_train_pred_m = vqvae.predict(x_train)\n",
        "original = []\n",
        "for item in x_train:\n",
        "  #print(item[0])\n",
        "  original.append(item[0])\n",
        "predicted = []\n",
        "for item in x_train_pred_m:\n",
        "  #print(item[0])\n",
        "  predicted.append(item[0])"
      ],
      "execution_count": null,
      "outputs": []
    },
    {
      "cell_type": "code",
      "metadata": {
        "id": "rFOEgsX_B4pL"
      },
      "source": [
        "df_original = pd.DataFrame(original)\n",
        "df_pred = pd.DataFrame(predicted)\n",
        "original_mean = df_original.mean(axis = 0)\n",
        "difference = df_original - df_pred\n",
        "difference_mean = np.abs(difference.mean(axis = 0))"
      ],
      "execution_count": null,
      "outputs": []
    },
    {
      "cell_type": "code",
      "metadata": {
        "colab": {
          "base_uri": "https://localhost:8080/",
          "height": 283
        },
        "id": "hZDl71l5GZD8",
        "outputId": "5f7fbc30-a0b0-4ccb-e26f-7fc984f91840"
      },
      "source": [
        "df_original.plot()"
      ],
      "execution_count": null,
      "outputs": [
        {
          "output_type": "execute_result",
          "data": {
            "text/plain": [
              "<matplotlib.axes._subplots.AxesSubplot at 0x7f38a0292890>"
            ]
          },
          "metadata": {
            "tags": []
          },
          "execution_count": 70
        },
        {
          "output_type": "display_data",
          "data": {
            "image/png": "[encoded data removed]",
            "text/plain": [
              "<Figure size 432x288 with 1 Axes>"
            ]
          },
          "metadata": {
            "tags": [],
            "needs_background": "light"
          }
        }
      ]
    },
    {
      "cell_type": "code",
      "metadata": {
        "colab": {
          "base_uri": "https://localhost:8080/"
        },
        "id": "iRaJX2zDCDVR",
        "outputId": "614f713d-a357-4677-d254-2f4cdd4d6882"
      },
      "source": [
        "difference_mean/original_mean"
      ],
      "execution_count": null,
      "outputs": [
        {
          "output_type": "execute_result",
          "data": {
            "text/plain": [
              "0    0.393924\n",
              "dtype: float64"
            ]
          },
          "metadata": {
            "tags": []
          },
          "execution_count": 66
        }
      ]
    },
    {
      "cell_type": "code",
      "metadata": {
        "id": "tp1hPxE_9-8_"
      },
      "source": [
        "intermediate_layer_model = Model(inputs=vqvae.input,\n",
        "                                 outputs=vqvae.get_layer(\"vqvae\").output)\n",
        "intermediate_output = intermediate_layer_model.predict(x_train)"
      ],
      "execution_count": null,
      "outputs": []
    },
    {
      "cell_type": "code",
      "metadata": {
        "id": "045rMkZx9_BS"
      },
      "source": [
        "encoded_vae_u = dictionary_encoding(intermediate_output)"
      ],
      "execution_count": null,
      "outputs": []
    },
    {
      "cell_type": "code",
      "metadata": {
        "colab": {
          "base_uri": "https://localhost:8080/"
        },
        "id": "yG7UX9fA9_H-",
        "outputId": "388b54bd-8ec2-4e1e-942b-09952428c5d6"
      },
      "source": [
        "#VQ-VAE\n",
        "embedded_size = sys.getsizeof(encoded_vae_u)\n",
        "original_size = sys.getsizeof(df_training_value)\n",
        "print(\"Ratio: \", embedded_size/original_size)"
      ],
      "execution_count": null,
      "outputs": [
        {
          "output_type": "stream",
          "text": [
            "Ratio:  0.0017003981420039814\n"
          ],
          "name": "stdout"
        }
      ]
    },
    {
      "cell_type": "markdown",
      "metadata": {
        "id": "nB83WbLdaM2R"
      },
      "source": [
        "###2D Conv"
      ]
    },
    {
      "cell_type": "code",
      "metadata": {
        "id": "UB3jR4vCudo2"
      },
      "source": [
        "# Encoder\n",
        "input = Input(shape=(x_train_m.shape[1], x_train_m.shape[2]))\n",
        "x = Conv2D(filters=32, kernel_size=(7,7)  strides=(2,2),padding=\"same\", activation=\"relu\")(input)\n",
        "x = Dropout(rate=0.2)(x)\n",
        "encoder_output = Conv2D(filters=16, kernel_size=(7,7), padding=\"same\", strides=(2,2), activation=\"relu\")(x)\n",
        "\n",
        "# VQVAELayer.\n",
        "enc = Conv2D(embedding_dim, kernel_size=(1,1), strides=1, name=\"pre_vqvae\")(x)\n",
        "enc_inputs = enc\n",
        "enc = VQVAELayer(embedding_dim, num_embeddings, commitment_cost, name=\"vqvae\")(enc)\n",
        "x = Lambda(lambda enc: enc_inputs + K.stop_gradient(enc - enc_inputs), name=\"encoded\")(enc)\n",
        "data_variance = np.var(x_train)\n",
        "loss = vq_vae_loss_wrapper(data_variance, commitment_cost, enc, enc_inputs)\n",
        "\n",
        "# Decoder.\n",
        "x = Conv2D(filters=16, kernel_size=(7,7), strides=2, padding = 'same')(x)\n",
        "x = UpSampling2D(size = (2,2))(x)\n",
        "x = Dropout(rate=0.2)(x)\n",
        "x = Conv2D(filters=32, kernel_size=(7,7),  strides=1, padding = 'same')(x)\n",
        "x = UpSampling2D(size = (2,2))(x)\n",
        "x = Conv2D(filters=5, kernel_size=(7,7), padding = 'same')(x)\n",
        "\n",
        "# Autoencoder.\n",
        "vqvae = Model(input, x)\n",
        "vqvae.compile(loss=loss, optimizer='adam')\n",
        "vqvae.summary()"
      ],
      "execution_count": null,
      "outputs": []
    },
    {
      "cell_type": "code",
      "metadata": {
        "id": "wS5bO9N22GQi"
      },
      "source": [
        "# VQ layer.\n",
        "class VQVAELayer(Layer):\n",
        "    def __init__(self, embedding_dim, num_embeddings, commitment_cost,\n",
        "                 initializer='uniform', epsilon=1e-10, **kwargs):\n",
        "        self.embedding_dim = embedding_dim\n",
        "        self.num_embeddings = num_embeddings\n",
        "        self.commitment_cost = commitment_cost\n",
        "        self.initializer = initializer\n",
        "        super(VQVAELayer, self).__init__(**kwargs)\n",
        "\n",
        "    def build(self, input_shape):\n",
        "        # Add embedding weights.\n",
        "        self.w = self.add_weight(name='embedding',\n",
        "                                  shape=(self.embedding_dim, self.num_embeddings),\n",
        "                                  initializer=self.initializer,\n",
        "                                  trainable=True)\n",
        "\n",
        "        # Finalize building.\n",
        "        super(VQVAELayer, self).build(input_shape)\n",
        "\n",
        "    def call(self, x):\n",
        "        # Flatten input except for last dimension.\n",
        "        flat_inputs = K.reshape(x, (-1, self.embedding_dim))\n",
        "\n",
        "        # Calculate distances of input to embedding vectors.\n",
        "        distances = (K.sum(flat_inputs**2, axis=1, keepdims=True)\n",
        "                     - 2 * K.dot(flat_inputs, self.w)\n",
        "                     + K.sum(self.w ** 2, axis=0, keepdims=True))\n",
        "\n",
        "        # Retrieve encoding indices.\n",
        "        encoding_indices = K.argmax(-distances, axis=1)\n",
        "        encodings = K.one_hot(encoding_indices, self.num_embeddings)\n",
        "        encoding_indices = K.reshape(encoding_indices, K.shape(x)[:-1])\n",
        "        quantized = self.quantize(encoding_indices)\n",
        "\n",
        "        # Metrics.\n",
        "        #avg_probs = K.mean(encodings, axis=0)\n",
        "        #perplexity = K.exp(- K.sum(avg_probs * K.log(avg_probs + epsilon)))\n",
        "\n",
        "        return quantized\n",
        "\n",
        "    @property\n",
        "    def embeddings(self):\n",
        "        return self.w\n",
        "\n",
        "    def quantize(self, encoding_indices):\n",
        "        w = K.transpose(self.embeddings.read_value())\n",
        "        return tf.nn.embedding_lookup(params=w, ids=encoding_indices)"
      ],
      "execution_count": null,
      "outputs": []
    },
    {
      "cell_type": "code",
      "metadata": {
        "id": "1WV7XiBj209t"
      },
      "source": [
        "# Calculate vq-vae loss.\n",
        "def vq_vae_loss_wrapper(data_variance, commitment_cost, quantized, x_inputs):\n",
        "    def vq_vae_loss(x, x_hat):\n",
        "        recon_loss = losses.mse(x, x_hat) / data_variance\n",
        "\n",
        "        e_latent_loss = K.mean((K.stop_gradient(quantized) - x_inputs) ** 2)\n",
        "        q_latent_loss = K.mean((quantized - K.stop_gradient(x_inputs)) ** 2)\n",
        "        loss = q_latent_loss + commitment_cost * e_latent_loss\n",
        "\n",
        "        return recon_loss + loss #* beta\n",
        "    return vq_vae_loss"
      ],
      "execution_count": null,
      "outputs": []
    },
    {
      "cell_type": "code",
      "metadata": {
        "id": "9cGUUPFY26cj"
      },
      "source": [
        "# Hyper Parameters.\n",
        "epochs = 50 # MAX\n",
        "batch_size = 64\n",
        "validation_split = 0.1\n",
        "\n",
        "# VQ-VAE Hyper Parameters.\n",
        "embedding_dim = 16 # Length of embedding vectors.\n",
        "num_embeddings = 64 # Number of embedding vectors (high value = high bottleneck capacity).\n",
        "commitment_cost = 0.25 # Controls the weighting of the loss terms.\n",
        "\n",
        "# EarlyStoppingCallback.\n",
        "esc = keras.callbacks.EarlyStopping(monitor='val_loss', min_delta=1e-4,\n",
        "                                    patience=5, verbose=0, mode='auto',\n",
        "                                    baseline=None, restore_best_weights=True)"
      ],
      "execution_count": null,
      "outputs": []
    },
    {
      "cell_type": "code",
      "metadata": {
        "id": "T5H1o9Np3BM8"
      },
      "source": [
        "history = vqvae.fit(X, X,\n",
        "                    batch_size=batch_size, epochs=epochs,\n",
        "                    validation_split=validation_split,\n",
        "                    callbacks=[esc])"
      ],
      "execution_count": null,
      "outputs": []
    },
    {
      "cell_type": "code",
      "metadata": {
        "id": "dpigGLtr3JLk"
      },
      "source": [
        ""
      ],
      "execution_count": null,
      "outputs": []
    }
  ]
}